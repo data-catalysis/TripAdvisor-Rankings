{
 "cells": [
  {
   "cell_type": "code",
   "execution_count": 2,
   "metadata": {
    "collapsed": true
   },
   "outputs": [],
   "source": [
    "from sqlalchemy import create_engine\n",
    "import psycopg2\n",
    "import pandas as pd\n",
    "import numpy as np\n",
    "import seaborn as sns\n",
    "import matplotlib.pyplot as plt\n",
    "%matplotlib inline\n",
    "import pickle"
   ]
  },
  {
   "cell_type": "code",
   "execution_count": 2,
   "metadata": {
    "collapsed": true
   },
   "outputs": [],
   "source": [
    "from sklearn.model_selection import train_test_split, StratifiedKFold, KFold, cross_val_score, GridSearchCV\n",
    "from sklearn.metrics import accuracy_score, precision_score, recall_score, f1_score, classification_report\n",
    "from sklearn.metrics import roc_curve, auc, confusion_matrix, precision_recall_curve, average_precision_score\n",
    "from sklearn.preprocessing import scale, MinMaxScaler, normalize, StandardScaler, OneHotEncoder\n",
    "from sklearn.neighbors import KNeighborsClassifier\n",
    "from sklearn.linear_model import LogisticRegression, SGDClassifier\n",
    "from sklearn.utils import shuffle\n",
    "from sklearn.ensemble import RandomForestClassifier, GradientBoostingClassifier\n",
    "from sklearn.svm import SVC"
   ]
  },
  {
   "cell_type": "code",
   "execution_count": 3,
   "metadata": {
    "collapsed": false
   },
   "outputs": [],
   "source": [
    "df2 = pd.read_pickle('my_df.pickle')"
   ]
  },
  {
   "cell_type": "code",
   "execution_count": 4,
   "metadata": {
    "collapsed": false
   },
   "outputs": [
    {
     "data": {
      "text/plain": [
       "Index([             u'name',         u'n_reviews',           u'st_addr',\n",
       "                    u'city',             u'state',            u'zip_cd',\n",
       "            u'excellent_ct',       u'verygood_ct',        u'average_ct',\n",
       "                 u'poor_ct',       u'terrible_ct',          u'families',\n",
       "                 u'couples',              u'solo',          u'business',\n",
       "                 u'friends',            u'spring',            u'summer',\n",
       "                    u'fall',            u'winter',       u'description',\n",
       "                u'rank_num',         u'rooms_num',        u'prange_low',\n",
       "             u'prange_high',      u'prange_range',        u'hclass_num',\n",
       "                   u'zip_5',         u'full_addr',         u'longitude',\n",
       "                u'latitude',        u'rank_group',         u'amen_wifi',\n",
       "       u'amen_room_service',   u'amen_restaurant',   u'amen_bar_lounge',\n",
       "                u'amen_gym',          u'amen_spa',    u'amen_breakfast',\n",
       "               u'amen_pool',     u'amen_internet',      u'amen_parking'],\n",
       "      dtype='object')"
      ]
     },
     "execution_count": 4,
     "metadata": {},
     "output_type": "execute_result"
    }
   ],
   "source": [
    "df2.columns"
   ]
  },
  {
   "cell_type": "code",
   "execution_count": 5,
   "metadata": {
    "collapsed": false
   },
   "outputs": [
    {
     "data": {
      "text/plain": [
       "(446, 42)"
      ]
     },
     "execution_count": 5,
     "metadata": {},
     "output_type": "execute_result"
    }
   ],
   "source": [
    "df2.shape"
   ]
  },
  {
   "cell_type": "code",
   "execution_count": 50,
   "metadata": {
    "collapsed": false
   },
   "outputs": [
    {
     "data": {
      "text/plain": [
       "[1.0,\n",
       " 2.0,\n",
       " 3.0,\n",
       " 4.0,\n",
       " 5.0,\n",
       " 6.0,\n",
       " 7.0,\n",
       " 8.0,\n",
       " 9.0,\n",
       " 10.0,\n",
       " 11.0,\n",
       " 12.0,\n",
       " 13.0,\n",
       " 14.0,\n",
       " 15.0,\n",
       " 16.0,\n",
       " 17.0,\n",
       " 18.0,\n",
       " 19.0,\n",
       " 20.0,\n",
       " 21.0,\n",
       " 22.0,\n",
       " 23.0,\n",
       " 24.0,\n",
       " 25.0,\n",
       " 26.0,\n",
       " 27.0,\n",
       " 28.0,\n",
       " 29.0,\n",
       " 30.0,\n",
       " 31.0,\n",
       " 32.0,\n",
       " 33.0,\n",
       " 34.0,\n",
       " 35.0,\n",
       " 36.0,\n",
       " 37.0,\n",
       " 38.0,\n",
       " 39.0,\n",
       " 40.0,\n",
       " 41.0,\n",
       " 42.0,\n",
       " 43.0,\n",
       " 44.0,\n",
       " 45.0,\n",
       " 46.0,\n",
       " 47.0,\n",
       " 48.0,\n",
       " 49.0,\n",
       " 50.0,\n",
       " 51.0,\n",
       " 52.0,\n",
       " 53.0,\n",
       " 54.0,\n",
       " 55.0,\n",
       " 56.0,\n",
       " 57.0,\n",
       " 58.0,\n",
       " 59.0,\n",
       " 60.0,\n",
       " 61.0,\n",
       " 62.0,\n",
       " 63.0,\n",
       " 64.0,\n",
       " 65.0,\n",
       " 66.0,\n",
       " 67.0,\n",
       " 68.0,\n",
       " 69.0,\n",
       " 70.0,\n",
       " 71.0,\n",
       " 72.0,\n",
       " 73.0,\n",
       " 74.0,\n",
       " 75.0,\n",
       " 76.0,\n",
       " 77.0,\n",
       " 78.0,\n",
       " 79.0,\n",
       " 80.0,\n",
       " 81.0,\n",
       " 82.0,\n",
       " 83.0,\n",
       " 84.0,\n",
       " 85.0,\n",
       " 86.0,\n",
       " 87.0,\n",
       " 88.0,\n",
       " 89.0,\n",
       " 90.0,\n",
       " 91.0,\n",
       " 92.0,\n",
       " 93.0,\n",
       " 94.0,\n",
       " 95.0,\n",
       " 96.0,\n",
       " 97.0,\n",
       " 98.0,\n",
       " 99.0,\n",
       " 100.0,\n",
       " 101.0,\n",
       " 102.0,\n",
       " 103.0,\n",
       " 104.0,\n",
       " 105.0,\n",
       " 106.0,\n",
       " 107.0,\n",
       " 108.0,\n",
       " 109.0,\n",
       " 110.0,\n",
       " 111.0,\n",
       " 112.0,\n",
       " 113.0,\n",
       " 114.0,\n",
       " 115.0,\n",
       " 116.0,\n",
       " 117.0,\n",
       " 118.0,\n",
       " 119.0,\n",
       " 120.0,\n",
       " 121.0,\n",
       " 122.0,\n",
       " 123.0,\n",
       " 124.0,\n",
       " 125.0,\n",
       " 126.0,\n",
       " 127.0,\n",
       " 128.0,\n",
       " 129.0,\n",
       " 130.0,\n",
       " 131.0,\n",
       " 132.0,\n",
       " 133.0,\n",
       " 134.0,\n",
       " 135.0,\n",
       " 136.0,\n",
       " 137.0,\n",
       " 138.0,\n",
       " 139.0,\n",
       " 140.0,\n",
       " 141.0,\n",
       " 142.0,\n",
       " 143.0,\n",
       " 144.0,\n",
       " 145.0,\n",
       " 146.0,\n",
       " 147.0,\n",
       " 148.0,\n",
       " 149.0,\n",
       " 150.0,\n",
       " 151.0,\n",
       " 152.0,\n",
       " 153.0,\n",
       " 154.0,\n",
       " 155.0,\n",
       " 156.0,\n",
       " 157.0,\n",
       " 158.0,\n",
       " 159.0,\n",
       " 160.0,\n",
       " 161.0,\n",
       " 162.0,\n",
       " 163.0,\n",
       " 164.0,\n",
       " 165.0,\n",
       " 166.0,\n",
       " 167.0,\n",
       " 168.0,\n",
       " 169.0,\n",
       " 170.0,\n",
       " 171.0,\n",
       " 172.0,\n",
       " 173.0,\n",
       " 174.0,\n",
       " 175.0,\n",
       " 176.0,\n",
       " 177.0,\n",
       " 178.0,\n",
       " 179.0,\n",
       " 180.0,\n",
       " 181.0,\n",
       " 182.0,\n",
       " 183.0,\n",
       " 184.0,\n",
       " 185.0,\n",
       " 186.0,\n",
       " 187.0,\n",
       " 188.0,\n",
       " 189.0,\n",
       " 190.0,\n",
       " 191.0,\n",
       " 192.0,\n",
       " 193.0,\n",
       " 194.0,\n",
       " 195.0,\n",
       " 196.0,\n",
       " 197.0,\n",
       " 198.0,\n",
       " 199.0,\n",
       " 200.0,\n",
       " 201.0,\n",
       " 202.0,\n",
       " 203.0,\n",
       " 204.0,\n",
       " 205.0,\n",
       " 206.0,\n",
       " 207.0,\n",
       " 208.0,\n",
       " 209.0,\n",
       " 210.0,\n",
       " 211.0,\n",
       " 212.0,\n",
       " 213.0,\n",
       " 214.0,\n",
       " 215.0,\n",
       " 216.0,\n",
       " 217.0,\n",
       " 218.0,\n",
       " 219.0,\n",
       " 220.0,\n",
       " 221.0,\n",
       " 222.0,\n",
       " 223.0,\n",
       " 224.0,\n",
       " 225.0,\n",
       " 226.0,\n",
       " 227.0,\n",
       " 228.0,\n",
       " 229.0,\n",
       " 230.0,\n",
       " 231.0,\n",
       " 232.0,\n",
       " 233.0,\n",
       " 234.0,\n",
       " 235.0,\n",
       " 236.0,\n",
       " 237.0,\n",
       " 238.0,\n",
       " 239.0,\n",
       " 240.0,\n",
       " 241.0,\n",
       " 242.0,\n",
       " 243.0,\n",
       " 244.0,\n",
       " 245.0,\n",
       " 246.0,\n",
       " 247.0,\n",
       " 248.0,\n",
       " 249.0,\n",
       " 250.0,\n",
       " 251.0,\n",
       " 252.0,\n",
       " 253.0,\n",
       " 254.0,\n",
       " 255.0,\n",
       " 256.0,\n",
       " 257.0,\n",
       " 258.0,\n",
       " 259.0,\n",
       " 260.0,\n",
       " 261.0,\n",
       " 262.0,\n",
       " 263.0,\n",
       " 264.0,\n",
       " 265.0,\n",
       " 266.0,\n",
       " 267.0,\n",
       " 268.0,\n",
       " 269.0,\n",
       " 270.0,\n",
       " 271.0,\n",
       " 272.0,\n",
       " 273.0,\n",
       " 274.0,\n",
       " 275.0,\n",
       " 276.0,\n",
       " 277.0,\n",
       " 278.0,\n",
       " 279.0,\n",
       " 280.0,\n",
       " 281.0,\n",
       " 282.0,\n",
       " 283.0,\n",
       " 284.0,\n",
       " 285.0,\n",
       " 286.0,\n",
       " 287.0,\n",
       " 288.0,\n",
       " 289.0,\n",
       " 290.0,\n",
       " 291.0,\n",
       " 292.0,\n",
       " 293.0,\n",
       " 294.0,\n",
       " 295.0,\n",
       " 296.0,\n",
       " 297.0,\n",
       " 298.0,\n",
       " 299.0,\n",
       " 300.0,\n",
       " 301.0,\n",
       " 302.0,\n",
       " 303.0,\n",
       " 304.0,\n",
       " 305.0,\n",
       " 306.0,\n",
       " 307.0,\n",
       " 308.0,\n",
       " 309.0,\n",
       " 310.0,\n",
       " 311.0,\n",
       " 312.0,\n",
       " 313.0,\n",
       " 314.0,\n",
       " 315.0,\n",
       " 316.0,\n",
       " 317.0,\n",
       " 318.0,\n",
       " 319.0,\n",
       " 320.0,\n",
       " 321.0,\n",
       " 322.0,\n",
       " 323.0,\n",
       " 324.0,\n",
       " 325.0,\n",
       " 326.0,\n",
       " 327.0,\n",
       " 328.0,\n",
       " 329.0,\n",
       " 330.0,\n",
       " 331.0,\n",
       " 332.0,\n",
       " 333.0,\n",
       " 334.0,\n",
       " 335.0,\n",
       " 336.0,\n",
       " 337.0,\n",
       " 338.0,\n",
       " 339.0,\n",
       " 340.0,\n",
       " 341.0,\n",
       " 342.0,\n",
       " 343.0,\n",
       " 344.0,\n",
       " 345.0,\n",
       " 346.0,\n",
       " 347.0,\n",
       " 348.0,\n",
       " 349.0,\n",
       " 350.0,\n",
       " 351.0,\n",
       " 352.0,\n",
       " 353.0,\n",
       " 354.0,\n",
       " 355.0,\n",
       " 356.0,\n",
       " 357.0,\n",
       " 358.0,\n",
       " 359.0,\n",
       " 360.0,\n",
       " 361.0,\n",
       " 362.0,\n",
       " 363.0,\n",
       " 364.0,\n",
       " 365.0,\n",
       " 366.0,\n",
       " 367.0,\n",
       " 368.0,\n",
       " 369.0,\n",
       " 370.0,\n",
       " 371.0,\n",
       " 372.0,\n",
       " 373.0,\n",
       " 374.0,\n",
       " 375.0,\n",
       " 376.0,\n",
       " 377.0,\n",
       " 378.0,\n",
       " 379.0,\n",
       " 380.0,\n",
       " 381.0,\n",
       " 382.0,\n",
       " 383.0,\n",
       " 384.0,\n",
       " 385.0,\n",
       " 386.0,\n",
       " 387.0,\n",
       " 388.0,\n",
       " 389.0,\n",
       " 390.0,\n",
       " 391.0,\n",
       " 393.0,\n",
       " 394.0,\n",
       " 395.0,\n",
       " 396.0,\n",
       " 397.0,\n",
       " 398.0,\n",
       " 399.0,\n",
       " 400.0,\n",
       " 401.0,\n",
       " 402.0,\n",
       " 403.0,\n",
       " 404.0,\n",
       " 405.0,\n",
       " 406.0,\n",
       " 407.0,\n",
       " 408.0,\n",
       " 409.0,\n",
       " 410.0,\n",
       " 411.0,\n",
       " 412.0,\n",
       " 413.0,\n",
       " 414.0,\n",
       " 415.0,\n",
       " 416.0,\n",
       " 417.0,\n",
       " 418.0,\n",
       " 419.0,\n",
       " 420.0,\n",
       " 422.0,\n",
       " 423.0,\n",
       " 424.0,\n",
       " 425.0,\n",
       " 426.0,\n",
       " 427.0,\n",
       " 428.0,\n",
       " 429.0,\n",
       " 430.0,\n",
       " 431.0,\n",
       " 433.0,\n",
       " 434.0,\n",
       " 435.0,\n",
       " 436.0,\n",
       " 437.0,\n",
       " 438.0,\n",
       " 439.0,\n",
       " 440.0,\n",
       " 441.0,\n",
       " 442.0,\n",
       " 443.0,\n",
       " 444.0,\n",
       " 445.0,\n",
       " 446.0,\n",
       " 447.0,\n",
       " 448.0,\n",
       " 449.0]"
      ]
     },
     "execution_count": 50,
     "metadata": {},
     "output_type": "execute_result"
    }
   ],
   "source": [
    "ranks_list = df2.rank_num.unique().tolist()\n",
    "ranks_list.sort()\n",
    "ranks_list"
   ]
  },
  {
   "cell_type": "code",
   "execution_count": 51,
   "metadata": {
    "collapsed": false
   },
   "outputs": [
    {
     "data": {
      "text/plain": [
       "446"
      ]
     },
     "execution_count": 51,
     "metadata": {},
     "output_type": "execute_result"
    }
   ],
   "source": [
    "df2.rank_num.unique().size"
   ]
  },
  {
   "cell_type": "code",
   "execution_count": 52,
   "metadata": {
    "collapsed": true
   },
   "outputs": [],
   "source": [
    "#Ranks missing: 432, 421, 392 (shift values so there are no gaps)\n",
    "def shift_values(orig_val):\n",
    "    if orig_val <= 391:\n",
    "        new_val = orig_val\n",
    "    elif (orig_val > 391) & (orig_val <= 420):\n",
    "        new_val = orig_val - 1\n",
    "    elif (orig_val > 421) & (orig_val <= 431):\n",
    "        new_val = orig_val - 2\n",
    "    elif orig_val > 432:\n",
    "        new_val = orig_val - 3\n",
    "    return new_val"
   ]
  },
  {
   "cell_type": "code",
   "execution_count": 53,
   "metadata": {
    "collapsed": true
   },
   "outputs": [],
   "source": [
    "df2['rank_num'] = df2.rank_num.apply(lambda x: shift_values(x))"
   ]
  },
  {
   "cell_type": "code",
   "execution_count": 55,
   "metadata": {
    "collapsed": false
   },
   "outputs": [
    {
     "data": {
      "text/plain": [
       "[1.0,\n",
       " 2.0,\n",
       " 3.0,\n",
       " 4.0,\n",
       " 5.0,\n",
       " 6.0,\n",
       " 7.0,\n",
       " 8.0,\n",
       " 9.0,\n",
       " 10.0,\n",
       " 11.0,\n",
       " 12.0,\n",
       " 13.0,\n",
       " 14.0,\n",
       " 15.0,\n",
       " 16.0,\n",
       " 17.0,\n",
       " 18.0,\n",
       " 19.0,\n",
       " 20.0,\n",
       " 21.0,\n",
       " 22.0,\n",
       " 23.0,\n",
       " 24.0,\n",
       " 25.0,\n",
       " 26.0,\n",
       " 27.0,\n",
       " 28.0,\n",
       " 29.0,\n",
       " 30.0,\n",
       " 31.0,\n",
       " 32.0,\n",
       " 33.0,\n",
       " 34.0,\n",
       " 35.0,\n",
       " 36.0,\n",
       " 37.0,\n",
       " 38.0,\n",
       " 39.0,\n",
       " 40.0,\n",
       " 41.0,\n",
       " 42.0,\n",
       " 43.0,\n",
       " 44.0,\n",
       " 45.0,\n",
       " 46.0,\n",
       " 47.0,\n",
       " 48.0,\n",
       " 49.0,\n",
       " 50.0,\n",
       " 51.0,\n",
       " 52.0,\n",
       " 53.0,\n",
       " 54.0,\n",
       " 55.0,\n",
       " 56.0,\n",
       " 57.0,\n",
       " 58.0,\n",
       " 59.0,\n",
       " 60.0,\n",
       " 61.0,\n",
       " 62.0,\n",
       " 63.0,\n",
       " 64.0,\n",
       " 65.0,\n",
       " 66.0,\n",
       " 67.0,\n",
       " 68.0,\n",
       " 69.0,\n",
       " 70.0,\n",
       " 71.0,\n",
       " 72.0,\n",
       " 73.0,\n",
       " 74.0,\n",
       " 75.0,\n",
       " 76.0,\n",
       " 77.0,\n",
       " 78.0,\n",
       " 79.0,\n",
       " 80.0,\n",
       " 81.0,\n",
       " 82.0,\n",
       " 83.0,\n",
       " 84.0,\n",
       " 85.0,\n",
       " 86.0,\n",
       " 87.0,\n",
       " 88.0,\n",
       " 89.0,\n",
       " 90.0,\n",
       " 91.0,\n",
       " 92.0,\n",
       " 93.0,\n",
       " 94.0,\n",
       " 95.0,\n",
       " 96.0,\n",
       " 97.0,\n",
       " 98.0,\n",
       " 99.0,\n",
       " 100.0,\n",
       " 101.0,\n",
       " 102.0,\n",
       " 103.0,\n",
       " 104.0,\n",
       " 105.0,\n",
       " 106.0,\n",
       " 107.0,\n",
       " 108.0,\n",
       " 109.0,\n",
       " 110.0,\n",
       " 111.0,\n",
       " 112.0,\n",
       " 113.0,\n",
       " 114.0,\n",
       " 115.0,\n",
       " 116.0,\n",
       " 117.0,\n",
       " 118.0,\n",
       " 119.0,\n",
       " 120.0,\n",
       " 121.0,\n",
       " 122.0,\n",
       " 123.0,\n",
       " 124.0,\n",
       " 125.0,\n",
       " 126.0,\n",
       " 127.0,\n",
       " 128.0,\n",
       " 129.0,\n",
       " 130.0,\n",
       " 131.0,\n",
       " 132.0,\n",
       " 133.0,\n",
       " 134.0,\n",
       " 135.0,\n",
       " 136.0,\n",
       " 137.0,\n",
       " 138.0,\n",
       " 139.0,\n",
       " 140.0,\n",
       " 141.0,\n",
       " 142.0,\n",
       " 143.0,\n",
       " 144.0,\n",
       " 145.0,\n",
       " 146.0,\n",
       " 147.0,\n",
       " 148.0,\n",
       " 149.0,\n",
       " 150.0,\n",
       " 151.0,\n",
       " 152.0,\n",
       " 153.0,\n",
       " 154.0,\n",
       " 155.0,\n",
       " 156.0,\n",
       " 157.0,\n",
       " 158.0,\n",
       " 159.0,\n",
       " 160.0,\n",
       " 161.0,\n",
       " 162.0,\n",
       " 163.0,\n",
       " 164.0,\n",
       " 165.0,\n",
       " 166.0,\n",
       " 167.0,\n",
       " 168.0,\n",
       " 169.0,\n",
       " 170.0,\n",
       " 171.0,\n",
       " 172.0,\n",
       " 173.0,\n",
       " 174.0,\n",
       " 175.0,\n",
       " 176.0,\n",
       " 177.0,\n",
       " 178.0,\n",
       " 179.0,\n",
       " 180.0,\n",
       " 181.0,\n",
       " 182.0,\n",
       " 183.0,\n",
       " 184.0,\n",
       " 185.0,\n",
       " 186.0,\n",
       " 187.0,\n",
       " 188.0,\n",
       " 189.0,\n",
       " 190.0,\n",
       " 191.0,\n",
       " 192.0,\n",
       " 193.0,\n",
       " 194.0,\n",
       " 195.0,\n",
       " 196.0,\n",
       " 197.0,\n",
       " 198.0,\n",
       " 199.0,\n",
       " 200.0,\n",
       " 201.0,\n",
       " 202.0,\n",
       " 203.0,\n",
       " 204.0,\n",
       " 205.0,\n",
       " 206.0,\n",
       " 207.0,\n",
       " 208.0,\n",
       " 209.0,\n",
       " 210.0,\n",
       " 211.0,\n",
       " 212.0,\n",
       " 213.0,\n",
       " 214.0,\n",
       " 215.0,\n",
       " 216.0,\n",
       " 217.0,\n",
       " 218.0,\n",
       " 219.0,\n",
       " 220.0,\n",
       " 221.0,\n",
       " 222.0,\n",
       " 223.0,\n",
       " 224.0,\n",
       " 225.0,\n",
       " 226.0,\n",
       " 227.0,\n",
       " 228.0,\n",
       " 229.0,\n",
       " 230.0,\n",
       " 231.0,\n",
       " 232.0,\n",
       " 233.0,\n",
       " 234.0,\n",
       " 235.0,\n",
       " 236.0,\n",
       " 237.0,\n",
       " 238.0,\n",
       " 239.0,\n",
       " 240.0,\n",
       " 241.0,\n",
       " 242.0,\n",
       " 243.0,\n",
       " 244.0,\n",
       " 245.0,\n",
       " 246.0,\n",
       " 247.0,\n",
       " 248.0,\n",
       " 249.0,\n",
       " 250.0,\n",
       " 251.0,\n",
       " 252.0,\n",
       " 253.0,\n",
       " 254.0,\n",
       " 255.0,\n",
       " 256.0,\n",
       " 257.0,\n",
       " 258.0,\n",
       " 259.0,\n",
       " 260.0,\n",
       " 261.0,\n",
       " 262.0,\n",
       " 263.0,\n",
       " 264.0,\n",
       " 265.0,\n",
       " 266.0,\n",
       " 267.0,\n",
       " 268.0,\n",
       " 269.0,\n",
       " 270.0,\n",
       " 271.0,\n",
       " 272.0,\n",
       " 273.0,\n",
       " 274.0,\n",
       " 275.0,\n",
       " 276.0,\n",
       " 277.0,\n",
       " 278.0,\n",
       " 279.0,\n",
       " 280.0,\n",
       " 281.0,\n",
       " 282.0,\n",
       " 283.0,\n",
       " 284.0,\n",
       " 285.0,\n",
       " 286.0,\n",
       " 287.0,\n",
       " 288.0,\n",
       " 289.0,\n",
       " 290.0,\n",
       " 291.0,\n",
       " 292.0,\n",
       " 293.0,\n",
       " 294.0,\n",
       " 295.0,\n",
       " 296.0,\n",
       " 297.0,\n",
       " 298.0,\n",
       " 299.0,\n",
       " 300.0,\n",
       " 301.0,\n",
       " 302.0,\n",
       " 303.0,\n",
       " 304.0,\n",
       " 305.0,\n",
       " 306.0,\n",
       " 307.0,\n",
       " 308.0,\n",
       " 309.0,\n",
       " 310.0,\n",
       " 311.0,\n",
       " 312.0,\n",
       " 313.0,\n",
       " 314.0,\n",
       " 315.0,\n",
       " 316.0,\n",
       " 317.0,\n",
       " 318.0,\n",
       " 319.0,\n",
       " 320.0,\n",
       " 321.0,\n",
       " 322.0,\n",
       " 323.0,\n",
       " 324.0,\n",
       " 325.0,\n",
       " 326.0,\n",
       " 327.0,\n",
       " 328.0,\n",
       " 329.0,\n",
       " 330.0,\n",
       " 331.0,\n",
       " 332.0,\n",
       " 333.0,\n",
       " 334.0,\n",
       " 335.0,\n",
       " 336.0,\n",
       " 337.0,\n",
       " 338.0,\n",
       " 339.0,\n",
       " 340.0,\n",
       " 341.0,\n",
       " 342.0,\n",
       " 343.0,\n",
       " 344.0,\n",
       " 345.0,\n",
       " 346.0,\n",
       " 347.0,\n",
       " 348.0,\n",
       " 349.0,\n",
       " 350.0,\n",
       " 351.0,\n",
       " 352.0,\n",
       " 353.0,\n",
       " 354.0,\n",
       " 355.0,\n",
       " 356.0,\n",
       " 357.0,\n",
       " 358.0,\n",
       " 359.0,\n",
       " 360.0,\n",
       " 361.0,\n",
       " 362.0,\n",
       " 363.0,\n",
       " 364.0,\n",
       " 365.0,\n",
       " 366.0,\n",
       " 367.0,\n",
       " 368.0,\n",
       " 369.0,\n",
       " 370.0,\n",
       " 371.0,\n",
       " 372.0,\n",
       " 373.0,\n",
       " 374.0,\n",
       " 375.0,\n",
       " 376.0,\n",
       " 377.0,\n",
       " 378.0,\n",
       " 379.0,\n",
       " 380.0,\n",
       " 381.0,\n",
       " 382.0,\n",
       " 383.0,\n",
       " 384.0,\n",
       " 385.0,\n",
       " 386.0,\n",
       " 387.0,\n",
       " 388.0,\n",
       " 389.0,\n",
       " 390.0,\n",
       " 391.0,\n",
       " 392.0,\n",
       " 393.0,\n",
       " 394.0,\n",
       " 395.0,\n",
       " 396.0,\n",
       " 397.0,\n",
       " 398.0,\n",
       " 399.0,\n",
       " 400.0,\n",
       " 401.0,\n",
       " 402.0,\n",
       " 403.0,\n",
       " 404.0,\n",
       " 405.0,\n",
       " 406.0,\n",
       " 407.0,\n",
       " 408.0,\n",
       " 409.0,\n",
       " 410.0,\n",
       " 411.0,\n",
       " 412.0,\n",
       " 413.0,\n",
       " 414.0,\n",
       " 415.0,\n",
       " 416.0,\n",
       " 417.0,\n",
       " 418.0,\n",
       " 419.0,\n",
       " 420.0,\n",
       " 421.0,\n",
       " 422.0,\n",
       " 423.0,\n",
       " 424.0,\n",
       " 425.0,\n",
       " 426.0,\n",
       " 427.0,\n",
       " 428.0,\n",
       " 429.0,\n",
       " 430.0,\n",
       " 431.0,\n",
       " 432.0,\n",
       " 433.0,\n",
       " 434.0,\n",
       " 435.0,\n",
       " 436.0,\n",
       " 437.0,\n",
       " 438.0,\n",
       " 439.0,\n",
       " 440.0,\n",
       " 441.0,\n",
       " 442.0,\n",
       " 443.0,\n",
       " 444.0,\n",
       " 445.0,\n",
       " 446.0]"
      ]
     },
     "execution_count": 55,
     "metadata": {},
     "output_type": "execute_result"
    }
   ],
   "source": [
    "ranks_list_mdfd = df2.rank_num.unique().tolist()\n",
    "ranks_list_mdfd.sort()\n",
    "ranks_list_mdfd"
   ]
  },
  {
   "cell_type": "code",
   "execution_count": 56,
   "metadata": {
    "collapsed": true
   },
   "outputs": [],
   "source": [
    "df2['top30'] = df2.rank_num.apply(lambda x: 1 if x <= 30 else 0)"
   ]
  },
  {
   "cell_type": "code",
   "execution_count": 57,
   "metadata": {
    "collapsed": false
   },
   "outputs": [
    {
     "data": {
      "text/plain": [
       "0    416\n",
       "1     30\n",
       "Name: top30, dtype: int64"
      ]
     },
     "execution_count": 57,
     "metadata": {},
     "output_type": "execute_result"
    }
   ],
   "source": [
    "df2.top30.value_counts()"
   ]
  },
  {
   "cell_type": "code",
   "execution_count": 58,
   "metadata": {
    "collapsed": true
   },
   "outputs": [],
   "source": [
    "df2['n_english_reviews'] = df2.spring + df2.summer + df2.fall + df2.winter"
   ]
  },
  {
   "cell_type": "code",
   "execution_count": 59,
   "metadata": {
    "collapsed": true
   },
   "outputs": [],
   "source": [
    "df2['pct_english_reviews'] = df2.n_english_reviews / df2.n_reviews"
   ]
  },
  {
   "cell_type": "code",
   "execution_count": 60,
   "metadata": {
    "collapsed": true
   },
   "outputs": [],
   "source": [
    "count_cols = {'rating_cts': ['excellent_ct','verygood_ct','average_ct','poor_ct','terrible_ct'],\n",
    "             'travel_type_cts': ['families','couples','solo','business','friends'],\n",
    "             'season_cts': ['spring','summer','fall','winter']}"
   ]
  },
  {
   "cell_type": "code",
   "execution_count": 61,
   "metadata": {
    "collapsed": false
   },
   "outputs": [
    {
     "data": {
      "text/plain": [
       "[('rating_cts',\n",
       "  ['excellent_ct', 'verygood_ct', 'average_ct', 'poor_ct', 'terrible_ct']),\n",
       " ('travel_type_cts', ['families', 'couples', 'solo', 'business', 'friends']),\n",
       " ('season_cts', ['spring', 'summer', 'fall', 'winter'])]"
      ]
     },
     "execution_count": 61,
     "metadata": {},
     "output_type": "execute_result"
    }
   ],
   "source": [
    "count_cols.items()"
   ]
  },
  {
   "cell_type": "code",
   "execution_count": 62,
   "metadata": {
    "collapsed": false
   },
   "outputs": [
    {
     "name": "stdout",
     "output_type": "stream",
     "text": [
      "excellent_ct\n",
      "verygood_ct\n",
      "average_ct\n",
      "poor_ct\n",
      "terrible_ct\n",
      "families\n",
      "couples\n",
      "solo\n",
      "business\n",
      "friends\n",
      "spring\n",
      "summer\n",
      "fall\n",
      "winter\n"
     ]
    }
   ],
   "source": [
    "for item in count_cols.items():\n",
    "    for count_col in item[1]:\n",
    "        print count_col"
   ]
  },
  {
   "cell_type": "code",
   "execution_count": 63,
   "metadata": {
    "collapsed": false
   },
   "outputs": [],
   "source": [
    "for item in count_cols.items():\n",
    "    #dynamic string to be used for naming column with total of category counts\n",
    "    item_ct = item[0].split('_')[0] + '_ct'\n",
    "    df2[item_ct] = 0.\n",
    "    #dynamic string to be used for naming column with total of category percentages\n",
    "    item_pct = item[0].split('_')[0] + '_pct'\n",
    "    df2[item_pct] = 0.\n",
    "    for cc in item[1]:\n",
    "        cc_pct = cc.split('_')[0] + '_pct'\n",
    "        df2[cc_pct] = df2[cc] / df2.n_english_reviews\n",
    "        #df2[item_ct] += df2[cc]\n",
    "        #df2[item_pct] += df2[cc_pct]\n",
    "\n",
    "df2['travel_type_pct_unk'] = 1. - (df2.families_pct + df2.couples_pct + df2.solo_pct + df2.business_pct + df2.friends_pct)"
   ]
  },
  {
   "cell_type": "code",
   "execution_count": 64,
   "metadata": {
    "collapsed": false
   },
   "outputs": [
    {
     "data": {
      "text/plain": [
       "Index([               u'name',           u'n_reviews',             u'st_addr',\n",
       "                      u'city',               u'state',              u'zip_cd',\n",
       "              u'excellent_ct',         u'verygood_ct',          u'average_ct',\n",
       "                   u'poor_ct',         u'terrible_ct',            u'families',\n",
       "                   u'couples',                u'solo',            u'business',\n",
       "                   u'friends',              u'spring',              u'summer',\n",
       "                      u'fall',              u'winter',         u'description',\n",
       "                  u'rank_num',           u'rooms_num',          u'prange_low',\n",
       "               u'prange_high',        u'prange_range',          u'hclass_num',\n",
       "                     u'zip_5',           u'full_addr',           u'amen_wifi',\n",
       "         u'amen_room_service',     u'amen_restaurant',     u'amen_bar_lounge',\n",
       "                  u'amen_gym',            u'amen_spa',      u'amen_breakfast',\n",
       "                 u'amen_pool',       u'amen_internet',        u'amen_parking',\n",
       "                     u'top30',   u'n_english_reviews', u'pct_english_reviews',\n",
       "                 u'rating_ct',          u'rating_pct',       u'excellent_pct',\n",
       "              u'verygood_pct',         u'average_pct',            u'poor_pct',\n",
       "              u'terrible_pct',           u'travel_ct',          u'travel_pct',\n",
       "              u'families_pct',         u'couples_pct',            u'solo_pct',\n",
       "              u'business_pct',         u'friends_pct',           u'season_ct',\n",
       "                u'season_pct',          u'spring_pct',          u'summer_pct',\n",
       "                  u'fall_pct',          u'winter_pct', u'travel_type_pct_unk'],\n",
       "      dtype='object')"
      ]
     },
     "execution_count": 64,
     "metadata": {},
     "output_type": "execute_result"
    }
   ],
   "source": [
    "df2.columns"
   ]
  },
  {
   "cell_type": "code",
   "execution_count": 65,
   "metadata": {
    "collapsed": false
   },
   "outputs": [
    {
     "data": {
      "text/html": [
       "<div>\n",
       "<table border=\"1\" class=\"dataframe\">\n",
       "  <thead>\n",
       "    <tr style=\"text-align: right;\">\n",
       "      <th></th>\n",
       "      <th>name</th>\n",
       "      <th>n_reviews</th>\n",
       "      <th>n_english_reviews</th>\n",
       "      <th>pct_english_reviews</th>\n",
       "    </tr>\n",
       "  </thead>\n",
       "  <tbody>\n",
       "    <tr>\n",
       "      <th>0</th>\n",
       "      <td>Loews Regency New York Hotel</td>\n",
       "      <td>1355</td>\n",
       "      <td>1220.0</td>\n",
       "      <td>0.900369</td>\n",
       "    </tr>\n",
       "    <tr>\n",
       "      <th>1</th>\n",
       "      <td>The Towers of the Waldorf Astoria - TEMPORARIL...</td>\n",
       "      <td>2016</td>\n",
       "      <td>1830.0</td>\n",
       "      <td>0.907738</td>\n",
       "    </tr>\n",
       "    <tr>\n",
       "      <th>2</th>\n",
       "      <td>Langham Place New York Fifth Avenue</td>\n",
       "      <td>2065</td>\n",
       "      <td>1743.0</td>\n",
       "      <td>0.844068</td>\n",
       "    </tr>\n",
       "    <tr>\n",
       "      <th>3</th>\n",
       "      <td>The Mark</td>\n",
       "      <td>687</td>\n",
       "      <td>589.0</td>\n",
       "      <td>0.857351</td>\n",
       "    </tr>\n",
       "    <tr>\n",
       "      <th>4</th>\n",
       "      <td>The St. Regis New York</td>\n",
       "      <td>633</td>\n",
       "      <td>573.0</td>\n",
       "      <td>0.905213</td>\n",
       "    </tr>\n",
       "  </tbody>\n",
       "</table>\n",
       "</div>"
      ],
      "text/plain": [
       "                                                name  n_reviews  \\\n",
       "0                       Loews Regency New York Hotel       1355   \n",
       "1  The Towers of the Waldorf Astoria - TEMPORARIL...       2016   \n",
       "2                Langham Place New York Fifth Avenue       2065   \n",
       "3                                           The Mark        687   \n",
       "4                             The St. Regis New York        633   \n",
       "\n",
       "   n_english_reviews  pct_english_reviews  \n",
       "0             1220.0             0.900369  \n",
       "1             1830.0             0.907738  \n",
       "2             1743.0             0.844068  \n",
       "3              589.0             0.857351  \n",
       "4              573.0             0.905213  "
      ]
     },
     "execution_count": 65,
     "metadata": {},
     "output_type": "execute_result"
    }
   ],
   "source": [
    "df2[['name','n_reviews','n_english_reviews','pct_english_reviews']].head()"
   ]
  },
  {
   "cell_type": "code",
   "execution_count": 66,
   "metadata": {
    "collapsed": false
   },
   "outputs": [
    {
     "data": {
      "text/html": [
       "<div>\n",
       "<table border=\"1\" class=\"dataframe\">\n",
       "  <thead>\n",
       "    <tr style=\"text-align: right;\">\n",
       "      <th></th>\n",
       "      <th>excellent_pct</th>\n",
       "      <th>verygood_pct</th>\n",
       "      <th>average_pct</th>\n",
       "      <th>poor_pct</th>\n",
       "      <th>terrible_pct</th>\n",
       "    </tr>\n",
       "  </thead>\n",
       "  <tbody>\n",
       "    <tr>\n",
       "      <th>0</th>\n",
       "      <td>0.780328</td>\n",
       "      <td>0.132787</td>\n",
       "      <td>0.050820</td>\n",
       "      <td>0.022131</td>\n",
       "      <td>0.013934</td>\n",
       "    </tr>\n",
       "    <tr>\n",
       "      <th>1</th>\n",
       "      <td>0.754645</td>\n",
       "      <td>0.133880</td>\n",
       "      <td>0.058470</td>\n",
       "      <td>0.037705</td>\n",
       "      <td>0.015301</td>\n",
       "    </tr>\n",
       "    <tr>\n",
       "      <th>2</th>\n",
       "      <td>0.812966</td>\n",
       "      <td>0.116466</td>\n",
       "      <td>0.041308</td>\n",
       "      <td>0.018933</td>\n",
       "      <td>0.010327</td>\n",
       "    </tr>\n",
       "    <tr>\n",
       "      <th>3</th>\n",
       "      <td>0.787776</td>\n",
       "      <td>0.147708</td>\n",
       "      <td>0.040747</td>\n",
       "      <td>0.013582</td>\n",
       "      <td>0.010187</td>\n",
       "    </tr>\n",
       "    <tr>\n",
       "      <th>4</th>\n",
       "      <td>0.781850</td>\n",
       "      <td>0.122164</td>\n",
       "      <td>0.059337</td>\n",
       "      <td>0.020942</td>\n",
       "      <td>0.015707</td>\n",
       "    </tr>\n",
       "  </tbody>\n",
       "</table>\n",
       "</div>"
      ],
      "text/plain": [
       "   excellent_pct  verygood_pct  average_pct  poor_pct  terrible_pct\n",
       "0       0.780328      0.132787     0.050820  0.022131      0.013934\n",
       "1       0.754645      0.133880     0.058470  0.037705      0.015301\n",
       "2       0.812966      0.116466     0.041308  0.018933      0.010327\n",
       "3       0.787776      0.147708     0.040747  0.013582      0.010187\n",
       "4       0.781850      0.122164     0.059337  0.020942      0.015707"
      ]
     },
     "execution_count": 66,
     "metadata": {},
     "output_type": "execute_result"
    }
   ],
   "source": [
    "df2[['excellent_pct','verygood_pct','average_pct','poor_pct','terrible_pct']].head()"
   ]
  },
  {
   "cell_type": "code",
   "execution_count": 67,
   "metadata": {
    "collapsed": false
   },
   "outputs": [],
   "source": [
    "#CODE TO CHECK IF PERCENT VALUES ADD UP TO 1.0 ACROSS CATEGORIES\n",
    "#df2.apply(lambda x: x['season_ct'] == x['rating_ct'], axis=1).value_counts()\n",
    "#df.loc[(df.a == 0) & (df.b == 0) & (df.c == 0), list('def')] = 0\n",
    "#df2.loc[~(round(df2.excellent_pct + df2.verygood_pct + df2.average_pct + df2.poor_pct + df2.terrible_pct, decimals=1) == 1.0),['excellent_pct','verygood_pct','average_pct','poor_pct','terrible_pct']]\n",
    "#df2.apply(lambda x: x['excellent_pct'] + x['verygood_pct'] + x['average_pct'] + x['poor_pct'] + x['terrible_pct'] == 1.0)"
   ]
  },
  {
   "cell_type": "code",
   "execution_count": 68,
   "metadata": {
    "collapsed": false
   },
   "outputs": [
    {
     "data": {
      "text/html": [
       "<div>\n",
       "<table border=\"1\" class=\"dataframe\">\n",
       "  <thead>\n",
       "    <tr style=\"text-align: right;\">\n",
       "      <th></th>\n",
       "      <th>spring_pct</th>\n",
       "      <th>summer_pct</th>\n",
       "      <th>fall_pct</th>\n",
       "      <th>winter_pct</th>\n",
       "    </tr>\n",
       "  </thead>\n",
       "  <tbody>\n",
       "    <tr>\n",
       "      <th>0</th>\n",
       "      <td>0.258197</td>\n",
       "      <td>0.283607</td>\n",
       "      <td>0.223770</td>\n",
       "      <td>0.234426</td>\n",
       "    </tr>\n",
       "    <tr>\n",
       "      <th>1</th>\n",
       "      <td>0.229508</td>\n",
       "      <td>0.288525</td>\n",
       "      <td>0.208743</td>\n",
       "      <td>0.273224</td>\n",
       "    </tr>\n",
       "    <tr>\n",
       "      <th>2</th>\n",
       "      <td>0.247849</td>\n",
       "      <td>0.259897</td>\n",
       "      <td>0.238095</td>\n",
       "      <td>0.254159</td>\n",
       "    </tr>\n",
       "    <tr>\n",
       "      <th>3</th>\n",
       "      <td>0.193548</td>\n",
       "      <td>0.305603</td>\n",
       "      <td>0.264856</td>\n",
       "      <td>0.235993</td>\n",
       "    </tr>\n",
       "    <tr>\n",
       "      <th>4</th>\n",
       "      <td>0.216405</td>\n",
       "      <td>0.244328</td>\n",
       "      <td>0.246073</td>\n",
       "      <td>0.293194</td>\n",
       "    </tr>\n",
       "  </tbody>\n",
       "</table>\n",
       "</div>"
      ],
      "text/plain": [
       "   spring_pct  summer_pct  fall_pct  winter_pct\n",
       "0    0.258197    0.283607  0.223770    0.234426\n",
       "1    0.229508    0.288525  0.208743    0.273224\n",
       "2    0.247849    0.259897  0.238095    0.254159\n",
       "3    0.193548    0.305603  0.264856    0.235993\n",
       "4    0.216405    0.244328  0.246073    0.293194"
      ]
     },
     "execution_count": 68,
     "metadata": {},
     "output_type": "execute_result"
    }
   ],
   "source": [
    "df2[['spring_pct','summer_pct','fall_pct','winter_pct']].head()"
   ]
  },
  {
   "cell_type": "code",
   "execution_count": 69,
   "metadata": {
    "collapsed": false
   },
   "outputs": [
    {
     "data": {
      "text/html": [
       "<div>\n",
       "<table border=\"1\" class=\"dataframe\">\n",
       "  <thead>\n",
       "    <tr style=\"text-align: right;\">\n",
       "      <th></th>\n",
       "      <th>travel_type_pct_unk</th>\n",
       "      <th>families_pct</th>\n",
       "      <th>couples_pct</th>\n",
       "      <th>solo_pct</th>\n",
       "      <th>business_pct</th>\n",
       "      <th>friends_pct</th>\n",
       "    </tr>\n",
       "  </thead>\n",
       "  <tbody>\n",
       "    <tr>\n",
       "      <th>0</th>\n",
       "      <td>0.049180</td>\n",
       "      <td>0.315574</td>\n",
       "      <td>0.303279</td>\n",
       "      <td>0.036066</td>\n",
       "      <td>0.211475</td>\n",
       "      <td>0.084426</td>\n",
       "    </tr>\n",
       "    <tr>\n",
       "      <th>1</th>\n",
       "      <td>0.049180</td>\n",
       "      <td>0.345902</td>\n",
       "      <td>0.355191</td>\n",
       "      <td>0.036066</td>\n",
       "      <td>0.133333</td>\n",
       "      <td>0.080328</td>\n",
       "    </tr>\n",
       "    <tr>\n",
       "      <th>2</th>\n",
       "      <td>0.065404</td>\n",
       "      <td>0.256454</td>\n",
       "      <td>0.370052</td>\n",
       "      <td>0.037866</td>\n",
       "      <td>0.206540</td>\n",
       "      <td>0.063683</td>\n",
       "    </tr>\n",
       "    <tr>\n",
       "      <th>3</th>\n",
       "      <td>0.071307</td>\n",
       "      <td>0.195246</td>\n",
       "      <td>0.398981</td>\n",
       "      <td>0.089983</td>\n",
       "      <td>0.191851</td>\n",
       "      <td>0.052632</td>\n",
       "    </tr>\n",
       "    <tr>\n",
       "      <th>4</th>\n",
       "      <td>0.064572</td>\n",
       "      <td>0.225131</td>\n",
       "      <td>0.431065</td>\n",
       "      <td>0.045375</td>\n",
       "      <td>0.178010</td>\n",
       "      <td>0.055846</td>\n",
       "    </tr>\n",
       "  </tbody>\n",
       "</table>\n",
       "</div>"
      ],
      "text/plain": [
       "   travel_type_pct_unk  families_pct  couples_pct  solo_pct  business_pct  \\\n",
       "0             0.049180      0.315574     0.303279  0.036066      0.211475   \n",
       "1             0.049180      0.345902     0.355191  0.036066      0.133333   \n",
       "2             0.065404      0.256454     0.370052  0.037866      0.206540   \n",
       "3             0.071307      0.195246     0.398981  0.089983      0.191851   \n",
       "4             0.064572      0.225131     0.431065  0.045375      0.178010   \n",
       "\n",
       "   friends_pct  \n",
       "0     0.084426  \n",
       "1     0.080328  \n",
       "2     0.063683  \n",
       "3     0.052632  \n",
       "4     0.055846  "
      ]
     },
     "execution_count": 69,
     "metadata": {},
     "output_type": "execute_result"
    }
   ],
   "source": [
    "df2[['travel_type_pct_unk','families_pct','couples_pct','solo_pct','business_pct','friends_pct']].head()"
   ]
  },
  {
   "cell_type": "code",
   "execution_count": 70,
   "metadata": {
    "collapsed": false
   },
   "outputs": [
    {
     "data": {
      "text/plain": [
       "hclass_num      28\n",
       "prange_range    22\n",
       "prange_high     22\n",
       "prange_low      22\n",
       "rooms_num        6\n",
       "dtype: int64"
      ]
     },
     "execution_count": 70,
     "metadata": {},
     "output_type": "execute_result"
    }
   ],
   "source": [
    "df2_miss = df2.isnull().sum().sort_values(ascending=False)\n",
    "df2_miss[df2_miss > 0]"
   ]
  },
  {
   "cell_type": "code",
   "execution_count": 71,
   "metadata": {
    "collapsed": false
   },
   "outputs": [
    {
     "data": {
      "text/html": [
       "<div>\n",
       "<table border=\"1\" class=\"dataframe\">\n",
       "  <thead>\n",
       "    <tr style=\"text-align: right;\">\n",
       "      <th></th>\n",
       "      <th>name</th>\n",
       "      <th>n_reviews</th>\n",
       "      <th>st_addr</th>\n",
       "      <th>city</th>\n",
       "      <th>state</th>\n",
       "      <th>zip_cd</th>\n",
       "      <th>excellent_ct</th>\n",
       "      <th>verygood_ct</th>\n",
       "      <th>average_ct</th>\n",
       "      <th>poor_ct</th>\n",
       "      <th>...</th>\n",
       "      <th>solo_pct</th>\n",
       "      <th>business_pct</th>\n",
       "      <th>friends_pct</th>\n",
       "      <th>season_ct</th>\n",
       "      <th>season_pct</th>\n",
       "      <th>spring_pct</th>\n",
       "      <th>summer_pct</th>\n",
       "      <th>fall_pct</th>\n",
       "      <th>winter_pct</th>\n",
       "      <th>travel_type_pct_unk</th>\n",
       "    </tr>\n",
       "  </thead>\n",
       "  <tbody>\n",
       "    <tr>\n",
       "      <th>99</th>\n",
       "      <td>National at Park Towers</td>\n",
       "      <td>2</td>\n",
       "      <td>315 West 57th Street</td>\n",
       "      <td>New York City</td>\n",
       "      <td>NY</td>\n",
       "      <td>10019-3158</td>\n",
       "      <td>1.0</td>\n",
       "      <td>0.0</td>\n",
       "      <td>0.0</td>\n",
       "      <td>0.0</td>\n",
       "      <td>...</td>\n",
       "      <td>0.000000</td>\n",
       "      <td>0.000000</td>\n",
       "      <td>0.000000</td>\n",
       "      <td>0.0</td>\n",
       "      <td>0.0</td>\n",
       "      <td>0.500000</td>\n",
       "      <td>0.000000</td>\n",
       "      <td>0.500000</td>\n",
       "      <td>0.000000</td>\n",
       "      <td>0.000000</td>\n",
       "    </tr>\n",
       "    <tr>\n",
       "      <th>100</th>\n",
       "      <td>Third Ave House</td>\n",
       "      <td>4</td>\n",
       "      <td>215 E 81st St</td>\n",
       "      <td>New York City</td>\n",
       "      <td>NY</td>\n",
       "      <td>10028-2625</td>\n",
       "      <td>1.0</td>\n",
       "      <td>0.0</td>\n",
       "      <td>0.0</td>\n",
       "      <td>1.0</td>\n",
       "      <td>...</td>\n",
       "      <td>0.666667</td>\n",
       "      <td>0.666667</td>\n",
       "      <td>0.000000</td>\n",
       "      <td>0.0</td>\n",
       "      <td>0.0</td>\n",
       "      <td>0.000000</td>\n",
       "      <td>0.333333</td>\n",
       "      <td>0.333333</td>\n",
       "      <td>0.333333</td>\n",
       "      <td>-0.333333</td>\n",
       "    </tr>\n",
       "    <tr>\n",
       "      <th>307</th>\n",
       "      <td>Hilton Garden Inn New York/Midtown Park Ave</td>\n",
       "      <td>926</td>\n",
       "      <td>45 E 33rd St</td>\n",
       "      <td>New York City</td>\n",
       "      <td>NY</td>\n",
       "      <td>10016-5336</td>\n",
       "      <td>409.0</td>\n",
       "      <td>234.0</td>\n",
       "      <td>53.0</td>\n",
       "      <td>28.0</td>\n",
       "      <td>...</td>\n",
       "      <td>0.074124</td>\n",
       "      <td>0.230458</td>\n",
       "      <td>0.106469</td>\n",
       "      <td>0.0</td>\n",
       "      <td>0.0</td>\n",
       "      <td>0.222372</td>\n",
       "      <td>0.195418</td>\n",
       "      <td>0.258760</td>\n",
       "      <td>0.323450</td>\n",
       "      <td>0.033693</td>\n",
       "    </tr>\n",
       "    <tr>\n",
       "      <th>315</th>\n",
       "      <td>Hilton Garden Inn New York/Manhattan-Midtown East</td>\n",
       "      <td>1128</td>\n",
       "      <td>206 E 52nd St</td>\n",
       "      <td>New York City</td>\n",
       "      <td>NY</td>\n",
       "      <td>10022-6201</td>\n",
       "      <td>514.0</td>\n",
       "      <td>289.0</td>\n",
       "      <td>92.0</td>\n",
       "      <td>34.0</td>\n",
       "      <td>...</td>\n",
       "      <td>0.080713</td>\n",
       "      <td>0.230608</td>\n",
       "      <td>0.081761</td>\n",
       "      <td>0.0</td>\n",
       "      <td>0.0</td>\n",
       "      <td>0.208595</td>\n",
       "      <td>0.273585</td>\n",
       "      <td>0.268344</td>\n",
       "      <td>0.249476</td>\n",
       "      <td>0.054507</td>\n",
       "    </tr>\n",
       "    <tr>\n",
       "      <th>355</th>\n",
       "      <td>Executive Hotel LeSoleil</td>\n",
       "      <td>616</td>\n",
       "      <td>38 W 36th St</td>\n",
       "      <td>New York City</td>\n",
       "      <td>NY</td>\n",
       "      <td>10018-8078</td>\n",
       "      <td>313.0</td>\n",
       "      <td>129.0</td>\n",
       "      <td>39.0</td>\n",
       "      <td>11.0</td>\n",
       "      <td>...</td>\n",
       "      <td>0.070140</td>\n",
       "      <td>0.166333</td>\n",
       "      <td>0.078156</td>\n",
       "      <td>0.0</td>\n",
       "      <td>0.0</td>\n",
       "      <td>0.238477</td>\n",
       "      <td>0.142285</td>\n",
       "      <td>0.308617</td>\n",
       "      <td>0.310621</td>\n",
       "      <td>0.062124</td>\n",
       "    </tr>\n",
       "    <tr>\n",
       "      <th>380</th>\n",
       "      <td>Hotel Indigo Lower East Side New York</td>\n",
       "      <td>500</td>\n",
       "      <td>171 Ludlow Street</td>\n",
       "      <td>New York City</td>\n",
       "      <td>NY</td>\n",
       "      <td>10002-1501</td>\n",
       "      <td>293.0</td>\n",
       "      <td>99.0</td>\n",
       "      <td>24.0</td>\n",
       "      <td>10.0</td>\n",
       "      <td>...</td>\n",
       "      <td>0.097222</td>\n",
       "      <td>0.173611</td>\n",
       "      <td>0.129630</td>\n",
       "      <td>0.0</td>\n",
       "      <td>0.0</td>\n",
       "      <td>0.300926</td>\n",
       "      <td>0.189815</td>\n",
       "      <td>0.219907</td>\n",
       "      <td>0.289352</td>\n",
       "      <td>0.048611</td>\n",
       "    </tr>\n",
       "  </tbody>\n",
       "</table>\n",
       "<p>6 rows × 63 columns</p>\n",
       "</div>"
      ],
      "text/plain": [
       "                                                  name  n_reviews  \\\n",
       "99                             National at Park Towers          2   \n",
       "100                                    Third Ave House          4   \n",
       "307        Hilton Garden Inn New York/Midtown Park Ave        926   \n",
       "315  Hilton Garden Inn New York/Manhattan-Midtown East       1128   \n",
       "355                           Executive Hotel LeSoleil        616   \n",
       "380              Hotel Indigo Lower East Side New York        500   \n",
       "\n",
       "                  st_addr           city state      zip_cd  excellent_ct  \\\n",
       "99   315 West 57th Street  New York City    NY  10019-3158           1.0   \n",
       "100         215 E 81st St  New York City    NY  10028-2625           1.0   \n",
       "307          45 E 33rd St  New York City    NY  10016-5336         409.0   \n",
       "315         206 E 52nd St  New York City    NY  10022-6201         514.0   \n",
       "355          38 W 36th St  New York City    NY  10018-8078         313.0   \n",
       "380     171 Ludlow Street  New York City    NY  10002-1501         293.0   \n",
       "\n",
       "     verygood_ct  average_ct  poor_ct         ...           solo_pct  \\\n",
       "99           0.0         0.0      0.0         ...           0.000000   \n",
       "100          0.0         0.0      1.0         ...           0.666667   \n",
       "307        234.0        53.0     28.0         ...           0.074124   \n",
       "315        289.0        92.0     34.0         ...           0.080713   \n",
       "355        129.0        39.0     11.0         ...           0.070140   \n",
       "380         99.0        24.0     10.0         ...           0.097222   \n",
       "\n",
       "     business_pct  friends_pct  season_ct  season_pct  spring_pct  summer_pct  \\\n",
       "99       0.000000     0.000000        0.0         0.0    0.500000    0.000000   \n",
       "100      0.666667     0.000000        0.0         0.0    0.000000    0.333333   \n",
       "307      0.230458     0.106469        0.0         0.0    0.222372    0.195418   \n",
       "315      0.230608     0.081761        0.0         0.0    0.208595    0.273585   \n",
       "355      0.166333     0.078156        0.0         0.0    0.238477    0.142285   \n",
       "380      0.173611     0.129630        0.0         0.0    0.300926    0.189815   \n",
       "\n",
       "     fall_pct  winter_pct  travel_type_pct_unk  \n",
       "99   0.500000    0.000000             0.000000  \n",
       "100  0.333333    0.333333            -0.333333  \n",
       "307  0.258760    0.323450             0.033693  \n",
       "315  0.268344    0.249476             0.054507  \n",
       "355  0.308617    0.310621             0.062124  \n",
       "380  0.219907    0.289352             0.048611  \n",
       "\n",
       "[6 rows x 63 columns]"
      ]
     },
     "execution_count": 71,
     "metadata": {},
     "output_type": "execute_result"
    }
   ],
   "source": [
    "df2.loc[df2['rooms_num'].isnull()]"
   ]
  },
  {
   "cell_type": "code",
   "execution_count": 72,
   "metadata": {
    "collapsed": true
   },
   "outputs": [],
   "source": [
    "from fancyimpute import KNN"
   ]
  },
  {
   "cell_type": "code",
   "execution_count": 73,
   "metadata": {
    "collapsed": false
   },
   "outputs": [
    {
     "name": "stdout",
     "output_type": "stream",
     "text": [
      "Imputing row 1/446 with 0 missing, elapsed time: 0.053\n",
      "Imputing row 101/446 with 5 missing, elapsed time: 0.057\n",
      "Imputing row 201/446 with 0 missing, elapsed time: 0.058\n",
      "Imputing row 301/446 with 0 missing, elapsed time: 0.058\n",
      "Imputing row 401/446 with 0 missing, elapsed time: 0.059\n"
     ]
    }
   ],
   "source": [
    "cols_for_impute = ['n_reviews','rank_num','rooms_num','prange_low','prange_high',\n",
    "                    'prange_range','hclass_num','amen_wifi','amen_room_service','amen_restaurant',\n",
    "                    'amen_bar_lounge','amen_gym','amen_spa','amen_breakfast','amen_pool','amen_internet',\n",
    "                    'amen_parking','n_english_reviews']\n",
    "df2_for_impute = df2[cols_for_impute]\n",
    "array_filled_knn = KNN(k=5).complete(df2_for_impute)"
   ]
  },
  {
   "cell_type": "code",
   "execution_count": 74,
   "metadata": {
    "collapsed": true
   },
   "outputs": [],
   "source": [
    "df2_filled_knn = pd.DataFrame(array_filled_knn, columns=cols_for_impute)"
   ]
  },
  {
   "cell_type": "code",
   "execution_count": 75,
   "metadata": {
    "collapsed": false
   },
   "outputs": [
    {
     "data": {
      "text/plain": [
       "(446, 18)"
      ]
     },
     "execution_count": 75,
     "metadata": {},
     "output_type": "execute_result"
    }
   ],
   "source": [
    "df2_filled_knn.shape"
   ]
  },
  {
   "cell_type": "code",
   "execution_count": 76,
   "metadata": {
    "collapsed": false
   },
   "outputs": [
    {
     "data": {
      "text/plain": [
       "n_reviews            0\n",
       "rank_num             0\n",
       "rooms_num            0\n",
       "prange_low           0\n",
       "prange_high          0\n",
       "prange_range         0\n",
       "hclass_num           0\n",
       "amen_wifi            0\n",
       "amen_room_service    0\n",
       "amen_restaurant      0\n",
       "amen_bar_lounge      0\n",
       "amen_gym             0\n",
       "amen_spa             0\n",
       "amen_breakfast       0\n",
       "amen_pool            0\n",
       "amen_internet        0\n",
       "amen_parking         0\n",
       "n_english_reviews    0\n",
       "dtype: int64"
      ]
     },
     "execution_count": 76,
     "metadata": {},
     "output_type": "execute_result"
    }
   ],
   "source": [
    "df2_filled_knn.isnull().sum()"
   ]
  },
  {
   "cell_type": "code",
   "execution_count": 77,
   "metadata": {
    "collapsed": true
   },
   "outputs": [],
   "source": [
    "df2.drop(cols_for_impute, axis=1, inplace=True)"
   ]
  },
  {
   "cell_type": "code",
   "execution_count": 78,
   "metadata": {
    "collapsed": false
   },
   "outputs": [
    {
     "data": {
      "text/plain": [
       "Index([               u'name',             u'st_addr',                u'city',\n",
       "                     u'state',              u'zip_cd',        u'excellent_ct',\n",
       "               u'verygood_ct',          u'average_ct',             u'poor_ct',\n",
       "               u'terrible_ct',            u'families',             u'couples',\n",
       "                      u'solo',            u'business',             u'friends',\n",
       "                    u'spring',              u'summer',                u'fall',\n",
       "                    u'winter',         u'description',               u'zip_5',\n",
       "                 u'full_addr',               u'top30', u'pct_english_reviews',\n",
       "                 u'rating_ct',          u'rating_pct',       u'excellent_pct',\n",
       "              u'verygood_pct',         u'average_pct',            u'poor_pct',\n",
       "              u'terrible_pct',           u'travel_ct',          u'travel_pct',\n",
       "              u'families_pct',         u'couples_pct',            u'solo_pct',\n",
       "              u'business_pct',         u'friends_pct',           u'season_ct',\n",
       "                u'season_pct',          u'spring_pct',          u'summer_pct',\n",
       "                  u'fall_pct',          u'winter_pct', u'travel_type_pct_unk'],\n",
       "      dtype='object')"
      ]
     },
     "execution_count": 78,
     "metadata": {},
     "output_type": "execute_result"
    }
   ],
   "source": [
    "df2.columns"
   ]
  },
  {
   "cell_type": "code",
   "execution_count": 79,
   "metadata": {
    "collapsed": false
   },
   "outputs": [],
   "source": [
    "df2_filledin = pd.concat([df2,df2_filled_knn],axis=1)"
   ]
  },
  {
   "cell_type": "code",
   "execution_count": 80,
   "metadata": {
    "collapsed": false
   },
   "outputs": [
    {
     "name": "stdout",
     "output_type": "stream",
     "text": [
      "(446, 45) (446, 18) (446, 63)\n"
     ]
    }
   ],
   "source": [
    "print df2.shape, df2_filled_knn.shape, df2_filledin.shape"
   ]
  },
  {
   "cell_type": "code",
   "execution_count": 81,
   "metadata": {
    "collapsed": false
   },
   "outputs": [
    {
     "data": {
      "text/plain": [
       "array([ 3.5       ,  5.        ,  4.5       ,  4.        ,  3.        ,\n",
       "        2.        ,  3.1614507 ,  2.5       ,  3.24511982,  3.62087949,\n",
       "        2.55732466,  3.06886431,  1.5       ,  2.51467582,  3.90299289,\n",
       "        3.23112809,  1.        ,  2.7511178 ,  2.58378577,  2.81227851,\n",
       "        3.71388554,  3.56211855,  3.23007926,  3.35065197,  3.86311923,\n",
       "        2.97473412,  3.47705073,  3.46393902,  3.4477837 ,  3.79253053,\n",
       "        3.79736988,  3.30536893,  2.95172379,  2.92417048,  3.148012  ,\n",
       "        2.72941823,  2.93045089])"
      ]
     },
     "execution_count": 81,
     "metadata": {},
     "output_type": "execute_result"
    }
   ],
   "source": [
    "df2_filledin.hclass_num.unique()"
   ]
  },
  {
   "cell_type": "code",
   "execution_count": 82,
   "metadata": {
    "collapsed": false
   },
   "outputs": [],
   "source": [
    "df2_filledin['hclass_num'] = df2_filledin.hclass_num.apply(lambda x: round(x * 2) / 2)"
   ]
  },
  {
   "cell_type": "code",
   "execution_count": 83,
   "metadata": {
    "collapsed": false
   },
   "outputs": [
    {
     "data": {
      "text/plain": [
       "array([ 3.5,  5. ,  4.5,  4. ,  3. ,  2. ,  2.5,  1.5,  1. ])"
      ]
     },
     "execution_count": 83,
     "metadata": {},
     "output_type": "execute_result"
    }
   ],
   "source": [
    "df2_filledin.hclass_num.unique()"
   ]
  },
  {
   "cell_type": "code",
   "execution_count": 84,
   "metadata": {
    "collapsed": true
   },
   "outputs": [],
   "source": [
    "#convert hotel class values to dummies\n",
    "df2_filledin = pd.get_dummies(df2_filledin, columns=['hclass_num'])"
   ]
  },
  {
   "cell_type": "code",
   "execution_count": 85,
   "metadata": {
    "collapsed": true
   },
   "outputs": [],
   "source": [
    "#convert zip5 values to dummies\n",
    "df2_filledin = pd.get_dummies(df2_filledin, columns=['zip_5'])"
   ]
  },
  {
   "cell_type": "code",
   "execution_count": 86,
   "metadata": {
    "collapsed": true
   },
   "outputs": [],
   "source": [
    "df2 = df2_filledin"
   ]
  },
  {
   "cell_type": "code",
   "execution_count": 87,
   "metadata": {
    "collapsed": false
   },
   "outputs": [
    {
     "data": {
      "text/plain": [
       "Index([        u'name',      u'st_addr',         u'city',        u'state',\n",
       "             u'zip_cd', u'excellent_ct',  u'verygood_ct',   u'average_ct',\n",
       "            u'poor_ct',  u'terrible_ct',\n",
       "       ...\n",
       "        u'zip_5_10027',  u'zip_5_10028',  u'zip_5_10032',  u'zip_5_10033',\n",
       "        u'zip_5_10036',  u'zip_5_10038',  u'zip_5_10065',  u'zip_5_10078',\n",
       "        u'zip_5_10128',  u'zip_5_10282'],\n",
       "      dtype='object', length=101)"
      ]
     },
     "execution_count": 87,
     "metadata": {},
     "output_type": "execute_result"
    }
   ],
   "source": [
    "df2.columns"
   ]
  },
  {
   "cell_type": "code",
   "execution_count": 144,
   "metadata": {
    "collapsed": false
   },
   "outputs": [],
   "source": [
    "# df2.hclass_num.head()\n",
    "df2."
   ]
  },
  {
   "cell_type": "code",
   "execution_count": 141,
   "metadata": {
    "collapsed": false
   },
   "outputs": [
    {
     "ename": "KeyError",
     "evalue": "'hclass_num'",
     "output_type": "error",
     "traceback": [
      "\u001b[0;31m---------------------------------------------------------------------------\u001b[0m",
      "\u001b[0;31mKeyError\u001b[0m                                  Traceback (most recent call last)",
      "\u001b[0;32m<ipython-input-141-73ae31999ea6>\u001b[0m in \u001b[0;36m<module>\u001b[0;34m()\u001b[0m\n\u001b[1;32m      5\u001b[0m \u001b[0mplt\u001b[0m\u001b[0;34m.\u001b[0m\u001b[0mfigure\u001b[0m\u001b[0;34m(\u001b[0m\u001b[0mfigsize\u001b[0m\u001b[0;34m=\u001b[0m\u001b[0;34m(\u001b[0m\u001b[0;36m14\u001b[0m\u001b[0;34m,\u001b[0m\u001b[0;36m8\u001b[0m\u001b[0;34m)\u001b[0m\u001b[0;34m)\u001b[0m\u001b[0;34m\u001b[0m\u001b[0m\n\u001b[1;32m      6\u001b[0m \u001b[0mplt\u001b[0m\u001b[0;34m.\u001b[0m\u001b[0mtitle\u001b[0m\u001b[0;34m(\u001b[0m\u001b[0;34m'Room Prices - Low vs. High, by Hotel Class'\u001b[0m\u001b[0;34m,\u001b[0m \u001b[0mfontsize\u001b[0m\u001b[0;34m=\u001b[0m\u001b[0;36m24\u001b[0m\u001b[0;34m)\u001b[0m\u001b[0;34m\u001b[0m\u001b[0m\n\u001b[0;32m----> 7\u001b[0;31m \u001b[0mplt\u001b[0m\u001b[0;34m.\u001b[0m\u001b[0mscatter\u001b[0m\u001b[0;34m(\u001b[0m\u001b[0mdf2\u001b[0m\u001b[0;34m.\u001b[0m\u001b[0mprange_low\u001b[0m\u001b[0;34m,\u001b[0m\u001b[0mdf2\u001b[0m\u001b[0;34m.\u001b[0m\u001b[0mprange_high\u001b[0m\u001b[0;34m,\u001b[0m\u001b[0mc\u001b[0m\u001b[0;34m=\u001b[0m\u001b[0mdf2\u001b[0m\u001b[0;34m[\u001b[0m\u001b[0;34m'hclass_num'\u001b[0m\u001b[0;34m]\u001b[0m\u001b[0;34m.\u001b[0m\u001b[0mapply\u001b[0m\u001b[0;34m(\u001b[0m\u001b[0;32mlambda\u001b[0m \u001b[0mx\u001b[0m\u001b[0;34m:\u001b[0m \u001b[0mcolors\u001b[0m\u001b[0;34m[\u001b[0m\u001b[0mx\u001b[0m\u001b[0;34m]\u001b[0m\u001b[0;34m)\u001b[0m\u001b[0;34m)\u001b[0m\u001b[0;34m\u001b[0m\u001b[0m\n\u001b[0m\u001b[1;32m      8\u001b[0m \u001b[0mplt\u001b[0m\u001b[0;34m.\u001b[0m\u001b[0mxlabel\u001b[0m\u001b[0;34m(\u001b[0m\u001b[0;34m'Low End of Price Range'\u001b[0m\u001b[0;34m,\u001b[0m \u001b[0mfontsize\u001b[0m\u001b[0;34m=\u001b[0m\u001b[0;36m20\u001b[0m\u001b[0;34m)\u001b[0m\u001b[0;34m\u001b[0m\u001b[0m\n\u001b[1;32m      9\u001b[0m \u001b[0mplt\u001b[0m\u001b[0;34m.\u001b[0m\u001b[0mylabel\u001b[0m\u001b[0;34m(\u001b[0m\u001b[0;34m'High End of Price Range'\u001b[0m\u001b[0;34m,\u001b[0m \u001b[0mfontsize\u001b[0m\u001b[0;34m=\u001b[0m\u001b[0;36m20\u001b[0m\u001b[0;34m)\u001b[0m\u001b[0;34m\u001b[0m\u001b[0m\n",
      "\u001b[0;32m/Users/sashakapralov/anaconda/envs/dsi/lib/python2.7/site-packages/pandas/core/frame.pyc\u001b[0m in \u001b[0;36m__getitem__\u001b[0;34m(self, key)\u001b[0m\n\u001b[1;32m   2057\u001b[0m             \u001b[0;32mreturn\u001b[0m \u001b[0mself\u001b[0m\u001b[0;34m.\u001b[0m\u001b[0m_getitem_multilevel\u001b[0m\u001b[0;34m(\u001b[0m\u001b[0mkey\u001b[0m\u001b[0;34m)\u001b[0m\u001b[0;34m\u001b[0m\u001b[0m\n\u001b[1;32m   2058\u001b[0m         \u001b[0;32melse\u001b[0m\u001b[0;34m:\u001b[0m\u001b[0;34m\u001b[0m\u001b[0m\n\u001b[0;32m-> 2059\u001b[0;31m             \u001b[0;32mreturn\u001b[0m \u001b[0mself\u001b[0m\u001b[0;34m.\u001b[0m\u001b[0m_getitem_column\u001b[0m\u001b[0;34m(\u001b[0m\u001b[0mkey\u001b[0m\u001b[0;34m)\u001b[0m\u001b[0;34m\u001b[0m\u001b[0m\n\u001b[0m\u001b[1;32m   2060\u001b[0m \u001b[0;34m\u001b[0m\u001b[0m\n\u001b[1;32m   2061\u001b[0m     \u001b[0;32mdef\u001b[0m \u001b[0m_getitem_column\u001b[0m\u001b[0;34m(\u001b[0m\u001b[0mself\u001b[0m\u001b[0;34m,\u001b[0m \u001b[0mkey\u001b[0m\u001b[0;34m)\u001b[0m\u001b[0;34m:\u001b[0m\u001b[0;34m\u001b[0m\u001b[0m\n",
      "\u001b[0;32m/Users/sashakapralov/anaconda/envs/dsi/lib/python2.7/site-packages/pandas/core/frame.pyc\u001b[0m in \u001b[0;36m_getitem_column\u001b[0;34m(self, key)\u001b[0m\n\u001b[1;32m   2064\u001b[0m         \u001b[0;31m# get column\u001b[0m\u001b[0;34m\u001b[0m\u001b[0;34m\u001b[0m\u001b[0m\n\u001b[1;32m   2065\u001b[0m         \u001b[0;32mif\u001b[0m \u001b[0mself\u001b[0m\u001b[0;34m.\u001b[0m\u001b[0mcolumns\u001b[0m\u001b[0;34m.\u001b[0m\u001b[0mis_unique\u001b[0m\u001b[0;34m:\u001b[0m\u001b[0;34m\u001b[0m\u001b[0m\n\u001b[0;32m-> 2066\u001b[0;31m             \u001b[0;32mreturn\u001b[0m \u001b[0mself\u001b[0m\u001b[0;34m.\u001b[0m\u001b[0m_get_item_cache\u001b[0m\u001b[0;34m(\u001b[0m\u001b[0mkey\u001b[0m\u001b[0;34m)\u001b[0m\u001b[0;34m\u001b[0m\u001b[0m\n\u001b[0m\u001b[1;32m   2067\u001b[0m \u001b[0;34m\u001b[0m\u001b[0m\n\u001b[1;32m   2068\u001b[0m         \u001b[0;31m# duplicate columns & possible reduce dimensionality\u001b[0m\u001b[0;34m\u001b[0m\u001b[0;34m\u001b[0m\u001b[0m\n",
      "\u001b[0;32m/Users/sashakapralov/anaconda/envs/dsi/lib/python2.7/site-packages/pandas/core/generic.pyc\u001b[0m in \u001b[0;36m_get_item_cache\u001b[0;34m(self, item)\u001b[0m\n\u001b[1;32m   1384\u001b[0m         \u001b[0mres\u001b[0m \u001b[0;34m=\u001b[0m \u001b[0mcache\u001b[0m\u001b[0;34m.\u001b[0m\u001b[0mget\u001b[0m\u001b[0;34m(\u001b[0m\u001b[0mitem\u001b[0m\u001b[0;34m)\u001b[0m\u001b[0;34m\u001b[0m\u001b[0m\n\u001b[1;32m   1385\u001b[0m         \u001b[0;32mif\u001b[0m \u001b[0mres\u001b[0m \u001b[0;32mis\u001b[0m \u001b[0mNone\u001b[0m\u001b[0;34m:\u001b[0m\u001b[0;34m\u001b[0m\u001b[0m\n\u001b[0;32m-> 1386\u001b[0;31m             \u001b[0mvalues\u001b[0m \u001b[0;34m=\u001b[0m \u001b[0mself\u001b[0m\u001b[0;34m.\u001b[0m\u001b[0m_data\u001b[0m\u001b[0;34m.\u001b[0m\u001b[0mget\u001b[0m\u001b[0;34m(\u001b[0m\u001b[0mitem\u001b[0m\u001b[0;34m)\u001b[0m\u001b[0;34m\u001b[0m\u001b[0m\n\u001b[0m\u001b[1;32m   1387\u001b[0m             \u001b[0mres\u001b[0m \u001b[0;34m=\u001b[0m \u001b[0mself\u001b[0m\u001b[0;34m.\u001b[0m\u001b[0m_box_item_values\u001b[0m\u001b[0;34m(\u001b[0m\u001b[0mitem\u001b[0m\u001b[0;34m,\u001b[0m \u001b[0mvalues\u001b[0m\u001b[0;34m)\u001b[0m\u001b[0;34m\u001b[0m\u001b[0m\n\u001b[1;32m   1388\u001b[0m             \u001b[0mcache\u001b[0m\u001b[0;34m[\u001b[0m\u001b[0mitem\u001b[0m\u001b[0;34m]\u001b[0m \u001b[0;34m=\u001b[0m \u001b[0mres\u001b[0m\u001b[0;34m\u001b[0m\u001b[0m\n",
      "\u001b[0;32m/Users/sashakapralov/anaconda/envs/dsi/lib/python2.7/site-packages/pandas/core/internals.pyc\u001b[0m in \u001b[0;36mget\u001b[0;34m(self, item, fastpath)\u001b[0m\n\u001b[1;32m   3541\u001b[0m \u001b[0;34m\u001b[0m\u001b[0m\n\u001b[1;32m   3542\u001b[0m             \u001b[0;32mif\u001b[0m \u001b[0;32mnot\u001b[0m \u001b[0misnull\u001b[0m\u001b[0;34m(\u001b[0m\u001b[0mitem\u001b[0m\u001b[0;34m)\u001b[0m\u001b[0;34m:\u001b[0m\u001b[0;34m\u001b[0m\u001b[0m\n\u001b[0;32m-> 3543\u001b[0;31m                 \u001b[0mloc\u001b[0m \u001b[0;34m=\u001b[0m \u001b[0mself\u001b[0m\u001b[0;34m.\u001b[0m\u001b[0mitems\u001b[0m\u001b[0;34m.\u001b[0m\u001b[0mget_loc\u001b[0m\u001b[0;34m(\u001b[0m\u001b[0mitem\u001b[0m\u001b[0;34m)\u001b[0m\u001b[0;34m\u001b[0m\u001b[0m\n\u001b[0m\u001b[1;32m   3544\u001b[0m             \u001b[0;32melse\u001b[0m\u001b[0;34m:\u001b[0m\u001b[0;34m\u001b[0m\u001b[0m\n\u001b[1;32m   3545\u001b[0m                 \u001b[0mindexer\u001b[0m \u001b[0;34m=\u001b[0m \u001b[0mnp\u001b[0m\u001b[0;34m.\u001b[0m\u001b[0marange\u001b[0m\u001b[0;34m(\u001b[0m\u001b[0mlen\u001b[0m\u001b[0;34m(\u001b[0m\u001b[0mself\u001b[0m\u001b[0;34m.\u001b[0m\u001b[0mitems\u001b[0m\u001b[0;34m)\u001b[0m\u001b[0;34m)\u001b[0m\u001b[0;34m[\u001b[0m\u001b[0misnull\u001b[0m\u001b[0;34m(\u001b[0m\u001b[0mself\u001b[0m\u001b[0;34m.\u001b[0m\u001b[0mitems\u001b[0m\u001b[0;34m)\u001b[0m\u001b[0;34m]\u001b[0m\u001b[0;34m\u001b[0m\u001b[0m\n",
      "\u001b[0;32m/Users/sashakapralov/anaconda/envs/dsi/lib/python2.7/site-packages/pandas/indexes/base.pyc\u001b[0m in \u001b[0;36mget_loc\u001b[0;34m(self, key, method, tolerance)\u001b[0m\n\u001b[1;32m   2134\u001b[0m                 \u001b[0;32mreturn\u001b[0m \u001b[0mself\u001b[0m\u001b[0;34m.\u001b[0m\u001b[0m_engine\u001b[0m\u001b[0;34m.\u001b[0m\u001b[0mget_loc\u001b[0m\u001b[0;34m(\u001b[0m\u001b[0mkey\u001b[0m\u001b[0;34m)\u001b[0m\u001b[0;34m\u001b[0m\u001b[0m\n\u001b[1;32m   2135\u001b[0m             \u001b[0;32mexcept\u001b[0m \u001b[0mKeyError\u001b[0m\u001b[0;34m:\u001b[0m\u001b[0;34m\u001b[0m\u001b[0m\n\u001b[0;32m-> 2136\u001b[0;31m                 \u001b[0;32mreturn\u001b[0m \u001b[0mself\u001b[0m\u001b[0;34m.\u001b[0m\u001b[0m_engine\u001b[0m\u001b[0;34m.\u001b[0m\u001b[0mget_loc\u001b[0m\u001b[0;34m(\u001b[0m\u001b[0mself\u001b[0m\u001b[0;34m.\u001b[0m\u001b[0m_maybe_cast_indexer\u001b[0m\u001b[0;34m(\u001b[0m\u001b[0mkey\u001b[0m\u001b[0;34m)\u001b[0m\u001b[0;34m)\u001b[0m\u001b[0;34m\u001b[0m\u001b[0m\n\u001b[0m\u001b[1;32m   2137\u001b[0m \u001b[0;34m\u001b[0m\u001b[0m\n\u001b[1;32m   2138\u001b[0m         \u001b[0mindexer\u001b[0m \u001b[0;34m=\u001b[0m \u001b[0mself\u001b[0m\u001b[0;34m.\u001b[0m\u001b[0mget_indexer\u001b[0m\u001b[0;34m(\u001b[0m\u001b[0;34m[\u001b[0m\u001b[0mkey\u001b[0m\u001b[0;34m]\u001b[0m\u001b[0;34m,\u001b[0m \u001b[0mmethod\u001b[0m\u001b[0;34m=\u001b[0m\u001b[0mmethod\u001b[0m\u001b[0;34m,\u001b[0m \u001b[0mtolerance\u001b[0m\u001b[0;34m=\u001b[0m\u001b[0mtolerance\u001b[0m\u001b[0;34m)\u001b[0m\u001b[0;34m\u001b[0m\u001b[0m\n",
      "\u001b[0;32mpandas/index.pyx\u001b[0m in \u001b[0;36mpandas.index.IndexEngine.get_loc (pandas/index.c:4433)\u001b[0;34m()\u001b[0m\n",
      "\u001b[0;32mpandas/index.pyx\u001b[0m in \u001b[0;36mpandas.index.IndexEngine.get_loc (pandas/index.c:4279)\u001b[0;34m()\u001b[0m\n",
      "\u001b[0;32mpandas/src/hashtable_class_helper.pxi\u001b[0m in \u001b[0;36mpandas.hashtable.PyObjectHashTable.get_item (pandas/hashtable.c:13742)\u001b[0;34m()\u001b[0m\n",
      "\u001b[0;32mpandas/src/hashtable_class_helper.pxi\u001b[0m in \u001b[0;36mpandas.hashtable.PyObjectHashTable.get_item (pandas/hashtable.c:13696)\u001b[0;34m()\u001b[0m\n",
      "\u001b[0;31mKeyError\u001b[0m: 'hclass_num'"
     ]
    },
    {
     "data": {
      "image/png": "[encoded data removed]",
      "text/plain": [
       "<matplotlib.figure.Figure at 0x116c89ed0>"
      ]
     },
     "metadata": {},
     "output_type": "display_data"
    }
   ],
   "source": [
    "colors = {1.0:'red', 1.5:'blue', 2.0:'green', 2.5:'black', 3.0:'orange', 3.5:'brown', 4.0:'yellow', 4.5:'sandybrown', 5.0:'c'}\n",
    "\n",
    "#ax.scatter(df['carat'], df['price'], c=df['color'].apply(lambda x: colors[x]))\n",
    "\n",
    "plt.figure(figsize=(14,8))\n",
    "plt.title('Room Prices - Low vs. High, by Hotel Class', fontsize=24)\n",
    "plt.scatter(df2.prange_low,df2.prange_high,c=df2['hclass_num'].apply(lambda x: colors[x]))\n",
    "plt.xlabel('Low End of Price Range', fontsize=20)\n",
    "plt.ylabel('High End of Price Range', fontsize=20)\n",
    "plt.ylim(-500,4000)\n",
    "plt.show()"
   ]
  },
  {
   "cell_type": "code",
   "execution_count": 142,
   "metadata": {
    "collapsed": false
   },
   "outputs": [
    {
     "data": {
      "text/plain": [
       "['hclass_num_1.0',\n",
       " 'hclass_num_1.5',\n",
       " 'hclass_num_2.0',\n",
       " 'hclass_num_2.5',\n",
       " 'hclass_num_3.0',\n",
       " 'hclass_num_3.5',\n",
       " 'hclass_num_4.0',\n",
       " 'hclass_num_4.5',\n",
       " 'hclass_num_5.0']"
      ]
     },
     "execution_count": 142,
     "metadata": {},
     "output_type": "execute_result"
    }
   ],
   "source": [
    "class_cols = [col for col in list(df2) if col.startswith('hclass_num_')]\n",
    "class_cols"
   ]
  },
  {
   "cell_type": "code",
   "execution_count": 91,
   "metadata": {
    "collapsed": false
   },
   "outputs": [
    {
     "data": {
      "text/plain": [
       "[u'zip_5_10001',\n",
       " u'zip_5_10002',\n",
       " u'zip_5_10003',\n",
       " u'zip_5_10004',\n",
       " u'zip_5_10005',\n",
       " u'zip_5_10006',\n",
       " u'zip_5_10007',\n",
       " u'zip_5_10010',\n",
       " u'zip_5_10011',\n",
       " u'zip_5_10012',\n",
       " u'zip_5_10013',\n",
       " u'zip_5_10014',\n",
       " u'zip_5_10016',\n",
       " u'zip_5_10017',\n",
       " u'zip_5_10018',\n",
       " u'zip_5_10019',\n",
       " u'zip_5_10021',\n",
       " u'zip_5_10022',\n",
       " u'zip_5_10023',\n",
       " u'zip_5_10024',\n",
       " u'zip_5_10025',\n",
       " u'zip_5_10027',\n",
       " u'zip_5_10028',\n",
       " u'zip_5_10032',\n",
       " u'zip_5_10033',\n",
       " u'zip_5_10036',\n",
       " u'zip_5_10038',\n",
       " u'zip_5_10065',\n",
       " u'zip_5_10078',\n",
       " u'zip_5_10128',\n",
       " u'zip_5_10282']"
      ]
     },
     "execution_count": 91,
     "metadata": {},
     "output_type": "execute_result"
    }
   ],
   "source": [
    "zip_cols = [col for col in list(df2) if col.startswith('zip_5')]\n",
    "zip_cols"
   ]
  },
  {
   "cell_type": "code",
   "execution_count": 93,
   "metadata": {
    "collapsed": false
   },
   "outputs": [
    {
     "data": {
      "text/plain": [
       "31"
      ]
     },
     "execution_count": 93,
     "metadata": {},
     "output_type": "execute_result"
    }
   ],
   "source": [
    "len(zip_cols)"
   ]
  },
  {
   "cell_type": "code",
   "execution_count": null,
   "metadata": {
    "collapsed": true
   },
   "outputs": [],
   "source": [
    "#Identify predictor columns (omitting rooms_num, prange_low, prange_how for now)\n",
    "# X_cols = ['n_reviews','rooms_num','excellent_pct','verygood_pct','average_pct','poor_pct','terrible_pct',\n",
    "#          'spring_pct','summer_pct','fall_pct','winter_pct',\n",
    "#          'travel_type_pct_unk','families_pct','couples_pct','solo_pct','business_pct','friends_pct',\n",
    "#          'amen_wifi','amen_room_service','amen_restaurant','amen_bar_lounge','amen_gym',\n",
    "#          'amen_spa','amen_breakfast','amen_pool','amen_internet','amen_parking'] + zip_cols + class_cols"
   ]
  },
  {
   "cell_type": "code",
   "execution_count": 94,
   "metadata": {
    "collapsed": true
   },
   "outputs": [],
   "source": [
    "#Identify predictor columns\n",
    "X_cols = ['rooms_num','prange_low','prange_high',\n",
    "         'amen_wifi','amen_room_service','amen_restaurant','amen_bar_lounge','amen_gym',\n",
    "         'amen_spa','amen_breakfast','amen_pool','amen_internet','amen_parking'] + zip_cols + class_cols"
   ]
  },
  {
   "cell_type": "code",
   "execution_count": 95,
   "metadata": {
    "collapsed": true
   },
   "outputs": [],
   "source": [
    "X = df2[X_cols]"
   ]
  },
  {
   "cell_type": "code",
   "execution_count": 96,
   "metadata": {
    "collapsed": false
   },
   "outputs": [
    {
     "data": {
      "text/plain": [
       "(446, 53)"
      ]
     },
     "execution_count": 96,
     "metadata": {},
     "output_type": "execute_result"
    }
   ],
   "source": [
    "X.shape"
   ]
  },
  {
   "cell_type": "code",
   "execution_count": 97,
   "metadata": {
    "collapsed": false
   },
   "outputs": [],
   "source": [
    "#Identify target column\n",
    "y = df2.top30"
   ]
  },
  {
   "cell_type": "code",
   "execution_count": 98,
   "metadata": {
    "collapsed": false
   },
   "outputs": [
    {
     "data": {
      "text/plain": [
       "(446,)"
      ]
     },
     "execution_count": 98,
     "metadata": {},
     "output_type": "execute_result"
    }
   ],
   "source": [
    "y.shape"
   ]
  },
  {
   "cell_type": "code",
   "execution_count": 99,
   "metadata": {
    "collapsed": false
   },
   "outputs": [
    {
     "data": {
      "text/plain": [
       "0    416\n",
       "1     30\n",
       "Name: top30, dtype: int64"
      ]
     },
     "execution_count": 99,
     "metadata": {},
     "output_type": "execute_result"
    }
   ],
   "source": [
    "y.value_counts()"
   ]
  },
  {
   "cell_type": "code",
   "execution_count": 145,
   "metadata": {
    "collapsed": false
   },
   "outputs": [
    {
     "data": {
      "text/plain": [
       "Index([        u'rooms_num',        u'prange_low',       u'prange_high',\n",
       "               u'amen_wifi', u'amen_room_service',   u'amen_restaurant',\n",
       "         u'amen_bar_lounge',          u'amen_gym',          u'amen_spa',\n",
       "          u'amen_breakfast',         u'amen_pool',     u'amen_internet',\n",
       "            u'amen_parking',       u'zip_5_10001',       u'zip_5_10002',\n",
       "             u'zip_5_10003',       u'zip_5_10004',       u'zip_5_10005',\n",
       "             u'zip_5_10006',       u'zip_5_10007',       u'zip_5_10010',\n",
       "             u'zip_5_10011',       u'zip_5_10012',       u'zip_5_10013',\n",
       "             u'zip_5_10014',       u'zip_5_10016',       u'zip_5_10017',\n",
       "             u'zip_5_10018',       u'zip_5_10019',       u'zip_5_10021',\n",
       "             u'zip_5_10022',       u'zip_5_10023',       u'zip_5_10024',\n",
       "             u'zip_5_10025',       u'zip_5_10027',       u'zip_5_10028',\n",
       "             u'zip_5_10032',       u'zip_5_10033',       u'zip_5_10036',\n",
       "             u'zip_5_10038',       u'zip_5_10065',       u'zip_5_10078',\n",
       "             u'zip_5_10128',       u'zip_5_10282',    u'hclass_num_1.0',\n",
       "          u'hclass_num_1.5',    u'hclass_num_2.0',    u'hclass_num_2.5',\n",
       "          u'hclass_num_3.0',    u'hclass_num_3.5',    u'hclass_num_4.0',\n",
       "          u'hclass_num_4.5',    u'hclass_num_5.0'],\n",
       "      dtype='object')"
      ]
     },
     "execution_count": 145,
     "metadata": {},
     "output_type": "execute_result"
    }
   ],
   "source": [
    "X.columns"
   ]
  },
  {
   "cell_type": "code",
   "execution_count": 146,
   "metadata": {
    "collapsed": false
   },
   "outputs": [
    {
     "data": {
      "text/plain": [
       "0    430\n",
       "1     16\n",
       "Name: hclass_num_2.0, dtype: int64"
      ]
     },
     "execution_count": 146,
     "metadata": {},
     "output_type": "execute_result"
    }
   ],
   "source": [
    "X['hclass_num_2.0'].value_counts()"
   ]
  },
  {
   "cell_type": "code",
   "execution_count": null,
   "metadata": {
    "collapsed": true
   },
   "outputs": [],
   "source": [
    "colors = {1.0:'red', 1.5:'blue', 2.0:'green', 2.5:'black', 3.0:'orange', 3.5:'brown', 4.0:'yellow', 4.5:'sandybrown', 5.0:'c'}\n",
    "\n",
    "#ax.scatter(df['carat'], df['price'], c=df['color'].apply(lambda x: colors[x]))\n",
    "\n",
    "plt.figure(figsize=(14,8))\n",
    "plt.title('Room Prices - Low vs. High, by Hotel Class', fontsize=24)\n",
    "plt.scatter(X.prange_low,X.prange_high,c=X['hclass_num'].apply(lambda x: colors[x]))\n",
    "plt.xlabel('Low End of Price Range', fontsize=20)\n",
    "plt.ylabel('High End of Price Range', fontsize=20)\n",
    "plt.ylim(-500,4000)\n",
    "plt.show()"
   ]
  },
  {
   "cell_type": "markdown",
   "metadata": {},
   "source": [
    "#### EDA / STATS "
   ]
  },
  {
   "cell_type": "code",
   "execution_count": 100,
   "metadata": {
    "collapsed": true
   },
   "outputs": [],
   "source": [
    "df_target = df2[['top30']]"
   ]
  },
  {
   "cell_type": "code",
   "execution_count": 101,
   "metadata": {
    "collapsed": false
   },
   "outputs": [
    {
     "data": {
      "text/plain": [
       "(446, 1)"
      ]
     },
     "execution_count": 101,
     "metadata": {},
     "output_type": "execute_result"
    }
   ],
   "source": [
    "df_target.shape"
   ]
  },
  {
   "cell_type": "code",
   "execution_count": 102,
   "metadata": {
    "collapsed": false
   },
   "outputs": [],
   "source": [
    "df_for_stats = pd.concat([X,df_target],axis=1)"
   ]
  },
  {
   "cell_type": "code",
   "execution_count": 103,
   "metadata": {
    "collapsed": false
   },
   "outputs": [
    {
     "data": {
      "text/plain": [
       "(446, 54)"
      ]
     },
     "execution_count": 103,
     "metadata": {},
     "output_type": "execute_result"
    }
   ],
   "source": [
    "df_for_stats.shape"
   ]
  },
  {
   "cell_type": "code",
   "execution_count": 104,
   "metadata": {
    "collapsed": false
   },
   "outputs": [],
   "source": [
    "pct_cols = [col for col in list(df2) if col.endswith('_pct')]"
   ]
  },
  {
   "cell_type": "code",
   "execution_count": 105,
   "metadata": {
    "collapsed": false
   },
   "outputs": [
    {
     "data": {
      "text/plain": [
       "['rating_pct',\n",
       " 'excellent_pct',\n",
       " 'verygood_pct',\n",
       " 'average_pct',\n",
       " 'poor_pct',\n",
       " 'terrible_pct',\n",
       " 'travel_pct',\n",
       " 'families_pct',\n",
       " 'couples_pct',\n",
       " 'solo_pct',\n",
       " 'business_pct',\n",
       " 'friends_pct',\n",
       " 'season_pct',\n",
       " 'spring_pct',\n",
       " 'summer_pct',\n",
       " 'fall_pct',\n",
       " 'winter_pct']"
      ]
     },
     "execution_count": 105,
     "metadata": {},
     "output_type": "execute_result"
    }
   ],
   "source": [
    "pct_cols"
   ]
  },
  {
   "cell_type": "code",
   "execution_count": 106,
   "metadata": {
    "collapsed": false
   },
   "outputs": [
    {
     "data": {
      "image/png": "[encoded data removed]",
      "text/plain": [
       "<matplotlib.figure.Figure at 0x116727350>"
      ]
     },
     "metadata": {},
     "output_type": "display_data"
    }
   ],
   "source": [
    "corrs = df2[pct_cols].corr()\n",
    "\n",
    "# Set the default matplotlib figure size:\n",
    "fig, ax = plt.subplots(figsize=(8,8))\n",
    "\n",
    "# Generate a mask for the upper triangle (taken from seaborn example gallery)\n",
    "mask = np.zeros_like(corrs, dtype=np.bool)\n",
    "mask[np.triu_indices_from(mask)] = True\n",
    "\n",
    "# Plot the heatmap with seaborn.\n",
    "# Assign the matplotlib axis the function returns. This will let us resize the labels.\n",
    "ax = sns.heatmap(corrs, mask=mask)\n",
    "\n",
    "# Resize the labels.\n",
    "ax.set_xticklabels(ax.xaxis.get_ticklabels(), fontsize=14, rotation=90)\n",
    "ax.set_yticklabels(ax.yaxis.get_ticklabels(), fontsize=14, rotation=0)\n",
    "\n",
    "# If you put plt.show() at the bottom, it prevents those useless printouts from matplotlib.\n",
    "plt.show()"
   ]
  },
  {
   "cell_type": "code",
   "execution_count": 107,
   "metadata": {
    "collapsed": true
   },
   "outputs": [],
   "source": [
    "df2.drop(['rating_pct','season_pct','travel_pct'],axis=1,inplace=True)"
   ]
  },
  {
   "cell_type": "code",
   "execution_count": 108,
   "metadata": {
    "collapsed": false
   },
   "outputs": [],
   "source": [
    "#sns.pairplot(data = df_for_stats, vars=pct_cols, hue=\"top30\");"
   ]
  },
  {
   "cell_type": "code",
   "execution_count": 109,
   "metadata": {
    "collapsed": true
   },
   "outputs": [],
   "source": [
    "df2.to_pickle('df_446.pickle')"
   ]
  },
  {
   "cell_type": "markdown",
   "metadata": {},
   "source": [
    "#### MODELING"
   ]
  },
  {
   "cell_type": "code",
   "execution_count": 110,
   "metadata": {
    "collapsed": true
   },
   "outputs": [],
   "source": [
    "#Identify columns that needs to be scaled\n",
    "X_cols_for_scaling = ['rooms_num','prange_low','prange_high']"
   ]
  },
  {
   "cell_type": "code",
   "execution_count": 111,
   "metadata": {
    "collapsed": true
   },
   "outputs": [],
   "source": [
    "X_for_scaling = df2[X_cols_for_scaling]"
   ]
  },
  {
   "cell_type": "code",
   "execution_count": 112,
   "metadata": {
    "collapsed": false
   },
   "outputs": [
    {
     "data": {
      "text/plain": [
       "(446, 3)"
      ]
     },
     "execution_count": 112,
     "metadata": {},
     "output_type": "execute_result"
    }
   ],
   "source": [
    "X_for_scaling.shape"
   ]
  },
  {
   "cell_type": "code",
   "execution_count": 114,
   "metadata": {
    "collapsed": false
   },
   "outputs": [],
   "source": [
    "mm = MinMaxScaler()\n",
    "Xn = mm.fit_transform(X_for_scaling)"
   ]
  },
  {
   "cell_type": "code",
   "execution_count": 147,
   "metadata": {
    "collapsed": false
   },
   "outputs": [],
   "source": [
    "# standardize X\n",
    "#ss = StandardScaler()\n",
    "#Xn = ss.fit_transform(X)"
   ]
  },
  {
   "cell_type": "code",
   "execution_count": 116,
   "metadata": {
    "collapsed": true
   },
   "outputs": [],
   "source": [
    "Xn_df = pd.DataFrame(Xn, columns=X_cols_for_scaling)"
   ]
  },
  {
   "cell_type": "code",
   "execution_count": 118,
   "metadata": {
    "collapsed": false
   },
   "outputs": [
    {
     "data": {
      "text/html": [
       "<div>\n",
       "<table border=\"1\" class=\"dataframe\">\n",
       "  <thead>\n",
       "    <tr style=\"text-align: right;\">\n",
       "      <th></th>\n",
       "      <th>rooms_num</th>\n",
       "      <th>prange_low</th>\n",
       "      <th>prange_high</th>\n",
       "    </tr>\n",
       "  </thead>\n",
       "  <tbody>\n",
       "    <tr>\n",
       "      <th>0</th>\n",
       "      <td>0.192012</td>\n",
       "      <td>0.395808</td>\n",
       "      <td>0.069255</td>\n",
       "    </tr>\n",
       "    <tr>\n",
       "      <th>1</th>\n",
       "      <td>0.088582</td>\n",
       "      <td>0.815043</td>\n",
       "      <td>1.000000</td>\n",
       "    </tr>\n",
       "    <tr>\n",
       "      <th>2</th>\n",
       "      <td>0.107527</td>\n",
       "      <td>0.508015</td>\n",
       "      <td>0.085633</td>\n",
       "    </tr>\n",
       "    <tr>\n",
       "      <th>3</th>\n",
       "      <td>0.075781</td>\n",
       "      <td>0.548705</td>\n",
       "      <td>0.092812</td>\n",
       "    </tr>\n",
       "    <tr>\n",
       "      <th>4</th>\n",
       "      <td>0.115207</td>\n",
       "      <td>0.868064</td>\n",
       "      <td>0.127490</td>\n",
       "    </tr>\n",
       "  </tbody>\n",
       "</table>\n",
       "</div>"
      ],
      "text/plain": [
       "   rooms_num  prange_low  prange_high\n",
       "0   0.192012    0.395808     0.069255\n",
       "1   0.088582    0.815043     1.000000\n",
       "2   0.107527    0.508015     0.085633\n",
       "3   0.075781    0.548705     0.092812\n",
       "4   0.115207    0.868064     0.127490"
      ]
     },
     "execution_count": 118,
     "metadata": {},
     "output_type": "execute_result"
    }
   ],
   "source": [
    "Xn_df.head()"
   ]
  },
  {
   "cell_type": "code",
   "execution_count": 119,
   "metadata": {
    "collapsed": true
   },
   "outputs": [],
   "source": [
    "#Identify remaining predictor columns (all binary)\n",
    "X_cols_remaining = ['amen_wifi','amen_room_service','amen_restaurant','amen_bar_lounge','amen_gym',\n",
    "         'amen_spa','amen_breakfast','amen_pool','amen_internet','amen_parking'] + zip_cols + class_cols"
   ]
  },
  {
   "cell_type": "code",
   "execution_count": 120,
   "metadata": {
    "collapsed": true
   },
   "outputs": [],
   "source": [
    "X_remaining = df2[X_cols_remaining]"
   ]
  },
  {
   "cell_type": "code",
   "execution_count": 121,
   "metadata": {
    "collapsed": false
   },
   "outputs": [
    {
     "data": {
      "text/plain": [
       "(446, 50)"
      ]
     },
     "execution_count": 121,
     "metadata": {},
     "output_type": "execute_result"
    }
   ],
   "source": [
    "X_remaining.shape"
   ]
  },
  {
   "cell_type": "code",
   "execution_count": 122,
   "metadata": {
    "collapsed": true
   },
   "outputs": [],
   "source": [
    "Xn_df = pd.concat([Xn_df,X_remaining],axis=1)"
   ]
  },
  {
   "cell_type": "code",
   "execution_count": 123,
   "metadata": {
    "collapsed": false
   },
   "outputs": [
    {
     "data": {
      "text/plain": [
       "(446, 53)"
      ]
     },
     "execution_count": 123,
     "metadata": {},
     "output_type": "execute_result"
    }
   ],
   "source": [
    "Xn_df.shape"
   ]
  },
  {
   "cell_type": "code",
   "execution_count": 124,
   "metadata": {
    "collapsed": false
   },
   "outputs": [],
   "source": [
    "X_train, X_test, Y_train, Y_test =  train_test_split(Xn_df, y, test_size = 0.5, random_state=1234)"
   ]
  },
  {
   "cell_type": "code",
   "execution_count": 125,
   "metadata": {
    "collapsed": false
   },
   "outputs": [
    {
     "name": "stdout",
     "output_type": "stream",
     "text": [
      "<class 'pandas.core.frame.DataFrame'>\n"
     ]
    }
   ],
   "source": [
    "print type(X_train)"
   ]
  },
  {
   "cell_type": "code",
   "execution_count": 126,
   "metadata": {
    "collapsed": false
   },
   "outputs": [
    {
     "data": {
      "text/html": [
       "<div>\n",
       "<table border=\"1\" class=\"dataframe\">\n",
       "  <thead>\n",
       "    <tr style=\"text-align: right;\">\n",
       "      <th></th>\n",
       "      <th>rooms_num</th>\n",
       "      <th>prange_low</th>\n",
       "      <th>prange_high</th>\n",
       "      <th>amen_wifi</th>\n",
       "      <th>amen_room_service</th>\n",
       "      <th>amen_restaurant</th>\n",
       "      <th>amen_bar_lounge</th>\n",
       "      <th>amen_gym</th>\n",
       "      <th>amen_spa</th>\n",
       "      <th>amen_breakfast</th>\n",
       "      <th>...</th>\n",
       "      <th>zip_5_10282</th>\n",
       "      <th>hclass_num_1.0</th>\n",
       "      <th>hclass_num_1.5</th>\n",
       "      <th>hclass_num_2.0</th>\n",
       "      <th>hclass_num_2.5</th>\n",
       "      <th>hclass_num_3.0</th>\n",
       "      <th>hclass_num_3.5</th>\n",
       "      <th>hclass_num_4.0</th>\n",
       "      <th>hclass_num_4.5</th>\n",
       "      <th>hclass_num_5.0</th>\n",
       "    </tr>\n",
       "  </thead>\n",
       "  <tbody>\n",
       "    <tr>\n",
       "      <th>369</th>\n",
       "      <td>0.126984</td>\n",
       "      <td>0.152898</td>\n",
       "      <td>0.027196</td>\n",
       "      <td>1.0</td>\n",
       "      <td>1.0</td>\n",
       "      <td>1.0</td>\n",
       "      <td>1.0</td>\n",
       "      <td>1.0</td>\n",
       "      <td>0.0</td>\n",
       "      <td>0.0</td>\n",
       "      <td>...</td>\n",
       "      <td>0</td>\n",
       "      <td>0</td>\n",
       "      <td>0</td>\n",
       "      <td>0</td>\n",
       "      <td>0</td>\n",
       "      <td>0</td>\n",
       "      <td>0</td>\n",
       "      <td>1</td>\n",
       "      <td>0</td>\n",
       "      <td>0</td>\n",
       "    </tr>\n",
       "    <tr>\n",
       "      <th>29</th>\n",
       "      <td>0.270865</td>\n",
       "      <td>0.230580</td>\n",
       "      <td>0.036902</td>\n",
       "      <td>1.0</td>\n",
       "      <td>1.0</td>\n",
       "      <td>1.0</td>\n",
       "      <td>1.0</td>\n",
       "      <td>1.0</td>\n",
       "      <td>0.0</td>\n",
       "      <td>0.0</td>\n",
       "      <td>...</td>\n",
       "      <td>0</td>\n",
       "      <td>0</td>\n",
       "      <td>0</td>\n",
       "      <td>0</td>\n",
       "      <td>0</td>\n",
       "      <td>0</td>\n",
       "      <td>1</td>\n",
       "      <td>0</td>\n",
       "      <td>0</td>\n",
       "      <td>0</td>\n",
       "    </tr>\n",
       "    <tr>\n",
       "      <th>169</th>\n",
       "      <td>0.118792</td>\n",
       "      <td>0.171393</td>\n",
       "      <td>0.032858</td>\n",
       "      <td>1.0</td>\n",
       "      <td>1.0</td>\n",
       "      <td>1.0</td>\n",
       "      <td>1.0</td>\n",
       "      <td>1.0</td>\n",
       "      <td>0.0</td>\n",
       "      <td>0.0</td>\n",
       "      <td>...</td>\n",
       "      <td>0</td>\n",
       "      <td>0</td>\n",
       "      <td>0</td>\n",
       "      <td>0</td>\n",
       "      <td>0</td>\n",
       "      <td>0</td>\n",
       "      <td>0</td>\n",
       "      <td>1</td>\n",
       "      <td>0</td>\n",
       "      <td>0</td>\n",
       "    </tr>\n",
       "    <tr>\n",
       "      <th>131</th>\n",
       "      <td>0.023554</td>\n",
       "      <td>0.166461</td>\n",
       "      <td>0.027904</td>\n",
       "      <td>1.0</td>\n",
       "      <td>0.0</td>\n",
       "      <td>0.0</td>\n",
       "      <td>0.0</td>\n",
       "      <td>0.0</td>\n",
       "      <td>0.0</td>\n",
       "      <td>1.0</td>\n",
       "      <td>...</td>\n",
       "      <td>0</td>\n",
       "      <td>0</td>\n",
       "      <td>0</td>\n",
       "      <td>0</td>\n",
       "      <td>0</td>\n",
       "      <td>0</td>\n",
       "      <td>1</td>\n",
       "      <td>0</td>\n",
       "      <td>0</td>\n",
       "      <td>0</td>\n",
       "    </tr>\n",
       "    <tr>\n",
       "      <th>391</th>\n",
       "      <td>0.082949</td>\n",
       "      <td>0.401973</td>\n",
       "      <td>0.057527</td>\n",
       "      <td>1.0</td>\n",
       "      <td>0.0</td>\n",
       "      <td>0.0</td>\n",
       "      <td>0.0</td>\n",
       "      <td>1.0</td>\n",
       "      <td>0.0</td>\n",
       "      <td>0.0</td>\n",
       "      <td>...</td>\n",
       "      <td>0</td>\n",
       "      <td>0</td>\n",
       "      <td>0</td>\n",
       "      <td>0</td>\n",
       "      <td>0</td>\n",
       "      <td>0</td>\n",
       "      <td>0</td>\n",
       "      <td>1</td>\n",
       "      <td>0</td>\n",
       "      <td>0</td>\n",
       "    </tr>\n",
       "  </tbody>\n",
       "</table>\n",
       "<p>5 rows × 53 columns</p>\n",
       "</div>"
      ],
      "text/plain": [
       "     rooms_num  prange_low  prange_high  amen_wifi  amen_room_service  \\\n",
       "369   0.126984    0.152898     0.027196        1.0                1.0   \n",
       "29    0.270865    0.230580     0.036902        1.0                1.0   \n",
       "169   0.118792    0.171393     0.032858        1.0                1.0   \n",
       "131   0.023554    0.166461     0.027904        1.0                0.0   \n",
       "391   0.082949    0.401973     0.057527        1.0                0.0   \n",
       "\n",
       "     amen_restaurant  amen_bar_lounge  amen_gym  amen_spa  amen_breakfast  \\\n",
       "369              1.0              1.0       1.0       0.0             0.0   \n",
       "29               1.0              1.0       1.0       0.0             0.0   \n",
       "169              1.0              1.0       1.0       0.0             0.0   \n",
       "131              0.0              0.0       0.0       0.0             1.0   \n",
       "391              0.0              0.0       1.0       0.0             0.0   \n",
       "\n",
       "          ...        zip_5_10282  hclass_num_1.0  hclass_num_1.5  \\\n",
       "369       ...                  0               0               0   \n",
       "29        ...                  0               0               0   \n",
       "169       ...                  0               0               0   \n",
       "131       ...                  0               0               0   \n",
       "391       ...                  0               0               0   \n",
       "\n",
       "     hclass_num_2.0  hclass_num_2.5  hclass_num_3.0  hclass_num_3.5  \\\n",
       "369               0               0               0               0   \n",
       "29                0               0               0               1   \n",
       "169               0               0               0               0   \n",
       "131               0               0               0               1   \n",
       "391               0               0               0               0   \n",
       "\n",
       "     hclass_num_4.0  hclass_num_4.5  hclass_num_5.0  \n",
       "369               1               0               0  \n",
       "29                0               0               0  \n",
       "169               1               0               0  \n",
       "131               0               0               0  \n",
       "391               1               0               0  \n",
       "\n",
       "[5 rows x 53 columns]"
      ]
     },
     "execution_count": 126,
     "metadata": {},
     "output_type": "execute_result"
    }
   ],
   "source": [
    "X_test.head()"
   ]
  },
  {
   "cell_type": "markdown",
   "metadata": {},
   "source": [
    "#### LOGISTIC REGRESSION"
   ]
  },
  {
   "cell_type": "code",
   "execution_count": 127,
   "metadata": {
    "collapsed": false
   },
   "outputs": [
    {
     "data": {
      "text/plain": [
       "LogisticRegression(C=1.0, class_weight=None, dual=False, fit_intercept=True,\n",
       "          intercept_scaling=1, max_iter=100, multi_class='ovr', n_jobs=1,\n",
       "          penalty='l2', random_state=None, solver='liblinear', tol=0.0001,\n",
       "          verbose=0, warm_start=False)"
      ]
     },
     "execution_count": 127,
     "metadata": {},
     "output_type": "execute_result"
    }
   ],
   "source": [
    "logreg = LogisticRegression()\n",
    "logreg.fit(X_train, Y_train)"
   ]
  },
  {
   "cell_type": "code",
   "execution_count": 128,
   "metadata": {
    "collapsed": false
   },
   "outputs": [
    {
     "name": "stdout",
     "output_type": "stream",
     "text": [
      "Training set accuracy:  0.955156950673\n"
     ]
    }
   ],
   "source": [
    "#compute accuracy on training data\n",
    "#provides percentage of training data points that were classified correctly\n",
    "print \"Training set accuracy: \", logreg.score(X_train, Y_train)"
   ]
  },
  {
   "cell_type": "code",
   "execution_count": 129,
   "metadata": {
    "collapsed": false
   },
   "outputs": [
    {
     "name": "stdout",
     "output_type": "stream",
     "text": [
      "Baseline:  0.941704035874\n"
     ]
    }
   ],
   "source": [
    "#provides percentage of training data points that are actuallly in the predicted class\n",
    "print \"Baseline: \", 1. - Y_train.mean()"
   ]
  },
  {
   "cell_type": "code",
   "execution_count": 130,
   "metadata": {
    "collapsed": false
   },
   "outputs": [
    {
     "name": "stdout",
     "output_type": "stream",
     "text": [
      "Test set accuracy:  0.923766816143\n"
     ]
    }
   ],
   "source": [
    "#compute accuracy on test data\n",
    "print \"Test set accuracy: \", logreg.score(X_test, Y_test)"
   ]
  },
  {
   "cell_type": "code",
   "execution_count": 131,
   "metadata": {
    "collapsed": true
   },
   "outputs": [],
   "source": [
    "#output confusion matrix on test data\n",
    "Y_pred = logreg.predict(X_test)"
   ]
  },
  {
   "cell_type": "code",
   "execution_count": 132,
   "metadata": {
    "collapsed": false
   },
   "outputs": [
    {
     "data": {
      "text/plain": [
       "array([[206,   0],\n",
       "       [ 17,   0]])"
      ]
     },
     "execution_count": 132,
     "metadata": {},
     "output_type": "execute_result"
    }
   ],
   "source": [
    "#test data confusion matrix\n",
    "confusion_matrix(Y_test, Y_pred)"
   ]
  },
  {
   "cell_type": "code",
   "execution_count": 133,
   "metadata": {
    "collapsed": true
   },
   "outputs": [],
   "source": [
    "#output confusion matrix on train data\n",
    "Y_pred_train = logreg.predict(X_train)"
   ]
  },
  {
   "cell_type": "code",
   "execution_count": 134,
   "metadata": {
    "collapsed": false
   },
   "outputs": [
    {
     "data": {
      "text/plain": [
       "array([[210,   0],\n",
       "       [ 10,   3]])"
      ]
     },
     "execution_count": 134,
     "metadata": {},
     "output_type": "execute_result"
    }
   ],
   "source": [
    "confusion_matrix(Y_train, Y_pred_train)"
   ]
  },
  {
   "cell_type": "code",
   "execution_count": 135,
   "metadata": {
    "collapsed": true
   },
   "outputs": [],
   "source": [
    "accuracy = cross_val_score(logreg, X_train, Y_train, cv=5, n_jobs=1)"
   ]
  },
  {
   "cell_type": "code",
   "execution_count": 136,
   "metadata": {
    "collapsed": false
   },
   "outputs": [
    {
     "name": "stdout",
     "output_type": "stream",
     "text": [
      "[ 0.93333333  0.93333333  0.93333333  0.95454545  0.95454545]\n",
      "0.941818181818\n"
     ]
    }
   ],
   "source": [
    "print accuracy\n",
    "print np.mean(accuracy)"
   ]
  },
  {
   "cell_type": "code",
   "execution_count": 137,
   "metadata": {
    "collapsed": false
   },
   "outputs": [
    {
     "name": "stdout",
     "output_type": "stream",
     "text": [
      "Fitting 5 folds for each of 1000 candidates, totalling 5000 fits\n"
     ]
    },
    {
     "name": "stderr",
     "output_type": "stream",
     "text": [
      "[Parallel(n_jobs=1)]: Done 5000 out of 5000 | elapsed:   53.3s finished\n"
     ]
    },
    {
     "data": {
      "text/plain": [
       "GridSearchCV(cv=5, error_score='raise',\n",
       "       estimator=LogisticRegression(C=1.0, class_weight=None, dual=False, fit_intercept=True,\n",
       "          intercept_scaling=1, max_iter=100, multi_class='ovr', n_jobs=1,\n",
       "          penalty='l2', random_state=None, solver='liblinear', tol=0.0001,\n",
       "          verbose=0, warm_start=False),\n",
       "       fit_params={}, iid=True, n_jobs=1,\n",
       "       param_grid={'penalty': ['l1', 'l2'], 'C': array([  1.00000e-04,   2.00411e+00, ...,   9.97996e+02,   1.00000e+03]), 'solver': ['liblinear']},\n",
       "       pre_dispatch='2*n_jobs', refit=True, return_train_score=True,\n",
       "       scoring=None, verbose=1)"
      ]
     },
     "execution_count": 137,
     "metadata": {},
     "output_type": "execute_result"
    }
   ],
   "source": [
    "#Logistic Regression with Grid Search\n",
    "lr_params = {\n",
    "    'solver':['liblinear'],\n",
    "    #'C':np.logspace(-4, -1, 150),\n",
    "    'C':np.linspace(0.0001, 1000, 500),\n",
    "    'penalty':['l1','l2']\n",
    "}\n",
    "\n",
    "lr_gs = GridSearchCV(LogisticRegression(), lr_params, cv=5, verbose=1)\n",
    "lr_gs.fit(X_train, Y_train)"
   ]
  },
  {
   "cell_type": "code",
   "execution_count": 138,
   "metadata": {
    "collapsed": false
   },
   "outputs": [
    {
     "data": {
      "text/plain": [
       "{'C': 18.036170340681362, 'penalty': 'l1', 'solver': 'liblinear'}"
      ]
     },
     "execution_count": 138,
     "metadata": {},
     "output_type": "execute_result"
    }
   ],
   "source": [
    "# best parameters\n",
    "lr_gs.best_params_"
   ]
  },
  {
   "cell_type": "code",
   "execution_count": 139,
   "metadata": {
    "collapsed": false
   },
   "outputs": [
    {
     "name": "stdout",
     "output_type": "stream",
     "text": [
      "0.968609865471\n",
      "0.941704035874\n"
     ]
    }
   ],
   "source": [
    "# best score in gridsearch as well as baseline score:\n",
    "print lr_gs.best_score_\n",
    "print 1. - np.mean(Y_train)"
   ]
  },
  {
   "cell_type": "code",
   "execution_count": 166,
   "metadata": {
    "collapsed": false
   },
   "outputs": [
    {
     "name": "stdout",
     "output_type": "stream",
     "text": [
      "Test set accuracy:  0.90134529148\n"
     ]
    }
   ],
   "source": [
    "#test data accuracy score\n",
    "print \"Test set accuracy: \", lr_gs.score(X_test, Y_test)"
   ]
  },
  {
   "cell_type": "code",
   "execution_count": 167,
   "metadata": {
    "collapsed": false
   },
   "outputs": [],
   "source": [
    "lr_predictions = lr_gs.predict(X_test)"
   ]
  },
  {
   "cell_type": "code",
   "execution_count": 168,
   "metadata": {
    "collapsed": false
   },
   "outputs": [
    {
     "data": {
      "text/plain": [
       "array([[201,   5],\n",
       "       [ 17,   0]])"
      ]
     },
     "execution_count": 168,
     "metadata": {},
     "output_type": "execute_result"
    }
   ],
   "source": [
    "#test data confusion matrix\n",
    "confusion_matrix(Y_test, lr_predictions)"
   ]
  },
  {
   "cell_type": "code",
   "execution_count": 169,
   "metadata": {
    "collapsed": false
   },
   "outputs": [
    {
     "name": "stdout",
     "output_type": "stream",
     "text": [
      "                 predicted_in_top  predicted_in_bottom\n",
      "in_top_group                    0                   17\n",
      "in_bottom_group                 5                  201\n"
     ]
    }
   ],
   "source": [
    "conmat = np.array(confusion_matrix(Y_test, lr_predictions, labels=[1,0]))\n",
    "confusion = pd.DataFrame(conmat, index=['in_top_group', 'in_bottom_group'],\n",
    "                            columns=['predicted_in_top','predicted_in_bottom'])\n",
    "print(confusion)"
   ]
  },
  {
   "cell_type": "code",
   "execution_count": 224,
   "metadata": {
    "collapsed": true
   },
   "outputs": [],
   "source": [
    "lr_preds_series = pd.Series(data=lr_predictions).rename(\"Pred_Val\")"
   ]
  },
  {
   "cell_type": "code",
   "execution_count": 229,
   "metadata": {
    "collapsed": false
   },
   "outputs": [],
   "source": [
    "Y_test_w_preds = pd.concat([Y_test.reset_index(),lr_preds_series],axis=1).set_index('index')"
   ]
  },
  {
   "cell_type": "code",
   "execution_count": 230,
   "metadata": {
    "collapsed": false
   },
   "outputs": [
    {
     "data": {
      "text/html": [
       "<div>\n",
       "<table border=\"1\" class=\"dataframe\">\n",
       "  <thead>\n",
       "    <tr style=\"text-align: right;\">\n",
       "      <th></th>\n",
       "      <th>top30</th>\n",
       "      <th>Pred_Val</th>\n",
       "    </tr>\n",
       "    <tr>\n",
       "      <th>index</th>\n",
       "      <th></th>\n",
       "      <th></th>\n",
       "    </tr>\n",
       "  </thead>\n",
       "  <tbody>\n",
       "    <tr>\n",
       "      <th>369</th>\n",
       "      <td>0</td>\n",
       "      <td>0</td>\n",
       "    </tr>\n",
       "    <tr>\n",
       "      <th>29</th>\n",
       "      <td>0</td>\n",
       "      <td>0</td>\n",
       "    </tr>\n",
       "    <tr>\n",
       "      <th>169</th>\n",
       "      <td>0</td>\n",
       "      <td>0</td>\n",
       "    </tr>\n",
       "    <tr>\n",
       "      <th>131</th>\n",
       "      <td>0</td>\n",
       "      <td>0</td>\n",
       "    </tr>\n",
       "    <tr>\n",
       "      <th>391</th>\n",
       "      <td>0</td>\n",
       "      <td>0</td>\n",
       "    </tr>\n",
       "  </tbody>\n",
       "</table>\n",
       "</div>"
      ],
      "text/plain": [
       "       top30  Pred_Val\n",
       "index                 \n",
       "369        0         0\n",
       "29         0         0\n",
       "169        0         0\n",
       "131        0         0\n",
       "391        0         0"
      ]
     },
     "execution_count": 230,
     "metadata": {},
     "output_type": "execute_result"
    }
   ],
   "source": [
    "Y_test_w_preds.head()"
   ]
  },
  {
   "cell_type": "code",
   "execution_count": 231,
   "metadata": {
    "collapsed": false
   },
   "outputs": [
    {
     "data": {
      "text/html": [
       "<div>\n",
       "<table border=\"1\" class=\"dataframe\">\n",
       "  <thead>\n",
       "    <tr style=\"text-align: right;\">\n",
       "      <th>Pred_Val</th>\n",
       "      <th>0</th>\n",
       "      <th>1</th>\n",
       "    </tr>\n",
       "    <tr>\n",
       "      <th>top30</th>\n",
       "      <th></th>\n",
       "      <th></th>\n",
       "    </tr>\n",
       "  </thead>\n",
       "  <tbody>\n",
       "    <tr>\n",
       "      <th>0</th>\n",
       "      <td>201</td>\n",
       "      <td>5</td>\n",
       "    </tr>\n",
       "    <tr>\n",
       "      <th>1</th>\n",
       "      <td>17</td>\n",
       "      <td>0</td>\n",
       "    </tr>\n",
       "  </tbody>\n",
       "</table>\n",
       "</div>"
      ],
      "text/plain": [
       "Pred_Val    0  1\n",
       "top30           \n",
       "0         201  5\n",
       "1          17  0"
      ]
     },
     "execution_count": 231,
     "metadata": {},
     "output_type": "execute_result"
    }
   ],
   "source": [
    "pd.crosstab(Y_test_w_preds.top30, Y_test_w_preds.Pred_Val)"
   ]
  },
  {
   "cell_type": "code",
   "execution_count": 239,
   "metadata": {
    "collapsed": true
   },
   "outputs": [],
   "source": [
    "lr_fns = Y_test_w_preds.merge(df2.drop('top30',axis=1),how='inner',left_index=True,right_index=True)"
   ]
  },
  {
   "cell_type": "code",
   "execution_count": 240,
   "metadata": {
    "collapsed": false
   },
   "outputs": [
    {
     "data": {
      "text/plain": [
       "(223, 98)"
      ]
     },
     "execution_count": 240,
     "metadata": {},
     "output_type": "execute_result"
    }
   ],
   "source": [
    "lr_fns.shape"
   ]
  },
  {
   "cell_type": "code",
   "execution_count": 245,
   "metadata": {
    "collapsed": false
   },
   "outputs": [
    {
     "data": {
      "text/html": [
       "<div>\n",
       "<table border=\"1\" class=\"dataframe\">\n",
       "  <thead>\n",
       "    <tr style=\"text-align: right;\">\n",
       "      <th></th>\n",
       "      <th>top30</th>\n",
       "      <th>Pred_Val</th>\n",
       "      <th>name</th>\n",
       "      <th>st_addr</th>\n",
       "      <th>city</th>\n",
       "      <th>state</th>\n",
       "      <th>zip_cd</th>\n",
       "      <th>excellent_ct</th>\n",
       "      <th>verygood_ct</th>\n",
       "      <th>average_ct</th>\n",
       "      <th>...</th>\n",
       "      <th>zip_5_10027</th>\n",
       "      <th>zip_5_10028</th>\n",
       "      <th>zip_5_10032</th>\n",
       "      <th>zip_5_10033</th>\n",
       "      <th>zip_5_10036</th>\n",
       "      <th>zip_5_10038</th>\n",
       "      <th>zip_5_10065</th>\n",
       "      <th>zip_5_10078</th>\n",
       "      <th>zip_5_10128</th>\n",
       "      <th>zip_5_10282</th>\n",
       "    </tr>\n",
       "  </thead>\n",
       "  <tbody>\n",
       "    <tr>\n",
       "      <th>0</th>\n",
       "      <td>1</td>\n",
       "      <td>0</td>\n",
       "      <td>Loews Regency New York Hotel</td>\n",
       "      <td>540 Park Avenue</td>\n",
       "      <td>New York City</td>\n",
       "      <td>NY</td>\n",
       "      <td>10065-7366</td>\n",
       "      <td>952.0</td>\n",
       "      <td>162.0</td>\n",
       "      <td>62.0</td>\n",
       "      <td>...</td>\n",
       "      <td>0</td>\n",
       "      <td>0</td>\n",
       "      <td>0</td>\n",
       "      <td>0</td>\n",
       "      <td>0</td>\n",
       "      <td>0</td>\n",
       "      <td>1</td>\n",
       "      <td>0</td>\n",
       "      <td>0</td>\n",
       "      <td>0</td>\n",
       "    </tr>\n",
       "    <tr>\n",
       "      <th>7</th>\n",
       "      <td>1</td>\n",
       "      <td>0</td>\n",
       "      <td>Conrad New York</td>\n",
       "      <td>102 North End Avenue</td>\n",
       "      <td>New York City</td>\n",
       "      <td>NY</td>\n",
       "      <td>10282-1238</td>\n",
       "      <td>1943.0</td>\n",
       "      <td>605.0</td>\n",
       "      <td>141.0</td>\n",
       "      <td>...</td>\n",
       "      <td>0</td>\n",
       "      <td>0</td>\n",
       "      <td>0</td>\n",
       "      <td>0</td>\n",
       "      <td>0</td>\n",
       "      <td>0</td>\n",
       "      <td>0</td>\n",
       "      <td>0</td>\n",
       "      <td>0</td>\n",
       "      <td>1</td>\n",
       "    </tr>\n",
       "    <tr>\n",
       "      <th>9</th>\n",
       "      <td>1</td>\n",
       "      <td>0</td>\n",
       "      <td>citizenM New York Times Square</td>\n",
       "      <td>218 West 50th Street</td>\n",
       "      <td>New York City</td>\n",
       "      <td>NY</td>\n",
       "      <td>10019-6702</td>\n",
       "      <td>1338.0</td>\n",
       "      <td>364.0</td>\n",
       "      <td>64.0</td>\n",
       "      <td>...</td>\n",
       "      <td>0</td>\n",
       "      <td>0</td>\n",
       "      <td>0</td>\n",
       "      <td>0</td>\n",
       "      <td>0</td>\n",
       "      <td>0</td>\n",
       "      <td>0</td>\n",
       "      <td>0</td>\n",
       "      <td>0</td>\n",
       "      <td>0</td>\n",
       "    </tr>\n",
       "    <tr>\n",
       "      <th>413</th>\n",
       "      <td>1</td>\n",
       "      <td>0</td>\n",
       "      <td>The Roxy Hotel Tribeca</td>\n",
       "      <td>2 Avenue of the Americas</td>\n",
       "      <td>New York City</td>\n",
       "      <td>NY</td>\n",
       "      <td>10013-2401</td>\n",
       "      <td>261.0</td>\n",
       "      <td>58.0</td>\n",
       "      <td>11.0</td>\n",
       "      <td>...</td>\n",
       "      <td>0</td>\n",
       "      <td>0</td>\n",
       "      <td>0</td>\n",
       "      <td>0</td>\n",
       "      <td>0</td>\n",
       "      <td>0</td>\n",
       "      <td>0</td>\n",
       "      <td>0</td>\n",
       "      <td>0</td>\n",
       "      <td>0</td>\n",
       "    </tr>\n",
       "    <tr>\n",
       "      <th>425</th>\n",
       "      <td>1</td>\n",
       "      <td>0</td>\n",
       "      <td>NobleDEN Hotel</td>\n",
       "      <td>196 Grand Street</td>\n",
       "      <td>New York City</td>\n",
       "      <td>NY</td>\n",
       "      <td>10013-3712</td>\n",
       "      <td>316.0</td>\n",
       "      <td>85.0</td>\n",
       "      <td>11.0</td>\n",
       "      <td>...</td>\n",
       "      <td>0</td>\n",
       "      <td>0</td>\n",
       "      <td>0</td>\n",
       "      <td>0</td>\n",
       "      <td>0</td>\n",
       "      <td>0</td>\n",
       "      <td>0</td>\n",
       "      <td>0</td>\n",
       "      <td>0</td>\n",
       "      <td>0</td>\n",
       "    </tr>\n",
       "    <tr>\n",
       "      <th>426</th>\n",
       "      <td>1</td>\n",
       "      <td>0</td>\n",
       "      <td>Park Hyatt New York</td>\n",
       "      <td>153 West 57th Street</td>\n",
       "      <td>New York City</td>\n",
       "      <td>NY</td>\n",
       "      <td>10019-2214</td>\n",
       "      <td>889.0</td>\n",
       "      <td>115.0</td>\n",
       "      <td>40.0</td>\n",
       "      <td>...</td>\n",
       "      <td>0</td>\n",
       "      <td>0</td>\n",
       "      <td>0</td>\n",
       "      <td>0</td>\n",
       "      <td>0</td>\n",
       "      <td>0</td>\n",
       "      <td>0</td>\n",
       "      <td>0</td>\n",
       "      <td>0</td>\n",
       "      <td>0</td>\n",
       "    </tr>\n",
       "    <tr>\n",
       "      <th>427</th>\n",
       "      <td>1</td>\n",
       "      <td>0</td>\n",
       "      <td>Archer Hotel New York</td>\n",
       "      <td>45 West 38th Street</td>\n",
       "      <td>New York City</td>\n",
       "      <td>NY</td>\n",
       "      <td>10018-5501</td>\n",
       "      <td>1805.0</td>\n",
       "      <td>431.0</td>\n",
       "      <td>86.0</td>\n",
       "      <td>...</td>\n",
       "      <td>0</td>\n",
       "      <td>0</td>\n",
       "      <td>0</td>\n",
       "      <td>0</td>\n",
       "      <td>0</td>\n",
       "      <td>0</td>\n",
       "      <td>0</td>\n",
       "      <td>0</td>\n",
       "      <td>0</td>\n",
       "      <td>0</td>\n",
       "    </tr>\n",
       "    <tr>\n",
       "      <th>428</th>\n",
       "      <td>1</td>\n",
       "      <td>0</td>\n",
       "      <td>Baccarat Hotel &amp; Residences New York</td>\n",
       "      <td>28 West 53rd Street</td>\n",
       "      <td>New York City</td>\n",
       "      <td>NY</td>\n",
       "      <td>10019</td>\n",
       "      <td>213.0</td>\n",
       "      <td>35.0</td>\n",
       "      <td>5.0</td>\n",
       "      <td>...</td>\n",
       "      <td>0</td>\n",
       "      <td>0</td>\n",
       "      <td>0</td>\n",
       "      <td>0</td>\n",
       "      <td>0</td>\n",
       "      <td>0</td>\n",
       "      <td>0</td>\n",
       "      <td>0</td>\n",
       "      <td>0</td>\n",
       "      <td>0</td>\n",
       "    </tr>\n",
       "    <tr>\n",
       "      <th>431</th>\n",
       "      <td>1</td>\n",
       "      <td>0</td>\n",
       "      <td>Arlo NoMad</td>\n",
       "      <td>11 E 31st St</td>\n",
       "      <td>New York City</td>\n",
       "      <td>NY</td>\n",
       "      <td>10016-6701</td>\n",
       "      <td>167.0</td>\n",
       "      <td>28.0</td>\n",
       "      <td>6.0</td>\n",
       "      <td>...</td>\n",
       "      <td>0</td>\n",
       "      <td>0</td>\n",
       "      <td>0</td>\n",
       "      <td>0</td>\n",
       "      <td>0</td>\n",
       "      <td>0</td>\n",
       "      <td>0</td>\n",
       "      <td>0</td>\n",
       "      <td>0</td>\n",
       "      <td>0</td>\n",
       "    </tr>\n",
       "    <tr>\n",
       "      <th>432</th>\n",
       "      <td>1</td>\n",
       "      <td>0</td>\n",
       "      <td>The Pierre A Taj Hotel New York</td>\n",
       "      <td>2 East 61st Street at Fifth Avenue</td>\n",
       "      <td>New York City</td>\n",
       "      <td>NY</td>\n",
       "      <td>10065</td>\n",
       "      <td>1025.0</td>\n",
       "      <td>188.0</td>\n",
       "      <td>67.0</td>\n",
       "      <td>...</td>\n",
       "      <td>0</td>\n",
       "      <td>0</td>\n",
       "      <td>0</td>\n",
       "      <td>0</td>\n",
       "      <td>0</td>\n",
       "      <td>0</td>\n",
       "      <td>1</td>\n",
       "      <td>0</td>\n",
       "      <td>0</td>\n",
       "      <td>0</td>\n",
       "    </tr>\n",
       "    <tr>\n",
       "      <th>433</th>\n",
       "      <td>1</td>\n",
       "      <td>0</td>\n",
       "      <td>The French Quarters Guest Apartments</td>\n",
       "      <td>346 W. 46th Street</td>\n",
       "      <td>New York City</td>\n",
       "      <td>NY</td>\n",
       "      <td>10036-3881</td>\n",
       "      <td>733.0</td>\n",
       "      <td>147.0</td>\n",
       "      <td>24.0</td>\n",
       "      <td>...</td>\n",
       "      <td>0</td>\n",
       "      <td>0</td>\n",
       "      <td>0</td>\n",
       "      <td>0</td>\n",
       "      <td>1</td>\n",
       "      <td>0</td>\n",
       "      <td>0</td>\n",
       "      <td>0</td>\n",
       "      <td>0</td>\n",
       "      <td>0</td>\n",
       "    </tr>\n",
       "    <tr>\n",
       "      <th>434</th>\n",
       "      <td>1</td>\n",
       "      <td>0</td>\n",
       "      <td>EVEN Hotel Times Square South</td>\n",
       "      <td>321 West 35th St</td>\n",
       "      <td>New York City</td>\n",
       "      <td>NY</td>\n",
       "      <td>10001-1739</td>\n",
       "      <td>569.0</td>\n",
       "      <td>118.0</td>\n",
       "      <td>23.0</td>\n",
       "      <td>...</td>\n",
       "      <td>0</td>\n",
       "      <td>0</td>\n",
       "      <td>0</td>\n",
       "      <td>0</td>\n",
       "      <td>0</td>\n",
       "      <td>0</td>\n",
       "      <td>0</td>\n",
       "      <td>0</td>\n",
       "      <td>0</td>\n",
       "      <td>0</td>\n",
       "    </tr>\n",
       "    <tr>\n",
       "      <th>436</th>\n",
       "      <td>1</td>\n",
       "      <td>0</td>\n",
       "      <td>The Sherry-Netherland Hotel</td>\n",
       "      <td>781 Fifth Avenue</td>\n",
       "      <td>New York City</td>\n",
       "      <td>NY</td>\n",
       "      <td>10022-1092</td>\n",
       "      <td>520.0</td>\n",
       "      <td>45.0</td>\n",
       "      <td>12.0</td>\n",
       "      <td>...</td>\n",
       "      <td>0</td>\n",
       "      <td>0</td>\n",
       "      <td>0</td>\n",
       "      <td>0</td>\n",
       "      <td>0</td>\n",
       "      <td>0</td>\n",
       "      <td>0</td>\n",
       "      <td>0</td>\n",
       "      <td>0</td>\n",
       "      <td>0</td>\n",
       "    </tr>\n",
       "    <tr>\n",
       "      <th>438</th>\n",
       "      <td>1</td>\n",
       "      <td>0</td>\n",
       "      <td>The Broome</td>\n",
       "      <td>431 Broome St</td>\n",
       "      <td>New York City</td>\n",
       "      <td>NY</td>\n",
       "      <td>10013-5920</td>\n",
       "      <td>295.0</td>\n",
       "      <td>39.0</td>\n",
       "      <td>2.0</td>\n",
       "      <td>...</td>\n",
       "      <td>0</td>\n",
       "      <td>0</td>\n",
       "      <td>0</td>\n",
       "      <td>0</td>\n",
       "      <td>0</td>\n",
       "      <td>0</td>\n",
       "      <td>0</td>\n",
       "      <td>0</td>\n",
       "      <td>0</td>\n",
       "      <td>0</td>\n",
       "    </tr>\n",
       "    <tr>\n",
       "      <th>439</th>\n",
       "      <td>1</td>\n",
       "      <td>0</td>\n",
       "      <td>The Towers at Lotte New York Palace</td>\n",
       "      <td>455 Madison Avenue</td>\n",
       "      <td>New York City</td>\n",
       "      <td>NY</td>\n",
       "      <td>10022-6845</td>\n",
       "      <td>715.0</td>\n",
       "      <td>80.0</td>\n",
       "      <td>23.0</td>\n",
       "      <td>...</td>\n",
       "      <td>0</td>\n",
       "      <td>0</td>\n",
       "      <td>0</td>\n",
       "      <td>0</td>\n",
       "      <td>0</td>\n",
       "      <td>0</td>\n",
       "      <td>0</td>\n",
       "      <td>0</td>\n",
       "      <td>0</td>\n",
       "      <td>0</td>\n",
       "    </tr>\n",
       "    <tr>\n",
       "      <th>441</th>\n",
       "      <td>1</td>\n",
       "      <td>0</td>\n",
       "      <td>The Beekman A Thompson Hotel</td>\n",
       "      <td>123 Nassau St</td>\n",
       "      <td>New York City</td>\n",
       "      <td>NY</td>\n",
       "      <td>10038-2415</td>\n",
       "      <td>227.0</td>\n",
       "      <td>25.0</td>\n",
       "      <td>4.0</td>\n",
       "      <td>...</td>\n",
       "      <td>0</td>\n",
       "      <td>0</td>\n",
       "      <td>0</td>\n",
       "      <td>0</td>\n",
       "      <td>0</td>\n",
       "      <td>1</td>\n",
       "      <td>0</td>\n",
       "      <td>0</td>\n",
       "      <td>0</td>\n",
       "      <td>0</td>\n",
       "    </tr>\n",
       "    <tr>\n",
       "      <th>442</th>\n",
       "      <td>1</td>\n",
       "      <td>0</td>\n",
       "      <td>Crosby Street Hotel</td>\n",
       "      <td>79 Crosby Street</td>\n",
       "      <td>New York City</td>\n",
       "      <td>NY</td>\n",
       "      <td>10012</td>\n",
       "      <td>559.0</td>\n",
       "      <td>79.0</td>\n",
       "      <td>17.0</td>\n",
       "      <td>...</td>\n",
       "      <td>0</td>\n",
       "      <td>0</td>\n",
       "      <td>0</td>\n",
       "      <td>0</td>\n",
       "      <td>0</td>\n",
       "      <td>0</td>\n",
       "      <td>0</td>\n",
       "      <td>0</td>\n",
       "      <td>0</td>\n",
       "      <td>0</td>\n",
       "    </tr>\n",
       "  </tbody>\n",
       "</table>\n",
       "<p>17 rows × 98 columns</p>\n",
       "</div>"
      ],
      "text/plain": [
       "     top30  Pred_Val                                  name  \\\n",
       "0        1         0          Loews Regency New York Hotel   \n",
       "7        1         0                       Conrad New York   \n",
       "9        1         0        citizenM New York Times Square   \n",
       "413      1         0                The Roxy Hotel Tribeca   \n",
       "425      1         0                        NobleDEN Hotel   \n",
       "426      1         0                   Park Hyatt New York   \n",
       "427      1         0                 Archer Hotel New York   \n",
       "428      1         0  Baccarat Hotel & Residences New York   \n",
       "431      1         0                            Arlo NoMad   \n",
       "432      1         0       The Pierre A Taj Hotel New York   \n",
       "433      1         0  The French Quarters Guest Apartments   \n",
       "434      1         0         EVEN Hotel Times Square South   \n",
       "436      1         0           The Sherry-Netherland Hotel   \n",
       "438      1         0                            The Broome   \n",
       "439      1         0   The Towers at Lotte New York Palace   \n",
       "441      1         0          The Beekman A Thompson Hotel   \n",
       "442      1         0                   Crosby Street Hotel   \n",
       "\n",
       "                                st_addr           city state      zip_cd  \\\n",
       "0                       540 Park Avenue  New York City    NY  10065-7366   \n",
       "7                  102 North End Avenue  New York City    NY  10282-1238   \n",
       "9                  218 West 50th Street  New York City    NY  10019-6702   \n",
       "413            2 Avenue of the Americas  New York City    NY  10013-2401   \n",
       "425                    196 Grand Street  New York City    NY  10013-3712   \n",
       "426                153 West 57th Street  New York City    NY  10019-2214   \n",
       "427                 45 West 38th Street  New York City    NY  10018-5501   \n",
       "428                 28 West 53rd Street  New York City    NY       10019   \n",
       "431                        11 E 31st St  New York City    NY  10016-6701   \n",
       "432  2 East 61st Street at Fifth Avenue  New York City    NY       10065   \n",
       "433                  346 W. 46th Street  New York City    NY  10036-3881   \n",
       "434                    321 West 35th St  New York City    NY  10001-1739   \n",
       "436                    781 Fifth Avenue  New York City    NY  10022-1092   \n",
       "438                       431 Broome St  New York City    NY  10013-5920   \n",
       "439                  455 Madison Avenue  New York City    NY  10022-6845   \n",
       "441                       123 Nassau St  New York City    NY  10038-2415   \n",
       "442                    79 Crosby Street  New York City    NY       10012   \n",
       "\n",
       "     excellent_ct  verygood_ct  average_ct     ...       zip_5_10027  \\\n",
       "0           952.0        162.0        62.0     ...                 0   \n",
       "7          1943.0        605.0       141.0     ...                 0   \n",
       "9          1338.0        364.0        64.0     ...                 0   \n",
       "413         261.0         58.0        11.0     ...                 0   \n",
       "425         316.0         85.0        11.0     ...                 0   \n",
       "426         889.0        115.0        40.0     ...                 0   \n",
       "427        1805.0        431.0        86.0     ...                 0   \n",
       "428         213.0         35.0         5.0     ...                 0   \n",
       "431         167.0         28.0         6.0     ...                 0   \n",
       "432        1025.0        188.0        67.0     ...                 0   \n",
       "433         733.0        147.0        24.0     ...                 0   \n",
       "434         569.0        118.0        23.0     ...                 0   \n",
       "436         520.0         45.0        12.0     ...                 0   \n",
       "438         295.0         39.0         2.0     ...                 0   \n",
       "439         715.0         80.0        23.0     ...                 0   \n",
       "441         227.0         25.0         4.0     ...                 0   \n",
       "442         559.0         79.0        17.0     ...                 0   \n",
       "\n",
       "     zip_5_10028  zip_5_10032  zip_5_10033  zip_5_10036  zip_5_10038  \\\n",
       "0              0            0            0            0            0   \n",
       "7              0            0            0            0            0   \n",
       "9              0            0            0            0            0   \n",
       "413            0            0            0            0            0   \n",
       "425            0            0            0            0            0   \n",
       "426            0            0            0            0            0   \n",
       "427            0            0            0            0            0   \n",
       "428            0            0            0            0            0   \n",
       "431            0            0            0            0            0   \n",
       "432            0            0            0            0            0   \n",
       "433            0            0            0            1            0   \n",
       "434            0            0            0            0            0   \n",
       "436            0            0            0            0            0   \n",
       "438            0            0            0            0            0   \n",
       "439            0            0            0            0            0   \n",
       "441            0            0            0            0            1   \n",
       "442            0            0            0            0            0   \n",
       "\n",
       "     zip_5_10065  zip_5_10078  zip_5_10128  zip_5_10282  \n",
       "0              1            0            0            0  \n",
       "7              0            0            0            1  \n",
       "9              0            0            0            0  \n",
       "413            0            0            0            0  \n",
       "425            0            0            0            0  \n",
       "426            0            0            0            0  \n",
       "427            0            0            0            0  \n",
       "428            0            0            0            0  \n",
       "431            0            0            0            0  \n",
       "432            1            0            0            0  \n",
       "433            0            0            0            0  \n",
       "434            0            0            0            0  \n",
       "436            0            0            0            0  \n",
       "438            0            0            0            0  \n",
       "439            0            0            0            0  \n",
       "441            0            0            0            0  \n",
       "442            0            0            0            0  \n",
       "\n",
       "[17 rows x 98 columns]"
      ]
     },
     "execution_count": 245,
     "metadata": {},
     "output_type": "execute_result"
    }
   ],
   "source": [
    "lr_fns[(lr_fns.top30 == 1) & (lr_fns.Pred_Val == 0)]"
   ]
  },
  {
   "cell_type": "markdown",
   "metadata": {},
   "source": [
    "#### RANDOM FOREST CLASSIFIER"
   ]
  },
  {
   "cell_type": "code",
   "execution_count": 170,
   "metadata": {
    "collapsed": true
   },
   "outputs": [],
   "source": [
    "#     RandomForestClassifier(bootstrap=True, class_weight='balanced',\n",
    "#                 criterion='gini', max_depth=None, max_features='auto',\n",
    "#                 max_leaf_nodes=None, min_samples_leaf=1, min_samples_split=2,\n",
    "#                 min_weight_fraction_leaf=0.0, n_estimators=10, n_jobs=-1,\n",
    "#                 oob_score=False, random_state=None, verbose=0,\n",
    "#                 warm_start=False)"
   ]
  },
  {
   "cell_type": "code",
   "execution_count": 171,
   "metadata": {
    "collapsed": true
   },
   "outputs": [],
   "source": [
    "rfc = RandomForestClassifier()"
   ]
  },
  {
   "cell_type": "code",
   "execution_count": 172,
   "metadata": {
    "collapsed": false
   },
   "outputs": [
    {
     "name": "stdout",
     "output_type": "stream",
     "text": [
      "Fitting 5 folds for each of 48 candidates, totalling 240 fits\n"
     ]
    },
    {
     "name": "stderr",
     "output_type": "stream",
     "text": [
      "[Parallel(n_jobs=1)]: Done 240 out of 240 | elapsed:   17.0s finished\n"
     ]
    },
    {
     "data": {
      "text/plain": [
       "GridSearchCV(cv=5, error_score='raise',\n",
       "       estimator=RandomForestClassifier(bootstrap=True, class_weight=None, criterion='gini',\n",
       "            max_depth=None, max_features='auto', max_leaf_nodes=None,\n",
       "            min_impurity_split=1e-07, min_samples_leaf=1,\n",
       "            min_samples_split=2, min_weight_fraction_leaf=0.0,\n",
       "            n_estimators=10, n_jobs=1, oob_score=False, random_state=None,\n",
       "            verbose=0, warm_start=False),\n",
       "       fit_params={}, iid=True, n_jobs=1,\n",
       "       param_grid={'min_samples_split': [2, 6, 10], 'max_leaf_nodes': [None, 4, 8, 12], 'max_depth': [None, 4, 8, 12]},\n",
       "       pre_dispatch='2*n_jobs', refit=True, return_train_score=True,\n",
       "       scoring=None, verbose=1)"
      ]
     },
     "execution_count": 172,
     "metadata": {},
     "output_type": "execute_result"
    }
   ],
   "source": [
    "#Random Forest Classifier with Grid Search\n",
    "rfc_params = {'max_depth': [None, 4, 8, 12],\n",
    "              'min_samples_split': [2,6,10],\n",
    "             'max_leaf_nodes': [None, 4, 8, 12]}\n",
    "\n",
    "rf_gs = GridSearchCV(rfc, rfc_params, cv=5, verbose=1)\n",
    "rf_gs.fit(X_train, Y_train)"
   ]
  },
  {
   "cell_type": "code",
   "execution_count": 173,
   "metadata": {
    "collapsed": false
   },
   "outputs": [
    {
     "data": {
      "text/plain": [
       "0.95067264573991028"
      ]
     },
     "execution_count": 173,
     "metadata": {},
     "output_type": "execute_result"
    }
   ],
   "source": [
    "rf_gs.best_score_"
   ]
  },
  {
   "cell_type": "code",
   "execution_count": 174,
   "metadata": {
    "collapsed": true
   },
   "outputs": [],
   "source": [
    "rfc_predictions = rf_gs.predict(X_test)"
   ]
  },
  {
   "cell_type": "code",
   "execution_count": 175,
   "metadata": {
    "collapsed": false
   },
   "outputs": [
    {
     "data": {
      "text/plain": [
       "array([[204,   2],\n",
       "       [ 16,   1]])"
      ]
     },
     "execution_count": 175,
     "metadata": {},
     "output_type": "execute_result"
    }
   ],
   "source": [
    "confusion_matrix(Y_test, rfc_predictions)"
   ]
  },
  {
   "cell_type": "code",
   "execution_count": 176,
   "metadata": {
    "collapsed": false
   },
   "outputs": [
    {
     "name": "stdout",
     "output_type": "stream",
     "text": [
      "Test set accuracy:  0.919282511211\n"
     ]
    }
   ],
   "source": [
    "print \"Test set accuracy: \", rf_gs.score(X_test, Y_test)"
   ]
  },
  {
   "cell_type": "code",
   "execution_count": 177,
   "metadata": {
    "collapsed": false
   },
   "outputs": [
    {
     "name": "stdout",
     "output_type": "stream",
     "text": [
      "                 predicted_in_top  predicted_in_bottom\n",
      "in_top_group                    1                   16\n",
      "in_bottom_group                 2                  204\n"
     ]
    }
   ],
   "source": [
    "conmat = np.array(confusion_matrix(Y_test, rfc_predictions, labels=[1,0]))\n",
    "confusion = pd.DataFrame(conmat, index=['in_top_group', 'in_bottom_group'],\n",
    "                            columns=['predicted_in_top','predicted_in_bottom'])\n",
    "print(confusion)"
   ]
  },
  {
   "cell_type": "code",
   "execution_count": 178,
   "metadata": {
    "collapsed": false
   },
   "outputs": [],
   "source": [
    "rf_best = rf_gs.best_estimator_"
   ]
  },
  {
   "cell_type": "code",
   "execution_count": 179,
   "metadata": {
    "collapsed": false
   },
   "outputs": [
    {
     "data": {
      "text/plain": [
       "RandomForestClassifier(bootstrap=True, class_weight=None, criterion='gini',\n",
       "            max_depth=None, max_features='auto', max_leaf_nodes=None,\n",
       "            min_impurity_split=1e-07, min_samples_leaf=1,\n",
       "            min_samples_split=6, min_weight_fraction_leaf=0.0,\n",
       "            n_estimators=10, n_jobs=1, oob_score=False, random_state=None,\n",
       "            verbose=0, warm_start=False)"
      ]
     },
     "execution_count": 179,
     "metadata": {},
     "output_type": "execute_result"
    }
   ],
   "source": [
    "rf_best.fit(X_train, Y_train)"
   ]
  },
  {
   "cell_type": "code",
   "execution_count": 181,
   "metadata": {
    "collapsed": false
   },
   "outputs": [
    {
     "data": {
      "text/plain": [
       "0.92376681614349776"
      ]
     },
     "execution_count": 181,
     "metadata": {},
     "output_type": "execute_result"
    }
   ],
   "source": [
    "#NEED TO SET RANDOM_STATE TO GET CONSISTENT VALUE WITH GRID SEARCH OUTPUT?\n",
    "rf_best.score(X_test, Y_test)"
   ]
  },
  {
   "cell_type": "code",
   "execution_count": 182,
   "metadata": {
    "collapsed": false
   },
   "outputs": [
    {
     "name": "stdout",
     "output_type": "stream",
     "text": [
      "['prange_low', 'prange_high', 'amen_breakfast', u'zip_5_10022', u'zip_5_10005', u'zip_5_10018', 'rooms_num', 'amen_gym', u'zip_5_10036', 'hclass_num_4.0', 'amen_restaurant', 'hclass_num_5.0', 'amen_room_service', u'zip_5_10078', 'amen_bar_lounge']\n"
     ]
    },
    {
     "data": {
      "image/png": "[encoded data removed]",
      "text/plain": [
       "<matplotlib.figure.Figure at 0x123d7ef50>"
      ]
     },
     "metadata": {},
     "output_type": "display_data"
    }
   ],
   "source": [
    "#feature importance plot\n",
    "importances = rf_best.feature_importances_\n",
    "\n",
    "feature_importances = zip(importances, X.columns)\n",
    "sorted_feature_importances = sorted(feature_importances, reverse = True)\n",
    "top_15_predictors = sorted_feature_importances[0:15]\n",
    "\n",
    "values = [value for value, predictors in top_15_predictors]\n",
    "predictors = [predictors for value, predictors in top_15_predictors]\n",
    "print predictors\n",
    "\n",
    "# Plot the feature importances of the forest\n",
    "plt.figure()\n",
    "plt.title(\"Feature importances\")\n",
    "plt.bar(range(len(predictors)), values,color=\"r\", align=\"center\");\n",
    "plt.xticks(range(len(predictors)), predictors, rotation=90);"
   ]
  },
  {
   "cell_type": "markdown",
   "metadata": {},
   "source": [
    "#### SVM"
   ]
  },
  {
   "cell_type": "code",
   "execution_count": 183,
   "metadata": {
    "collapsed": false
   },
   "outputs": [
    {
     "name": "stdout",
     "output_type": "stream",
     "text": [
      "Fitting 5 folds for each of 40 candidates, totalling 200 fits\n"
     ]
    },
    {
     "name": "stderr",
     "output_type": "stream",
     "text": [
      "[Parallel(n_jobs=1)]: Done 200 out of 200 | elapsed:    1.6s finished\n"
     ]
    },
    {
     "data": {
      "text/plain": [
       "GridSearchCV(cv=5, error_score='raise',\n",
       "       estimator=SVC(C=1.0, cache_size=200, class_weight=None, coef0=0.0,\n",
       "  decision_function_shape=None, degree=3, gamma='auto', kernel='rbf',\n",
       "  max_iter=-1, probability=False, random_state=None, shrinking=True,\n",
       "  tol=0.001, verbose=False),\n",
       "       fit_params={}, iid=True, n_jobs=1,\n",
       "       param_grid={'kernel': ['linear', 'rbf'], 'C': array([  1.00023e+00,   3.36055e+00,   1.12907e+01,   3.79343e+01,\n",
       "         1.27451e+02,   4.28206e+02,   1.43868e+03,   4.83363e+03,\n",
       "         1.62399e+04,   5.45626e+04,   1.83318e+05,   6.15908e+05,\n",
       "         2.06931e+06,   6.95243e+06,   2.33586e+07,   7.84798e+07,\n",
       "         2.63675e+08,   8.85888e+08,   2.97639e+09,   1.00000e+10])},\n",
       "       pre_dispatch='2*n_jobs', refit=True, return_train_score=True,\n",
       "       scoring=None, verbose=1)"
      ]
     },
     "execution_count": 183,
     "metadata": {},
     "output_type": "execute_result"
    }
   ],
   "source": [
    "# gridsearch SVM\n",
    "svc_params = {\n",
    "    'C':np.logspace(1e-4, 1e1, 20),\n",
    "    'kernel':['linear','rbf']\n",
    "}\n",
    "\n",
    "svc_gs = GridSearchCV(SVC(), svc_params, cv=5, verbose=1)\n",
    "svc_gs.fit(X_train, Y_train)"
   ]
  },
  {
   "cell_type": "code",
   "execution_count": 184,
   "metadata": {
    "collapsed": false
   },
   "outputs": [
    {
     "name": "stdout",
     "output_type": "stream",
     "text": [
      "{'kernel': 'linear', 'C': 1.0002302850208247}\n",
      "0.959641255605\n"
     ]
    }
   ],
   "source": [
    "best_svc = svc_gs.best_estimator_\n",
    "print svc_gs.best_params_\n",
    "print svc_gs.best_score_"
   ]
  },
  {
   "cell_type": "code",
   "execution_count": 185,
   "metadata": {
    "collapsed": false
   },
   "outputs": [
    {
     "name": "stdout",
     "output_type": "stream",
     "text": [
      "Test set accuracy:  0.905829596413\n"
     ]
    }
   ],
   "source": [
    "print \"Test set accuracy: \", svc_gs.score(X_test, Y_test)"
   ]
  },
  {
   "cell_type": "code",
   "execution_count": 186,
   "metadata": {
    "collapsed": true
   },
   "outputs": [],
   "source": [
    "svc_predictions = svc_gs.predict(X_test)"
   ]
  },
  {
   "cell_type": "code",
   "execution_count": 187,
   "metadata": {
    "collapsed": false
   },
   "outputs": [
    {
     "data": {
      "text/plain": [
       "array([[200,   6],\n",
       "       [ 15,   2]])"
      ]
     },
     "execution_count": 187,
     "metadata": {},
     "output_type": "execute_result"
    }
   ],
   "source": [
    "confusion_matrix(Y_test, svc_predictions)"
   ]
  },
  {
   "cell_type": "code",
   "execution_count": 188,
   "metadata": {
    "collapsed": false
   },
   "outputs": [
    {
     "name": "stdout",
     "output_type": "stream",
     "text": [
      "                 predicted_in_top  predicted_in_bottom\n",
      "in_top_group                    2                   15\n",
      "in_bottom_group                 6                  200\n"
     ]
    }
   ],
   "source": [
    "conmat = np.array(confusion_matrix(Y_test, svc_predictions, labels=[1,0]))\n",
    "confusion = pd.DataFrame(conmat, index=['in_top_group', 'in_bottom_group'],\n",
    "                            columns=['predicted_in_top','predicted_in_bottom'])\n",
    "print(confusion)"
   ]
  },
  {
   "cell_type": "markdown",
   "metadata": {},
   "source": [
    "#### XGBoost Classifier"
   ]
  },
  {
   "cell_type": "code",
   "execution_count": 318,
   "metadata": {
    "collapsed": true
   },
   "outputs": [],
   "source": [
    "from xgboost import XGBClassifier"
   ]
  },
  {
   "cell_type": "code",
   "execution_count": 320,
   "metadata": {
    "collapsed": false
   },
   "outputs": [],
   "source": [
    "n_estimators = [50, 100, 150, 200]\n",
    "max_depth = [2, 4, 6, 8]\n",
    "learning_rate = [0.0001, 0.001, 0.01, 0.1, 0.2, 0.3]\n",
    "param_grid_xgb_cl = dict(max_depth=max_depth, n_estimators=n_estimators, learning_rate=learning_rate)"
   ]
  },
  {
   "cell_type": "code",
   "execution_count": 321,
   "metadata": {
    "collapsed": false
   },
   "outputs": [
    {
     "name": "stdout",
     "output_type": "stream",
     "text": [
      "Fitting 5 folds for each of 96 candidates, totalling 480 fits\n"
     ]
    },
    {
     "name": "stderr",
     "output_type": "stream",
     "text": [
      "[Parallel(n_jobs=1)]: Done 480 out of 480 | elapsed:   33.6s finished\n"
     ]
    },
    {
     "data": {
      "text/plain": [
       "GridSearchCV(cv=5, error_score='raise',\n",
       "       estimator=XGBClassifier(base_score=0.5, colsample_bytree=1, gamma=0, learning_rate=0.1,\n",
       "       max_delta_step=0, max_depth=3, min_child_weight=1, missing=None,\n",
       "       n_estimators=100, nthread=-1, objective='binary:logistic', seed=0,\n",
       "       silent=True, subsample=1),\n",
       "       fit_params={}, iid=True, n_jobs=1,\n",
       "       param_grid={'n_estimators': [50, 100, 150, 200], 'learning_rate': [0.0001, 0.001, 0.01, 0.1, 0.2, 0.3], 'max_depth': [2, 4, 6, 8]},\n",
       "       pre_dispatch='2*n_jobs', refit=True, return_train_score=True,\n",
       "       scoring=None, verbose=1)"
      ]
     },
     "execution_count": 321,
     "metadata": {},
     "output_type": "execute_result"
    }
   ],
   "source": [
    "xgbc_gs = GridSearchCV(XGBClassifier(), param_grid_xgb_cl, cv=5, verbose=1)\n",
    "xgbc_gs.fit(X_train, Y_train)"
   ]
  },
  {
   "cell_type": "code",
   "execution_count": 322,
   "metadata": {
    "collapsed": false
   },
   "outputs": [
    {
     "name": "stdout",
     "output_type": "stream",
     "text": [
      "{'n_estimators': 150, 'learning_rate': 0.1, 'max_depth': 6}\n",
      "0.955156950673\n"
     ]
    }
   ],
   "source": [
    "best_xgbc = xgbc_gs.best_estimator_\n",
    "print xgbc_gs.best_params_\n",
    "print xgbc_gs.best_score_"
   ]
  },
  {
   "cell_type": "code",
   "execution_count": 323,
   "metadata": {
    "collapsed": false
   },
   "outputs": [
    {
     "name": "stdout",
     "output_type": "stream",
     "text": [
      "Test set accuracy:  0.928251121076\n"
     ]
    }
   ],
   "source": [
    "print \"Test set accuracy: \", xgbc_gs.score(X_test, Y_test)"
   ]
  },
  {
   "cell_type": "code",
   "execution_count": 324,
   "metadata": {
    "collapsed": true
   },
   "outputs": [],
   "source": [
    "xgbc_predictions = xgbc_gs.predict(X_test)"
   ]
  },
  {
   "cell_type": "code",
   "execution_count": 325,
   "metadata": {
    "collapsed": false
   },
   "outputs": [
    {
     "data": {
      "text/plain": [
       "array([[205,   1],\n",
       "       [ 15,   2]])"
      ]
     },
     "execution_count": 325,
     "metadata": {},
     "output_type": "execute_result"
    }
   ],
   "source": [
    "confusion_matrix(Y_test, xgbc_predictions)"
   ]
  },
  {
   "cell_type": "code",
   "execution_count": 326,
   "metadata": {
    "collapsed": false
   },
   "outputs": [
    {
     "name": "stdout",
     "output_type": "stream",
     "text": [
      "                 predicted_in_top  predicted_in_bottom\n",
      "in_top_group                    2                   15\n",
      "in_bottom_group                 1                  205\n"
     ]
    }
   ],
   "source": [
    "conmat = np.array(confusion_matrix(Y_test, xgbc_predictions, labels=[1,0]))\n",
    "confusion = pd.DataFrame(conmat, index=['in_top_group', 'in_bottom_group'],\n",
    "                            columns=['predicted_in_top','predicted_in_bottom'])\n",
    "print(confusion)"
   ]
  },
  {
   "cell_type": "markdown",
   "metadata": {},
   "source": [
    "#### SGD Classifier"
   ]
  },
  {
   "cell_type": "code",
   "execution_count": 189,
   "metadata": {
    "collapsed": false
   },
   "outputs": [
    {
     "name": "stdout",
     "output_type": "stream",
     "text": [
      "Fitting 5 folds for each of 200 candidates, totalling 1000 fits\n"
     ]
    },
    {
     "name": "stderr",
     "output_type": "stream",
     "text": [
      "[Parallel(n_jobs=1)]: Done 1000 out of 1000 | elapsed:    8.1s finished\n"
     ]
    },
    {
     "data": {
      "text/plain": [
       "GridSearchCV(cv=5, error_score='raise',\n",
       "       estimator=SGDClassifier(alpha=0.0001, average=False, class_weight=None, epsilon=0.1,\n",
       "       eta0=0.0, fit_intercept=True, l1_ratio=0.15,\n",
       "       learning_rate='optimal', loss='hinge', n_iter=5, n_jobs=1,\n",
       "       penalty='l2', power_t=0.5, random_state=None, shuffle=True,\n",
       "       verbose=0, warm_start=False),\n",
       "       fit_params={}, iid=True, n_jobs=1,\n",
       "       param_grid={'penalty': ['l1', 'l2'], 'loss': ['log'], 'alpha': array([  1.00000e-05,   1.14976e-05, ...,   8.69749e+00,   1.00000e+01])},\n",
       "       pre_dispatch='2*n_jobs', refit=True, return_train_score=True,\n",
       "       scoring=None, verbose=1)"
      ]
     },
     "execution_count": 189,
     "metadata": {},
     "output_type": "execute_result"
    }
   ],
   "source": [
    "# search for best model with SGDClassifier\n",
    "# logistic regression ridge or lasso penalties (not doing elastic net\n",
    "# for the sake of my computer).\n",
    "sgd_params = {\n",
    "    'loss':['log'],\n",
    "    'penalty':['l1','l2'],\n",
    "    'alpha':np.logspace(-5, 1, 100)\n",
    "}\n",
    "\n",
    "sgd_gs = GridSearchCV(SGDClassifier(), sgd_params, cv=5, verbose=1)\n",
    "sgd_gs.fit(X_train, Y_train)"
   ]
  },
  {
   "cell_type": "code",
   "execution_count": 190,
   "metadata": {
    "collapsed": false
   },
   "outputs": [
    {
     "data": {
      "text/plain": [
       "0.96860986547085204"
      ]
     },
     "execution_count": 190,
     "metadata": {},
     "output_type": "execute_result"
    }
   ],
   "source": [
    "sgd_gs.best_score_"
   ]
  },
  {
   "cell_type": "code",
   "execution_count": 191,
   "metadata": {
    "collapsed": true
   },
   "outputs": [],
   "source": [
    "sgd_predictions = sgd_gs.predict(X_test)"
   ]
  },
  {
   "cell_type": "code",
   "execution_count": 192,
   "metadata": {
    "collapsed": false
   },
   "outputs": [
    {
     "data": {
      "text/plain": [
       "array([[198,   8],\n",
       "       [ 16,   1]])"
      ]
     },
     "execution_count": 192,
     "metadata": {},
     "output_type": "execute_result"
    }
   ],
   "source": [
    "confusion_matrix(Y_test, sgd_predictions)"
   ]
  },
  {
   "cell_type": "code",
   "execution_count": 193,
   "metadata": {
    "collapsed": false
   },
   "outputs": [
    {
     "name": "stdout",
     "output_type": "stream",
     "text": [
      "Test set accuracy:  0.892376681614\n"
     ]
    }
   ],
   "source": [
    "print \"Test set accuracy: \", sgd_gs.score(X_test, Y_test)"
   ]
  },
  {
   "cell_type": "code",
   "execution_count": 194,
   "metadata": {
    "collapsed": false
   },
   "outputs": [
    {
     "name": "stdout",
     "output_type": "stream",
     "text": [
      "                 predicted_in_top  predicted_in_bottom\n",
      "in_top_group                    1                   16\n",
      "in_bottom_group                 8                  198\n"
     ]
    }
   ],
   "source": [
    "conmat = np.array(confusion_matrix(Y_test, sgd_predictions, labels=[1,0]))\n",
    "confusion = pd.DataFrame(conmat, index=['in_top_group', 'in_bottom_group'],\n",
    "                            columns=['predicted_in_top','predicted_in_bottom'])\n",
    "print(confusion)"
   ]
  },
  {
   "cell_type": "markdown",
   "metadata": {},
   "source": [
    "#### KNN Classifier"
   ]
  },
  {
   "cell_type": "code",
   "execution_count": 195,
   "metadata": {
    "collapsed": false
   },
   "outputs": [
    {
     "name": "stdout",
     "output_type": "stream",
     "text": [
      "Fitting 5 folds for each of 100 candidates, totalling 500 fits\n"
     ]
    },
    {
     "name": "stderr",
     "output_type": "stream",
     "text": [
      "[Parallel(n_jobs=1)]: Done 500 out of 500 | elapsed:    6.5s finished\n"
     ]
    },
    {
     "data": {
      "text/plain": [
       "GridSearchCV(cv=5, error_score='raise',\n",
       "       estimator=KNeighborsClassifier(algorithm='auto', leaf_size=30, metric='minkowski',\n",
       "           metric_params=None, n_jobs=1, n_neighbors=5, p=2,\n",
       "           weights='uniform'),\n",
       "       fit_params={}, iid=True, n_jobs=1,\n",
       "       param_grid={'n_neighbors': [1, 2, 3, 4, 5, 6, 7, 8, 9, 10, 11, 12, 13, 14, 15, 16, 17, 18, 19, 20, 21, 22, 23, 24, 25, 26, 27, 28, 29, 30, 31, 32, 33, 34, 35, 36, 37, 38, 39, 40, 41, 42, 43, 44, 45, 46, 47, 48, 49, 50], 'weights': ['distance', 'uniform']},\n",
       "       pre_dispatch='2*n_jobs', refit=True, return_train_score=True,\n",
       "       scoring=None, verbose=1)"
      ]
     },
     "execution_count": 195,
     "metadata": {},
     "output_type": "execute_result"
    }
   ],
   "source": [
    "knn_params = {\n",
    "    'n_neighbors':range(1,51),\n",
    "    'weights':['distance','uniform']\n",
    "}\n",
    "\n",
    "knn_gs = GridSearchCV(KNeighborsClassifier(), knn_params, cv=5, verbose=1)\n",
    "knn_gs.fit(X_train, Y_train)"
   ]
  },
  {
   "cell_type": "code",
   "execution_count": 196,
   "metadata": {
    "collapsed": false
   },
   "outputs": [
    {
     "name": "stdout",
     "output_type": "stream",
     "text": [
      "{'n_neighbors': 5, 'weights': 'uniform'}\n",
      "0.946188340807\n"
     ]
    }
   ],
   "source": [
    "knn_best = knn_gs.best_estimator_\n",
    "print knn_gs.best_params_\n",
    "print knn_gs.best_score_"
   ]
  },
  {
   "cell_type": "code",
   "execution_count": 197,
   "metadata": {
    "collapsed": false
   },
   "outputs": [
    {
     "name": "stdout",
     "output_type": "stream",
     "text": [
      "Test set accuracy:  0.923766816143\n"
     ]
    }
   ],
   "source": [
    "print \"Test set accuracy: \", knn_gs.score(X_test, Y_test)"
   ]
  },
  {
   "cell_type": "code",
   "execution_count": 198,
   "metadata": {
    "collapsed": true
   },
   "outputs": [],
   "source": [
    "knn_predictions = knn_gs.predict(X_test)"
   ]
  },
  {
   "cell_type": "code",
   "execution_count": 199,
   "metadata": {
    "collapsed": false
   },
   "outputs": [
    {
     "data": {
      "text/plain": [
       "array([[206,   0],\n",
       "       [ 17,   0]])"
      ]
     },
     "execution_count": 199,
     "metadata": {},
     "output_type": "execute_result"
    }
   ],
   "source": [
    "confusion_matrix(Y_test, knn_predictions)"
   ]
  },
  {
   "cell_type": "code",
   "execution_count": 200,
   "metadata": {
    "collapsed": false
   },
   "outputs": [
    {
     "name": "stdout",
     "output_type": "stream",
     "text": [
      "                 predicted_in_top  predicted_in_bottom\n",
      "in_top_group                    0                   17\n",
      "in_bottom_group                 0                  206\n"
     ]
    }
   ],
   "source": [
    "conmat = np.array(confusion_matrix(Y_test, knn_predictions, labels=[1,0]))\n",
    "confusion = pd.DataFrame(conmat, index=['in_top_group', 'in_bottom_group'],\n",
    "                            columns=['predicted_in_top','predicted_in_bottom'])\n",
    "print(confusion)"
   ]
  },
  {
   "cell_type": "code",
   "execution_count": null,
   "metadata": {
    "collapsed": true
   },
   "outputs": [],
   "source": []
  },
  {
   "cell_type": "code",
   "execution_count": null,
   "metadata": {
    "collapsed": true
   },
   "outputs": [],
   "source": []
  },
  {
   "cell_type": "code",
   "execution_count": null,
   "metadata": {
    "collapsed": true
   },
   "outputs": [],
   "source": []
  },
  {
   "cell_type": "code",
   "execution_count": null,
   "metadata": {
    "collapsed": true
   },
   "outputs": [],
   "source": []
  },
  {
   "cell_type": "code",
   "execution_count": null,
   "metadata": {
    "collapsed": true
   },
   "outputs": [],
   "source": []
  },
  {
   "cell_type": "code",
   "execution_count": null,
   "metadata": {
    "collapsed": true
   },
   "outputs": [],
   "source": [
    "xgb.DMatrix"
   ]
  },
  {
   "cell_type": "code",
   "execution_count": 249,
   "metadata": {
    "collapsed": false
   },
   "outputs": [],
   "source": [
    "import xgboost as xgb"
   ]
  },
  {
   "cell_type": "code",
   "execution_count": null,
   "metadata": {
    "collapsed": true
   },
   "outputs": [],
   "source": []
  },
  {
   "cell_type": "code",
   "execution_count": null,
   "metadata": {
    "collapsed": true
   },
   "outputs": [],
   "source": []
  },
  {
   "cell_type": "code",
   "execution_count": null,
   "metadata": {
    "collapsed": true
   },
   "outputs": [],
   "source": []
  },
  {
   "cell_type": "code",
   "execution_count": 260,
   "metadata": {
    "collapsed": true
   },
   "outputs": [],
   "source": [
    "#Identify target column\n",
    "y_value = df2.rank_num"
   ]
  },
  {
   "cell_type": "code",
   "execution_count": 265,
   "metadata": {
    "collapsed": false
   },
   "outputs": [
    {
     "data": {
      "text/plain": [
       "446"
      ]
     },
     "execution_count": 265,
     "metadata": {},
     "output_type": "execute_result"
    }
   ],
   "source": [
    "y_value.values.size"
   ]
  },
  {
   "cell_type": "code",
   "execution_count": 266,
   "metadata": {
    "collapsed": true
   },
   "outputs": [],
   "source": [
    "X_train_xgb, X_test_xgb, Y_train_xgb, Y_test_xgb =  train_test_split(Xn_df, y_value, test_size = 0.5, random_state=1234)"
   ]
  },
  {
   "cell_type": "code",
   "execution_count": 251,
   "metadata": {
    "collapsed": false
   },
   "outputs": [],
   "source": [
    "xgb_rank = xgb.XGBModel(objective='rank:pairwise')"
   ]
  },
  {
   "cell_type": "code",
   "execution_count": 301,
   "metadata": {
    "collapsed": true
   },
   "outputs": [],
   "source": [
    "xgb_rank_regr = xgb.XGBRegressor(objective='rank:pairwise')"
   ]
  },
  {
   "cell_type": "code",
   "execution_count": null,
   "metadata": {
    "collapsed": true
   },
   "outputs": [],
   "source": [
    "# XGBRegressor(base_score=0.5, colsample_bytree=1, gamma=0, learning_rate=0.1,\n",
    "#        max_delta_step=0, max_depth=3, min_child_weight=1, missing=None,\n",
    "#        n_estimators=100, nthread=-1, objective='rank:pairwise', seed=0,\n",
    "#        silent=True, subsample=1)"
   ]
  },
  {
   "cell_type": "code",
   "execution_count": 299,
   "metadata": {
    "collapsed": true
   },
   "outputs": [],
   "source": [
    "n_estimators = [5, 10, 50, 100, 150]\n",
    "max_depth = [2, 4, 6, 8]\n",
    "learning_rate = [0.0001, 0.001, 0.01, 0.1, 0.2, 0.3]\n",
    "param_grid_xgb = dict(max_depth=max_depth, n_estimators=n_estimators, learning_rate=learning_rate)"
   ]
  },
  {
   "cell_type": "code",
   "execution_count": 304,
   "metadata": {
    "collapsed": false
   },
   "outputs": [
    {
     "name": "stdout",
     "output_type": "stream",
     "text": [
      "Fitting 5 folds for each of 120 candidates, totalling 600 fits\n"
     ]
    },
    {
     "name": "stderr",
     "output_type": "stream",
     "text": [
      "[Parallel(n_jobs=1)]: Done 600 out of 600 | elapsed:   38.4s finished\n"
     ]
    },
    {
     "data": {
      "text/plain": [
       "GridSearchCV(cv=5, error_score='raise',\n",
       "       estimator=XGBRegressor(base_score=0.5, colsample_bytree=1, gamma=0, learning_rate=0.1,\n",
       "       max_delta_step=0, max_depth=3, min_child_weight=1, missing=None,\n",
       "       n_estimators=100, nthread=-1, objective='rank:pairwise', seed=0,\n",
       "       silent=True, subsample=1),\n",
       "       fit_params={}, iid=True, n_jobs=1,\n",
       "       param_grid={'n_estimators': [5, 10, 50, 100, 150], 'learning_rate': [0.0001, 0.001, 0.01, 0.1, 0.2, 0.3], 'max_depth': [2, 4, 6, 8]},\n",
       "       pre_dispatch='2*n_jobs', refit=True, return_train_score=True,\n",
       "       scoring=None, verbose=1)"
      ]
     },
     "execution_count": 304,
     "metadata": {},
     "output_type": "execute_result"
    }
   ],
   "source": [
    "#kfold = StratifiedKFold(n_splits=10, shuffle=True, random_state=7)\n",
    "#, scoring=\"neg_log_loss\"\n",
    "xgb_gs = GridSearchCV(xgb_rank_regr, param_grid_xgb, cv=5, verbose=1)\n",
    "\n",
    "xgb_gs.fit(X_train_xgb, Y_train_xgb)"
   ]
  },
  {
   "cell_type": "code",
   "execution_count": 305,
   "metadata": {
    "collapsed": false
   },
   "outputs": [
    {
     "name": "stdout",
     "output_type": "stream",
     "text": [
      "{'n_estimators': 150, 'learning_rate': 0.3, 'max_depth': 6}\n",
      "-3.23109609196\n"
     ]
    }
   ],
   "source": [
    "xgb_regr_best = xgb_gs.best_estimator_\n",
    "print xgb_gs.best_params_\n",
    "print xgb_gs.best_score_"
   ]
  },
  {
   "cell_type": "code",
   "execution_count": 311,
   "metadata": {
    "collapsed": false
   },
   "outputs": [
    {
     "name": "stdout",
     "output_type": "stream",
     "text": [
      "Test set score:  -2.78169977152\n"
     ]
    }
   ],
   "source": [
    "print \"Test set score: \", xgb_gs.score(X_test_xgb, Y_test_xgb)"
   ]
  },
  {
   "cell_type": "code",
   "execution_count": 307,
   "metadata": {
    "collapsed": false
   },
   "outputs": [
    {
     "data": {
      "text/plain": [
       "XGBRegressor(base_score=0.5, colsample_bytree=1, gamma=0, learning_rate=0.3,\n",
       "       max_delta_step=0, max_depth=6, min_child_weight=1, missing=None,\n",
       "       n_estimators=150, nthread=-1, objective='rank:pairwise', seed=0,\n",
       "       silent=True, subsample=1)"
      ]
     },
     "execution_count": 307,
     "metadata": {},
     "output_type": "execute_result"
    }
   ],
   "source": [
    "xgb_regr_best.fit(X_train_xgb, Y_train_xgb)"
   ]
  },
  {
   "cell_type": "code",
   "execution_count": 310,
   "metadata": {
    "collapsed": false
   },
   "outputs": [
    {
     "data": {
      "text/plain": [
       "-2.7816997715167227"
      ]
     },
     "execution_count": 310,
     "metadata": {},
     "output_type": "execute_result"
    }
   ],
   "source": [
    "xgb_regr_best.score(X_test_xgb, Y_test_xgb)"
   ]
  },
  {
   "cell_type": "code",
   "execution_count": 312,
   "metadata": {
    "collapsed": true
   },
   "outputs": [],
   "source": [
    "xgb_gs_preds = xgb_regr_best.predict(X_test_xgb)"
   ]
  },
  {
   "cell_type": "code",
   "execution_count": 313,
   "metadata": {
    "collapsed": true
   },
   "outputs": [],
   "source": [
    "xgb_gs_results_df = pd.DataFrame({'Predicted': xgb_gs_preds.tolist(), 'True': Y_test_xgb.tolist()})"
   ]
  },
  {
   "cell_type": "code",
   "execution_count": 314,
   "metadata": {
    "collapsed": false
   },
   "outputs": [
    {
     "data": {
      "image/png": "[encoded data removed]",
      "text/plain": [
       "<matplotlib.figure.Figure at 0x116d55ed0>"
      ]
     },
     "metadata": {},
     "output_type": "display_data"
    }
   ],
   "source": [
    "plt.scatter(xgb_gs_results_df.True, xgb_gs_results_df.Predicted);"
   ]
  },
  {
   "cell_type": "code",
   "execution_count": 315,
   "metadata": {
    "collapsed": false
   },
   "outputs": [
    {
     "data": {
      "text/html": [
       "<div>\n",
       "<table border=\"1\" class=\"dataframe\">\n",
       "  <thead>\n",
       "    <tr style=\"text-align: right;\">\n",
       "      <th></th>\n",
       "      <th>Predicted</th>\n",
       "      <th>True</th>\n",
       "    </tr>\n",
       "  </thead>\n",
       "  <tbody>\n",
       "    <tr>\n",
       "      <th>Predicted</th>\n",
       "      <td>1.000000</td>\n",
       "      <td>0.651122</td>\n",
       "    </tr>\n",
       "    <tr>\n",
       "      <th>True</th>\n",
       "      <td>0.651122</td>\n",
       "      <td>1.000000</td>\n",
       "    </tr>\n",
       "  </tbody>\n",
       "</table>\n",
       "</div>"
      ],
      "text/plain": [
       "           Predicted      True\n",
       "Predicted   1.000000  0.651122\n",
       "True        0.651122  1.000000"
      ]
     },
     "execution_count": 315,
     "metadata": {},
     "output_type": "execute_result"
    }
   ],
   "source": [
    "xgb_gs_results_df.corr()"
   ]
  },
  {
   "cell_type": "code",
   "execution_count": 252,
   "metadata": {
    "collapsed": false
   },
   "outputs": [
    {
     "data": {
      "text/plain": [
       "XGBModel(base_score=0.5, colsample_bytree=1, gamma=0, learning_rate=0.1,\n",
       "     max_delta_step=0, max_depth=3, min_child_weight=1, missing=None,\n",
       "     n_estimators=100, nthread=-1, objective='rank:pairwise', seed=0,\n",
       "     silent=True, subsample=1)"
      ]
     },
     "execution_count": 252,
     "metadata": {},
     "output_type": "execute_result"
    }
   ],
   "source": [
    "xgb_rank.fit(X_train, Y_train)"
   ]
  },
  {
   "cell_type": "code",
   "execution_count": 255,
   "metadata": {
    "collapsed": false
   },
   "outputs": [],
   "source": [
    "xgb_preds = xgb_rank.predict(X_test)"
   ]
  },
  {
   "cell_type": "code",
   "execution_count": 257,
   "metadata": {
    "collapsed": false,
    "scrolled": true
   },
   "outputs": [
    {
     "data": {
      "text/plain": [
       "(array([  9.,  12.,  24.,  14.,  21.,   8.,   0.,  17.,   8.,   9.,   2.,\n",
       "          4.,   0.,   3.,   4.,   5.,   4.,   2.,   2.,   1.,   2.,   0.,\n",
       "          4.,   2.,   2.,   2.,   1.,   1.,   6.,   2.,   0.,   4.,   3.,\n",
       "          3.,   1.,   1.,   0.,   1.,   0.,   1.,   1.,   1.,   0.,   1.,\n",
       "          1.,   1.,   0.,   1.,   1.,   1.,   0.,   1.,   1.,   0.,   0.,\n",
       "          0.,   3.,   2.,   1.,   3.,   0.,   5.,   1.,   1.,   1.,   1.,\n",
       "          2.,   0.,   0.,   0.,   1.,   0.,   0.,   1.,   0.,   0.,   1.,\n",
       "          0.,   0.,   0.,   1.,   2.,   0.,   0.,   0.,   1.,   0.,   0.,\n",
       "          0.,   0.,   0.,   0.,   0.,   0.,   0.,   0.,   0.,   0.,   0.,\n",
       "          1.]),\n",
       " array([-3.84912539, -3.77888451, -3.70864363, -3.63840275, -3.56816187,\n",
       "        -3.49792099, -3.42768011, -3.35743923, -3.28719835, -3.21695747,\n",
       "        -3.14671659, -3.07647572, -3.00623484, -2.93599396, -2.86575308,\n",
       "        -2.7955122 , -2.72527132, -2.65503044, -2.58478956, -2.51454868,\n",
       "        -2.4443078 , -2.37406693, -2.30382605, -2.23358517, -2.16334429,\n",
       "        -2.09310341, -2.02286253, -1.95262165, -1.88238077, -1.81213989,\n",
       "        -1.74189901, -1.67165813, -1.60141726, -1.53117638, -1.4609355 ,\n",
       "        -1.39069462, -1.32045374, -1.25021286, -1.17997198, -1.1097311 ,\n",
       "        -1.03949022, -0.96924934, -0.89900846, -0.82876759, -0.75852671,\n",
       "        -0.68828583, -0.61804495, -0.54780407, -0.47756319, -0.40732231,\n",
       "        -0.33708143, -0.26684055, -0.19659967, -0.1263588 , -0.05611792,\n",
       "         0.01412296,  0.08436384,  0.15460472,  0.2248456 ,  0.29508648,\n",
       "         0.36532736,  0.43556824,  0.50580912,  0.57605   ,  0.64629087,\n",
       "         0.71653175,  0.78677263,  0.85701351,  0.92725439,  0.99749527,\n",
       "         1.06773615,  1.13797703,  1.20821791,  1.27845879,  1.34869967,\n",
       "         1.41894054,  1.48918142,  1.5594223 ,  1.62966318,  1.69990406,\n",
       "         1.77014494,  1.84038582,  1.9106267 ,  1.98086758,  2.05110846,\n",
       "         2.12134933,  2.19159021,  2.26183109,  2.33207197,  2.40231285,\n",
       "         2.47255373,  2.54279461,  2.61303549,  2.68327637,  2.75351725,\n",
       "         2.82375813,  2.893999  ,  2.96423988,  3.03448076,  3.10472164,\n",
       "         3.17496252]),\n",
       " <a list of 100 Patch objects>)"
      ]
     },
     "execution_count": 257,
     "metadata": {},
     "output_type": "execute_result"
    },
    {
     "data": {
      "image/png": "[encoded data removed]",
      "text/plain": [
       "<matplotlib.figure.Figure at 0x11d1e3a10>"
      ]
     },
     "metadata": {},
     "output_type": "display_data"
    }
   ],
   "source": [
    "plt.hist(xgb_preds, bins=100)"
   ]
  },
  {
   "cell_type": "code",
   "execution_count": 252,
   "metadata": {
    "collapsed": false
   },
   "outputs": [
    {
     "data": {
      "text/plain": [
       "XGBModel(base_score=0.5, colsample_bytree=1, gamma=0, learning_rate=0.1,\n",
       "     max_delta_step=0, max_depth=3, min_child_weight=1, missing=None,\n",
       "     n_estimators=100, nthread=-1, objective='rank:pairwise', seed=0,\n",
       "     silent=True, subsample=1)"
      ]
     },
     "execution_count": 252,
     "metadata": {},
     "output_type": "execute_result"
    }
   ],
   "source": [
    "xgb_rank.fit(X_train, Y_train)"
   ]
  },
  {
   "cell_type": "code",
   "execution_count": 255,
   "metadata": {
    "collapsed": false
   },
   "outputs": [],
   "source": [
    "xgb_preds = xgb_rank.predict(X_test)"
   ]
  },
  {
   "cell_type": "code",
   "execution_count": 257,
   "metadata": {
    "collapsed": false,
    "scrolled": true
   },
   "outputs": [
    {
     "data": {
      "text/plain": [
       "(array([  9.,  12.,  24.,  14.,  21.,   8.,   0.,  17.,   8.,   9.,   2.,\n",
       "          4.,   0.,   3.,   4.,   5.,   4.,   2.,   2.,   1.,   2.,   0.,\n",
       "          4.,   2.,   2.,   2.,   1.,   1.,   6.,   2.,   0.,   4.,   3.,\n",
       "          3.,   1.,   1.,   0.,   1.,   0.,   1.,   1.,   1.,   0.,   1.,\n",
       "          1.,   1.,   0.,   1.,   1.,   1.,   0.,   1.,   1.,   0.,   0.,\n",
       "          0.,   3.,   2.,   1.,   3.,   0.,   5.,   1.,   1.,   1.,   1.,\n",
       "          2.,   0.,   0.,   0.,   1.,   0.,   0.,   1.,   0.,   0.,   1.,\n",
       "          0.,   0.,   0.,   1.,   2.,   0.,   0.,   0.,   1.,   0.,   0.,\n",
       "          0.,   0.,   0.,   0.,   0.,   0.,   0.,   0.,   0.,   0.,   0.,\n",
       "          1.]),\n",
       " array([-3.84912539, -3.77888451, -3.70864363, -3.63840275, -3.56816187,\n",
       "        -3.49792099, -3.42768011, -3.35743923, -3.28719835, -3.21695747,\n",
       "        -3.14671659, -3.07647572, -3.00623484, -2.93599396, -2.86575308,\n",
       "        -2.7955122 , -2.72527132, -2.65503044, -2.58478956, -2.51454868,\n",
       "        -2.4443078 , -2.37406693, -2.30382605, -2.23358517, -2.16334429,\n",
       "        -2.09310341, -2.02286253, -1.95262165, -1.88238077, -1.81213989,\n",
       "        -1.74189901, -1.67165813, -1.60141726, -1.53117638, -1.4609355 ,\n",
       "        -1.39069462, -1.32045374, -1.25021286, -1.17997198, -1.1097311 ,\n",
       "        -1.03949022, -0.96924934, -0.89900846, -0.82876759, -0.75852671,\n",
       "        -0.68828583, -0.61804495, -0.54780407, -0.47756319, -0.40732231,\n",
       "        -0.33708143, -0.26684055, -0.19659967, -0.1263588 , -0.05611792,\n",
       "         0.01412296,  0.08436384,  0.15460472,  0.2248456 ,  0.29508648,\n",
       "         0.36532736,  0.43556824,  0.50580912,  0.57605   ,  0.64629087,\n",
       "         0.71653175,  0.78677263,  0.85701351,  0.92725439,  0.99749527,\n",
       "         1.06773615,  1.13797703,  1.20821791,  1.27845879,  1.34869967,\n",
       "         1.41894054,  1.48918142,  1.5594223 ,  1.62966318,  1.69990406,\n",
       "         1.77014494,  1.84038582,  1.9106267 ,  1.98086758,  2.05110846,\n",
       "         2.12134933,  2.19159021,  2.26183109,  2.33207197,  2.40231285,\n",
       "         2.47255373,  2.54279461,  2.61303549,  2.68327637,  2.75351725,\n",
       "         2.82375813,  2.893999  ,  2.96423988,  3.03448076,  3.10472164,\n",
       "         3.17496252]),\n",
       " <a list of 100 Patch objects>)"
      ]
     },
     "execution_count": 257,
     "metadata": {},
     "output_type": "execute_result"
    },
    {
     "data": {
      "image/png": "[encoded data removed]",
      "text/plain": [
       "<matplotlib.figure.Figure at 0x11d1e3a10>"
      ]
     },
     "metadata": {},
     "output_type": "display_data"
    }
   ],
   "source": [
    "plt.hist(xgb_preds, bins=100)"
   ]
  },
  {
   "cell_type": "code",
   "execution_count": 275,
   "metadata": {
    "collapsed": false
   },
   "outputs": [
    {
     "data": {
      "text/plain": [
       "XGBRegressor(base_score=0.5, colsample_bytree=1, gamma=0, learning_rate=0.1,\n",
       "       max_delta_step=0, max_depth=3, min_child_weight=1, missing=None,\n",
       "       n_estimators=100, nthread=-1, objective='rank:pairwise', seed=0,\n",
       "       silent=True, subsample=1)"
      ]
     },
     "execution_count": 275,
     "metadata": {},
     "output_type": "execute_result"
    }
   ],
   "source": [
    "xgb_rank_regr.fit(X_train_xgb, Y_train_xgb)"
   ]
  },
  {
   "cell_type": "code",
   "execution_count": 276,
   "metadata": {
    "collapsed": true
   },
   "outputs": [],
   "source": [
    "xgb_preds_regr = xgb_rank_regr.predict(X_test_xgb)"
   ]
  },
  {
   "cell_type": "code",
   "execution_count": 277,
   "metadata": {
    "collapsed": false
   },
   "outputs": [
    {
     "data": {
      "text/plain": [
       "(array([ 1.,  0.,  0.,  1.,  0.,  0.,  2.,  2.,  2.,  3.,  6.,  3.,  4.,\n",
       "         3.,  2.,  4.,  6.,  4.,  0.,  3.,  1.,  0.,  2.,  2.,  5.,  5.,\n",
       "         2.,  2.,  6.,  4.,  3.,  6.,  5.,  4.,  7.,  8.,  0.,  2.,  4.,\n",
       "         2.,  1.,  3.,  1.,  3.,  5.,  3.,  2.,  3.,  1.,  5.,  5.,  0.,\n",
       "         3.,  3.,  0.,  4.,  3.,  3.,  2.,  0.,  1.,  3.,  1.,  2.,  1.,\n",
       "         3.,  2.,  0.,  4.,  1.,  2.,  2.,  1.,  2.,  2.,  2.,  0.,  2.,\n",
       "         1.,  4.,  3.,  0.,  1.,  3.,  2.,  3.,  1.,  0.,  0.,  2.,  1.,\n",
       "         0.,  2.,  0.,  2.,  0.,  0.,  0.,  0.,  1.]),\n",
       " array([-1.9276135 , -1.87154961, -1.81548572, -1.75942183, -1.70335794,\n",
       "        -1.64729406, -1.59123017, -1.53516628, -1.47910239, -1.4230385 ,\n",
       "        -1.36697462, -1.31091073, -1.25484684, -1.19878295, -1.14271906,\n",
       "        -1.08665518, -1.03059129, -0.9745274 , -0.91846351, -0.86239962,\n",
       "        -0.80633574, -0.75027185, -0.69420796, -0.63814407, -0.58208018,\n",
       "        -0.52601629, -0.46995241, -0.41388852, -0.35782463, -0.30176074,\n",
       "        -0.24569685, -0.18963297, -0.13356908, -0.07750519, -0.0214413 ,\n",
       "         0.03462259,  0.09068647,  0.14675036,  0.20281425,  0.25887814,\n",
       "         0.31494203,  0.37100591,  0.4270698 ,  0.48313369,  0.53919758,\n",
       "         0.59526147,  0.65132535,  0.70738924,  0.76345313,  0.81951702,\n",
       "         0.87558091,  0.93164479,  0.98770868,  1.04377257,  1.09983646,\n",
       "         1.15590035,  1.21196424,  1.26802812,  1.32409201,  1.3801559 ,\n",
       "         1.43621979,  1.49228368,  1.54834756,  1.60441145,  1.66047534,\n",
       "         1.71653923,  1.77260312,  1.828667  ,  1.88473089,  1.94079478,\n",
       "         1.99685867,  2.05292256,  2.10898644,  2.16505033,  2.22111422,\n",
       "         2.27717811,  2.333242  ,  2.38930588,  2.44536977,  2.50143366,\n",
       "         2.55749755,  2.61356144,  2.66962533,  2.72568921,  2.7817531 ,\n",
       "         2.83781699,  2.89388088,  2.94994477,  3.00600865,  3.06207254,\n",
       "         3.11813643,  3.17420032,  3.23026421,  3.28632809,  3.34239198,\n",
       "         3.39845587,  3.45451976,  3.51058365,  3.56664753,  3.62271142,\n",
       "         3.67877531]),\n",
       " <a list of 100 Patch objects>)"
      ]
     },
     "execution_count": 277,
     "metadata": {},
     "output_type": "execute_result"
    },
    {
     "data": {
      "image/png": "[encoded data removed]",
      "text/plain": [
       "<matplotlib.figure.Figure at 0x11c95dcd0>"
      ]
     },
     "metadata": {},
     "output_type": "display_data"
    }
   ],
   "source": [
    "plt.hist(xgb_preds_regr, bins=100)"
   ]
  },
  {
   "cell_type": "code",
   "execution_count": 291,
   "metadata": {
    "collapsed": false
   },
   "outputs": [
    {
     "data": {
      "text/plain": [
       "[1.0044519901275635,\n",
       " 0.30647221207618713,\n",
       " 0.5547866225242615,\n",
       " 0.7953309416770935,\n",
       " -1.0222893953323364,\n",
       " 1.0796252489089966,\n",
       " -0.9716172218322754,\n",
       " -1.3219165802001953,\n",
       " 3.2503387928009033,\n",
       " 2.5410141944885254,\n",
       " 2.011518955230713,\n",
       " 3.3621039390563965,\n",
       " -0.32977211475372314,\n",
       " 0.4109118580818176,\n",
       " 0.047301292419433594,\n",
       " 2.308042526245117,\n",
       " 0.22937610745429993,\n",
       " 1.8953899145126343,\n",
       " 2.9343414306640625,\n",
       " 1.2010622024536133,\n",
       " -0.565445065498352,\n",
       " 0.5746579170227051,\n",
       " -1.0345178842544556,\n",
       " 0.5201082229614258,\n",
       " -0.8386609554290771,\n",
       " -0.5037823915481567,\n",
       " 0.520495593547821,\n",
       " 2.0568912029266357,\n",
       " 0.5952466726303101,\n",
       " 1.9257968664169312,\n",
       " -0.6616928577423096,\n",
       " -1.0145577192306519,\n",
       " 0.5488067865371704,\n",
       " -0.6293338537216187,\n",
       " 2.1202025413513184,\n",
       " 2.5307250022888184,\n",
       " 1.2048707008361816,\n",
       " 0.8649795055389404,\n",
       " -0.998563289642334,\n",
       " 1.220019817352295,\n",
       " 0.8337808847427368,\n",
       " -0.7638993263244629,\n",
       " 0.08459076285362244,\n",
       " -0.11269700527191162,\n",
       " 0.32707372307777405,\n",
       " 1.6414389610290527,\n",
       " -1.2266994714736938,\n",
       " -0.5001981258392334,\n",
       " 3.1214232444763184,\n",
       " 2.8720288276672363,\n",
       " 1.0694724321365356,\n",
       " -1.1625052690505981,\n",
       " 2.874603271484375,\n",
       " -0.08658093214035034,\n",
       " -0.30804651975631714,\n",
       " 1.6755797863006592,\n",
       " 1.0028350353240967,\n",
       " -1.4019984006881714,\n",
       " -1.722428321838379,\n",
       " -0.01495826244354248,\n",
       " -1.3076918125152588,\n",
       " -0.11928898096084595,\n",
       " -1.2617628574371338,\n",
       " -1.0466538667678833,\n",
       " 1.4948360919952393,\n",
       " 1.5387741327285767,\n",
       " 1.4700719118118286,\n",
       " -0.24075859785079956,\n",
       " -0.5619301795959473,\n",
       " -0.6791789531707764,\n",
       " -1.4901728630065918,\n",
       " 0.0363217294216156,\n",
       " -1.2415286302566528,\n",
       " -0.38734954595565796,\n",
       " -0.36851179599761963,\n",
       " 0.8891888856887817,\n",
       " -1.3389735221862793,\n",
       " -0.24160444736480713,\n",
       " -0.14989429712295532,\n",
       " -0.8154562711715698,\n",
       " 0.8959529399871826,\n",
       " 0.0728214681148529,\n",
       " 3.0825319290161133,\n",
       " 0.737445592880249,\n",
       " 2.2984018325805664,\n",
       " 1.3209782838821411,\n",
       " 0.4089949429035187,\n",
       " 3.6787753105163574,\n",
       " 0.0553053617477417,\n",
       " 0.6529419422149658,\n",
       " -0.2541388273239136,\n",
       " -0.3053433895111084,\n",
       " -1.0281344652175903,\n",
       " 2.089273452758789,\n",
       " 0.0848977267742157,\n",
       " -0.11747884750366211,\n",
       " 1.5056588649749756,\n",
       " -0.11618411540985107,\n",
       " -0.05274498462677002,\n",
       " 2.1940219402313232,\n",
       " -1.4327399730682373,\n",
       " 0.8731627464294434,\n",
       " -1.204263687133789,\n",
       " 0.027936995029449463,\n",
       " -1.1902892589569092,\n",
       " 1.0476574897766113,\n",
       " -0.34172266721725464,\n",
       " 2.2745652198791504,\n",
       " 1.3333841562271118,\n",
       " 1.7707396745681763,\n",
       " 2.5411458015441895,\n",
       " 0.24487808346748352,\n",
       " 2.393470048904419,\n",
       " 0.8667507171630859,\n",
       " -0.19339412450790405,\n",
       " 0.6057798862457275,\n",
       " -0.029043495655059814,\n",
       " -0.29633277654647827,\n",
       " -1.0221986770629883,\n",
       " 2.052582263946533,\n",
       " 2.25632643699646,\n",
       " 0.2812519669532776,\n",
       " -0.2739638090133667,\n",
       " 0.21072092652320862,\n",
       " 1.7583614587783813,\n",
       " 0.8564685583114624,\n",
       " -1.0720393657684326,\n",
       " 2.757262706756592,\n",
       " 0.9177742004394531,\n",
       " 1.3618855476379395,\n",
       " -0.16814231872558594,\n",
       " 3.389559745788574,\n",
       " 0.7096378207206726,\n",
       " -1.3135803937911987,\n",
       " 1.3000454902648926,\n",
       " 0.04499730467796326,\n",
       " 1.7477831840515137,\n",
       " 0.38322901725769043,\n",
       " -1.4861648082733154,\n",
       " -0.48423242568969727,\n",
       " -0.9733617305755615,\n",
       " -0.18210792541503906,\n",
       " 1.2621879577636719,\n",
       " 1.7817308902740479,\n",
       " -0.020833611488342285,\n",
       " -1.1304430961608887,\n",
       " -0.01483219861984253,\n",
       " -0.5721876621246338,\n",
       " -0.5013524293899536,\n",
       " -0.0748591423034668,\n",
       " 0.6368276476860046,\n",
       " 1.1606502532958984,\n",
       " 0.02288919687271118,\n",
       " 0.9167131781578064,\n",
       " 2.808659076690674,\n",
       " 2.6805615425109863,\n",
       " 1.9394677877426147,\n",
       " 0.4735153019428253,\n",
       " 1.3131165504455566,\n",
       " 1.5578758716583252,\n",
       " -1.9276134967803955,\n",
       " -0.6364482641220093,\n",
       " 0.7497823238372803,\n",
       " 2.5965685844421387,\n",
       " 2.807441234588623,\n",
       " -1.2791483402252197,\n",
       " 0.0558355450630188,\n",
       " -1.0815486907958984,\n",
       " -0.5194573402404785,\n",
       " -0.2729300260543823,\n",
       " -1.3780277967453003,\n",
       " 2.776193618774414,\n",
       " 2.777365207672119,\n",
       " 0.8891397714614868,\n",
       " 2.4568638801574707,\n",
       " -0.3211367130279541,\n",
       " -0.06178116798400879,\n",
       " 0.024063527584075928,\n",
       " -0.45124250650405884,\n",
       " 2.40701961517334,\n",
       " -1.2204968929290771,\n",
       " -0.18538719415664673,\n",
       " -0.825232744216919,\n",
       " -1.5632822513580322,\n",
       " 0.1547761857509613,\n",
       " -1.3295345306396484,\n",
       " -1.5612099170684814,\n",
       " -0.5332337617874146,\n",
       " -0.5311340093612671,\n",
       " 2.5083258152008057,\n",
       " -1.184070348739624,\n",
       " 0.16121035814285278,\n",
       " 1.8053358793258667,\n",
       " -0.16959071159362793,\n",
       " -1.1141245365142822,\n",
       " -1.0017441511154175,\n",
       " 2.8511385917663574,\n",
       " 0.03237321972846985,\n",
       " -0.18748676776885986,\n",
       " 1.2072968482971191,\n",
       " 1.9898420572280884,\n",
       " 0.49622002243995667,\n",
       " -0.9655019044876099,\n",
       " 1.6046319007873535,\n",
       " -1.46282958984375,\n",
       " 2.1889963150024414,\n",
       " 3.27227783203125,\n",
       " 1.8946644067764282,\n",
       " 0.2540488839149475,\n",
       " -1.3376669883728027,\n",
       " 1.2136166095733643,\n",
       " -0.30497390031814575,\n",
       " 1.0408433675765991,\n",
       " 3.095518112182617,\n",
       " -1.317912220954895,\n",
       " 2.576469898223877,\n",
       " 0.6050431728363037,\n",
       " -0.4315043091773987,\n",
       " -0.9298040866851807,\n",
       " 2.6066160202026367,\n",
       " 0.6744114756584167,\n",
       " 0.5456998944282532,\n",
       " -1.4033544063568115]"
      ]
     },
     "execution_count": 291,
     "metadata": {},
     "output_type": "execute_result"
    }
   ],
   "source": [
    "xgb_preds_regr.tolist()"
   ]
  },
  {
   "cell_type": "code",
   "execution_count": 286,
   "metadata": {
    "collapsed": false
   },
   "outputs": [
    {
     "data": {
      "text/plain": [
       "array([[ 1.00445199],\n",
       "       [ 0.30647221],\n",
       "       [ 0.55478662],\n",
       "       [ 0.79533094],\n",
       "       [-1.0222894 ],\n",
       "       [ 1.07962525],\n",
       "       [-0.97161722],\n",
       "       [-1.32191658],\n",
       "       [ 3.25033879],\n",
       "       [ 2.54101419],\n",
       "       [ 2.01151896],\n",
       "       [ 3.36210394],\n",
       "       [-0.32977211],\n",
       "       [ 0.41091186],\n",
       "       [ 0.04730129],\n",
       "       [ 2.30804253],\n",
       "       [ 0.22937611],\n",
       "       [ 1.89538991],\n",
       "       [ 2.93434143],\n",
       "       [ 1.2010622 ],\n",
       "       [-0.56544507],\n",
       "       [ 0.57465792],\n",
       "       [-1.03451788],\n",
       "       [ 0.52010822],\n",
       "       [-0.83866096],\n",
       "       [-0.50378239],\n",
       "       [ 0.52049559],\n",
       "       [ 2.0568912 ],\n",
       "       [ 0.59524667],\n",
       "       [ 1.92579687],\n",
       "       [-0.66169286],\n",
       "       [-1.01455772],\n",
       "       [ 0.54880679],\n",
       "       [-0.62933385],\n",
       "       [ 2.12020254],\n",
       "       [ 2.530725  ],\n",
       "       [ 1.2048707 ],\n",
       "       [ 0.86497951],\n",
       "       [-0.99856329],\n",
       "       [ 1.22001982],\n",
       "       [ 0.83378088],\n",
       "       [-0.76389933],\n",
       "       [ 0.08459076],\n",
       "       [-0.11269701],\n",
       "       [ 0.32707372],\n",
       "       [ 1.64143896],\n",
       "       [-1.22669947],\n",
       "       [-0.50019813],\n",
       "       [ 3.12142324],\n",
       "       [ 2.87202883],\n",
       "       [ 1.06947243],\n",
       "       [-1.16250527],\n",
       "       [ 2.87460327],\n",
       "       [-0.08658093],\n",
       "       [-0.30804652],\n",
       "       [ 1.67557979],\n",
       "       [ 1.00283504],\n",
       "       [-1.4019984 ],\n",
       "       [-1.72242832],\n",
       "       [-0.01495826],\n",
       "       [-1.30769181],\n",
       "       [-0.11928898],\n",
       "       [-1.26176286],\n",
       "       [-1.04665387],\n",
       "       [ 1.49483609],\n",
       "       [ 1.53877413],\n",
       "       [ 1.47007191],\n",
       "       [-0.2407586 ],\n",
       "       [-0.56193018],\n",
       "       [-0.67917895],\n",
       "       [-1.49017286],\n",
       "       [ 0.03632173],\n",
       "       [-1.24152863],\n",
       "       [-0.38734955],\n",
       "       [-0.3685118 ],\n",
       "       [ 0.88918889],\n",
       "       [-1.33897352],\n",
       "       [-0.24160445],\n",
       "       [-0.1498943 ],\n",
       "       [-0.81545627],\n",
       "       [ 0.89595294],\n",
       "       [ 0.07282147],\n",
       "       [ 3.08253193],\n",
       "       [ 0.73744559],\n",
       "       [ 2.29840183],\n",
       "       [ 1.32097828],\n",
       "       [ 0.40899494],\n",
       "       [ 3.67877531],\n",
       "       [ 0.05530536],\n",
       "       [ 0.65294194],\n",
       "       [-0.25413883],\n",
       "       [-0.30534339],\n",
       "       [-1.02813447],\n",
       "       [ 2.08927345],\n",
       "       [ 0.08489773],\n",
       "       [-0.11747885],\n",
       "       [ 1.50565886],\n",
       "       [-0.11618412],\n",
       "       [-0.05274498],\n",
       "       [ 2.19402194],\n",
       "       [-1.43273997],\n",
       "       [ 0.87316275],\n",
       "       [-1.20426369],\n",
       "       [ 0.027937  ],\n",
       "       [-1.19028926],\n",
       "       [ 1.04765749],\n",
       "       [-0.34172267],\n",
       "       [ 2.27456522],\n",
       "       [ 1.33338416],\n",
       "       [ 1.77073967],\n",
       "       [ 2.5411458 ],\n",
       "       [ 0.24487808],\n",
       "       [ 2.39347005],\n",
       "       [ 0.86675072],\n",
       "       [-0.19339412],\n",
       "       [ 0.60577989],\n",
       "       [-0.0290435 ],\n",
       "       [-0.29633278],\n",
       "       [-1.02219868],\n",
       "       [ 2.05258226],\n",
       "       [ 2.25632644],\n",
       "       [ 0.28125197],\n",
       "       [-0.27396381],\n",
       "       [ 0.21072093],\n",
       "       [ 1.75836146],\n",
       "       [ 0.85646856],\n",
       "       [-1.07203937],\n",
       "       [ 2.75726271],\n",
       "       [ 0.9177742 ],\n",
       "       [ 1.36188555],\n",
       "       [-0.16814232],\n",
       "       [ 3.38955975],\n",
       "       [ 0.70963782],\n",
       "       [-1.31358039],\n",
       "       [ 1.30004549],\n",
       "       [ 0.0449973 ],\n",
       "       [ 1.74778318],\n",
       "       [ 0.38322902],\n",
       "       [-1.48616481],\n",
       "       [-0.48423243],\n",
       "       [-0.97336173],\n",
       "       [-0.18210793],\n",
       "       [ 1.26218796],\n",
       "       [ 1.78173089],\n",
       "       [-0.02083361],\n",
       "       [-1.1304431 ],\n",
       "       [-0.0148322 ],\n",
       "       [-0.57218766],\n",
       "       [-0.50135243],\n",
       "       [-0.07485914],\n",
       "       [ 0.63682765],\n",
       "       [ 1.16065025],\n",
       "       [ 0.0228892 ],\n",
       "       [ 0.91671318],\n",
       "       [ 2.80865908],\n",
       "       [ 2.68056154],\n",
       "       [ 1.93946779],\n",
       "       [ 0.4735153 ],\n",
       "       [ 1.31311655],\n",
       "       [ 1.55787587],\n",
       "       [-1.9276135 ],\n",
       "       [-0.63644826],\n",
       "       [ 0.74978232],\n",
       "       [ 2.59656858],\n",
       "       [ 2.80744123],\n",
       "       [-1.27914834],\n",
       "       [ 0.05583555],\n",
       "       [-1.08154869],\n",
       "       [-0.51945734],\n",
       "       [-0.27293003],\n",
       "       [-1.3780278 ],\n",
       "       [ 2.77619362],\n",
       "       [ 2.77736521],\n",
       "       [ 0.88913977],\n",
       "       [ 2.45686388],\n",
       "       [-0.32113671],\n",
       "       [-0.06178117],\n",
       "       [ 0.02406353],\n",
       "       [-0.45124251],\n",
       "       [ 2.40701962],\n",
       "       [-1.22049689],\n",
       "       [-0.18538719],\n",
       "       [-0.82523274],\n",
       "       [-1.56328225],\n",
       "       [ 0.15477619],\n",
       "       [-1.32953453],\n",
       "       [-1.56120992],\n",
       "       [-0.53323376],\n",
       "       [-0.53113401],\n",
       "       [ 2.50832582],\n",
       "       [-1.18407035],\n",
       "       [ 0.16121036],\n",
       "       [ 1.80533588],\n",
       "       [-0.16959071],\n",
       "       [-1.11412454],\n",
       "       [-1.00174415],\n",
       "       [ 2.85113859],\n",
       "       [ 0.03237322],\n",
       "       [-0.18748677],\n",
       "       [ 1.20729685],\n",
       "       [ 1.98984206],\n",
       "       [ 0.49622002],\n",
       "       [-0.9655019 ],\n",
       "       [ 1.6046319 ],\n",
       "       [-1.46282959],\n",
       "       [ 2.18899632],\n",
       "       [ 3.27227783],\n",
       "       [ 1.89466441],\n",
       "       [ 0.25404888],\n",
       "       [-1.33766699],\n",
       "       [ 1.21361661],\n",
       "       [-0.3049739 ],\n",
       "       [ 1.04084337],\n",
       "       [ 3.09551811],\n",
       "       [-1.31791222],\n",
       "       [ 2.5764699 ],\n",
       "       [ 0.60504317],\n",
       "       [-0.43150431],\n",
       "       [-0.92980409],\n",
       "       [ 2.60661602],\n",
       "       [ 0.67441148],\n",
       "       [ 0.54569989],\n",
       "       [-1.40335441]], dtype=float32)"
      ]
     },
     "execution_count": 286,
     "metadata": {},
     "output_type": "execute_result"
    }
   ],
   "source": [
    "xgb_preds_regr.reshape((223,1))"
   ]
  },
  {
   "cell_type": "code",
   "execution_count": 292,
   "metadata": {
    "collapsed": false
   },
   "outputs": [],
   "source": [
    "xgb_results_df = pd.DataFrame({'Predicted': xgb_preds_regr.tolist(), 'True': Y_test_xgb.tolist()})"
   ]
  },
  {
   "cell_type": "code",
   "execution_count": 293,
   "metadata": {
    "collapsed": false
   },
   "outputs": [
    {
     "data": {
      "text/html": [
       "<div>\n",
       "<table border=\"1\" class=\"dataframe\">\n",
       "  <thead>\n",
       "    <tr style=\"text-align: right;\">\n",
       "      <th></th>\n",
       "      <th>Predicted</th>\n",
       "      <th>True</th>\n",
       "    </tr>\n",
       "  </thead>\n",
       "  <tbody>\n",
       "    <tr>\n",
       "      <th>0</th>\n",
       "      <td>1.004452</td>\n",
       "      <td>91.0</td>\n",
       "    </tr>\n",
       "    <tr>\n",
       "      <th>1</th>\n",
       "      <td>0.306472</td>\n",
       "      <td>239.0</td>\n",
       "    </tr>\n",
       "    <tr>\n",
       "      <th>2</th>\n",
       "      <td>0.554787</td>\n",
       "      <td>318.0</td>\n",
       "    </tr>\n",
       "    <tr>\n",
       "      <th>3</th>\n",
       "      <td>0.795331</td>\n",
       "      <td>367.0</td>\n",
       "    </tr>\n",
       "    <tr>\n",
       "      <th>4</th>\n",
       "      <td>-1.022289</td>\n",
       "      <td>65.0</td>\n",
       "    </tr>\n",
       "  </tbody>\n",
       "</table>\n",
       "</div>"
      ],
      "text/plain": [
       "   Predicted   True\n",
       "0   1.004452   91.0\n",
       "1   0.306472  239.0\n",
       "2   0.554787  318.0\n",
       "3   0.795331  367.0\n",
       "4  -1.022289   65.0"
      ]
     },
     "execution_count": 293,
     "metadata": {},
     "output_type": "execute_result"
    }
   ],
   "source": [
    "xgb_results_df.head()"
   ]
  },
  {
   "cell_type": "code",
   "execution_count": 295,
   "metadata": {
    "collapsed": false
   },
   "outputs": [],
   "source": [
    "xgb_results_df.to_csv('xgb_results.csv')"
   ]
  },
  {
   "cell_type": "code",
   "execution_count": 296,
   "metadata": {
    "collapsed": false
   },
   "outputs": [
    {
     "data": {
      "image/png": "[encoded data removed]",
      "text/plain": [
       "<matplotlib.figure.Figure at 0x119865210>"
      ]
     },
     "metadata": {},
     "output_type": "display_data"
    }
   ],
   "source": [
    "plt.scatter(xgb_results_df.True, xgb_results_df.Predicted);"
   ]
  },
  {
   "cell_type": "code",
   "execution_count": 316,
   "metadata": {
    "collapsed": false
   },
   "outputs": [
    {
     "data": {
      "text/html": [
       "<div>\n",
       "<table border=\"1\" class=\"dataframe\">\n",
       "  <thead>\n",
       "    <tr style=\"text-align: right;\">\n",
       "      <th></th>\n",
       "      <th>Predicted</th>\n",
       "      <th>True</th>\n",
       "    </tr>\n",
       "  </thead>\n",
       "  <tbody>\n",
       "    <tr>\n",
       "      <th>Predicted</th>\n",
       "      <td>1.000000</td>\n",
       "      <td>0.699832</td>\n",
       "    </tr>\n",
       "    <tr>\n",
       "      <th>True</th>\n",
       "      <td>0.699832</td>\n",
       "      <td>1.000000</td>\n",
       "    </tr>\n",
       "  </tbody>\n",
       "</table>\n",
       "</div>"
      ],
      "text/plain": [
       "           Predicted      True\n",
       "Predicted   1.000000  0.699832\n",
       "True        0.699832  1.000000"
      ]
     },
     "execution_count": 316,
     "metadata": {},
     "output_type": "execute_result"
    }
   ],
   "source": [
    "xgb_results_df.corr()"
   ]
  },
  {
   "cell_type": "code",
   "execution_count": 268,
   "metadata": {
    "collapsed": false
   },
   "outputs": [
    {
     "data": {
      "text/plain": [
       "XGBModel(base_score=0.5, colsample_bytree=1, gamma=0, learning_rate=0.1,\n",
       "     max_delta_step=0, max_depth=3, min_child_weight=1, missing=None,\n",
       "     n_estimators=100, nthread=-1, objective='rank:pairwise', seed=0,\n",
       "     silent=True, subsample=1)"
      ]
     },
     "execution_count": 268,
     "metadata": {},
     "output_type": "execute_result"
    }
   ],
   "source": [
    "xgb_rank.fit(X_train_xgb, Y_train_xgb)"
   ]
  },
  {
   "cell_type": "code",
   "execution_count": 269,
   "metadata": {
    "collapsed": false
   },
   "outputs": [],
   "source": [
    "xgb_preds = xgb_rank.predict(X_test_xgb)"
   ]
  },
  {
   "cell_type": "code",
   "execution_count": 270,
   "metadata": {
    "collapsed": false,
    "scrolled": true
   },
   "outputs": [
    {
     "data": {
      "text/plain": [
       "(array([ 1.,  0.,  0.,  1.,  0.,  0.,  2.,  2.,  2.,  3.,  6.,  3.,  4.,\n",
       "         3.,  2.,  4.,  6.,  4.,  0.,  3.,  1.,  0.,  2.,  2.,  5.,  5.,\n",
       "         2.,  2.,  6.,  4.,  3.,  6.,  5.,  4.,  7.,  8.,  0.,  2.,  4.,\n",
       "         2.,  1.,  3.,  1.,  3.,  5.,  3.,  2.,  3.,  1.,  5.,  5.,  0.,\n",
       "         3.,  3.,  0.,  4.,  3.,  3.,  2.,  0.,  1.,  3.,  1.,  2.,  1.,\n",
       "         3.,  2.,  0.,  4.,  1.,  2.,  2.,  1.,  2.,  2.,  2.,  0.,  2.,\n",
       "         1.,  4.,  3.,  0.,  1.,  3.,  2.,  3.,  1.,  0.,  0.,  2.,  1.,\n",
       "         0.,  2.,  0.,  2.,  0.,  0.,  0.,  0.,  1.]),\n",
       " array([-1.9276135 , -1.87154961, -1.81548572, -1.75942183, -1.70335794,\n",
       "        -1.64729406, -1.59123017, -1.53516628, -1.47910239, -1.4230385 ,\n",
       "        -1.36697462, -1.31091073, -1.25484684, -1.19878295, -1.14271906,\n",
       "        -1.08665518, -1.03059129, -0.9745274 , -0.91846351, -0.86239962,\n",
       "        -0.80633574, -0.75027185, -0.69420796, -0.63814407, -0.58208018,\n",
       "        -0.52601629, -0.46995241, -0.41388852, -0.35782463, -0.30176074,\n",
       "        -0.24569685, -0.18963297, -0.13356908, -0.07750519, -0.0214413 ,\n",
       "         0.03462259,  0.09068647,  0.14675036,  0.20281425,  0.25887814,\n",
       "         0.31494203,  0.37100591,  0.4270698 ,  0.48313369,  0.53919758,\n",
       "         0.59526147,  0.65132535,  0.70738924,  0.76345313,  0.81951702,\n",
       "         0.87558091,  0.93164479,  0.98770868,  1.04377257,  1.09983646,\n",
       "         1.15590035,  1.21196424,  1.26802812,  1.32409201,  1.3801559 ,\n",
       "         1.43621979,  1.49228368,  1.54834756,  1.60441145,  1.66047534,\n",
       "         1.71653923,  1.77260312,  1.828667  ,  1.88473089,  1.94079478,\n",
       "         1.99685867,  2.05292256,  2.10898644,  2.16505033,  2.22111422,\n",
       "         2.27717811,  2.333242  ,  2.38930588,  2.44536977,  2.50143366,\n",
       "         2.55749755,  2.61356144,  2.66962533,  2.72568921,  2.7817531 ,\n",
       "         2.83781699,  2.89388088,  2.94994477,  3.00600865,  3.06207254,\n",
       "         3.11813643,  3.17420032,  3.23026421,  3.28632809,  3.34239198,\n",
       "         3.39845587,  3.45451976,  3.51058365,  3.56664753,  3.62271142,\n",
       "         3.67877531]),\n",
       " <a list of 100 Patch objects>)"
      ]
     },
     "execution_count": 270,
     "metadata": {},
     "output_type": "execute_result"
    },
    {
     "data": {
      "image/png": "[encoded data removed]",
      "text/plain": [
       "<matplotlib.figure.Figure at 0x12390f350>"
      ]
     },
     "metadata": {},
     "output_type": "display_data"
    }
   ],
   "source": [
    "plt.hist(xgb_preds, bins=100)"
   ]
  },
  {
   "cell_type": "code",
   "execution_count": null,
   "metadata": {
    "collapsed": true
   },
   "outputs": [],
   "source": []
  }
 ],
 "metadata": {
  "anaconda-cloud": {},
  "kernelspec": {
   "display_name": "Python [conda env:dsi]",
   "language": "python",
   "name": "conda-env-dsi-py"
  },
  "language_info": {
   "codemirror_mode": {
    "name": "ipython",
    "version": 2
   },
   "file_extension": ".py",
   "mimetype": "text/x-python",
   "name": "python",
   "nbconvert_exporter": "python",
   "pygments_lexer": "ipython2",
   "version": "2.7.12"
  }
 },
 "nbformat": 4,
 "nbformat_minor": 1
}
