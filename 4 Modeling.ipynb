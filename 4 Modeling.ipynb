{
 "cells": [
  {
   "cell_type": "code",
   "execution_count": 2,
   "metadata": {
    "collapsed": true
   },
   "outputs": [],
   "source": [
    "from sqlalchemy import create_engine\n",
    "import psycopg2\n",
    "import pandas as pd\n",
    "import numpy as np\n",
    "import seaborn as sns\n",
    "import matplotlib.pyplot as plt\n",
    "%matplotlib inline\n",
    "import pickle"
   ]
  },
  {
   "cell_type": "code",
   "execution_count": 3,
   "metadata": {
    "collapsed": true
   },
   "outputs": [],
   "source": [
    "from sklearn.model_selection import train_test_split, StratifiedKFold, KFold, cross_val_score, GridSearchCV\n",
    "from sklearn.metrics import accuracy_score, precision_score, recall_score, f1_score, classification_report\n",
    "from sklearn.metrics import roc_curve, auc, confusion_matrix, precision_recall_curve, average_precision_score\n",
    "from sklearn.preprocessing import scale, MinMaxScaler, normalize, StandardScaler, OneHotEncoder\n",
    "from sklearn.neighbors import KNeighborsClassifier\n",
    "from sklearn.linear_model import LogisticRegression, SGDClassifier\n",
    "from sklearn.utils import shuffle\n",
    "from sklearn.ensemble import RandomForestClassifier, GradientBoostingClassifier\n",
    "from sklearn.svm import SVC"
   ]
  },
  {
   "cell_type": "code",
   "execution_count": 4,
   "metadata": {
    "collapsed": true
   },
   "outputs": [],
   "source": [
    "#hotel-level predictors, with rooms and price variables scaled\n",
    "Xn_df = pd.read_pickle('Xn_df.pickle')"
   ]
  },
  {
   "cell_type": "code",
   "execution_count": 5,
   "metadata": {
    "collapsed": true
   },
   "outputs": [],
   "source": [
    "#same as Xn_df, but with hotel_name, top_30 and rank_num columns added, and with none of the predictors scaled\n",
    "XY_df = pd.read_pickle('XY_df.pickle')"
   ]
  },
  {
   "cell_type": "code",
   "execution_count": 6,
   "metadata": {
    "collapsed": false
   },
   "outputs": [
    {
     "data": {
      "text/html": [
       "<div>\n",
       "<table border=\"1\" class=\"dataframe\">\n",
       "  <thead>\n",
       "    <tr style=\"text-align: right;\">\n",
       "      <th></th>\n",
       "      <th>count</th>\n",
       "      <th>mean</th>\n",
       "      <th>std</th>\n",
       "      <th>min</th>\n",
       "      <th>25%</th>\n",
       "      <th>50%</th>\n",
       "      <th>75%</th>\n",
       "      <th>max</th>\n",
       "    </tr>\n",
       "  </thead>\n",
       "  <tbody>\n",
       "    <tr>\n",
       "      <th>top30</th>\n",
       "      <td>440.0</td>\n",
       "      <td>0.068182</td>\n",
       "      <td>0.252345</td>\n",
       "      <td>0.0</td>\n",
       "      <td>0.00</td>\n",
       "      <td>0.0</td>\n",
       "      <td>0.00</td>\n",
       "      <td>1.0</td>\n",
       "    </tr>\n",
       "    <tr>\n",
       "      <th>rank_num</th>\n",
       "      <td>440.0</td>\n",
       "      <td>220.500000</td>\n",
       "      <td>127.161315</td>\n",
       "      <td>1.0</td>\n",
       "      <td>110.75</td>\n",
       "      <td>220.5</td>\n",
       "      <td>330.25</td>\n",
       "      <td>440.0</td>\n",
       "    </tr>\n",
       "    <tr>\n",
       "      <th>rooms_num</th>\n",
       "      <td>440.0</td>\n",
       "      <td>227.307610</td>\n",
       "      <td>250.577024</td>\n",
       "      <td>4.0</td>\n",
       "      <td>89.00</td>\n",
       "      <td>160.0</td>\n",
       "      <td>261.00</td>\n",
       "      <td>1957.0</td>\n",
       "    </tr>\n",
       "    <tr>\n",
       "      <th>prange_low</th>\n",
       "      <td>440.0</td>\n",
       "      <td>244.164050</td>\n",
       "      <td>113.659115</td>\n",
       "      <td>58.0</td>\n",
       "      <td>187.00</td>\n",
       "      <td>217.0</td>\n",
       "      <td>267.25</td>\n",
       "      <td>869.0</td>\n",
       "    </tr>\n",
       "    <tr>\n",
       "      <th>prange_high</th>\n",
       "      <td>440.0</td>\n",
       "      <td>514.266779</td>\n",
       "      <td>283.934119</td>\n",
       "      <td>109.0</td>\n",
       "      <td>385.00</td>\n",
       "      <td>458.0</td>\n",
       "      <td>553.00</td>\n",
       "      <td>3154.0</td>\n",
       "    </tr>\n",
       "    <tr>\n",
       "      <th>amen_wifi</th>\n",
       "      <td>440.0</td>\n",
       "      <td>0.804545</td>\n",
       "      <td>0.397002</td>\n",
       "      <td>0.0</td>\n",
       "      <td>1.00</td>\n",
       "      <td>1.0</td>\n",
       "      <td>1.00</td>\n",
       "      <td>1.0</td>\n",
       "    </tr>\n",
       "    <tr>\n",
       "      <th>amen_room_service</th>\n",
       "      <td>440.0</td>\n",
       "      <td>0.484091</td>\n",
       "      <td>0.500316</td>\n",
       "      <td>0.0</td>\n",
       "      <td>0.00</td>\n",
       "      <td>0.0</td>\n",
       "      <td>1.00</td>\n",
       "      <td>1.0</td>\n",
       "    </tr>\n",
       "    <tr>\n",
       "      <th>amen_restaurant</th>\n",
       "      <td>440.0</td>\n",
       "      <td>0.529545</td>\n",
       "      <td>0.499694</td>\n",
       "      <td>0.0</td>\n",
       "      <td>0.00</td>\n",
       "      <td>1.0</td>\n",
       "      <td>1.00</td>\n",
       "      <td>1.0</td>\n",
       "    </tr>\n",
       "    <tr>\n",
       "      <th>amen_bar_lounge</th>\n",
       "      <td>440.0</td>\n",
       "      <td>0.593182</td>\n",
       "      <td>0.491800</td>\n",
       "      <td>0.0</td>\n",
       "      <td>0.00</td>\n",
       "      <td>1.0</td>\n",
       "      <td>1.00</td>\n",
       "      <td>1.0</td>\n",
       "    </tr>\n",
       "    <tr>\n",
       "      <th>amen_gym</th>\n",
       "      <td>440.0</td>\n",
       "      <td>0.677273</td>\n",
       "      <td>0.468052</td>\n",
       "      <td>0.0</td>\n",
       "      <td>0.00</td>\n",
       "      <td>1.0</td>\n",
       "      <td>1.00</td>\n",
       "      <td>1.0</td>\n",
       "    </tr>\n",
       "    <tr>\n",
       "      <th>amen_spa</th>\n",
       "      <td>440.0</td>\n",
       "      <td>0.100000</td>\n",
       "      <td>0.300341</td>\n",
       "      <td>0.0</td>\n",
       "      <td>0.00</td>\n",
       "      <td>0.0</td>\n",
       "      <td>0.00</td>\n",
       "      <td>1.0</td>\n",
       "    </tr>\n",
       "    <tr>\n",
       "      <th>amen_breakfast</th>\n",
       "      <td>440.0</td>\n",
       "      <td>0.211364</td>\n",
       "      <td>0.408740</td>\n",
       "      <td>0.0</td>\n",
       "      <td>0.00</td>\n",
       "      <td>0.0</td>\n",
       "      <td>0.00</td>\n",
       "      <td>1.0</td>\n",
       "    </tr>\n",
       "    <tr>\n",
       "      <th>amen_pool</th>\n",
       "      <td>440.0</td>\n",
       "      <td>0.063636</td>\n",
       "      <td>0.244382</td>\n",
       "      <td>0.0</td>\n",
       "      <td>0.00</td>\n",
       "      <td>0.0</td>\n",
       "      <td>0.00</td>\n",
       "      <td>1.0</td>\n",
       "    </tr>\n",
       "    <tr>\n",
       "      <th>amen_internet</th>\n",
       "      <td>440.0</td>\n",
       "      <td>0.072727</td>\n",
       "      <td>0.259984</td>\n",
       "      <td>0.0</td>\n",
       "      <td>0.00</td>\n",
       "      <td>0.0</td>\n",
       "      <td>0.00</td>\n",
       "      <td>1.0</td>\n",
       "    </tr>\n",
       "    <tr>\n",
       "      <th>amen_parking</th>\n",
       "      <td>440.0</td>\n",
       "      <td>0.002273</td>\n",
       "      <td>0.047673</td>\n",
       "      <td>0.0</td>\n",
       "      <td>0.00</td>\n",
       "      <td>0.0</td>\n",
       "      <td>0.00</td>\n",
       "      <td>1.0</td>\n",
       "    </tr>\n",
       "    <tr>\n",
       "      <th>zip_5_10001</th>\n",
       "      <td>440.0</td>\n",
       "      <td>0.106818</td>\n",
       "      <td>0.309234</td>\n",
       "      <td>0.0</td>\n",
       "      <td>0.00</td>\n",
       "      <td>0.0</td>\n",
       "      <td>0.00</td>\n",
       "      <td>1.0</td>\n",
       "    </tr>\n",
       "    <tr>\n",
       "      <th>zip_5_10002</th>\n",
       "      <td>440.0</td>\n",
       "      <td>0.052273</td>\n",
       "      <td>0.222830</td>\n",
       "      <td>0.0</td>\n",
       "      <td>0.00</td>\n",
       "      <td>0.0</td>\n",
       "      <td>0.00</td>\n",
       "      <td>1.0</td>\n",
       "    </tr>\n",
       "    <tr>\n",
       "      <th>zip_5_10003</th>\n",
       "      <td>440.0</td>\n",
       "      <td>0.020455</td>\n",
       "      <td>0.141710</td>\n",
       "      <td>0.0</td>\n",
       "      <td>0.00</td>\n",
       "      <td>0.0</td>\n",
       "      <td>0.00</td>\n",
       "      <td>1.0</td>\n",
       "    </tr>\n",
       "    <tr>\n",
       "      <th>zip_5_10004</th>\n",
       "      <td>440.0</td>\n",
       "      <td>0.009091</td>\n",
       "      <td>0.095020</td>\n",
       "      <td>0.0</td>\n",
       "      <td>0.00</td>\n",
       "      <td>0.0</td>\n",
       "      <td>0.00</td>\n",
       "      <td>1.0</td>\n",
       "    </tr>\n",
       "    <tr>\n",
       "      <th>zip_5_10005</th>\n",
       "      <td>440.0</td>\n",
       "      <td>0.011364</td>\n",
       "      <td>0.106114</td>\n",
       "      <td>0.0</td>\n",
       "      <td>0.00</td>\n",
       "      <td>0.0</td>\n",
       "      <td>0.00</td>\n",
       "      <td>1.0</td>\n",
       "    </tr>\n",
       "    <tr>\n",
       "      <th>zip_5_10006</th>\n",
       "      <td>440.0</td>\n",
       "      <td>0.013636</td>\n",
       "      <td>0.116108</td>\n",
       "      <td>0.0</td>\n",
       "      <td>0.00</td>\n",
       "      <td>0.0</td>\n",
       "      <td>0.00</td>\n",
       "      <td>1.0</td>\n",
       "    </tr>\n",
       "    <tr>\n",
       "      <th>zip_5_10007</th>\n",
       "      <td>440.0</td>\n",
       "      <td>0.009091</td>\n",
       "      <td>0.095020</td>\n",
       "      <td>0.0</td>\n",
       "      <td>0.00</td>\n",
       "      <td>0.0</td>\n",
       "      <td>0.00</td>\n",
       "      <td>1.0</td>\n",
       "    </tr>\n",
       "    <tr>\n",
       "      <th>zip_5_10010</th>\n",
       "      <td>440.0</td>\n",
       "      <td>0.018182</td>\n",
       "      <td>0.133761</td>\n",
       "      <td>0.0</td>\n",
       "      <td>0.00</td>\n",
       "      <td>0.0</td>\n",
       "      <td>0.00</td>\n",
       "      <td>1.0</td>\n",
       "    </tr>\n",
       "    <tr>\n",
       "      <th>zip_5_10011</th>\n",
       "      <td>440.0</td>\n",
       "      <td>0.029545</td>\n",
       "      <td>0.169522</td>\n",
       "      <td>0.0</td>\n",
       "      <td>0.00</td>\n",
       "      <td>0.0</td>\n",
       "      <td>0.00</td>\n",
       "      <td>1.0</td>\n",
       "    </tr>\n",
       "    <tr>\n",
       "      <th>zip_5_10012</th>\n",
       "      <td>440.0</td>\n",
       "      <td>0.013636</td>\n",
       "      <td>0.116108</td>\n",
       "      <td>0.0</td>\n",
       "      <td>0.00</td>\n",
       "      <td>0.0</td>\n",
       "      <td>0.00</td>\n",
       "      <td>1.0</td>\n",
       "    </tr>\n",
       "    <tr>\n",
       "      <th>zip_5_10013</th>\n",
       "      <td>440.0</td>\n",
       "      <td>0.050000</td>\n",
       "      <td>0.218193</td>\n",
       "      <td>0.0</td>\n",
       "      <td>0.00</td>\n",
       "      <td>0.0</td>\n",
       "      <td>0.00</td>\n",
       "      <td>1.0</td>\n",
       "    </tr>\n",
       "    <tr>\n",
       "      <th>zip_5_10014</th>\n",
       "      <td>440.0</td>\n",
       "      <td>0.015909</td>\n",
       "      <td>0.125266</td>\n",
       "      <td>0.0</td>\n",
       "      <td>0.00</td>\n",
       "      <td>0.0</td>\n",
       "      <td>0.00</td>\n",
       "      <td>1.0</td>\n",
       "    </tr>\n",
       "    <tr>\n",
       "      <th>zip_5_10016</th>\n",
       "      <td>440.0</td>\n",
       "      <td>0.075000</td>\n",
       "      <td>0.263691</td>\n",
       "      <td>0.0</td>\n",
       "      <td>0.00</td>\n",
       "      <td>0.0</td>\n",
       "      <td>0.00</td>\n",
       "      <td>1.0</td>\n",
       "    </tr>\n",
       "    <tr>\n",
       "      <th>zip_5_10017</th>\n",
       "      <td>440.0</td>\n",
       "      <td>0.056818</td>\n",
       "      <td>0.231758</td>\n",
       "      <td>0.0</td>\n",
       "      <td>0.00</td>\n",
       "      <td>0.0</td>\n",
       "      <td>0.00</td>\n",
       "      <td>1.0</td>\n",
       "    </tr>\n",
       "    <tr>\n",
       "      <th>zip_5_10018</th>\n",
       "      <td>440.0</td>\n",
       "      <td>0.072727</td>\n",
       "      <td>0.259984</td>\n",
       "      <td>0.0</td>\n",
       "      <td>0.00</td>\n",
       "      <td>0.0</td>\n",
       "      <td>0.00</td>\n",
       "      <td>1.0</td>\n",
       "    </tr>\n",
       "    <tr>\n",
       "      <th>zip_5_10019</th>\n",
       "      <td>440.0</td>\n",
       "      <td>0.138636</td>\n",
       "      <td>0.345960</td>\n",
       "      <td>0.0</td>\n",
       "      <td>0.00</td>\n",
       "      <td>0.0</td>\n",
       "      <td>0.00</td>\n",
       "      <td>1.0</td>\n",
       "    </tr>\n",
       "    <tr>\n",
       "      <th>zip_5_10021</th>\n",
       "      <td>440.0</td>\n",
       "      <td>0.006818</td>\n",
       "      <td>0.082384</td>\n",
       "      <td>0.0</td>\n",
       "      <td>0.00</td>\n",
       "      <td>0.0</td>\n",
       "      <td>0.00</td>\n",
       "      <td>1.0</td>\n",
       "    </tr>\n",
       "    <tr>\n",
       "      <th>zip_5_10022</th>\n",
       "      <td>440.0</td>\n",
       "      <td>0.052273</td>\n",
       "      <td>0.222830</td>\n",
       "      <td>0.0</td>\n",
       "      <td>0.00</td>\n",
       "      <td>0.0</td>\n",
       "      <td>0.00</td>\n",
       "      <td>1.0</td>\n",
       "    </tr>\n",
       "    <tr>\n",
       "      <th>zip_5_10023</th>\n",
       "      <td>440.0</td>\n",
       "      <td>0.022727</td>\n",
       "      <td>0.149202</td>\n",
       "      <td>0.0</td>\n",
       "      <td>0.00</td>\n",
       "      <td>0.0</td>\n",
       "      <td>0.00</td>\n",
       "      <td>1.0</td>\n",
       "    </tr>\n",
       "    <tr>\n",
       "      <th>zip_5_10024</th>\n",
       "      <td>440.0</td>\n",
       "      <td>0.015909</td>\n",
       "      <td>0.125266</td>\n",
       "      <td>0.0</td>\n",
       "      <td>0.00</td>\n",
       "      <td>0.0</td>\n",
       "      <td>0.00</td>\n",
       "      <td>1.0</td>\n",
       "    </tr>\n",
       "    <tr>\n",
       "      <th>zip_5_10025</th>\n",
       "      <td>440.0</td>\n",
       "      <td>0.018182</td>\n",
       "      <td>0.133761</td>\n",
       "      <td>0.0</td>\n",
       "      <td>0.00</td>\n",
       "      <td>0.0</td>\n",
       "      <td>0.00</td>\n",
       "      <td>1.0</td>\n",
       "    </tr>\n",
       "    <tr>\n",
       "      <th>zip_5_10027</th>\n",
       "      <td>440.0</td>\n",
       "      <td>0.002273</td>\n",
       "      <td>0.047673</td>\n",
       "      <td>0.0</td>\n",
       "      <td>0.00</td>\n",
       "      <td>0.0</td>\n",
       "      <td>0.00</td>\n",
       "      <td>1.0</td>\n",
       "    </tr>\n",
       "    <tr>\n",
       "      <th>zip_5_10028</th>\n",
       "      <td>440.0</td>\n",
       "      <td>0.002273</td>\n",
       "      <td>0.047673</td>\n",
       "      <td>0.0</td>\n",
       "      <td>0.00</td>\n",
       "      <td>0.0</td>\n",
       "      <td>0.00</td>\n",
       "      <td>1.0</td>\n",
       "    </tr>\n",
       "    <tr>\n",
       "      <th>zip_5_10032</th>\n",
       "      <td>440.0</td>\n",
       "      <td>0.004545</td>\n",
       "      <td>0.067343</td>\n",
       "      <td>0.0</td>\n",
       "      <td>0.00</td>\n",
       "      <td>0.0</td>\n",
       "      <td>0.00</td>\n",
       "      <td>1.0</td>\n",
       "    </tr>\n",
       "    <tr>\n",
       "      <th>zip_5_10033</th>\n",
       "      <td>440.0</td>\n",
       "      <td>0.002273</td>\n",
       "      <td>0.047673</td>\n",
       "      <td>0.0</td>\n",
       "      <td>0.00</td>\n",
       "      <td>0.0</td>\n",
       "      <td>0.00</td>\n",
       "      <td>1.0</td>\n",
       "    </tr>\n",
       "    <tr>\n",
       "      <th>zip_5_10036</th>\n",
       "      <td>440.0</td>\n",
       "      <td>0.122727</td>\n",
       "      <td>0.328497</td>\n",
       "      <td>0.0</td>\n",
       "      <td>0.00</td>\n",
       "      <td>0.0</td>\n",
       "      <td>0.00</td>\n",
       "      <td>1.0</td>\n",
       "    </tr>\n",
       "    <tr>\n",
       "      <th>zip_5_10038</th>\n",
       "      <td>440.0</td>\n",
       "      <td>0.025000</td>\n",
       "      <td>0.156303</td>\n",
       "      <td>0.0</td>\n",
       "      <td>0.00</td>\n",
       "      <td>0.0</td>\n",
       "      <td>0.00</td>\n",
       "      <td>1.0</td>\n",
       "    </tr>\n",
       "    <tr>\n",
       "      <th>zip_5_10065</th>\n",
       "      <td>440.0</td>\n",
       "      <td>0.018182</td>\n",
       "      <td>0.133761</td>\n",
       "      <td>0.0</td>\n",
       "      <td>0.00</td>\n",
       "      <td>0.0</td>\n",
       "      <td>0.00</td>\n",
       "      <td>1.0</td>\n",
       "    </tr>\n",
       "    <tr>\n",
       "      <th>zip_5_10078</th>\n",
       "      <td>440.0</td>\n",
       "      <td>0.002273</td>\n",
       "      <td>0.047673</td>\n",
       "      <td>0.0</td>\n",
       "      <td>0.00</td>\n",
       "      <td>0.0</td>\n",
       "      <td>0.00</td>\n",
       "      <td>1.0</td>\n",
       "    </tr>\n",
       "    <tr>\n",
       "      <th>zip_5_10128</th>\n",
       "      <td>440.0</td>\n",
       "      <td>0.009091</td>\n",
       "      <td>0.095020</td>\n",
       "      <td>0.0</td>\n",
       "      <td>0.00</td>\n",
       "      <td>0.0</td>\n",
       "      <td>0.00</td>\n",
       "      <td>1.0</td>\n",
       "    </tr>\n",
       "    <tr>\n",
       "      <th>zip_5_10282</th>\n",
       "      <td>440.0</td>\n",
       "      <td>0.002273</td>\n",
       "      <td>0.047673</td>\n",
       "      <td>0.0</td>\n",
       "      <td>0.00</td>\n",
       "      <td>0.0</td>\n",
       "      <td>0.00</td>\n",
       "      <td>1.0</td>\n",
       "    </tr>\n",
       "    <tr>\n",
       "      <th>hclass_num_1.0</th>\n",
       "      <td>440.0</td>\n",
       "      <td>0.006818</td>\n",
       "      <td>0.082384</td>\n",
       "      <td>0.0</td>\n",
       "      <td>0.00</td>\n",
       "      <td>0.0</td>\n",
       "      <td>0.00</td>\n",
       "      <td>1.0</td>\n",
       "    </tr>\n",
       "    <tr>\n",
       "      <th>hclass_num_1.5</th>\n",
       "      <td>440.0</td>\n",
       "      <td>0.004545</td>\n",
       "      <td>0.067343</td>\n",
       "      <td>0.0</td>\n",
       "      <td>0.00</td>\n",
       "      <td>0.0</td>\n",
       "      <td>0.00</td>\n",
       "      <td>1.0</td>\n",
       "    </tr>\n",
       "    <tr>\n",
       "      <th>hclass_num_2.0</th>\n",
       "      <td>440.0</td>\n",
       "      <td>0.036364</td>\n",
       "      <td>0.187406</td>\n",
       "      <td>0.0</td>\n",
       "      <td>0.00</td>\n",
       "      <td>0.0</td>\n",
       "      <td>0.00</td>\n",
       "      <td>1.0</td>\n",
       "    </tr>\n",
       "    <tr>\n",
       "      <th>hclass_num_2.5</th>\n",
       "      <td>440.0</td>\n",
       "      <td>0.068182</td>\n",
       "      <td>0.252345</td>\n",
       "      <td>0.0</td>\n",
       "      <td>0.00</td>\n",
       "      <td>0.0</td>\n",
       "      <td>0.00</td>\n",
       "      <td>1.0</td>\n",
       "    </tr>\n",
       "    <tr>\n",
       "      <th>hclass_num_3.0</th>\n",
       "      <td>440.0</td>\n",
       "      <td>0.218182</td>\n",
       "      <td>0.413482</td>\n",
       "      <td>0.0</td>\n",
       "      <td>0.00</td>\n",
       "      <td>0.0</td>\n",
       "      <td>0.00</td>\n",
       "      <td>1.0</td>\n",
       "    </tr>\n",
       "    <tr>\n",
       "      <th>hclass_num_3.5</th>\n",
       "      <td>440.0</td>\n",
       "      <td>0.152273</td>\n",
       "      <td>0.359694</td>\n",
       "      <td>0.0</td>\n",
       "      <td>0.00</td>\n",
       "      <td>0.0</td>\n",
       "      <td>0.00</td>\n",
       "      <td>1.0</td>\n",
       "    </tr>\n",
       "    <tr>\n",
       "      <th>hclass_num_4.0</th>\n",
       "      <td>440.0</td>\n",
       "      <td>0.311364</td>\n",
       "      <td>0.463578</td>\n",
       "      <td>0.0</td>\n",
       "      <td>0.00</td>\n",
       "      <td>0.0</td>\n",
       "      <td>1.00</td>\n",
       "      <td>1.0</td>\n",
       "    </tr>\n",
       "    <tr>\n",
       "      <th>hclass_num_4.5</th>\n",
       "      <td>440.0</td>\n",
       "      <td>0.113636</td>\n",
       "      <td>0.317730</td>\n",
       "      <td>0.0</td>\n",
       "      <td>0.00</td>\n",
       "      <td>0.0</td>\n",
       "      <td>0.00</td>\n",
       "      <td>1.0</td>\n",
       "    </tr>\n",
       "    <tr>\n",
       "      <th>hclass_num_5.0</th>\n",
       "      <td>440.0</td>\n",
       "      <td>0.088636</td>\n",
       "      <td>0.284542</td>\n",
       "      <td>0.0</td>\n",
       "      <td>0.00</td>\n",
       "      <td>0.0</td>\n",
       "      <td>0.00</td>\n",
       "      <td>1.0</td>\n",
       "    </tr>\n",
       "  </tbody>\n",
       "</table>\n",
       "</div>"
      ],
      "text/plain": [
       "                   count        mean         std    min     25%    50%  \\\n",
       "top30              440.0    0.068182    0.252345    0.0    0.00    0.0   \n",
       "rank_num           440.0  220.500000  127.161315    1.0  110.75  220.5   \n",
       "rooms_num          440.0  227.307610  250.577024    4.0   89.00  160.0   \n",
       "prange_low         440.0  244.164050  113.659115   58.0  187.00  217.0   \n",
       "prange_high        440.0  514.266779  283.934119  109.0  385.00  458.0   \n",
       "amen_wifi          440.0    0.804545    0.397002    0.0    1.00    1.0   \n",
       "amen_room_service  440.0    0.484091    0.500316    0.0    0.00    0.0   \n",
       "amen_restaurant    440.0    0.529545    0.499694    0.0    0.00    1.0   \n",
       "amen_bar_lounge    440.0    0.593182    0.491800    0.0    0.00    1.0   \n",
       "amen_gym           440.0    0.677273    0.468052    0.0    0.00    1.0   \n",
       "amen_spa           440.0    0.100000    0.300341    0.0    0.00    0.0   \n",
       "amen_breakfast     440.0    0.211364    0.408740    0.0    0.00    0.0   \n",
       "amen_pool          440.0    0.063636    0.244382    0.0    0.00    0.0   \n",
       "amen_internet      440.0    0.072727    0.259984    0.0    0.00    0.0   \n",
       "amen_parking       440.0    0.002273    0.047673    0.0    0.00    0.0   \n",
       "zip_5_10001        440.0    0.106818    0.309234    0.0    0.00    0.0   \n",
       "zip_5_10002        440.0    0.052273    0.222830    0.0    0.00    0.0   \n",
       "zip_5_10003        440.0    0.020455    0.141710    0.0    0.00    0.0   \n",
       "zip_5_10004        440.0    0.009091    0.095020    0.0    0.00    0.0   \n",
       "zip_5_10005        440.0    0.011364    0.106114    0.0    0.00    0.0   \n",
       "zip_5_10006        440.0    0.013636    0.116108    0.0    0.00    0.0   \n",
       "zip_5_10007        440.0    0.009091    0.095020    0.0    0.00    0.0   \n",
       "zip_5_10010        440.0    0.018182    0.133761    0.0    0.00    0.0   \n",
       "zip_5_10011        440.0    0.029545    0.169522    0.0    0.00    0.0   \n",
       "zip_5_10012        440.0    0.013636    0.116108    0.0    0.00    0.0   \n",
       "zip_5_10013        440.0    0.050000    0.218193    0.0    0.00    0.0   \n",
       "zip_5_10014        440.0    0.015909    0.125266    0.0    0.00    0.0   \n",
       "zip_5_10016        440.0    0.075000    0.263691    0.0    0.00    0.0   \n",
       "zip_5_10017        440.0    0.056818    0.231758    0.0    0.00    0.0   \n",
       "zip_5_10018        440.0    0.072727    0.259984    0.0    0.00    0.0   \n",
       "zip_5_10019        440.0    0.138636    0.345960    0.0    0.00    0.0   \n",
       "zip_5_10021        440.0    0.006818    0.082384    0.0    0.00    0.0   \n",
       "zip_5_10022        440.0    0.052273    0.222830    0.0    0.00    0.0   \n",
       "zip_5_10023        440.0    0.022727    0.149202    0.0    0.00    0.0   \n",
       "zip_5_10024        440.0    0.015909    0.125266    0.0    0.00    0.0   \n",
       "zip_5_10025        440.0    0.018182    0.133761    0.0    0.00    0.0   \n",
       "zip_5_10027        440.0    0.002273    0.047673    0.0    0.00    0.0   \n",
       "zip_5_10028        440.0    0.002273    0.047673    0.0    0.00    0.0   \n",
       "zip_5_10032        440.0    0.004545    0.067343    0.0    0.00    0.0   \n",
       "zip_5_10033        440.0    0.002273    0.047673    0.0    0.00    0.0   \n",
       "zip_5_10036        440.0    0.122727    0.328497    0.0    0.00    0.0   \n",
       "zip_5_10038        440.0    0.025000    0.156303    0.0    0.00    0.0   \n",
       "zip_5_10065        440.0    0.018182    0.133761    0.0    0.00    0.0   \n",
       "zip_5_10078        440.0    0.002273    0.047673    0.0    0.00    0.0   \n",
       "zip_5_10128        440.0    0.009091    0.095020    0.0    0.00    0.0   \n",
       "zip_5_10282        440.0    0.002273    0.047673    0.0    0.00    0.0   \n",
       "hclass_num_1.0     440.0    0.006818    0.082384    0.0    0.00    0.0   \n",
       "hclass_num_1.5     440.0    0.004545    0.067343    0.0    0.00    0.0   \n",
       "hclass_num_2.0     440.0    0.036364    0.187406    0.0    0.00    0.0   \n",
       "hclass_num_2.5     440.0    0.068182    0.252345    0.0    0.00    0.0   \n",
       "hclass_num_3.0     440.0    0.218182    0.413482    0.0    0.00    0.0   \n",
       "hclass_num_3.5     440.0    0.152273    0.359694    0.0    0.00    0.0   \n",
       "hclass_num_4.0     440.0    0.311364    0.463578    0.0    0.00    0.0   \n",
       "hclass_num_4.5     440.0    0.113636    0.317730    0.0    0.00    0.0   \n",
       "hclass_num_5.0     440.0    0.088636    0.284542    0.0    0.00    0.0   \n",
       "\n",
       "                      75%     max  \n",
       "top30                0.00     1.0  \n",
       "rank_num           330.25   440.0  \n",
       "rooms_num          261.00  1957.0  \n",
       "prange_low         267.25   869.0  \n",
       "prange_high        553.00  3154.0  \n",
       "amen_wifi            1.00     1.0  \n",
       "amen_room_service    1.00     1.0  \n",
       "amen_restaurant      1.00     1.0  \n",
       "amen_bar_lounge      1.00     1.0  \n",
       "amen_gym             1.00     1.0  \n",
       "amen_spa             0.00     1.0  \n",
       "amen_breakfast       0.00     1.0  \n",
       "amen_pool            0.00     1.0  \n",
       "amen_internet        0.00     1.0  \n",
       "amen_parking         0.00     1.0  \n",
       "zip_5_10001          0.00     1.0  \n",
       "zip_5_10002          0.00     1.0  \n",
       "zip_5_10003          0.00     1.0  \n",
       "zip_5_10004          0.00     1.0  \n",
       "zip_5_10005          0.00     1.0  \n",
       "zip_5_10006          0.00     1.0  \n",
       "zip_5_10007          0.00     1.0  \n",
       "zip_5_10010          0.00     1.0  \n",
       "zip_5_10011          0.00     1.0  \n",
       "zip_5_10012          0.00     1.0  \n",
       "zip_5_10013          0.00     1.0  \n",
       "zip_5_10014          0.00     1.0  \n",
       "zip_5_10016          0.00     1.0  \n",
       "zip_5_10017          0.00     1.0  \n",
       "zip_5_10018          0.00     1.0  \n",
       "zip_5_10019          0.00     1.0  \n",
       "zip_5_10021          0.00     1.0  \n",
       "zip_5_10022          0.00     1.0  \n",
       "zip_5_10023          0.00     1.0  \n",
       "zip_5_10024          0.00     1.0  \n",
       "zip_5_10025          0.00     1.0  \n",
       "zip_5_10027          0.00     1.0  \n",
       "zip_5_10028          0.00     1.0  \n",
       "zip_5_10032          0.00     1.0  \n",
       "zip_5_10033          0.00     1.0  \n",
       "zip_5_10036          0.00     1.0  \n",
       "zip_5_10038          0.00     1.0  \n",
       "zip_5_10065          0.00     1.0  \n",
       "zip_5_10078          0.00     1.0  \n",
       "zip_5_10128          0.00     1.0  \n",
       "zip_5_10282          0.00     1.0  \n",
       "hclass_num_1.0       0.00     1.0  \n",
       "hclass_num_1.5       0.00     1.0  \n",
       "hclass_num_2.0       0.00     1.0  \n",
       "hclass_num_2.5       0.00     1.0  \n",
       "hclass_num_3.0       0.00     1.0  \n",
       "hclass_num_3.5       0.00     1.0  \n",
       "hclass_num_4.0       1.00     1.0  \n",
       "hclass_num_4.5       0.00     1.0  \n",
       "hclass_num_5.0       0.00     1.0  "
      ]
     },
     "execution_count": 6,
     "metadata": {},
     "output_type": "execute_result"
    }
   ],
   "source": [
    "XY_df.describe().T"
   ]
  },
  {
   "cell_type": "code",
   "execution_count": 7,
   "metadata": {
    "collapsed": true
   },
   "outputs": [],
   "source": [
    "data_summary = XY_df.describe().T"
   ]
  },
  {
   "cell_type": "code",
   "execution_count": 8,
   "metadata": {
    "collapsed": false
   },
   "outputs": [
    {
     "data": {
      "image/png": "[encoded data removed]",
      "text/plain": [
       "<matplotlib.figure.Figure at 0x1100f2490>"
      ]
     },
     "metadata": {},
     "output_type": "display_data"
    }
   ],
   "source": [
    "title = 'Share of Hotels in Each Hotel Class'\n",
    "data_summary[data_summary.index.str.contains('hclass_')]['mean'].plot(kind='barh', title=title, figsize=(16,10), fontsize=14);"
   ]
  },
  {
   "cell_type": "code",
   "execution_count": 9,
   "metadata": {
    "collapsed": false
   },
   "outputs": [
    {
     "data": {
      "image/png": "[encoded data removed]",
      "text/plain": [
       "<matplotlib.figure.Figure at 0x1134cc850>"
      ]
     },
     "metadata": {},
     "output_type": "display_data"
    }
   ],
   "source": [
    "title = 'Share of Hotels with Each Type of Amenity'\n",
    "data_summary[data_summary.index.str.contains('amen_')]['mean'].plot(kind='barh', figsize=(16,10), fontsize=18);"
   ]
  },
  {
   "cell_type": "code",
   "execution_count": 10,
   "metadata": {
    "collapsed": false
   },
   "outputs": [],
   "source": [
    "zip_code_shares = pd.DataFrame(data_summary[data_summary.index.str.contains('zip_5')]['mean'])"
   ]
  },
  {
   "cell_type": "code",
   "execution_count": 11,
   "metadata": {
    "collapsed": false
   },
   "outputs": [
    {
     "data": {
      "text/html": [
       "<div>\n",
       "<table border=\"1\" class=\"dataframe\">\n",
       "  <thead>\n",
       "    <tr style=\"text-align: right;\">\n",
       "      <th></th>\n",
       "      <th>mean</th>\n",
       "    </tr>\n",
       "  </thead>\n",
       "  <tbody>\n",
       "    <tr>\n",
       "      <th>zip_5_10001</th>\n",
       "      <td>0.106818</td>\n",
       "    </tr>\n",
       "    <tr>\n",
       "      <th>zip_5_10002</th>\n",
       "      <td>0.052273</td>\n",
       "    </tr>\n",
       "    <tr>\n",
       "      <th>zip_5_10003</th>\n",
       "      <td>0.020455</td>\n",
       "    </tr>\n",
       "    <tr>\n",
       "      <th>zip_5_10004</th>\n",
       "      <td>0.009091</td>\n",
       "    </tr>\n",
       "    <tr>\n",
       "      <th>zip_5_10005</th>\n",
       "      <td>0.011364</td>\n",
       "    </tr>\n",
       "  </tbody>\n",
       "</table>\n",
       "</div>"
      ],
      "text/plain": [
       "                 mean\n",
       "zip_5_10001  0.106818\n",
       "zip_5_10002  0.052273\n",
       "zip_5_10003  0.020455\n",
       "zip_5_10004  0.009091\n",
       "zip_5_10005  0.011364"
      ]
     },
     "execution_count": 11,
     "metadata": {},
     "output_type": "execute_result"
    }
   ],
   "source": [
    "zip_code_shares.head()"
   ]
  },
  {
   "cell_type": "code",
   "execution_count": 12,
   "metadata": {
    "collapsed": false
   },
   "outputs": [
    {
     "data": {
      "text/html": [
       "<div>\n",
       "<table border=\"1\" class=\"dataframe\">\n",
       "  <thead>\n",
       "    <tr style=\"text-align: right;\">\n",
       "      <th></th>\n",
       "      <th>index</th>\n",
       "      <th>mean</th>\n",
       "    </tr>\n",
       "  </thead>\n",
       "  <tbody>\n",
       "    <tr>\n",
       "      <th>0</th>\n",
       "      <td>zip_5_10001</td>\n",
       "      <td>0.106818</td>\n",
       "    </tr>\n",
       "    <tr>\n",
       "      <th>1</th>\n",
       "      <td>zip_5_10002</td>\n",
       "      <td>0.052273</td>\n",
       "    </tr>\n",
       "    <tr>\n",
       "      <th>2</th>\n",
       "      <td>zip_5_10003</td>\n",
       "      <td>0.020455</td>\n",
       "    </tr>\n",
       "    <tr>\n",
       "      <th>3</th>\n",
       "      <td>zip_5_10004</td>\n",
       "      <td>0.009091</td>\n",
       "    </tr>\n",
       "    <tr>\n",
       "      <th>4</th>\n",
       "      <td>zip_5_10005</td>\n",
       "      <td>0.011364</td>\n",
       "    </tr>\n",
       "  </tbody>\n",
       "</table>\n",
       "</div>"
      ],
      "text/plain": [
       "         index      mean\n",
       "0  zip_5_10001  0.106818\n",
       "1  zip_5_10002  0.052273\n",
       "2  zip_5_10003  0.020455\n",
       "3  zip_5_10004  0.009091\n",
       "4  zip_5_10005  0.011364"
      ]
     },
     "execution_count": 12,
     "metadata": {},
     "output_type": "execute_result"
    }
   ],
   "source": [
    "zip_code_shares.reset_index(inplace=True)\n",
    "zip_code_shares.head()"
   ]
  },
  {
   "cell_type": "code",
   "execution_count": 13,
   "metadata": {
    "collapsed": false
   },
   "outputs": [],
   "source": [
    "zip_code_shares['index'] = zip_code_shares['index'].apply(lambda x: x.replace('zip_5_',''))"
   ]
  },
  {
   "cell_type": "code",
   "execution_count": 14,
   "metadata": {
    "collapsed": false
   },
   "outputs": [
    {
     "data": {
      "text/html": [
       "<div>\n",
       "<table border=\"1\" class=\"dataframe\">\n",
       "  <thead>\n",
       "    <tr style=\"text-align: right;\">\n",
       "      <th></th>\n",
       "      <th>zip_code</th>\n",
       "      <th>mean</th>\n",
       "    </tr>\n",
       "  </thead>\n",
       "  <tbody>\n",
       "    <tr>\n",
       "      <th>0</th>\n",
       "      <td>10001</td>\n",
       "      <td>0.106818</td>\n",
       "    </tr>\n",
       "    <tr>\n",
       "      <th>1</th>\n",
       "      <td>10002</td>\n",
       "      <td>0.052273</td>\n",
       "    </tr>\n",
       "    <tr>\n",
       "      <th>2</th>\n",
       "      <td>10003</td>\n",
       "      <td>0.020455</td>\n",
       "    </tr>\n",
       "    <tr>\n",
       "      <th>3</th>\n",
       "      <td>10004</td>\n",
       "      <td>0.009091</td>\n",
       "    </tr>\n",
       "    <tr>\n",
       "      <th>4</th>\n",
       "      <td>10005</td>\n",
       "      <td>0.011364</td>\n",
       "    </tr>\n",
       "  </tbody>\n",
       "</table>\n",
       "</div>"
      ],
      "text/plain": [
       "  zip_code      mean\n",
       "0    10001  0.106818\n",
       "1    10002  0.052273\n",
       "2    10003  0.020455\n",
       "3    10004  0.009091\n",
       "4    10005  0.011364"
      ]
     },
     "execution_count": 14,
     "metadata": {},
     "output_type": "execute_result"
    }
   ],
   "source": [
    "zip_code_shares.rename(columns={'index': 'zip_code'},inplace=True)\n",
    "zip_code_shares.head()"
   ]
  },
  {
   "cell_type": "code",
   "execution_count": 15,
   "metadata": {
    "collapsed": true
   },
   "outputs": [],
   "source": [
    "zip_code_shares.to_csv('zip_code_shares.csv')"
   ]
  },
  {
   "cell_type": "code",
   "execution_count": 16,
   "metadata": {
    "collapsed": false
   },
   "outputs": [
    {
     "data": {
      "image/png": "[encoded data removed]",
      "text/plain": [
       "<matplotlib.figure.Figure at 0x1134ed8d0>"
      ]
     },
     "metadata": {},
     "output_type": "display_data"
    }
   ],
   "source": [
    "title = 'Hotel Distribution by Zip Code'\n",
    "data_summary[data_summary.index.str.contains('zip_5')]['mean'].plot(kind='barh', title=title, figsize=(16,10), fontsize=14);"
   ]
  },
  {
   "cell_type": "code",
   "execution_count": 17,
   "metadata": {
    "collapsed": true
   },
   "outputs": [],
   "source": [
    "hclass_shares = pd.DataFrame(data_summary[data_summary.index.str.contains('hclass_')]['mean'])"
   ]
  },
  {
   "cell_type": "code",
   "execution_count": 18,
   "metadata": {
    "collapsed": false
   },
   "outputs": [
    {
     "data": {
      "text/html": [
       "<div>\n",
       "<table border=\"1\" class=\"dataframe\">\n",
       "  <thead>\n",
       "    <tr style=\"text-align: right;\">\n",
       "      <th></th>\n",
       "      <th>mean</th>\n",
       "    </tr>\n",
       "  </thead>\n",
       "  <tbody>\n",
       "    <tr>\n",
       "      <th>hclass_num_1.0</th>\n",
       "      <td>0.006818</td>\n",
       "    </tr>\n",
       "    <tr>\n",
       "      <th>hclass_num_1.5</th>\n",
       "      <td>0.004545</td>\n",
       "    </tr>\n",
       "    <tr>\n",
       "      <th>hclass_num_2.0</th>\n",
       "      <td>0.036364</td>\n",
       "    </tr>\n",
       "    <tr>\n",
       "      <th>hclass_num_2.5</th>\n",
       "      <td>0.068182</td>\n",
       "    </tr>\n",
       "    <tr>\n",
       "      <th>hclass_num_3.0</th>\n",
       "      <td>0.218182</td>\n",
       "    </tr>\n",
       "  </tbody>\n",
       "</table>\n",
       "</div>"
      ],
      "text/plain": [
       "                    mean\n",
       "hclass_num_1.0  0.006818\n",
       "hclass_num_1.5  0.004545\n",
       "hclass_num_2.0  0.036364\n",
       "hclass_num_2.5  0.068182\n",
       "hclass_num_3.0  0.218182"
      ]
     },
     "execution_count": 18,
     "metadata": {},
     "output_type": "execute_result"
    }
   ],
   "source": [
    "hclass_shares.head()"
   ]
  },
  {
   "cell_type": "code",
   "execution_count": 19,
   "metadata": {
    "collapsed": false
   },
   "outputs": [
    {
     "data": {
      "text/html": [
       "<div>\n",
       "<table border=\"1\" class=\"dataframe\">\n",
       "  <thead>\n",
       "    <tr style=\"text-align: right;\">\n",
       "      <th></th>\n",
       "      <th>index</th>\n",
       "      <th>mean</th>\n",
       "    </tr>\n",
       "  </thead>\n",
       "  <tbody>\n",
       "    <tr>\n",
       "      <th>0</th>\n",
       "      <td>hclass_num_1.0</td>\n",
       "      <td>0.006818</td>\n",
       "    </tr>\n",
       "    <tr>\n",
       "      <th>1</th>\n",
       "      <td>hclass_num_1.5</td>\n",
       "      <td>0.004545</td>\n",
       "    </tr>\n",
       "    <tr>\n",
       "      <th>2</th>\n",
       "      <td>hclass_num_2.0</td>\n",
       "      <td>0.036364</td>\n",
       "    </tr>\n",
       "    <tr>\n",
       "      <th>3</th>\n",
       "      <td>hclass_num_2.5</td>\n",
       "      <td>0.068182</td>\n",
       "    </tr>\n",
       "    <tr>\n",
       "      <th>4</th>\n",
       "      <td>hclass_num_3.0</td>\n",
       "      <td>0.218182</td>\n",
       "    </tr>\n",
       "  </tbody>\n",
       "</table>\n",
       "</div>"
      ],
      "text/plain": [
       "            index      mean\n",
       "0  hclass_num_1.0  0.006818\n",
       "1  hclass_num_1.5  0.004545\n",
       "2  hclass_num_2.0  0.036364\n",
       "3  hclass_num_2.5  0.068182\n",
       "4  hclass_num_3.0  0.218182"
      ]
     },
     "execution_count": 19,
     "metadata": {},
     "output_type": "execute_result"
    }
   ],
   "source": [
    "hclass_shares.reset_index(inplace=True)\n",
    "hclass_shares.head()"
   ]
  },
  {
   "cell_type": "code",
   "execution_count": 20,
   "metadata": {
    "collapsed": false
   },
   "outputs": [],
   "source": [
    "hclass_shares['index'] = hclass_shares['index'].apply(lambda x: x.replace(\"hclass_num_\",\"Number of Stars: \"))"
   ]
  },
  {
   "cell_type": "code",
   "execution_count": 21,
   "metadata": {
    "collapsed": false
   },
   "outputs": [
    {
     "data": {
      "text/html": [
       "<div>\n",
       "<table border=\"1\" class=\"dataframe\">\n",
       "  <thead>\n",
       "    <tr style=\"text-align: right;\">\n",
       "      <th></th>\n",
       "      <th>index</th>\n",
       "      <th>mean</th>\n",
       "    </tr>\n",
       "  </thead>\n",
       "  <tbody>\n",
       "    <tr>\n",
       "      <th>0</th>\n",
       "      <td>Number of Stars: 1.0</td>\n",
       "      <td>0.006818</td>\n",
       "    </tr>\n",
       "    <tr>\n",
       "      <th>1</th>\n",
       "      <td>Number of Stars: 1.5</td>\n",
       "      <td>0.004545</td>\n",
       "    </tr>\n",
       "    <tr>\n",
       "      <th>2</th>\n",
       "      <td>Number of Stars: 2.0</td>\n",
       "      <td>0.036364</td>\n",
       "    </tr>\n",
       "    <tr>\n",
       "      <th>3</th>\n",
       "      <td>Number of Stars: 2.5</td>\n",
       "      <td>0.068182</td>\n",
       "    </tr>\n",
       "    <tr>\n",
       "      <th>4</th>\n",
       "      <td>Number of Stars: 3.0</td>\n",
       "      <td>0.218182</td>\n",
       "    </tr>\n",
       "  </tbody>\n",
       "</table>\n",
       "</div>"
      ],
      "text/plain": [
       "                  index      mean\n",
       "0  Number of Stars: 1.0  0.006818\n",
       "1  Number of Stars: 1.5  0.004545\n",
       "2  Number of Stars: 2.0  0.036364\n",
       "3  Number of Stars: 2.5  0.068182\n",
       "4  Number of Stars: 3.0  0.218182"
      ]
     },
     "execution_count": 21,
     "metadata": {},
     "output_type": "execute_result"
    }
   ],
   "source": [
    "hclass_shares.head()"
   ]
  },
  {
   "cell_type": "code",
   "execution_count": 22,
   "metadata": {
    "collapsed": true
   },
   "outputs": [],
   "source": [
    "hclass_shares.set_index('index',inplace=True)"
   ]
  },
  {
   "cell_type": "code",
   "execution_count": 23,
   "metadata": {
    "collapsed": false
   },
   "outputs": [
    {
     "data": {
      "text/html": [
       "<div>\n",
       "<table border=\"1\" class=\"dataframe\">\n",
       "  <thead>\n",
       "    <tr style=\"text-align: right;\">\n",
       "      <th></th>\n",
       "      <th>mean</th>\n",
       "    </tr>\n",
       "    <tr>\n",
       "      <th>index</th>\n",
       "      <th></th>\n",
       "    </tr>\n",
       "  </thead>\n",
       "  <tbody>\n",
       "    <tr>\n",
       "      <th>Number of Stars: 1.0</th>\n",
       "      <td>0.006818</td>\n",
       "    </tr>\n",
       "    <tr>\n",
       "      <th>Number of Stars: 1.5</th>\n",
       "      <td>0.004545</td>\n",
       "    </tr>\n",
       "    <tr>\n",
       "      <th>Number of Stars: 2.0</th>\n",
       "      <td>0.036364</td>\n",
       "    </tr>\n",
       "    <tr>\n",
       "      <th>Number of Stars: 2.5</th>\n",
       "      <td>0.068182</td>\n",
       "    </tr>\n",
       "    <tr>\n",
       "      <th>Number of Stars: 3.0</th>\n",
       "      <td>0.218182</td>\n",
       "    </tr>\n",
       "    <tr>\n",
       "      <th>Number of Stars: 3.5</th>\n",
       "      <td>0.152273</td>\n",
       "    </tr>\n",
       "    <tr>\n",
       "      <th>Number of Stars: 4.0</th>\n",
       "      <td>0.311364</td>\n",
       "    </tr>\n",
       "    <tr>\n",
       "      <th>Number of Stars: 4.5</th>\n",
       "      <td>0.113636</td>\n",
       "    </tr>\n",
       "    <tr>\n",
       "      <th>Number of Stars: 5.0</th>\n",
       "      <td>0.088636</td>\n",
       "    </tr>\n",
       "  </tbody>\n",
       "</table>\n",
       "</div>"
      ],
      "text/plain": [
       "                          mean\n",
       "index                         \n",
       "Number of Stars: 1.0  0.006818\n",
       "Number of Stars: 1.5  0.004545\n",
       "Number of Stars: 2.0  0.036364\n",
       "Number of Stars: 2.5  0.068182\n",
       "Number of Stars: 3.0  0.218182\n",
       "Number of Stars: 3.5  0.152273\n",
       "Number of Stars: 4.0  0.311364\n",
       "Number of Stars: 4.5  0.113636\n",
       "Number of Stars: 5.0  0.088636"
      ]
     },
     "execution_count": 23,
     "metadata": {},
     "output_type": "execute_result"
    }
   ],
   "source": [
    "hclass_shares"
   ]
  },
  {
   "cell_type": "code",
   "execution_count": 24,
   "metadata": {
    "collapsed": false
   },
   "outputs": [
    {
     "data": {
      "image/png": "[encoded data removed]",
      "text/plain": [
       "<matplotlib.figure.Figure at 0x104608950>"
      ]
     },
     "metadata": {},
     "output_type": "display_data"
    }
   ],
   "source": [
    "hclass_shares.plot(kind='barh', figsize=(16,10), fontsize=18, legend=False);"
   ]
  },
  {
   "cell_type": "code",
   "execution_count": 25,
   "metadata": {
    "collapsed": true
   },
   "outputs": [],
   "source": [
    "amen_shares = pd.DataFrame(data_summary[data_summary.index.str.contains('amen_')]['mean'])"
   ]
  },
  {
   "cell_type": "code",
   "execution_count": 26,
   "metadata": {
    "collapsed": false
   },
   "outputs": [
    {
     "data": {
      "text/html": [
       "<div>\n",
       "<table border=\"1\" class=\"dataframe\">\n",
       "  <thead>\n",
       "    <tr style=\"text-align: right;\">\n",
       "      <th></th>\n",
       "      <th>mean</th>\n",
       "    </tr>\n",
       "  </thead>\n",
       "  <tbody>\n",
       "    <tr>\n",
       "      <th>amen_wifi</th>\n",
       "      <td>0.804545</td>\n",
       "    </tr>\n",
       "    <tr>\n",
       "      <th>amen_room_service</th>\n",
       "      <td>0.484091</td>\n",
       "    </tr>\n",
       "    <tr>\n",
       "      <th>amen_restaurant</th>\n",
       "      <td>0.529545</td>\n",
       "    </tr>\n",
       "    <tr>\n",
       "      <th>amen_bar_lounge</th>\n",
       "      <td>0.593182</td>\n",
       "    </tr>\n",
       "    <tr>\n",
       "      <th>amen_gym</th>\n",
       "      <td>0.677273</td>\n",
       "    </tr>\n",
       "  </tbody>\n",
       "</table>\n",
       "</div>"
      ],
      "text/plain": [
       "                       mean\n",
       "amen_wifi          0.804545\n",
       "amen_room_service  0.484091\n",
       "amen_restaurant    0.529545\n",
       "amen_bar_lounge    0.593182\n",
       "amen_gym           0.677273"
      ]
     },
     "execution_count": 26,
     "metadata": {},
     "output_type": "execute_result"
    }
   ],
   "source": [
    "amen_shares.head()"
   ]
  },
  {
   "cell_type": "code",
   "execution_count": 27,
   "metadata": {
    "collapsed": false
   },
   "outputs": [
    {
     "data": {
      "text/html": [
       "<div>\n",
       "<table border=\"1\" class=\"dataframe\">\n",
       "  <thead>\n",
       "    <tr style=\"text-align: right;\">\n",
       "      <th></th>\n",
       "      <th>index</th>\n",
       "      <th>mean</th>\n",
       "    </tr>\n",
       "  </thead>\n",
       "  <tbody>\n",
       "    <tr>\n",
       "      <th>0</th>\n",
       "      <td>amen_wifi</td>\n",
       "      <td>0.804545</td>\n",
       "    </tr>\n",
       "    <tr>\n",
       "      <th>1</th>\n",
       "      <td>amen_room_service</td>\n",
       "      <td>0.484091</td>\n",
       "    </tr>\n",
       "    <tr>\n",
       "      <th>2</th>\n",
       "      <td>amen_restaurant</td>\n",
       "      <td>0.529545</td>\n",
       "    </tr>\n",
       "    <tr>\n",
       "      <th>3</th>\n",
       "      <td>amen_bar_lounge</td>\n",
       "      <td>0.593182</td>\n",
       "    </tr>\n",
       "    <tr>\n",
       "      <th>4</th>\n",
       "      <td>amen_gym</td>\n",
       "      <td>0.677273</td>\n",
       "    </tr>\n",
       "  </tbody>\n",
       "</table>\n",
       "</div>"
      ],
      "text/plain": [
       "               index      mean\n",
       "0          amen_wifi  0.804545\n",
       "1  amen_room_service  0.484091\n",
       "2    amen_restaurant  0.529545\n",
       "3    amen_bar_lounge  0.593182\n",
       "4           amen_gym  0.677273"
      ]
     },
     "execution_count": 27,
     "metadata": {},
     "output_type": "execute_result"
    }
   ],
   "source": [
    "amen_shares.reset_index(inplace=True)\n",
    "amen_shares.head()"
   ]
  },
  {
   "cell_type": "code",
   "execution_count": 28,
   "metadata": {
    "collapsed": true
   },
   "outputs": [],
   "source": [
    "def amen_values(orig_val):\n",
    "    if orig_val == 'amen_wifi':\n",
    "        new_val = \"WiFi\"\n",
    "    elif orig_val == 'amen_room_service':\n",
    "        new_val = \"Room Service\"\n",
    "    elif orig_val == 'amen_restaurant':\n",
    "        new_val = \"Restaurant\"\n",
    "    elif orig_val == 'amen_bar_lounge':\n",
    "        new_val = \"Bar/Lounge\"\n",
    "    elif orig_val == 'amen_gym':\n",
    "        new_val = \"Gym\"\n",
    "    elif orig_val == 'amen_spa':\n",
    "        new_val = \"Spa\"\n",
    "    elif orig_val == 'amen_internet':\n",
    "        new_val = \"Internet\"\n",
    "    elif orig_val == 'amen_parking':\n",
    "        new_val = \"Parking\"\n",
    "    elif orig_val == 'amen_pool':\n",
    "        new_val = \"Pool\"\n",
    "    elif orig_val == 'amen_breakfast':\n",
    "        new_val = \"Breakfast\"\n",
    "    return new_val"
   ]
  },
  {
   "cell_type": "code",
   "execution_count": 29,
   "metadata": {
    "collapsed": false
   },
   "outputs": [],
   "source": [
    "amen_shares['index'] = amen_shares['index'].apply(lambda x: amen_values(x))"
   ]
  },
  {
   "cell_type": "code",
   "execution_count": 30,
   "metadata": {
    "collapsed": false
   },
   "outputs": [
    {
     "data": {
      "text/html": [
       "<div>\n",
       "<table border=\"1\" class=\"dataframe\">\n",
       "  <thead>\n",
       "    <tr style=\"text-align: right;\">\n",
       "      <th></th>\n",
       "      <th>index</th>\n",
       "      <th>mean</th>\n",
       "    </tr>\n",
       "  </thead>\n",
       "  <tbody>\n",
       "    <tr>\n",
       "      <th>0</th>\n",
       "      <td>WiFi</td>\n",
       "      <td>0.804545</td>\n",
       "    </tr>\n",
       "    <tr>\n",
       "      <th>1</th>\n",
       "      <td>Room Service</td>\n",
       "      <td>0.484091</td>\n",
       "    </tr>\n",
       "    <tr>\n",
       "      <th>2</th>\n",
       "      <td>Restaurant</td>\n",
       "      <td>0.529545</td>\n",
       "    </tr>\n",
       "    <tr>\n",
       "      <th>3</th>\n",
       "      <td>Bar/Lounge</td>\n",
       "      <td>0.593182</td>\n",
       "    </tr>\n",
       "    <tr>\n",
       "      <th>4</th>\n",
       "      <td>Gym</td>\n",
       "      <td>0.677273</td>\n",
       "    </tr>\n",
       "  </tbody>\n",
       "</table>\n",
       "</div>"
      ],
      "text/plain": [
       "          index      mean\n",
       "0          WiFi  0.804545\n",
       "1  Room Service  0.484091\n",
       "2    Restaurant  0.529545\n",
       "3    Bar/Lounge  0.593182\n",
       "4           Gym  0.677273"
      ]
     },
     "execution_count": 30,
     "metadata": {},
     "output_type": "execute_result"
    }
   ],
   "source": [
    "amen_shares.head()"
   ]
  },
  {
   "cell_type": "code",
   "execution_count": 31,
   "metadata": {
    "collapsed": true
   },
   "outputs": [],
   "source": [
    "amen_shares.set_index('index',inplace=True)"
   ]
  },
  {
   "cell_type": "code",
   "execution_count": 32,
   "metadata": {
    "collapsed": false
   },
   "outputs": [
    {
     "data": {
      "text/html": [
       "<div>\n",
       "<table border=\"1\" class=\"dataframe\">\n",
       "  <thead>\n",
       "    <tr style=\"text-align: right;\">\n",
       "      <th></th>\n",
       "      <th>mean</th>\n",
       "    </tr>\n",
       "    <tr>\n",
       "      <th>index</th>\n",
       "      <th></th>\n",
       "    </tr>\n",
       "  </thead>\n",
       "  <tbody>\n",
       "    <tr>\n",
       "      <th>WiFi</th>\n",
       "      <td>0.804545</td>\n",
       "    </tr>\n",
       "    <tr>\n",
       "      <th>Room Service</th>\n",
       "      <td>0.484091</td>\n",
       "    </tr>\n",
       "    <tr>\n",
       "      <th>Restaurant</th>\n",
       "      <td>0.529545</td>\n",
       "    </tr>\n",
       "    <tr>\n",
       "      <th>Bar/Lounge</th>\n",
       "      <td>0.593182</td>\n",
       "    </tr>\n",
       "    <tr>\n",
       "      <th>Gym</th>\n",
       "      <td>0.677273</td>\n",
       "    </tr>\n",
       "    <tr>\n",
       "      <th>Spa</th>\n",
       "      <td>0.100000</td>\n",
       "    </tr>\n",
       "    <tr>\n",
       "      <th>Breakfast</th>\n",
       "      <td>0.211364</td>\n",
       "    </tr>\n",
       "    <tr>\n",
       "      <th>Pool</th>\n",
       "      <td>0.063636</td>\n",
       "    </tr>\n",
       "    <tr>\n",
       "      <th>Internet</th>\n",
       "      <td>0.072727</td>\n",
       "    </tr>\n",
       "    <tr>\n",
       "      <th>Parking</th>\n",
       "      <td>0.002273</td>\n",
       "    </tr>\n",
       "  </tbody>\n",
       "</table>\n",
       "</div>"
      ],
      "text/plain": [
       "                  mean\n",
       "index                 \n",
       "WiFi          0.804545\n",
       "Room Service  0.484091\n",
       "Restaurant    0.529545\n",
       "Bar/Lounge    0.593182\n",
       "Gym           0.677273\n",
       "Spa           0.100000\n",
       "Breakfast     0.211364\n",
       "Pool          0.063636\n",
       "Internet      0.072727\n",
       "Parking       0.002273"
      ]
     },
     "execution_count": 32,
     "metadata": {},
     "output_type": "execute_result"
    }
   ],
   "source": [
    "amen_shares"
   ]
  },
  {
   "cell_type": "code",
   "execution_count": 33,
   "metadata": {
    "collapsed": false,
    "scrolled": true
   },
   "outputs": [
    {
     "data": {
      "image/png": "[encoded data removed]",
      "text/plain": [
       "<matplotlib.figure.Figure at 0x11429ff50>"
      ]
     },
     "metadata": {},
     "output_type": "display_data"
    }
   ],
   "source": [
    "amen_shares.plot(kind='barh', figsize=(16,10), fontsize=18, legend=False);"
   ]
  },
  {
   "cell_type": "code",
   "execution_count": 34,
   "metadata": {
    "collapsed": true
   },
   "outputs": [],
   "source": [
    "#target column\n",
    "y = XY_df.top30"
   ]
  },
  {
   "cell_type": "code",
   "execution_count": 35,
   "metadata": {
    "collapsed": false
   },
   "outputs": [
    {
     "name": "stdout",
     "output_type": "stream",
     "text": [
      "(440, 53) (440, 56) (440,)\n"
     ]
    }
   ],
   "source": [
    "print Xn_df.shape, XY_df.shape, y.shape"
   ]
  },
  {
   "cell_type": "code",
   "execution_count": 36,
   "metadata": {
    "collapsed": true
   },
   "outputs": [],
   "source": [
    "# standardize X with StandardScaler, including dummy variables\n",
    "ss = StandardScaler()\n",
    "X_df = XY_df.drop(['hotel_name','top30','rank_num'],axis=1)\n",
    "Xn = ss.fit_transform(X_df)\n",
    "Xn_df = pd.DataFrame(Xn, columns=X_df.columns)"
   ]
  },
  {
   "cell_type": "code",
   "execution_count": 37,
   "metadata": {
    "collapsed": false
   },
   "outputs": [
    {
     "data": {
      "text/html": [
       "<div>\n",
       "<table border=\"1\" class=\"dataframe\">\n",
       "  <thead>\n",
       "    <tr style=\"text-align: right;\">\n",
       "      <th></th>\n",
       "      <th>rooms_num</th>\n",
       "      <th>prange_low</th>\n",
       "      <th>prange_high</th>\n",
       "      <th>amen_wifi</th>\n",
       "      <th>amen_room_service</th>\n",
       "      <th>amen_restaurant</th>\n",
       "      <th>amen_bar_lounge</th>\n",
       "      <th>amen_gym</th>\n",
       "      <th>amen_spa</th>\n",
       "      <th>amen_breakfast</th>\n",
       "      <th>...</th>\n",
       "      <th>zip_5_10282</th>\n",
       "      <th>hclass_num_1.0</th>\n",
       "      <th>hclass_num_1.5</th>\n",
       "      <th>hclass_num_2.0</th>\n",
       "      <th>hclass_num_2.5</th>\n",
       "      <th>hclass_num_3.0</th>\n",
       "      <th>hclass_num_3.5</th>\n",
       "      <th>hclass_num_4.0</th>\n",
       "      <th>hclass_num_4.5</th>\n",
       "      <th>hclass_num_5.0</th>\n",
       "    </tr>\n",
       "  </thead>\n",
       "  <tbody>\n",
       "    <tr>\n",
       "      <th>0</th>\n",
       "      <td>0.006762</td>\n",
       "      <td>1.222902</td>\n",
       "      <td>0.827658</td>\n",
       "      <td>0.492887</td>\n",
       "      <td>1.032341</td>\n",
       "      <td>0.942556</td>\n",
       "      <td>0.828145</td>\n",
       "      <td>0.690297</td>\n",
       "      <td>-0.333333</td>\n",
       "      <td>-0.517698</td>\n",
       "      <td>...</td>\n",
       "      <td>-0.047727</td>\n",
       "      <td>-0.082855</td>\n",
       "      <td>-0.067574</td>\n",
       "      <td>-0.194257</td>\n",
       "      <td>-0.270501</td>\n",
       "      <td>-0.528271</td>\n",
       "      <td>-0.423822</td>\n",
       "      <td>-0.672417</td>\n",
       "      <td>-0.358057</td>\n",
       "      <td>3.206564</td>\n",
       "    </tr>\n",
       "    <tr>\n",
       "      <th>1</th>\n",
       "      <td>-0.025201</td>\n",
       "      <td>0.509434</td>\n",
       "      <td>4.642739</td>\n",
       "      <td>0.492887</td>\n",
       "      <td>1.032341</td>\n",
       "      <td>0.942556</td>\n",
       "      <td>0.828145</td>\n",
       "      <td>0.690297</td>\n",
       "      <td>-0.333333</td>\n",
       "      <td>-0.517698</td>\n",
       "      <td>...</td>\n",
       "      <td>-0.047727</td>\n",
       "      <td>-0.082855</td>\n",
       "      <td>-0.067574</td>\n",
       "      <td>-0.194257</td>\n",
       "      <td>-0.270501</td>\n",
       "      <td>-0.528271</td>\n",
       "      <td>-0.423822</td>\n",
       "      <td>-0.672417</td>\n",
       "      <td>-0.358057</td>\n",
       "      <td>3.206564</td>\n",
       "    </tr>\n",
       "    <tr>\n",
       "      <th>2</th>\n",
       "      <td>-0.800295</td>\n",
       "      <td>-0.441858</td>\n",
       "      <td>-0.628560</td>\n",
       "      <td>0.492887</td>\n",
       "      <td>-0.968672</td>\n",
       "      <td>0.942556</td>\n",
       "      <td>0.828145</td>\n",
       "      <td>-1.448652</td>\n",
       "      <td>-0.333333</td>\n",
       "      <td>-0.517698</td>\n",
       "      <td>...</td>\n",
       "      <td>-0.047727</td>\n",
       "      <td>-0.082855</td>\n",
       "      <td>-0.067574</td>\n",
       "      <td>-0.194257</td>\n",
       "      <td>-0.270501</td>\n",
       "      <td>-0.528271</td>\n",
       "      <td>2.359484</td>\n",
       "      <td>-0.672417</td>\n",
       "      <td>-0.358057</td>\n",
       "      <td>-0.311860</td>\n",
       "    </tr>\n",
       "    <tr>\n",
       "      <th>3</th>\n",
       "      <td>-0.756347</td>\n",
       "      <td>-0.547557</td>\n",
       "      <td>-0.603879</td>\n",
       "      <td>0.492887</td>\n",
       "      <td>-0.968672</td>\n",
       "      <td>-1.060945</td>\n",
       "      <td>-1.207518</td>\n",
       "      <td>-1.448652</td>\n",
       "      <td>-0.333333</td>\n",
       "      <td>-0.517698</td>\n",
       "      <td>...</td>\n",
       "      <td>-0.047727</td>\n",
       "      <td>-0.082855</td>\n",
       "      <td>-0.067574</td>\n",
       "      <td>-0.194257</td>\n",
       "      <td>-0.270501</td>\n",
       "      <td>1.892969</td>\n",
       "      <td>-0.423822</td>\n",
       "      <td>-0.672417</td>\n",
       "      <td>-0.358057</td>\n",
       "      <td>-0.311860</td>\n",
       "    </tr>\n",
       "    <tr>\n",
       "      <th>4</th>\n",
       "      <td>-0.820272</td>\n",
       "      <td>0.623941</td>\n",
       "      <td>-0.268913</td>\n",
       "      <td>0.492887</td>\n",
       "      <td>-0.968672</td>\n",
       "      <td>-1.060945</td>\n",
       "      <td>-1.207518</td>\n",
       "      <td>-1.448652</td>\n",
       "      <td>-0.333333</td>\n",
       "      <td>1.931627</td>\n",
       "      <td>...</td>\n",
       "      <td>-0.047727</td>\n",
       "      <td>-0.082855</td>\n",
       "      <td>-0.067574</td>\n",
       "      <td>-0.194257</td>\n",
       "      <td>-0.270501</td>\n",
       "      <td>1.892969</td>\n",
       "      <td>-0.423822</td>\n",
       "      <td>-0.672417</td>\n",
       "      <td>-0.358057</td>\n",
       "      <td>-0.311860</td>\n",
       "    </tr>\n",
       "  </tbody>\n",
       "</table>\n",
       "<p>5 rows × 53 columns</p>\n",
       "</div>"
      ],
      "text/plain": [
       "   rooms_num  prange_low  prange_high  amen_wifi  amen_room_service  \\\n",
       "0   0.006762    1.222902     0.827658   0.492887           1.032341   \n",
       "1  -0.025201    0.509434     4.642739   0.492887           1.032341   \n",
       "2  -0.800295   -0.441858    -0.628560   0.492887          -0.968672   \n",
       "3  -0.756347   -0.547557    -0.603879   0.492887          -0.968672   \n",
       "4  -0.820272    0.623941    -0.268913   0.492887          -0.968672   \n",
       "\n",
       "   amen_restaurant  amen_bar_lounge  amen_gym  amen_spa  amen_breakfast  \\\n",
       "0         0.942556         0.828145  0.690297 -0.333333       -0.517698   \n",
       "1         0.942556         0.828145  0.690297 -0.333333       -0.517698   \n",
       "2         0.942556         0.828145 -1.448652 -0.333333       -0.517698   \n",
       "3        -1.060945        -1.207518 -1.448652 -0.333333       -0.517698   \n",
       "4        -1.060945        -1.207518 -1.448652 -0.333333        1.931627   \n",
       "\n",
       "        ...        zip_5_10282  hclass_num_1.0  hclass_num_1.5  \\\n",
       "0       ...          -0.047727       -0.082855       -0.067574   \n",
       "1       ...          -0.047727       -0.082855       -0.067574   \n",
       "2       ...          -0.047727       -0.082855       -0.067574   \n",
       "3       ...          -0.047727       -0.082855       -0.067574   \n",
       "4       ...          -0.047727       -0.082855       -0.067574   \n",
       "\n",
       "   hclass_num_2.0  hclass_num_2.5  hclass_num_3.0  hclass_num_3.5  \\\n",
       "0       -0.194257       -0.270501       -0.528271       -0.423822   \n",
       "1       -0.194257       -0.270501       -0.528271       -0.423822   \n",
       "2       -0.194257       -0.270501       -0.528271        2.359484   \n",
       "3       -0.194257       -0.270501        1.892969       -0.423822   \n",
       "4       -0.194257       -0.270501        1.892969       -0.423822   \n",
       "\n",
       "   hclass_num_4.0  hclass_num_4.5  hclass_num_5.0  \n",
       "0       -0.672417       -0.358057        3.206564  \n",
       "1       -0.672417       -0.358057        3.206564  \n",
       "2       -0.672417       -0.358057       -0.311860  \n",
       "3       -0.672417       -0.358057       -0.311860  \n",
       "4       -0.672417       -0.358057       -0.311860  \n",
       "\n",
       "[5 rows x 53 columns]"
      ]
     },
     "execution_count": 37,
     "metadata": {},
     "output_type": "execute_result"
    }
   ],
   "source": [
    "#StandardScaler\n",
    "Xn_df.head()"
   ]
  },
  {
   "cell_type": "code",
   "execution_count": 38,
   "metadata": {
    "collapsed": false
   },
   "outputs": [
    {
     "data": {
      "text/plain": [
       "Index([        u'rooms_num',        u'prange_low',       u'prange_high',\n",
       "               u'amen_wifi', u'amen_room_service',   u'amen_restaurant',\n",
       "         u'amen_bar_lounge',          u'amen_gym',          u'amen_spa',\n",
       "          u'amen_breakfast',         u'amen_pool',     u'amen_internet',\n",
       "            u'amen_parking',       u'zip_5_10001',       u'zip_5_10002',\n",
       "             u'zip_5_10003',       u'zip_5_10004',       u'zip_5_10005',\n",
       "             u'zip_5_10006',       u'zip_5_10007',       u'zip_5_10010',\n",
       "             u'zip_5_10011',       u'zip_5_10012',       u'zip_5_10013',\n",
       "             u'zip_5_10014',       u'zip_5_10016',       u'zip_5_10017',\n",
       "             u'zip_5_10018',       u'zip_5_10019',       u'zip_5_10021',\n",
       "             u'zip_5_10022',       u'zip_5_10023',       u'zip_5_10024',\n",
       "             u'zip_5_10025',       u'zip_5_10027',       u'zip_5_10028',\n",
       "             u'zip_5_10032',       u'zip_5_10033',       u'zip_5_10036',\n",
       "             u'zip_5_10038',       u'zip_5_10065',       u'zip_5_10078',\n",
       "             u'zip_5_10128',       u'zip_5_10282',    u'hclass_num_1.0',\n",
       "          u'hclass_num_1.5',    u'hclass_num_2.0',    u'hclass_num_2.5',\n",
       "          u'hclass_num_3.0',    u'hclass_num_3.5',    u'hclass_num_4.0',\n",
       "          u'hclass_num_4.5',    u'hclass_num_5.0'],\n",
       "      dtype='object')"
      ]
     },
     "execution_count": 38,
     "metadata": {},
     "output_type": "execute_result"
    }
   ],
   "source": [
    "Xn_df.columns"
   ]
  },
  {
   "cell_type": "code",
   "execution_count": 39,
   "metadata": {
    "collapsed": false
   },
   "outputs": [
    {
     "data": {
      "text/plain": [
       "(440, 53)"
      ]
     },
     "execution_count": 39,
     "metadata": {},
     "output_type": "execute_result"
    }
   ],
   "source": [
    "Xn_df.shape"
   ]
  },
  {
   "cell_type": "code",
   "execution_count": 40,
   "metadata": {
    "collapsed": false
   },
   "outputs": [
    {
     "data": {
      "text/html": [
       "<div>\n",
       "<table border=\"1\" class=\"dataframe\">\n",
       "  <thead>\n",
       "    <tr style=\"text-align: right;\">\n",
       "      <th></th>\n",
       "      <th>hotel_name</th>\n",
       "      <th>rank_num</th>\n",
       "      <th>top30</th>\n",
       "    </tr>\n",
       "  </thead>\n",
       "  <tbody>\n",
       "    <tr>\n",
       "      <th>0</th>\n",
       "      <td>1 Hotel Central Park</td>\n",
       "      <td>30.0</td>\n",
       "      <td>1</td>\n",
       "    </tr>\n",
       "    <tr>\n",
       "      <th>1</th>\n",
       "      <td>11 Howard</td>\n",
       "      <td>34.0</td>\n",
       "      <td>0</td>\n",
       "    </tr>\n",
       "    <tr>\n",
       "      <th>2</th>\n",
       "      <td>3 West Club</td>\n",
       "      <td>374.0</td>\n",
       "      <td>0</td>\n",
       "    </tr>\n",
       "    <tr>\n",
       "      <th>3</th>\n",
       "      <td>36 Hudson Hotel</td>\n",
       "      <td>350.0</td>\n",
       "      <td>0</td>\n",
       "    </tr>\n",
       "    <tr>\n",
       "      <th>4</th>\n",
       "      <td>414 Hotel</td>\n",
       "      <td>1.0</td>\n",
       "      <td>1</td>\n",
       "    </tr>\n",
       "    <tr>\n",
       "      <th>5</th>\n",
       "      <td>6 Columbus - A SIXTY Hotel</td>\n",
       "      <td>294.0</td>\n",
       "      <td>0</td>\n",
       "    </tr>\n",
       "    <tr>\n",
       "      <th>6</th>\n",
       "      <td>A Hospitality Company Inc.</td>\n",
       "      <td>413.0</td>\n",
       "      <td>0</td>\n",
       "    </tr>\n",
       "    <tr>\n",
       "      <th>7</th>\n",
       "      <td>AKA Central Park</td>\n",
       "      <td>210.0</td>\n",
       "      <td>0</td>\n",
       "    </tr>\n",
       "    <tr>\n",
       "      <th>8</th>\n",
       "      <td>AKA Times Square</td>\n",
       "      <td>114.0</td>\n",
       "      <td>0</td>\n",
       "    </tr>\n",
       "    <tr>\n",
       "      <th>9</th>\n",
       "      <td>AKA Wall Street</td>\n",
       "      <td>338.0</td>\n",
       "      <td>0</td>\n",
       "    </tr>\n",
       "  </tbody>\n",
       "</table>\n",
       "</div>"
      ],
      "text/plain": [
       "                   hotel_name  rank_num  top30\n",
       "0        1 Hotel Central Park      30.0      1\n",
       "1                   11 Howard      34.0      0\n",
       "2                 3 West Club     374.0      0\n",
       "3             36 Hudson Hotel     350.0      0\n",
       "4                   414 Hotel       1.0      1\n",
       "5  6 Columbus - A SIXTY Hotel     294.0      0\n",
       "6  A Hospitality Company Inc.     413.0      0\n",
       "7            AKA Central Park     210.0      0\n",
       "8            AKA Times Square     114.0      0\n",
       "9             AKA Wall Street     338.0      0"
      ]
     },
     "execution_count": 40,
     "metadata": {},
     "output_type": "execute_result"
    }
   ],
   "source": [
    "XY_df[['hotel_name','rank_num','top30']].head(10)"
   ]
  },
  {
   "cell_type": "code",
   "execution_count": 41,
   "metadata": {
    "collapsed": false
   },
   "outputs": [
    {
     "data": {
      "text/plain": [
       "['hclass_num_1.0',\n",
       " 'hclass_num_1.5',\n",
       " 'hclass_num_2.0',\n",
       " 'hclass_num_2.5',\n",
       " 'hclass_num_3.0',\n",
       " 'hclass_num_3.5',\n",
       " 'hclass_num_4.0',\n",
       " 'hclass_num_4.5',\n",
       " 'hclass_num_5.0']"
      ]
     },
     "execution_count": 41,
     "metadata": {},
     "output_type": "execute_result"
    }
   ],
   "source": [
    "class_cols = [col for col in list(XY_df) if col.startswith('hclass_num_')]\n",
    "class_cols"
   ]
  },
  {
   "cell_type": "code",
   "execution_count": 42,
   "metadata": {
    "collapsed": false
   },
   "outputs": [],
   "source": [
    "XY_df[['hotel_name','rank_num','top30']+class_cols].to_csv('rank_class.csv')"
   ]
  },
  {
   "cell_type": "markdown",
   "metadata": {},
   "source": [
    "#### MODELING"
   ]
  },
  {
   "cell_type": "code",
   "execution_count": 43,
   "metadata": {
    "collapsed": false
   },
   "outputs": [
    {
     "data": {
      "text/plain": [
       "(440, 53)"
      ]
     },
     "execution_count": 43,
     "metadata": {},
     "output_type": "execute_result"
    }
   ],
   "source": [
    "Xn_df.shape"
   ]
  },
  {
   "cell_type": "code",
   "execution_count": 44,
   "metadata": {
    "collapsed": false
   },
   "outputs": [
    {
     "data": {
      "text/plain": [
       "Index([        u'rooms_num',        u'prange_low',       u'prange_high',\n",
       "               u'amen_wifi', u'amen_room_service',   u'amen_restaurant',\n",
       "         u'amen_bar_lounge',          u'amen_gym',          u'amen_spa',\n",
       "          u'amen_breakfast',         u'amen_pool',     u'amen_internet',\n",
       "            u'amen_parking',       u'zip_5_10001',       u'zip_5_10002',\n",
       "             u'zip_5_10003',       u'zip_5_10004',       u'zip_5_10005',\n",
       "             u'zip_5_10006',       u'zip_5_10007',       u'zip_5_10010',\n",
       "             u'zip_5_10011',       u'zip_5_10012',       u'zip_5_10013',\n",
       "             u'zip_5_10014',       u'zip_5_10016',       u'zip_5_10017',\n",
       "             u'zip_5_10018',       u'zip_5_10019',       u'zip_5_10021',\n",
       "             u'zip_5_10022',       u'zip_5_10023',       u'zip_5_10024',\n",
       "             u'zip_5_10025',       u'zip_5_10027',       u'zip_5_10028',\n",
       "             u'zip_5_10032',       u'zip_5_10033',       u'zip_5_10036',\n",
       "             u'zip_5_10038',       u'zip_5_10065',       u'zip_5_10078',\n",
       "             u'zip_5_10128',       u'zip_5_10282',    u'hclass_num_1.0',\n",
       "          u'hclass_num_1.5',    u'hclass_num_2.0',    u'hclass_num_2.5',\n",
       "          u'hclass_num_3.0',    u'hclass_num_3.5',    u'hclass_num_4.0',\n",
       "          u'hclass_num_4.5',    u'hclass_num_5.0'],\n",
       "      dtype='object')"
      ]
     },
     "execution_count": 44,
     "metadata": {},
     "output_type": "execute_result"
    }
   ],
   "source": [
    "Xn_df.columns"
   ]
  },
  {
   "cell_type": "code",
   "execution_count": 45,
   "metadata": {
    "collapsed": false
   },
   "outputs": [
    {
     "data": {
      "text/plain": [
       "count    440.000000\n",
       "mean     220.500000\n",
       "std      127.161315\n",
       "min        1.000000\n",
       "25%      110.750000\n",
       "50%      220.500000\n",
       "75%      330.250000\n",
       "max      440.000000\n",
       "Name: rank_num, dtype: float64"
      ]
     },
     "execution_count": 45,
     "metadata": {},
     "output_type": "execute_result"
    }
   ],
   "source": [
    "XY_df.rank_num.describe()"
   ]
  },
  {
   "cell_type": "code",
   "execution_count": 46,
   "metadata": {
    "collapsed": false
   },
   "outputs": [
    {
     "data": {
      "text/plain": [
       "(440,)"
      ]
     },
     "execution_count": 46,
     "metadata": {},
     "output_type": "execute_result"
    }
   ],
   "source": [
    "y_rank = XY_df.rank_num\n",
    "y_rank.shape"
   ]
  },
  {
   "cell_type": "code",
   "execution_count": 47,
   "metadata": {
    "collapsed": true
   },
   "outputs": [],
   "source": [
    "Xn_df_w_y = pd.concat([Xn_df,y_rank],axis=1)"
   ]
  },
  {
   "cell_type": "code",
   "execution_count": 48,
   "metadata": {
    "collapsed": false
   },
   "outputs": [
    {
     "data": {
      "text/plain": [
       "Index([        u'rooms_num',        u'prange_low',       u'prange_high',\n",
       "               u'amen_wifi', u'amen_room_service',   u'amen_restaurant',\n",
       "         u'amen_bar_lounge',          u'amen_gym',          u'amen_spa',\n",
       "          u'amen_breakfast',         u'amen_pool',     u'amen_internet',\n",
       "            u'amen_parking',       u'zip_5_10001',       u'zip_5_10002',\n",
       "             u'zip_5_10003',       u'zip_5_10004',       u'zip_5_10005',\n",
       "             u'zip_5_10006',       u'zip_5_10007',       u'zip_5_10010',\n",
       "             u'zip_5_10011',       u'zip_5_10012',       u'zip_5_10013',\n",
       "             u'zip_5_10014',       u'zip_5_10016',       u'zip_5_10017',\n",
       "             u'zip_5_10018',       u'zip_5_10019',       u'zip_5_10021',\n",
       "             u'zip_5_10022',       u'zip_5_10023',       u'zip_5_10024',\n",
       "             u'zip_5_10025',       u'zip_5_10027',       u'zip_5_10028',\n",
       "             u'zip_5_10032',       u'zip_5_10033',       u'zip_5_10036',\n",
       "             u'zip_5_10038',       u'zip_5_10065',       u'zip_5_10078',\n",
       "             u'zip_5_10128',       u'zip_5_10282',    u'hclass_num_1.0',\n",
       "          u'hclass_num_1.5',    u'hclass_num_2.0',    u'hclass_num_2.5',\n",
       "          u'hclass_num_3.0',    u'hclass_num_3.5',    u'hclass_num_4.0',\n",
       "          u'hclass_num_4.5',    u'hclass_num_5.0',          u'rank_num'],\n",
       "      dtype='object')"
      ]
     },
     "execution_count": 48,
     "metadata": {},
     "output_type": "execute_result"
    }
   ],
   "source": [
    "Xn_df_w_y.columns"
   ]
  },
  {
   "cell_type": "code",
   "execution_count": 49,
   "metadata": {
    "collapsed": true
   },
   "outputs": [],
   "source": [
    "Xn_df_w_y_comb = pd.DataFrame()"
   ]
  },
  {
   "cell_type": "code",
   "execution_count": 50,
   "metadata": {
    "collapsed": true
   },
   "outputs": [],
   "source": [
    "Xn_df_w_y_cols = Xn_df_w_y.columns.tolist()"
   ]
  },
  {
   "cell_type": "code",
   "execution_count": 51,
   "metadata": {
    "collapsed": false
   },
   "outputs": [],
   "source": [
    "row = 0\n",
    "for i in range(len(Xn_df_w_y.index)-1):\n",
    "    for j in range(i+1,len(Xn_df_w_y.index)):\n",
    "        for col in Xn_df_w_y_cols:\n",
    "            Xn_df_w_y_comb.loc[row,col+'_1'] = Xn_df_w_y.loc[i,col]\n",
    "            Xn_df_w_y_comb.loc[row,col+'_2'] = Xn_df_w_y.loc[j,col]\n",
    "        row += 1"
   ]
  },
  {
   "cell_type": "code",
   "execution_count": 52,
   "metadata": {
    "collapsed": false
   },
   "outputs": [
    {
     "data": {
      "text/plain": [
       "(96580, 108)"
      ]
     },
     "execution_count": 52,
     "metadata": {},
     "output_type": "execute_result"
    }
   ],
   "source": [
    "Xn_df_w_y_comb.shape"
   ]
  },
  {
   "cell_type": "code",
   "execution_count": 53,
   "metadata": {
    "collapsed": false
   },
   "outputs": [
    {
     "data": {
      "text/html": [
       "<div>\n",
       "<table border=\"1\" class=\"dataframe\">\n",
       "  <thead>\n",
       "    <tr style=\"text-align: right;\">\n",
       "      <th></th>\n",
       "      <th>rooms_num_1</th>\n",
       "      <th>rooms_num_2</th>\n",
       "      <th>prange_low_1</th>\n",
       "      <th>prange_low_2</th>\n",
       "      <th>prange_high_1</th>\n",
       "      <th>prange_high_2</th>\n",
       "      <th>amen_wifi_1</th>\n",
       "      <th>amen_wifi_2</th>\n",
       "      <th>amen_room_service_1</th>\n",
       "      <th>amen_room_service_2</th>\n",
       "      <th>...</th>\n",
       "      <th>hclass_num_3.5_1</th>\n",
       "      <th>hclass_num_3.5_2</th>\n",
       "      <th>hclass_num_4.0_1</th>\n",
       "      <th>hclass_num_4.0_2</th>\n",
       "      <th>hclass_num_4.5_1</th>\n",
       "      <th>hclass_num_4.5_2</th>\n",
       "      <th>hclass_num_5.0_1</th>\n",
       "      <th>hclass_num_5.0_2</th>\n",
       "      <th>rank_num_1</th>\n",
       "      <th>rank_num_2</th>\n",
       "    </tr>\n",
       "  </thead>\n",
       "  <tbody>\n",
       "    <tr>\n",
       "      <th>0</th>\n",
       "      <td>0.006762</td>\n",
       "      <td>-0.025201</td>\n",
       "      <td>1.222902</td>\n",
       "      <td>0.509434</td>\n",
       "      <td>0.827658</td>\n",
       "      <td>4.642739</td>\n",
       "      <td>0.492887</td>\n",
       "      <td>0.492887</td>\n",
       "      <td>1.032341</td>\n",
       "      <td>1.032341</td>\n",
       "      <td>...</td>\n",
       "      <td>-0.423822</td>\n",
       "      <td>-0.423822</td>\n",
       "      <td>-0.672417</td>\n",
       "      <td>-0.672417</td>\n",
       "      <td>-0.358057</td>\n",
       "      <td>-0.358057</td>\n",
       "      <td>3.206564</td>\n",
       "      <td>3.206564</td>\n",
       "      <td>30.0</td>\n",
       "      <td>34.0</td>\n",
       "    </tr>\n",
       "    <tr>\n",
       "      <th>1</th>\n",
       "      <td>0.006762</td>\n",
       "      <td>-0.800295</td>\n",
       "      <td>1.222902</td>\n",
       "      <td>-0.441858</td>\n",
       "      <td>0.827658</td>\n",
       "      <td>-0.628560</td>\n",
       "      <td>0.492887</td>\n",
       "      <td>0.492887</td>\n",
       "      <td>1.032341</td>\n",
       "      <td>-0.968672</td>\n",
       "      <td>...</td>\n",
       "      <td>-0.423822</td>\n",
       "      <td>2.359484</td>\n",
       "      <td>-0.672417</td>\n",
       "      <td>-0.672417</td>\n",
       "      <td>-0.358057</td>\n",
       "      <td>-0.358057</td>\n",
       "      <td>3.206564</td>\n",
       "      <td>-0.311860</td>\n",
       "      <td>30.0</td>\n",
       "      <td>374.0</td>\n",
       "    </tr>\n",
       "    <tr>\n",
       "      <th>2</th>\n",
       "      <td>0.006762</td>\n",
       "      <td>-0.756347</td>\n",
       "      <td>1.222902</td>\n",
       "      <td>-0.547557</td>\n",
       "      <td>0.827658</td>\n",
       "      <td>-0.603879</td>\n",
       "      <td>0.492887</td>\n",
       "      <td>0.492887</td>\n",
       "      <td>1.032341</td>\n",
       "      <td>-0.968672</td>\n",
       "      <td>...</td>\n",
       "      <td>-0.423822</td>\n",
       "      <td>-0.423822</td>\n",
       "      <td>-0.672417</td>\n",
       "      <td>-0.672417</td>\n",
       "      <td>-0.358057</td>\n",
       "      <td>-0.358057</td>\n",
       "      <td>3.206564</td>\n",
       "      <td>-0.311860</td>\n",
       "      <td>30.0</td>\n",
       "      <td>350.0</td>\n",
       "    </tr>\n",
       "    <tr>\n",
       "      <th>3</th>\n",
       "      <td>0.006762</td>\n",
       "      <td>-0.820272</td>\n",
       "      <td>1.222902</td>\n",
       "      <td>0.623941</td>\n",
       "      <td>0.827658</td>\n",
       "      <td>-0.268913</td>\n",
       "      <td>0.492887</td>\n",
       "      <td>0.492887</td>\n",
       "      <td>1.032341</td>\n",
       "      <td>-0.968672</td>\n",
       "      <td>...</td>\n",
       "      <td>-0.423822</td>\n",
       "      <td>-0.423822</td>\n",
       "      <td>-0.672417</td>\n",
       "      <td>-0.672417</td>\n",
       "      <td>-0.358057</td>\n",
       "      <td>-0.358057</td>\n",
       "      <td>3.206564</td>\n",
       "      <td>-0.311860</td>\n",
       "      <td>30.0</td>\n",
       "      <td>1.0</td>\n",
       "    </tr>\n",
       "    <tr>\n",
       "      <th>4</th>\n",
       "      <td>0.006762</td>\n",
       "      <td>-0.556580</td>\n",
       "      <td>1.222902</td>\n",
       "      <td>0.033788</td>\n",
       "      <td>0.827658</td>\n",
       "      <td>-0.004467</td>\n",
       "      <td>0.492887</td>\n",
       "      <td>0.492887</td>\n",
       "      <td>1.032341</td>\n",
       "      <td>1.032341</td>\n",
       "      <td>...</td>\n",
       "      <td>-0.423822</td>\n",
       "      <td>-0.423822</td>\n",
       "      <td>-0.672417</td>\n",
       "      <td>-0.672417</td>\n",
       "      <td>-0.358057</td>\n",
       "      <td>2.792848</td>\n",
       "      <td>3.206564</td>\n",
       "      <td>-0.311860</td>\n",
       "      <td>30.0</td>\n",
       "      <td>294.0</td>\n",
       "    </tr>\n",
       "  </tbody>\n",
       "</table>\n",
       "<p>5 rows × 108 columns</p>\n",
       "</div>"
      ],
      "text/plain": [
       "   rooms_num_1  rooms_num_2  prange_low_1  prange_low_2  prange_high_1  \\\n",
       "0     0.006762    -0.025201      1.222902      0.509434       0.827658   \n",
       "1     0.006762    -0.800295      1.222902     -0.441858       0.827658   \n",
       "2     0.006762    -0.756347      1.222902     -0.547557       0.827658   \n",
       "3     0.006762    -0.820272      1.222902      0.623941       0.827658   \n",
       "4     0.006762    -0.556580      1.222902      0.033788       0.827658   \n",
       "\n",
       "   prange_high_2  amen_wifi_1  amen_wifi_2  amen_room_service_1  \\\n",
       "0       4.642739     0.492887     0.492887             1.032341   \n",
       "1      -0.628560     0.492887     0.492887             1.032341   \n",
       "2      -0.603879     0.492887     0.492887             1.032341   \n",
       "3      -0.268913     0.492887     0.492887             1.032341   \n",
       "4      -0.004467     0.492887     0.492887             1.032341   \n",
       "\n",
       "   amen_room_service_2     ...      hclass_num_3.5_1  hclass_num_3.5_2  \\\n",
       "0             1.032341     ...             -0.423822         -0.423822   \n",
       "1            -0.968672     ...             -0.423822          2.359484   \n",
       "2            -0.968672     ...             -0.423822         -0.423822   \n",
       "3            -0.968672     ...             -0.423822         -0.423822   \n",
       "4             1.032341     ...             -0.423822         -0.423822   \n",
       "\n",
       "   hclass_num_4.0_1  hclass_num_4.0_2  hclass_num_4.5_1  hclass_num_4.5_2  \\\n",
       "0         -0.672417         -0.672417         -0.358057         -0.358057   \n",
       "1         -0.672417         -0.672417         -0.358057         -0.358057   \n",
       "2         -0.672417         -0.672417         -0.358057         -0.358057   \n",
       "3         -0.672417         -0.672417         -0.358057         -0.358057   \n",
       "4         -0.672417         -0.672417         -0.358057          2.792848   \n",
       "\n",
       "   hclass_num_5.0_1  hclass_num_5.0_2  rank_num_1  rank_num_2  \n",
       "0          3.206564          3.206564        30.0        34.0  \n",
       "1          3.206564         -0.311860        30.0       374.0  \n",
       "2          3.206564         -0.311860        30.0       350.0  \n",
       "3          3.206564         -0.311860        30.0         1.0  \n",
       "4          3.206564         -0.311860        30.0       294.0  \n",
       "\n",
       "[5 rows x 108 columns]"
      ]
     },
     "execution_count": 53,
     "metadata": {},
     "output_type": "execute_result"
    }
   ],
   "source": [
    "Xn_df_w_y_comb.head()"
   ]
  },
  {
   "cell_type": "code",
   "execution_count": 54,
   "metadata": {
    "collapsed": true
   },
   "outputs": [],
   "source": [
    "Xn_df_w_y_comb['hotel_1_better'] = (Xn_df_w_y_comb.rank_num_1 < Xn_df_w_y_comb.rank_num_2)"
   ]
  },
  {
   "cell_type": "code",
   "execution_count": 55,
   "metadata": {
    "collapsed": false
   },
   "outputs": [
    {
     "data": {
      "text/plain": [
       "False    49088\n",
       "True     47492\n",
       "Name: hotel_1_better, dtype: int64"
      ]
     },
     "execution_count": 55,
     "metadata": {},
     "output_type": "execute_result"
    }
   ],
   "source": [
    "Xn_df_w_y_comb.hotel_1_better.value_counts()"
   ]
  },
  {
   "cell_type": "code",
   "execution_count": 56,
   "metadata": {
    "collapsed": true
   },
   "outputs": [],
   "source": [
    "Xn_df_w_y_comb['hotel_1_better'] = Xn_df_w_y_comb.hotel_1_better.apply(lambda x: int(x))"
   ]
  },
  {
   "cell_type": "code",
   "execution_count": 57,
   "metadata": {
    "collapsed": false
   },
   "outputs": [
    {
     "data": {
      "text/plain": [
       "0    49088\n",
       "1    47492\n",
       "Name: hotel_1_better, dtype: int64"
      ]
     },
     "execution_count": 57,
     "metadata": {},
     "output_type": "execute_result"
    }
   ],
   "source": [
    "Xn_df_w_y_comb.hotel_1_better.value_counts()"
   ]
  },
  {
   "cell_type": "code",
   "execution_count": 58,
   "metadata": {
    "collapsed": true
   },
   "outputs": [],
   "source": [
    "y_pair = Xn_df_w_y_comb.hotel_1_better"
   ]
  },
  {
   "cell_type": "code",
   "execution_count": 59,
   "metadata": {
    "collapsed": true
   },
   "outputs": [],
   "source": [
    "dropped_vars = Xn_df_w_y_comb[['rank_num_1','rank_num_2','hotel_1_better']]"
   ]
  },
  {
   "cell_type": "code",
   "execution_count": 60,
   "metadata": {
    "collapsed": true
   },
   "outputs": [],
   "source": [
    "Xn_df_w_y_comb.drop(['rank_num_1','rank_num_2','hotel_1_better'],axis=1,inplace=True)"
   ]
  },
  {
   "cell_type": "code",
   "execution_count": 61,
   "metadata": {
    "collapsed": false
   },
   "outputs": [
    {
     "data": {
      "text/plain": [
       "(96580, 106)"
      ]
     },
     "execution_count": 61,
     "metadata": {},
     "output_type": "execute_result"
    }
   ],
   "source": [
    "Xn_df_w_y_comb.shape"
   ]
  },
  {
   "cell_type": "code",
   "execution_count": 62,
   "metadata": {
    "collapsed": true
   },
   "outputs": [],
   "source": [
    "X_train_p, X_test_p, Y_train_p, Y_test_p =  train_test_split(Xn_df_w_y_comb, y_pair, test_size = 0.33, random_state=1234)"
   ]
  },
  {
   "cell_type": "code",
   "execution_count": 63,
   "metadata": {
    "collapsed": false
   },
   "outputs": [
    {
     "data": {
      "text/html": [
       "<div>\n",
       "<table border=\"1\" class=\"dataframe\">\n",
       "  <thead>\n",
       "    <tr style=\"text-align: right;\">\n",
       "      <th></th>\n",
       "      <th>rooms_num_1</th>\n",
       "      <th>rooms_num_2</th>\n",
       "      <th>prange_low_1</th>\n",
       "      <th>prange_low_2</th>\n",
       "      <th>prange_high_1</th>\n",
       "      <th>prange_high_2</th>\n",
       "      <th>amen_wifi_1</th>\n",
       "      <th>amen_wifi_2</th>\n",
       "      <th>amen_room_service_1</th>\n",
       "      <th>amen_room_service_2</th>\n",
       "      <th>...</th>\n",
       "      <th>hclass_num_3.0_1</th>\n",
       "      <th>hclass_num_3.0_2</th>\n",
       "      <th>hclass_num_3.5_1</th>\n",
       "      <th>hclass_num_3.5_2</th>\n",
       "      <th>hclass_num_4.0_1</th>\n",
       "      <th>hclass_num_4.0_2</th>\n",
       "      <th>hclass_num_4.5_1</th>\n",
       "      <th>hclass_num_4.5_2</th>\n",
       "      <th>hclass_num_5.0_1</th>\n",
       "      <th>hclass_num_5.0_2</th>\n",
       "    </tr>\n",
       "  </thead>\n",
       "  <tbody>\n",
       "    <tr>\n",
       "      <th>87220</th>\n",
       "      <td>0.382323</td>\n",
       "      <td>0.006762</td>\n",
       "      <td>-0.221651</td>\n",
       "      <td>4.561230</td>\n",
       "      <td>-0.201920</td>\n",
       "      <td>3.017275</td>\n",
       "      <td>-2.028862</td>\n",
       "      <td>0.492887</td>\n",
       "      <td>1.032341</td>\n",
       "      <td>1.032341</td>\n",
       "      <td>...</td>\n",
       "      <td>-0.528271</td>\n",
       "      <td>-0.528271</td>\n",
       "      <td>-0.423822</td>\n",
       "      <td>-0.423822</td>\n",
       "      <td>1.487171</td>\n",
       "      <td>-0.672417</td>\n",
       "      <td>-0.358057</td>\n",
       "      <td>-0.358057</td>\n",
       "      <td>-0.31186</td>\n",
       "      <td>3.206564</td>\n",
       "    </tr>\n",
       "    <tr>\n",
       "      <th>15504</th>\n",
       "      <td>-0.368800</td>\n",
       "      <td>-0.364804</td>\n",
       "      <td>-0.177610</td>\n",
       "      <td>-0.371392</td>\n",
       "      <td>-0.230128</td>\n",
       "      <td>-0.078512</td>\n",
       "      <td>0.492887</td>\n",
       "      <td>-2.028862</td>\n",
       "      <td>1.032341</td>\n",
       "      <td>1.032341</td>\n",
       "      <td>...</td>\n",
       "      <td>1.892969</td>\n",
       "      <td>-0.528271</td>\n",
       "      <td>-0.423822</td>\n",
       "      <td>-0.423822</td>\n",
       "      <td>-0.672417</td>\n",
       "      <td>1.487171</td>\n",
       "      <td>-0.358057</td>\n",
       "      <td>-0.358057</td>\n",
       "      <td>-0.31186</td>\n",
       "      <td>-0.311860</td>\n",
       "    </tr>\n",
       "    <tr>\n",
       "      <th>59684</th>\n",
       "      <td>-0.684431</td>\n",
       "      <td>-0.137070</td>\n",
       "      <td>0.421351</td>\n",
       "      <td>-0.239268</td>\n",
       "      <td>-0.089089</td>\n",
       "      <td>-0.099667</td>\n",
       "      <td>0.492887</td>\n",
       "      <td>0.492887</td>\n",
       "      <td>1.032341</td>\n",
       "      <td>1.032341</td>\n",
       "      <td>...</td>\n",
       "      <td>-0.528271</td>\n",
       "      <td>-0.528271</td>\n",
       "      <td>-0.423822</td>\n",
       "      <td>-0.423822</td>\n",
       "      <td>-0.672417</td>\n",
       "      <td>1.487171</td>\n",
       "      <td>2.792848</td>\n",
       "      <td>-0.358057</td>\n",
       "      <td>-0.31186</td>\n",
       "      <td>-0.311860</td>\n",
       "    </tr>\n",
       "    <tr>\n",
       "      <th>77996</th>\n",
       "      <td>1.141436</td>\n",
       "      <td>-0.153052</td>\n",
       "      <td>-0.239268</td>\n",
       "      <td>2.033262</td>\n",
       "      <td>0.069578</td>\n",
       "      <td>1.314240</td>\n",
       "      <td>-2.028862</td>\n",
       "      <td>0.492887</td>\n",
       "      <td>-0.968672</td>\n",
       "      <td>1.032341</td>\n",
       "      <td>...</td>\n",
       "      <td>-0.528271</td>\n",
       "      <td>-0.528271</td>\n",
       "      <td>-0.423822</td>\n",
       "      <td>-0.423822</td>\n",
       "      <td>1.487171</td>\n",
       "      <td>-0.672417</td>\n",
       "      <td>-0.358057</td>\n",
       "      <td>-0.358057</td>\n",
       "      <td>-0.31186</td>\n",
       "      <td>3.206564</td>\n",
       "    </tr>\n",
       "    <tr>\n",
       "      <th>10907</th>\n",
       "      <td>-0.620505</td>\n",
       "      <td>-0.808286</td>\n",
       "      <td>-0.389008</td>\n",
       "      <td>-0.451493</td>\n",
       "      <td>-0.931792</td>\n",
       "      <td>-0.669573</td>\n",
       "      <td>0.492887</td>\n",
       "      <td>0.492887</td>\n",
       "      <td>-0.968672</td>\n",
       "      <td>-0.968672</td>\n",
       "      <td>...</td>\n",
       "      <td>1.892969</td>\n",
       "      <td>-0.528271</td>\n",
       "      <td>-0.423822</td>\n",
       "      <td>-0.423822</td>\n",
       "      <td>-0.672417</td>\n",
       "      <td>-0.672417</td>\n",
       "      <td>-0.358057</td>\n",
       "      <td>-0.358057</td>\n",
       "      <td>-0.31186</td>\n",
       "      <td>-0.311860</td>\n",
       "    </tr>\n",
       "  </tbody>\n",
       "</table>\n",
       "<p>5 rows × 106 columns</p>\n",
       "</div>"
      ],
      "text/plain": [
       "       rooms_num_1  rooms_num_2  prange_low_1  prange_low_2  prange_high_1  \\\n",
       "87220     0.382323     0.006762     -0.221651      4.561230      -0.201920   \n",
       "15504    -0.368800    -0.364804     -0.177610     -0.371392      -0.230128   \n",
       "59684    -0.684431    -0.137070      0.421351     -0.239268      -0.089089   \n",
       "77996     1.141436    -0.153052     -0.239268      2.033262       0.069578   \n",
       "10907    -0.620505    -0.808286     -0.389008     -0.451493      -0.931792   \n",
       "\n",
       "       prange_high_2  amen_wifi_1  amen_wifi_2  amen_room_service_1  \\\n",
       "87220       3.017275    -2.028862     0.492887             1.032341   \n",
       "15504      -0.078512     0.492887    -2.028862             1.032341   \n",
       "59684      -0.099667     0.492887     0.492887             1.032341   \n",
       "77996       1.314240    -2.028862     0.492887            -0.968672   \n",
       "10907      -0.669573     0.492887     0.492887            -0.968672   \n",
       "\n",
       "       amen_room_service_2        ...         hclass_num_3.0_1  \\\n",
       "87220             1.032341        ...                -0.528271   \n",
       "15504             1.032341        ...                 1.892969   \n",
       "59684             1.032341        ...                -0.528271   \n",
       "77996             1.032341        ...                -0.528271   \n",
       "10907            -0.968672        ...                 1.892969   \n",
       "\n",
       "       hclass_num_3.0_2  hclass_num_3.5_1  hclass_num_3.5_2  hclass_num_4.0_1  \\\n",
       "87220         -0.528271         -0.423822         -0.423822          1.487171   \n",
       "15504         -0.528271         -0.423822         -0.423822         -0.672417   \n",
       "59684         -0.528271         -0.423822         -0.423822         -0.672417   \n",
       "77996         -0.528271         -0.423822         -0.423822          1.487171   \n",
       "10907         -0.528271         -0.423822         -0.423822         -0.672417   \n",
       "\n",
       "       hclass_num_4.0_2  hclass_num_4.5_1  hclass_num_4.5_2  hclass_num_5.0_1  \\\n",
       "87220         -0.672417         -0.358057         -0.358057          -0.31186   \n",
       "15504          1.487171         -0.358057         -0.358057          -0.31186   \n",
       "59684          1.487171          2.792848         -0.358057          -0.31186   \n",
       "77996         -0.672417         -0.358057         -0.358057          -0.31186   \n",
       "10907         -0.672417         -0.358057         -0.358057          -0.31186   \n",
       "\n",
       "       hclass_num_5.0_2  \n",
       "87220          3.206564  \n",
       "15504         -0.311860  \n",
       "59684         -0.311860  \n",
       "77996          3.206564  \n",
       "10907         -0.311860  \n",
       "\n",
       "[5 rows x 106 columns]"
      ]
     },
     "execution_count": 63,
     "metadata": {},
     "output_type": "execute_result"
    }
   ],
   "source": [
    "X_train_p.head()"
   ]
  },
  {
   "cell_type": "code",
   "execution_count": 64,
   "metadata": {
    "collapsed": false
   },
   "outputs": [
    {
     "data": {
      "text/plain": [
       "87220    0\n",
       "15504    1\n",
       "59684    0\n",
       "77996    0\n",
       "10907    1\n",
       "Name: hotel_1_better, dtype: int64"
      ]
     },
     "execution_count": 64,
     "metadata": {},
     "output_type": "execute_result"
    }
   ],
   "source": [
    "Y_train_p.head()"
   ]
  },
  {
   "cell_type": "code",
   "execution_count": 65,
   "metadata": {
    "collapsed": false
   },
   "outputs": [
    {
     "data": {
      "text/html": [
       "<div>\n",
       "<table border=\"1\" class=\"dataframe\">\n",
       "  <thead>\n",
       "    <tr style=\"text-align: right;\">\n",
       "      <th></th>\n",
       "      <th>rank_num_1</th>\n",
       "      <th>rank_num_2</th>\n",
       "      <th>hotel_1_better</th>\n",
       "    </tr>\n",
       "  </thead>\n",
       "  <tbody>\n",
       "    <tr>\n",
       "      <th>0</th>\n",
       "      <td>30.0</td>\n",
       "      <td>34.0</td>\n",
       "      <td>1</td>\n",
       "    </tr>\n",
       "    <tr>\n",
       "      <th>1</th>\n",
       "      <td>30.0</td>\n",
       "      <td>374.0</td>\n",
       "      <td>1</td>\n",
       "    </tr>\n",
       "    <tr>\n",
       "      <th>2</th>\n",
       "      <td>30.0</td>\n",
       "      <td>350.0</td>\n",
       "      <td>1</td>\n",
       "    </tr>\n",
       "    <tr>\n",
       "      <th>3</th>\n",
       "      <td>30.0</td>\n",
       "      <td>1.0</td>\n",
       "      <td>0</td>\n",
       "    </tr>\n",
       "    <tr>\n",
       "      <th>4</th>\n",
       "      <td>30.0</td>\n",
       "      <td>294.0</td>\n",
       "      <td>1</td>\n",
       "    </tr>\n",
       "  </tbody>\n",
       "</table>\n",
       "</div>"
      ],
      "text/plain": [
       "   rank_num_1  rank_num_2  hotel_1_better\n",
       "0        30.0        34.0               1\n",
       "1        30.0       374.0               1\n",
       "2        30.0       350.0               1\n",
       "3        30.0         1.0               0\n",
       "4        30.0       294.0               1"
      ]
     },
     "execution_count": 65,
     "metadata": {},
     "output_type": "execute_result"
    }
   ],
   "source": [
    "dropped_vars.head()"
   ]
  },
  {
   "cell_type": "markdown",
   "metadata": {},
   "source": [
    "#### XGBoost Classifier"
   ]
  },
  {
   "cell_type": "code",
   "execution_count": 66,
   "metadata": {
    "collapsed": true
   },
   "outputs": [],
   "source": [
    "from xgboost import XGBClassifier"
   ]
  },
  {
   "cell_type": "code",
   "execution_count": 67,
   "metadata": {
    "collapsed": false
   },
   "outputs": [],
   "source": [
    "n_estimators = [50, 100, 150, 200]\n",
    "max_depth = [2, 4, 6, 8]\n",
    "learning_rate = [0.0001, 0.001, 0.01, 0.1, 0.2, 0.3]\n",
    "param_grid_xgb_cl = dict(max_depth=max_depth, n_estimators=n_estimators, learning_rate=learning_rate)"
   ]
  },
  {
   "cell_type": "code",
   "execution_count": 68,
   "metadata": {
    "collapsed": false
   },
   "outputs": [
    {
     "name": "stdout",
     "output_type": "stream",
     "text": [
      "Fitting 5 folds for each of 96 candidates, totalling 480 fits\n"
     ]
    },
    {
     "name": "stderr",
     "output_type": "stream",
     "text": [
      "[Parallel(n_jobs=1)]: Done 480 out of 480 | elapsed: 365.7min finished\n"
     ]
    },
    {
     "data": {
      "text/plain": [
       "GridSearchCV(cv=5, error_score='raise',\n",
       "       estimator=XGBClassifier(base_score=0.5, colsample_bytree=1, gamma=0, learning_rate=0.1,\n",
       "       max_delta_step=0, max_depth=3, min_child_weight=1, missing=None,\n",
       "       n_estimators=100, nthread=-1, objective='binary:logistic', seed=0,\n",
       "       silent=True, subsample=1),\n",
       "       fit_params={}, iid=True, n_jobs=1,\n",
       "       param_grid={'n_estimators': [50, 100, 150, 200], 'learning_rate': [0.0001, 0.001, 0.01, 0.1, 0.2, 0.3], 'max_depth': [2, 4, 6, 8]},\n",
       "       pre_dispatch='2*n_jobs', refit=True, return_train_score=True,\n",
       "       scoring=None, verbose=1)"
      ]
     },
     "execution_count": 68,
     "metadata": {},
     "output_type": "execute_result"
    }
   ],
   "source": [
    "xgbc_gs_p = GridSearchCV(XGBClassifier(), param_grid_xgb_cl, cv=5, verbose=1)\n",
    "xgbc_gs_p.fit(X_train_p, Y_train_p)"
   ]
  },
  {
   "cell_type": "code",
   "execution_count": 69,
   "metadata": {
    "collapsed": false
   },
   "outputs": [
    {
     "name": "stdout",
     "output_type": "stream",
     "text": [
      "{'n_estimators': 200, 'learning_rate': 0.3, 'max_depth': 6}\n",
      "0.962353959325\n"
     ]
    }
   ],
   "source": [
    "best_xgbc_p = xgbc_gs_p.best_estimator_\n",
    "print xgbc_gs_p.best_params_\n",
    "print xgbc_gs_p.best_score_"
   ]
  },
  {
   "cell_type": "code",
   "execution_count": 71,
   "metadata": {
    "collapsed": false
   },
   "outputs": [
    {
     "name": "stdout",
     "output_type": "stream",
     "text": [
      " Baseline:  0.510184212153\n"
     ]
    }
   ],
   "source": [
    "print \"Baseline: \", 1. - Y_train_p.mean()"
   ]
  },
  {
   "cell_type": "code",
   "execution_count": 72,
   "metadata": {
    "collapsed": false
   },
   "outputs": [
    {
     "name": "stdout",
     "output_type": "stream",
     "text": [
      "Test set accuracy:  0.967243975904\n"
     ]
    }
   ],
   "source": [
    "print \"Test set accuracy: \", xgbc_gs_p.score(X_test_p, Y_test_p)"
   ]
  },
  {
   "cell_type": "code",
   "execution_count": 73,
   "metadata": {
    "collapsed": true
   },
   "outputs": [],
   "source": [
    "xgbc_predictions_p = xgbc_gs_p.predict(X_test_p)"
   ]
  },
  {
   "cell_type": "code",
   "execution_count": 74,
   "metadata": {
    "collapsed": false
   },
   "outputs": [
    {
     "data": {
      "text/plain": [
       "array([[15567,   508],\n",
       "       [  536, 15261]])"
      ]
     },
     "execution_count": 74,
     "metadata": {},
     "output_type": "execute_result"
    }
   ],
   "source": [
    "confusion_matrix(Y_test_p, xgbc_predictions_p)"
   ]
  },
  {
   "cell_type": "code",
   "execution_count": 75,
   "metadata": {
    "collapsed": false
   },
   "outputs": [
    {
     "name": "stdout",
     "output_type": "stream",
     "text": [
      "                 predicted_in_top  predicted_in_bottom\n",
      "in_top_group                15261                  536\n",
      "in_bottom_group               508                15567\n"
     ]
    }
   ],
   "source": [
    "conmat = np.array(confusion_matrix(Y_test_p, xgbc_predictions_p, labels=[1,0]))\n",
    "confusion = pd.DataFrame(conmat, index=['in_top_group', 'in_bottom_group'],\n",
    "                            columns=['predicted_in_top','predicted_in_bottom'])\n",
    "print(confusion)"
   ]
  },
  {
   "cell_type": "code",
   "execution_count": 76,
   "metadata": {
    "collapsed": false
   },
   "outputs": [
    {
     "data": {
      "text/plain": [
       "XGBClassifier(base_score=0.5, colsample_bytree=1, gamma=0, learning_rate=0.3,\n",
       "       max_delta_step=0, max_depth=6, min_child_weight=1, missing=None,\n",
       "       n_estimators=200, nthread=-1, objective='binary:logistic', seed=0,\n",
       "       silent=True, subsample=1)"
      ]
     },
     "execution_count": 76,
     "metadata": {},
     "output_type": "execute_result"
    }
   ],
   "source": [
    "best_xgbc_p.fit(X_train_p,Y_train_p)"
   ]
  },
  {
   "cell_type": "code",
   "execution_count": 77,
   "metadata": {
    "collapsed": false
   },
   "outputs": [
    {
     "data": {
      "text/plain": [
       "0.99043394943438212"
      ]
     },
     "execution_count": 77,
     "metadata": {},
     "output_type": "execute_result"
    }
   ],
   "source": [
    "best_xgbc_p.score(X_train_p,Y_train_p)"
   ]
  },
  {
   "cell_type": "code",
   "execution_count": 78,
   "metadata": {
    "collapsed": false
   },
   "outputs": [
    {
     "data": {
      "text/plain": [
       "0.96724397590361444"
      ]
     },
     "execution_count": 78,
     "metadata": {},
     "output_type": "execute_result"
    }
   ],
   "source": [
    "best_xgbc_p.score(X_test_p, Y_test_p)"
   ]
  },
  {
   "cell_type": "code",
   "execution_count": 79,
   "metadata": {
    "collapsed": true
   },
   "outputs": [],
   "source": [
    "Y_pred_train_xgbc_p = best_xgbc_p.predict(X_train_p)"
   ]
  },
  {
   "cell_type": "code",
   "execution_count": 80,
   "metadata": {
    "collapsed": false
   },
   "outputs": [
    {
     "data": {
      "text/plain": [
       "array([[32722,   291],\n",
       "       [  328, 31367]])"
      ]
     },
     "execution_count": 80,
     "metadata": {},
     "output_type": "execute_result"
    }
   ],
   "source": [
    "confusion_matrix(Y_train_p, Y_pred_train_xgbc_p)"
   ]
  },
  {
   "cell_type": "code",
   "execution_count": null,
   "metadata": {
    "collapsed": true
   },
   "outputs": [],
   "source": []
  },
  {
   "cell_type": "code",
   "execution_count": null,
   "metadata": {
    "collapsed": true
   },
   "outputs": [],
   "source": []
  },
  {
   "cell_type": "code",
   "execution_count": null,
   "metadata": {
    "collapsed": true
   },
   "outputs": [],
   "source": []
  },
  {
   "cell_type": "code",
   "execution_count": null,
   "metadata": {
    "collapsed": true
   },
   "outputs": [],
   "source": []
  },
  {
   "cell_type": "markdown",
   "metadata": {},
   "source": [
    "#### SGD Classifier"
   ]
  },
  {
   "cell_type": "code",
   "execution_count": 81,
   "metadata": {
    "collapsed": false
   },
   "outputs": [
    {
     "name": "stdout",
     "output_type": "stream",
     "text": [
      "Fitting 5 folds for each of 200 candidates, totalling 1000 fits\n"
     ]
    },
    {
     "name": "stderr",
     "output_type": "stream",
     "text": [
      "[Parallel(n_jobs=1)]: Done 1000 out of 1000 | elapsed:  5.4min finished\n"
     ]
    },
    {
     "data": {
      "text/plain": [
       "GridSearchCV(cv=5, error_score='raise',\n",
       "       estimator=SGDClassifier(alpha=0.0001, average=False, class_weight=None, epsilon=0.1,\n",
       "       eta0=0.0, fit_intercept=True, l1_ratio=0.15,\n",
       "       learning_rate='optimal', loss='hinge', n_iter=5, n_jobs=1,\n",
       "       penalty='l2', power_t=0.5, random_state=None, shuffle=True,\n",
       "       verbose=0, warm_start=False),\n",
       "       fit_params={}, iid=True, n_jobs=1,\n",
       "       param_grid={'penalty': ['l1', 'l2'], 'loss': ['log'], 'alpha': array([  1.00000e-05,   1.14976e-05, ...,   8.69749e+00,   1.00000e+01])},\n",
       "       pre_dispatch='2*n_jobs', refit=True, return_train_score=True,\n",
       "       scoring=None, verbose=1)"
      ]
     },
     "execution_count": 81,
     "metadata": {},
     "output_type": "execute_result"
    }
   ],
   "source": [
    "# search for best model with SGDClassifier\n",
    "# logistic regression ridge or lasso penalties (not doing elastic net\n",
    "# for the sake of my computer).\n",
    "sgd_params = {\n",
    "    'loss':['log'],\n",
    "    'penalty':['l1','l2'],\n",
    "    'alpha':np.logspace(-5, 1, 100)\n",
    "}\n",
    "\n",
    "sgd_gs_p = GridSearchCV(SGDClassifier(), sgd_params, cv=5, verbose=1)\n",
    "sgd_gs_p.fit(X_train_p, Y_train_p)"
   ]
  },
  {
   "cell_type": "code",
   "execution_count": 82,
   "metadata": {
    "collapsed": false
   },
   "outputs": [
    {
     "data": {
      "text/plain": [
       "0.75958150460530383"
      ]
     },
     "execution_count": 82,
     "metadata": {},
     "output_type": "execute_result"
    }
   ],
   "source": [
    "sgd_gs_p.best_score_"
   ]
  },
  {
   "cell_type": "code",
   "execution_count": 83,
   "metadata": {
    "collapsed": true
   },
   "outputs": [],
   "source": [
    "sgd_predictions_p = sgd_gs_p.predict(X_test_p)"
   ]
  },
  {
   "cell_type": "code",
   "execution_count": 84,
   "metadata": {
    "collapsed": false
   },
   "outputs": [
    {
     "data": {
      "text/plain": [
       "array([[12429,  3646],\n",
       "       [ 4040, 11757]])"
      ]
     },
     "execution_count": 84,
     "metadata": {},
     "output_type": "execute_result"
    }
   ],
   "source": [
    "confusion_matrix(Y_test_p, sgd_predictions_p)"
   ]
  },
  {
   "cell_type": "code",
   "execution_count": 85,
   "metadata": {
    "collapsed": false
   },
   "outputs": [
    {
     "name": "stdout",
     "output_type": "stream",
     "text": [
      "Test set accuracy:  0.758847891566\n"
     ]
    }
   ],
   "source": [
    "print \"Test set accuracy: \", sgd_gs_p.score(X_test_p, Y_test_p)"
   ]
  },
  {
   "cell_type": "code",
   "execution_count": 86,
   "metadata": {
    "collapsed": false
   },
   "outputs": [
    {
     "name": "stdout",
     "output_type": "stream",
     "text": [
      "                 predicted_in_top  predicted_in_bottom\n",
      "in_top_group                11757                 4040\n",
      "in_bottom_group              3646                12429\n"
     ]
    }
   ],
   "source": [
    "conmat = np.array(confusion_matrix(Y_test_p, sgd_predictions_p, labels=[1,0]))\n",
    "confusion = pd.DataFrame(conmat, index=['in_top_group', 'in_bottom_group'],\n",
    "                            columns=['predicted_in_top','predicted_in_bottom'])\n",
    "print(confusion)"
   ]
  },
  {
   "cell_type": "code",
   "execution_count": 87,
   "metadata": {
    "collapsed": false
   },
   "outputs": [
    {
     "data": {
      "text/plain": [
       "SGDClassifier(alpha=0.014174741629268049, average=False, class_weight=None,\n",
       "       epsilon=0.1, eta0=0.0, fit_intercept=True, l1_ratio=0.15,\n",
       "       learning_rate='optimal', loss='log', n_iter=5, n_jobs=1,\n",
       "       penalty='l2', power_t=0.5, random_state=None, shuffle=True,\n",
       "       verbose=0, warm_start=False)"
      ]
     },
     "execution_count": 87,
     "metadata": {},
     "output_type": "execute_result"
    }
   ],
   "source": [
    "sgd_gs_p.best_estimator_"
   ]
  },
  {
   "cell_type": "code",
   "execution_count": 88,
   "metadata": {
    "collapsed": true
   },
   "outputs": [],
   "source": [
    "sgd_best_p = sgd_gs_p.best_estimator_"
   ]
  },
  {
   "cell_type": "code",
   "execution_count": 89,
   "metadata": {
    "collapsed": false
   },
   "outputs": [
    {
     "data": {
      "text/plain": [
       "SGDClassifier(alpha=0.014174741629268049, average=False, class_weight=None,\n",
       "       epsilon=0.1, eta0=0.0, fit_intercept=True, l1_ratio=0.15,\n",
       "       learning_rate='optimal', loss='log', n_iter=5, n_jobs=1,\n",
       "       penalty='l2', power_t=0.5, random_state=None, shuffle=True,\n",
       "       verbose=0, warm_start=False)"
      ]
     },
     "execution_count": 89,
     "metadata": {},
     "output_type": "execute_result"
    }
   ],
   "source": [
    "sgd_best_p.fit(X_train_p,Y_train_p)"
   ]
  },
  {
   "cell_type": "code",
   "execution_count": 90,
   "metadata": {
    "collapsed": false
   },
   "outputs": [
    {
     "data": {
      "text/plain": [
       "0.76078691970080981"
      ]
     },
     "execution_count": 90,
     "metadata": {},
     "output_type": "execute_result"
    }
   ],
   "source": [
    "sgd_best_p.score(X_train_p,Y_train_p)"
   ]
  },
  {
   "cell_type": "code",
   "execution_count": 91,
   "metadata": {
    "collapsed": false
   },
   "outputs": [
    {
     "data": {
      "text/plain": [
       "0.75887926706827313"
      ]
     },
     "execution_count": 91,
     "metadata": {},
     "output_type": "execute_result"
    }
   ],
   "source": [
    "sgd_best_p.score(X_test_p,Y_test_p)"
   ]
  },
  {
   "cell_type": "code",
   "execution_count": 92,
   "metadata": {
    "collapsed": true
   },
   "outputs": [],
   "source": [
    "Y_pred_train_sgd_p = sgd_best_p.predict(X_train_p)"
   ]
  },
  {
   "cell_type": "code",
   "execution_count": 93,
   "metadata": {
    "collapsed": false
   },
   "outputs": [
    {
     "data": {
      "text/plain": [
       "array([[25619,  7394],\n",
       "       [ 8085, 23610]])"
      ]
     },
     "execution_count": 93,
     "metadata": {},
     "output_type": "execute_result"
    }
   ],
   "source": [
    "confusion_matrix(Y_train_p, Y_pred_train_sgd_p)"
   ]
  },
  {
   "cell_type": "code",
   "execution_count": 94,
   "metadata": {
    "collapsed": false
   },
   "outputs": [
    {
     "data": {
      "text/plain": [
       "array([[-0.18370023,  0.16953361,  0.22160499, -0.20003425,  0.18675765,\n",
       "        -0.15400476,  0.29471479, -0.34972951, -0.0110148 , -0.12393023,\n",
       "         0.00848949,  0.01629017,  0.16139849, -0.14809615,  0.19289748,\n",
       "        -0.23104603,  0.08820781,  0.10570199,  0.29455663, -0.21888304,\n",
       "        -0.09326251,  0.06916444,  0.14433307, -0.11211991, -0.04821758,\n",
       "         0.06714232,  0.01385648,  0.06835461, -0.08325095,  0.04728677,\n",
       "        -0.02656814,  0.05846571, -0.01394017,  0.00158897, -0.02462317,\n",
       "        -0.04549578,  0.00419604, -0.02594678, -0.00049544, -0.01420953,\n",
       "        -0.05214514, -0.0801224 , -0.02292645, -0.0508871 , -0.0152718 ,\n",
       "         0.0548411 ,  0.04128947, -0.03602415, -0.00518906,  0.01385187,\n",
       "         0.06741552, -0.06877825,  0.11450022, -0.00874399,  0.04742213,\n",
       "        -0.05296651, -0.09282818,  0.00475862,  0.06731617,  0.03477512,\n",
       "         0.0571808 , -0.06317751, -0.12880325,  0.07746133,  0.04360761,\n",
       "        -0.04634692, -0.08073589,  0.10781535,  0.00601544,  0.00128451,\n",
       "        -0.01886043,  0.04970789,  0.05650142,  0.01347151, -0.04821758,\n",
       "         0.06714232,  0.10722429, -0.03406276, -0.06984774,  0.00980931,\n",
       "        -0.12008977,  0.06952668,  0.05605581, -0.04763786, -0.09198917,\n",
       "         0.08856496,  0.09388541, -0.01718465, -0.0771263 ,  0.10378447,\n",
       "        -0.06471475,  0.13296365, -0.14772803,  0.21077641, -0.28952623,\n",
       "         0.1605275 , -0.21894435,  0.26797049,  0.07307357, -0.05285045,\n",
       "         0.08225791, -0.05326983,  0.23165554, -0.22466663,  0.22480355,\n",
       "        -0.32763636]])"
      ]
     },
     "execution_count": 94,
     "metadata": {},
     "output_type": "execute_result"
    }
   ],
   "source": [
    "sgd_best_p.coef_"
   ]
  },
  {
   "cell_type": "code",
   "execution_count": 95,
   "metadata": {
    "collapsed": false
   },
   "outputs": [],
   "source": [
    "# make the coefs dataframe\n",
    "coefs = pd.DataFrame({\n",
    "        'coef':sgd_best_p.coef_[0],\n",
    "        'predictor':X_train_p.columns\n",
    "    })"
   ]
  },
  {
   "cell_type": "code",
   "execution_count": 96,
   "metadata": {
    "collapsed": false
   },
   "outputs": [
    {
     "data": {
      "text/html": [
       "<div>\n",
       "<table border=\"1\" class=\"dataframe\">\n",
       "  <thead>\n",
       "    <tr style=\"text-align: right;\">\n",
       "      <th></th>\n",
       "      <th>coef</th>\n",
       "      <th>predictor</th>\n",
       "      <th>abscoef</th>\n",
       "    </tr>\n",
       "  </thead>\n",
       "  <tbody>\n",
       "    <tr>\n",
       "      <th>7</th>\n",
       "      <td>-0.349730</td>\n",
       "      <td>amen_wifi_2</td>\n",
       "      <td>0.349730</td>\n",
       "    </tr>\n",
       "    <tr>\n",
       "      <th>105</th>\n",
       "      <td>-0.327636</td>\n",
       "      <td>hclass_num_5.0_2</td>\n",
       "      <td>0.327636</td>\n",
       "    </tr>\n",
       "    <tr>\n",
       "      <th>6</th>\n",
       "      <td>0.294715</td>\n",
       "      <td>amen_wifi_1</td>\n",
       "      <td>0.294715</td>\n",
       "    </tr>\n",
       "    <tr>\n",
       "      <th>18</th>\n",
       "      <td>0.294557</td>\n",
       "      <td>amen_breakfast_1</td>\n",
       "      <td>0.294557</td>\n",
       "    </tr>\n",
       "    <tr>\n",
       "      <th>94</th>\n",
       "      <td>-0.289526</td>\n",
       "      <td>hclass_num_2.5_1</td>\n",
       "      <td>0.289526</td>\n",
       "    </tr>\n",
       "    <tr>\n",
       "      <th>97</th>\n",
       "      <td>0.267970</td>\n",
       "      <td>hclass_num_3.0_2</td>\n",
       "      <td>0.267970</td>\n",
       "    </tr>\n",
       "    <tr>\n",
       "      <th>102</th>\n",
       "      <td>0.231656</td>\n",
       "      <td>hclass_num_4.5_1</td>\n",
       "      <td>0.231656</td>\n",
       "    </tr>\n",
       "    <tr>\n",
       "      <th>15</th>\n",
       "      <td>-0.231046</td>\n",
       "      <td>amen_gym_2</td>\n",
       "      <td>0.231046</td>\n",
       "    </tr>\n",
       "    <tr>\n",
       "      <th>104</th>\n",
       "      <td>0.224804</td>\n",
       "      <td>hclass_num_5.0_1</td>\n",
       "      <td>0.224804</td>\n",
       "    </tr>\n",
       "    <tr>\n",
       "      <th>103</th>\n",
       "      <td>-0.224667</td>\n",
       "      <td>hclass_num_4.5_2</td>\n",
       "      <td>0.224667</td>\n",
       "    </tr>\n",
       "    <tr>\n",
       "      <th>2</th>\n",
       "      <td>0.221605</td>\n",
       "      <td>prange_low_1</td>\n",
       "      <td>0.221605</td>\n",
       "    </tr>\n",
       "    <tr>\n",
       "      <th>96</th>\n",
       "      <td>-0.218944</td>\n",
       "      <td>hclass_num_3.0_1</td>\n",
       "      <td>0.218944</td>\n",
       "    </tr>\n",
       "    <tr>\n",
       "      <th>19</th>\n",
       "      <td>-0.218883</td>\n",
       "      <td>amen_breakfast_2</td>\n",
       "      <td>0.218883</td>\n",
       "    </tr>\n",
       "    <tr>\n",
       "      <th>93</th>\n",
       "      <td>0.210776</td>\n",
       "      <td>hclass_num_2.0_2</td>\n",
       "      <td>0.210776</td>\n",
       "    </tr>\n",
       "    <tr>\n",
       "      <th>3</th>\n",
       "      <td>-0.200034</td>\n",
       "      <td>prange_low_2</td>\n",
       "      <td>0.200034</td>\n",
       "    </tr>\n",
       "    <tr>\n",
       "      <th>14</th>\n",
       "      <td>0.192897</td>\n",
       "      <td>amen_gym_1</td>\n",
       "      <td>0.192897</td>\n",
       "    </tr>\n",
       "    <tr>\n",
       "      <th>4</th>\n",
       "      <td>0.186758</td>\n",
       "      <td>prange_high_1</td>\n",
       "      <td>0.186758</td>\n",
       "    </tr>\n",
       "    <tr>\n",
       "      <th>0</th>\n",
       "      <td>-0.183700</td>\n",
       "      <td>rooms_num_1</td>\n",
       "      <td>0.183700</td>\n",
       "    </tr>\n",
       "    <tr>\n",
       "      <th>1</th>\n",
       "      <td>0.169534</td>\n",
       "      <td>rooms_num_2</td>\n",
       "      <td>0.169534</td>\n",
       "    </tr>\n",
       "    <tr>\n",
       "      <th>12</th>\n",
       "      <td>0.161398</td>\n",
       "      <td>amen_bar_lounge_1</td>\n",
       "      <td>0.161398</td>\n",
       "    </tr>\n",
       "    <tr>\n",
       "      <th>95</th>\n",
       "      <td>0.160527</td>\n",
       "      <td>hclass_num_2.5_2</td>\n",
       "      <td>0.160527</td>\n",
       "    </tr>\n",
       "    <tr>\n",
       "      <th>5</th>\n",
       "      <td>-0.154005</td>\n",
       "      <td>prange_high_2</td>\n",
       "      <td>0.154005</td>\n",
       "    </tr>\n",
       "    <tr>\n",
       "      <th>13</th>\n",
       "      <td>-0.148096</td>\n",
       "      <td>amen_bar_lounge_2</td>\n",
       "      <td>0.148096</td>\n",
       "    </tr>\n",
       "    <tr>\n",
       "      <th>92</th>\n",
       "      <td>-0.147728</td>\n",
       "      <td>hclass_num_2.0_1</td>\n",
       "      <td>0.147728</td>\n",
       "    </tr>\n",
       "    <tr>\n",
       "      <th>22</th>\n",
       "      <td>0.144333</td>\n",
       "      <td>amen_internet_1</td>\n",
       "      <td>0.144333</td>\n",
       "    </tr>\n",
       "    <tr>\n",
       "      <th>91</th>\n",
       "      <td>0.132964</td>\n",
       "      <td>hclass_num_1.5_2</td>\n",
       "      <td>0.132964</td>\n",
       "    </tr>\n",
       "    <tr>\n",
       "      <th>62</th>\n",
       "      <td>-0.128803</td>\n",
       "      <td>zip_5_10023_1</td>\n",
       "      <td>0.128803</td>\n",
       "    </tr>\n",
       "    <tr>\n",
       "      <th>9</th>\n",
       "      <td>-0.123930</td>\n",
       "      <td>amen_room_service_2</td>\n",
       "      <td>0.123930</td>\n",
       "    </tr>\n",
       "    <tr>\n",
       "      <th>80</th>\n",
       "      <td>-0.120090</td>\n",
       "      <td>zip_5_10065_1</td>\n",
       "      <td>0.120090</td>\n",
       "    </tr>\n",
       "    <tr>\n",
       "      <th>52</th>\n",
       "      <td>0.114500</td>\n",
       "      <td>zip_5_10017_1</td>\n",
       "      <td>0.114500</td>\n",
       "    </tr>\n",
       "    <tr>\n",
       "      <th>...</th>\n",
       "      <td>...</td>\n",
       "      <td>...</td>\n",
       "      <td>...</td>\n",
       "    </tr>\n",
       "    <tr>\n",
       "      <th>35</th>\n",
       "      <td>-0.045496</td>\n",
       "      <td>zip_5_10005_2</td>\n",
       "      <td>0.045496</td>\n",
       "    </tr>\n",
       "    <tr>\n",
       "      <th>64</th>\n",
       "      <td>0.043608</td>\n",
       "      <td>zip_5_10024_1</td>\n",
       "      <td>0.043608</td>\n",
       "    </tr>\n",
       "    <tr>\n",
       "      <th>46</th>\n",
       "      <td>0.041289</td>\n",
       "      <td>zip_5_10013_1</td>\n",
       "      <td>0.041289</td>\n",
       "    </tr>\n",
       "    <tr>\n",
       "      <th>47</th>\n",
       "      <td>-0.036024</td>\n",
       "      <td>zip_5_10013_2</td>\n",
       "      <td>0.036024</td>\n",
       "    </tr>\n",
       "    <tr>\n",
       "      <th>59</th>\n",
       "      <td>0.034775</td>\n",
       "      <td>zip_5_10021_2</td>\n",
       "      <td>0.034775</td>\n",
       "    </tr>\n",
       "    <tr>\n",
       "      <th>77</th>\n",
       "      <td>-0.034063</td>\n",
       "      <td>zip_5_10036_2</td>\n",
       "      <td>0.034063</td>\n",
       "    </tr>\n",
       "    <tr>\n",
       "      <th>30</th>\n",
       "      <td>-0.026568</td>\n",
       "      <td>zip_5_10003_1</td>\n",
       "      <td>0.026568</td>\n",
       "    </tr>\n",
       "    <tr>\n",
       "      <th>37</th>\n",
       "      <td>-0.025947</td>\n",
       "      <td>zip_5_10006_2</td>\n",
       "      <td>0.025947</td>\n",
       "    </tr>\n",
       "    <tr>\n",
       "      <th>34</th>\n",
       "      <td>-0.024623</td>\n",
       "      <td>zip_5_10005_1</td>\n",
       "      <td>0.024623</td>\n",
       "    </tr>\n",
       "    <tr>\n",
       "      <th>42</th>\n",
       "      <td>-0.022926</td>\n",
       "      <td>zip_5_10011_1</td>\n",
       "      <td>0.022926</td>\n",
       "    </tr>\n",
       "    <tr>\n",
       "      <th>70</th>\n",
       "      <td>-0.018860</td>\n",
       "      <td>zip_5_10028_1</td>\n",
       "      <td>0.018860</td>\n",
       "    </tr>\n",
       "    <tr>\n",
       "      <th>87</th>\n",
       "      <td>-0.017185</td>\n",
       "      <td>zip_5_10282_2</td>\n",
       "      <td>0.017185</td>\n",
       "    </tr>\n",
       "    <tr>\n",
       "      <th>11</th>\n",
       "      <td>0.016290</td>\n",
       "      <td>amen_restaurant_2</td>\n",
       "      <td>0.016290</td>\n",
       "    </tr>\n",
       "    <tr>\n",
       "      <th>44</th>\n",
       "      <td>-0.015272</td>\n",
       "      <td>zip_5_10012_1</td>\n",
       "      <td>0.015272</td>\n",
       "    </tr>\n",
       "    <tr>\n",
       "      <th>39</th>\n",
       "      <td>-0.014210</td>\n",
       "      <td>zip_5_10007_2</td>\n",
       "      <td>0.014210</td>\n",
       "    </tr>\n",
       "    <tr>\n",
       "      <th>32</th>\n",
       "      <td>-0.013940</td>\n",
       "      <td>zip_5_10004_1</td>\n",
       "      <td>0.013940</td>\n",
       "    </tr>\n",
       "    <tr>\n",
       "      <th>26</th>\n",
       "      <td>0.013856</td>\n",
       "      <td>zip_5_10001_1</td>\n",
       "      <td>0.013856</td>\n",
       "    </tr>\n",
       "    <tr>\n",
       "      <th>49</th>\n",
       "      <td>0.013852</td>\n",
       "      <td>zip_5_10014_2</td>\n",
       "      <td>0.013852</td>\n",
       "    </tr>\n",
       "    <tr>\n",
       "      <th>73</th>\n",
       "      <td>0.013472</td>\n",
       "      <td>zip_5_10032_2</td>\n",
       "      <td>0.013472</td>\n",
       "    </tr>\n",
       "    <tr>\n",
       "      <th>8</th>\n",
       "      <td>-0.011015</td>\n",
       "      <td>amen_room_service_1</td>\n",
       "      <td>0.011015</td>\n",
       "    </tr>\n",
       "    <tr>\n",
       "      <th>79</th>\n",
       "      <td>0.009809</td>\n",
       "      <td>zip_5_10038_2</td>\n",
       "      <td>0.009809</td>\n",
       "    </tr>\n",
       "    <tr>\n",
       "      <th>53</th>\n",
       "      <td>-0.008744</td>\n",
       "      <td>zip_5_10017_2</td>\n",
       "      <td>0.008744</td>\n",
       "    </tr>\n",
       "    <tr>\n",
       "      <th>10</th>\n",
       "      <td>0.008489</td>\n",
       "      <td>amen_restaurant_1</td>\n",
       "      <td>0.008489</td>\n",
       "    </tr>\n",
       "    <tr>\n",
       "      <th>68</th>\n",
       "      <td>0.006015</td>\n",
       "      <td>zip_5_10027_1</td>\n",
       "      <td>0.006015</td>\n",
       "    </tr>\n",
       "    <tr>\n",
       "      <th>48</th>\n",
       "      <td>-0.005189</td>\n",
       "      <td>zip_5_10014_1</td>\n",
       "      <td>0.005189</td>\n",
       "    </tr>\n",
       "    <tr>\n",
       "      <th>57</th>\n",
       "      <td>0.004759</td>\n",
       "      <td>zip_5_10019_2</td>\n",
       "      <td>0.004759</td>\n",
       "    </tr>\n",
       "    <tr>\n",
       "      <th>36</th>\n",
       "      <td>0.004196</td>\n",
       "      <td>zip_5_10006_1</td>\n",
       "      <td>0.004196</td>\n",
       "    </tr>\n",
       "    <tr>\n",
       "      <th>33</th>\n",
       "      <td>0.001589</td>\n",
       "      <td>zip_5_10004_2</td>\n",
       "      <td>0.001589</td>\n",
       "    </tr>\n",
       "    <tr>\n",
       "      <th>69</th>\n",
       "      <td>0.001285</td>\n",
       "      <td>zip_5_10027_2</td>\n",
       "      <td>0.001285</td>\n",
       "    </tr>\n",
       "    <tr>\n",
       "      <th>38</th>\n",
       "      <td>-0.000495</td>\n",
       "      <td>zip_5_10007_1</td>\n",
       "      <td>0.000495</td>\n",
       "    </tr>\n",
       "  </tbody>\n",
       "</table>\n",
       "<p>106 rows × 3 columns</p>\n",
       "</div>"
      ],
      "text/plain": [
       "         coef            predictor   abscoef\n",
       "7   -0.349730          amen_wifi_2  0.349730\n",
       "105 -0.327636     hclass_num_5.0_2  0.327636\n",
       "6    0.294715          amen_wifi_1  0.294715\n",
       "18   0.294557     amen_breakfast_1  0.294557\n",
       "94  -0.289526     hclass_num_2.5_1  0.289526\n",
       "97   0.267970     hclass_num_3.0_2  0.267970\n",
       "102  0.231656     hclass_num_4.5_1  0.231656\n",
       "15  -0.231046           amen_gym_2  0.231046\n",
       "104  0.224804     hclass_num_5.0_1  0.224804\n",
       "103 -0.224667     hclass_num_4.5_2  0.224667\n",
       "2    0.221605         prange_low_1  0.221605\n",
       "96  -0.218944     hclass_num_3.0_1  0.218944\n",
       "19  -0.218883     amen_breakfast_2  0.218883\n",
       "93   0.210776     hclass_num_2.0_2  0.210776\n",
       "3   -0.200034         prange_low_2  0.200034\n",
       "14   0.192897           amen_gym_1  0.192897\n",
       "4    0.186758        prange_high_1  0.186758\n",
       "0   -0.183700          rooms_num_1  0.183700\n",
       "1    0.169534          rooms_num_2  0.169534\n",
       "12   0.161398    amen_bar_lounge_1  0.161398\n",
       "95   0.160527     hclass_num_2.5_2  0.160527\n",
       "5   -0.154005        prange_high_2  0.154005\n",
       "13  -0.148096    amen_bar_lounge_2  0.148096\n",
       "92  -0.147728     hclass_num_2.0_1  0.147728\n",
       "22   0.144333      amen_internet_1  0.144333\n",
       "91   0.132964     hclass_num_1.5_2  0.132964\n",
       "62  -0.128803        zip_5_10023_1  0.128803\n",
       "9   -0.123930  amen_room_service_2  0.123930\n",
       "80  -0.120090        zip_5_10065_1  0.120090\n",
       "52   0.114500        zip_5_10017_1  0.114500\n",
       "..        ...                  ...       ...\n",
       "35  -0.045496        zip_5_10005_2  0.045496\n",
       "64   0.043608        zip_5_10024_1  0.043608\n",
       "46   0.041289        zip_5_10013_1  0.041289\n",
       "47  -0.036024        zip_5_10013_2  0.036024\n",
       "59   0.034775        zip_5_10021_2  0.034775\n",
       "77  -0.034063        zip_5_10036_2  0.034063\n",
       "30  -0.026568        zip_5_10003_1  0.026568\n",
       "37  -0.025947        zip_5_10006_2  0.025947\n",
       "34  -0.024623        zip_5_10005_1  0.024623\n",
       "42  -0.022926        zip_5_10011_1  0.022926\n",
       "70  -0.018860        zip_5_10028_1  0.018860\n",
       "87  -0.017185        zip_5_10282_2  0.017185\n",
       "11   0.016290    amen_restaurant_2  0.016290\n",
       "44  -0.015272        zip_5_10012_1  0.015272\n",
       "39  -0.014210        zip_5_10007_2  0.014210\n",
       "32  -0.013940        zip_5_10004_1  0.013940\n",
       "26   0.013856        zip_5_10001_1  0.013856\n",
       "49   0.013852        zip_5_10014_2  0.013852\n",
       "73   0.013472        zip_5_10032_2  0.013472\n",
       "8   -0.011015  amen_room_service_1  0.011015\n",
       "79   0.009809        zip_5_10038_2  0.009809\n",
       "53  -0.008744        zip_5_10017_2  0.008744\n",
       "10   0.008489    amen_restaurant_1  0.008489\n",
       "68   0.006015        zip_5_10027_1  0.006015\n",
       "48  -0.005189        zip_5_10014_1  0.005189\n",
       "57   0.004759        zip_5_10019_2  0.004759\n",
       "36   0.004196        zip_5_10006_1  0.004196\n",
       "33   0.001589        zip_5_10004_2  0.001589\n",
       "69   0.001285        zip_5_10027_2  0.001285\n",
       "38  -0.000495        zip_5_10007_1  0.000495\n",
       "\n",
       "[106 rows x 3 columns]"
      ]
     },
     "execution_count": 96,
     "metadata": {},
     "output_type": "execute_result"
    }
   ],
   "source": [
    "# print out the coefs sorted by largest absolute value first\n",
    "coefs['abscoef'] = np.abs(coefs.coef)\n",
    "coefs.sort_values('abscoef', ascending=False, inplace=True)\n",
    "#coefs.drop('abscoef', inplace=True, axis=1)\n",
    "coefs[coefs.coef != 0]\n",
    "#coefs"
   ]
  },
  {
   "cell_type": "markdown",
   "metadata": {},
   "source": [
    "#### RANDOM FOREST CLASSIFIER"
   ]
  },
  {
   "cell_type": "code",
   "execution_count": 97,
   "metadata": {
    "collapsed": true
   },
   "outputs": [],
   "source": [
    "rfc = RandomForestClassifier()"
   ]
  },
  {
   "cell_type": "code",
   "execution_count": 98,
   "metadata": {
    "collapsed": false
   },
   "outputs": [
    {
     "name": "stdout",
     "output_type": "stream",
     "text": [
      "Fitting 5 folds for each of 48 candidates, totalling 240 fits\n"
     ]
    },
    {
     "name": "stderr",
     "output_type": "stream",
     "text": [
      "[Parallel(n_jobs=1)]: Done 240 out of 240 | elapsed:  2.8min finished\n"
     ]
    },
    {
     "data": {
      "text/plain": [
       "GridSearchCV(cv=5, error_score='raise',\n",
       "       estimator=RandomForestClassifier(bootstrap=True, class_weight=None, criterion='gini',\n",
       "            max_depth=None, max_features='auto', max_leaf_nodes=None,\n",
       "            min_impurity_split=1e-07, min_samples_leaf=1,\n",
       "            min_samples_split=2, min_weight_fraction_leaf=0.0,\n",
       "            n_estimators=10, n_jobs=1, oob_score=False, random_state=None,\n",
       "            verbose=0, warm_start=False),\n",
       "       fit_params={}, iid=True, n_jobs=1,\n",
       "       param_grid={'min_samples_split': [2, 6, 10], 'max_leaf_nodes': [None, 4, 8, 12], 'max_depth': [None, 4, 8, 12]},\n",
       "       pre_dispatch='2*n_jobs', refit=True, return_train_score=True,\n",
       "       scoring=None, verbose=1)"
      ]
     },
     "execution_count": 98,
     "metadata": {},
     "output_type": "execute_result"
    }
   ],
   "source": [
    "#Random Forest Classifier with Grid Search\n",
    "rfc_params = {'max_depth': [None, 4, 8, 12],\n",
    "              'min_samples_split': [2,6,10],\n",
    "             'max_leaf_nodes': [None, 4, 8, 12]}\n",
    "\n",
    "rf_gs_p = GridSearchCV(rfc, rfc_params, cv=5, verbose=1)\n",
    "rf_gs_p.fit(X_train_p, Y_train_p)\n",
    "#rf_gs.fit(Xn_df,y)"
   ]
  },
  {
   "cell_type": "code",
   "execution_count": 99,
   "metadata": {
    "collapsed": false
   },
   "outputs": [
    {
     "data": {
      "text/plain": [
       "0.89744699264387706"
      ]
     },
     "execution_count": 99,
     "metadata": {},
     "output_type": "execute_result"
    }
   ],
   "source": [
    "rf_gs_p.best_score_"
   ]
  },
  {
   "cell_type": "code",
   "execution_count": 100,
   "metadata": {
    "collapsed": true
   },
   "outputs": [],
   "source": [
    "rfc_predictions_p = rf_gs_p.predict(X_test_p)"
   ]
  },
  {
   "cell_type": "code",
   "execution_count": 101,
   "metadata": {
    "collapsed": false
   },
   "outputs": [
    {
     "data": {
      "text/plain": [
       "array([[14544,  1531],\n",
       "       [ 1602, 14195]])"
      ]
     },
     "execution_count": 101,
     "metadata": {},
     "output_type": "execute_result"
    }
   ],
   "source": [
    "confusion_matrix(Y_test_p, rfc_predictions_p)"
   ]
  },
  {
   "cell_type": "code",
   "execution_count": 102,
   "metadata": {
    "collapsed": false
   },
   "outputs": [
    {
     "name": "stdout",
     "output_type": "stream",
     "text": [
      "Test set accuracy:  0.901700552209\n"
     ]
    }
   ],
   "source": [
    "print \"Test set accuracy: \", rf_gs_p.score(X_test_p, Y_test_p)"
   ]
  },
  {
   "cell_type": "code",
   "execution_count": 103,
   "metadata": {
    "collapsed": false
   },
   "outputs": [
    {
     "name": "stdout",
     "output_type": "stream",
     "text": [
      "                 predicted_in_top  predicted_in_bottom\n",
      "in_top_group                14195                 1602\n",
      "in_bottom_group              1531                14544\n"
     ]
    }
   ],
   "source": [
    "conmat = np.array(confusion_matrix(Y_test_p, rfc_predictions_p, labels=[1,0]))\n",
    "confusion = pd.DataFrame(conmat, index=['in_top_group', 'in_bottom_group'],\n",
    "                            columns=['predicted_in_top','predicted_in_bottom'])\n",
    "print(confusion)"
   ]
  },
  {
   "cell_type": "code",
   "execution_count": 104,
   "metadata": {
    "collapsed": false
   },
   "outputs": [],
   "source": [
    "rf_best_p = rf_gs_p.best_estimator_"
   ]
  },
  {
   "cell_type": "code",
   "execution_count": 105,
   "metadata": {
    "collapsed": false
   },
   "outputs": [
    {
     "data": {
      "text/plain": [
       "{'max_depth': None, 'max_leaf_nodes': None, 'min_samples_split': 6}"
      ]
     },
     "execution_count": 105,
     "metadata": {},
     "output_type": "execute_result"
    }
   ],
   "source": [
    "rf_gs_p.best_params_"
   ]
  },
  {
   "cell_type": "code",
   "execution_count": 106,
   "metadata": {
    "collapsed": false
   },
   "outputs": [
    {
     "data": {
      "text/plain": [
       "RandomForestClassifier(bootstrap=True, class_weight=None, criterion='gini',\n",
       "            max_depth=None, max_features='auto', max_leaf_nodes=None,\n",
       "            min_impurity_split=1e-07, min_samples_leaf=1,\n",
       "            min_samples_split=6, min_weight_fraction_leaf=0.0,\n",
       "            n_estimators=10, n_jobs=1, oob_score=False, random_state=None,\n",
       "            verbose=0, warm_start=False)"
      ]
     },
     "execution_count": 106,
     "metadata": {},
     "output_type": "execute_result"
    }
   ],
   "source": [
    "rf_best_p.fit(X_train_p, Y_train_p)"
   ]
  },
  {
   "cell_type": "code",
   "execution_count": 107,
   "metadata": {
    "collapsed": false
   },
   "outputs": [
    {
     "data": {
      "text/plain": [
       "0.97437720220065527"
      ]
     },
     "execution_count": 107,
     "metadata": {},
     "output_type": "execute_result"
    }
   ],
   "source": [
    "rf_best_p.score(X_train_p,Y_train_p)"
   ]
  },
  {
   "cell_type": "code",
   "execution_count": 108,
   "metadata": {
    "collapsed": false
   },
   "outputs": [
    {
     "data": {
      "text/plain": [
       "0.90097891566265065"
      ]
     },
     "execution_count": 108,
     "metadata": {},
     "output_type": "execute_result"
    }
   ],
   "source": [
    "rf_best_p.score(X_test_p, Y_test_p)"
   ]
  },
  {
   "cell_type": "code",
   "execution_count": 109,
   "metadata": {
    "collapsed": true
   },
   "outputs": [],
   "source": [
    "Y_pred_train_rf_p = rf_best_p.predict(X_train_p)"
   ]
  },
  {
   "cell_type": "code",
   "execution_count": 110,
   "metadata": {
    "collapsed": false
   },
   "outputs": [
    {
     "data": {
      "text/plain": [
       "array([[32240,   773],\n",
       "       [  885, 30810]])"
      ]
     },
     "execution_count": 110,
     "metadata": {},
     "output_type": "execute_result"
    }
   ],
   "source": [
    "confusion_matrix(Y_train_p, Y_pred_train_rf_p)"
   ]
  },
  {
   "cell_type": "code",
   "execution_count": 111,
   "metadata": {
    "collapsed": true
   },
   "outputs": [],
   "source": [
    "Y_pred_test_rf_p = rf_best_p.predict(X_test_p)"
   ]
  },
  {
   "cell_type": "code",
   "execution_count": 112,
   "metadata": {
    "collapsed": false
   },
   "outputs": [
    {
     "data": {
      "text/plain": [
       "array([[14574,  1501],\n",
       "       [ 1655, 14142]])"
      ]
     },
     "execution_count": 112,
     "metadata": {},
     "output_type": "execute_result"
    }
   ],
   "source": [
    "confusion_matrix(Y_test_p, Y_pred_test_rf_p)"
   ]
  },
  {
   "cell_type": "code",
   "execution_count": 113,
   "metadata": {
    "collapsed": false,
    "scrolled": true
   },
   "outputs": [
    {
     "name": "stdout",
     "output_type": "stream",
     "text": [
      "['prange_low_2', 'prange_low_1', 'prange_high_1', 'prange_high_2', 'rooms_num_2', 'rooms_num_1', 'amen_bar_lounge_2', 'amen_gym_2', 'amen_gym_1', 'amen_wifi_2', 'amen_wifi_1', 'amen_bar_lounge_1', 'amen_room_service_2', 'amen_room_service_1', 'amen_breakfast_1']\n"
     ]
    },
    {
     "data": {
      "text/plain": [
       "(array([ 0.  ,  0.02,  0.04,  0.06,  0.08,  0.1 ,  0.12,  0.14,  0.16,  0.18]),\n",
       " <a list of 10 Text yticklabel objects>)"
      ]
     },
     "execution_count": 113,
     "metadata": {},
     "output_type": "execute_result"
    },
    {
     "data": {
      "image/png": "[encoded data removed]",
      "text/plain": [
       "<matplotlib.figure.Figure at 0x113dde250>"
      ]
     },
     "metadata": {},
     "output_type": "display_data"
    }
   ],
   "source": [
    "#feature importance plot\n",
    "importances = rf_best_p.feature_importances_\n",
    "\n",
    "feature_importances = zip(importances, X_train_p.columns)\n",
    "sorted_feature_importances = sorted(feature_importances, reverse = True)\n",
    "top_15_predictors = sorted_feature_importances[0:15]\n",
    "\n",
    "values = [value for value, predictors in top_15_predictors]\n",
    "predictors = [predictors for value, predictors in top_15_predictors]\n",
    "print predictors\n",
    "\n",
    "# Plot the feature importances of the forest\n",
    "plt.figure(figsize = (14,8))\n",
    "plt.title(\"Feature importances\", fontsize= 30)\n",
    "plt.bar(range(len(predictors)), values,color=\"r\", align=\"center\");\n",
    "plt.xticks(range(len(predictors)), predictors, rotation=90, fontsize=14);\n",
    "plt.yticks(fontsize=14)"
   ]
  },
  {
   "cell_type": "code",
   "execution_count": 533,
   "metadata": {
    "collapsed": true
   },
   "outputs": [],
   "source": [
    "Xn_df_w_y_comb.to_pickle('Xn_df_w_y_comb.pickle')"
   ]
  },
  {
   "cell_type": "code",
   "execution_count": 534,
   "metadata": {
    "collapsed": true
   },
   "outputs": [],
   "source": [
    "y_pair.to_pickle('y_pair.pickle')"
   ]
  },
  {
   "cell_type": "code",
   "execution_count": 535,
   "metadata": {
    "collapsed": true
   },
   "outputs": [],
   "source": [
    "dropped_vars.to_pickle('dropped_vars.pickle')"
   ]
  },
  {
   "cell_type": "code",
   "execution_count": 536,
   "metadata": {
    "collapsed": true
   },
   "outputs": [],
   "source": [
    "Xn_df_w_y.to_pickle('Xn_df_w_y.pickle')"
   ]
  },
  {
   "cell_type": "code",
   "execution_count": 398,
   "metadata": {
    "collapsed": false
   },
   "outputs": [
    {
     "data": {
      "text/plain": [
       "pandas.core.series.Series"
      ]
     },
     "execution_count": 398,
     "metadata": {},
     "output_type": "execute_result"
    }
   ],
   "source": [
    "type(Y_train_p)"
   ]
  },
  {
   "cell_type": "code",
   "execution_count": 405,
   "metadata": {
    "collapsed": false
   },
   "outputs": [
    {
     "name": "stdout",
     "output_type": "stream",
     "text": [
      " (64708, 106) (31872, 106) 64708 31872 64708\n"
     ]
    }
   ],
   "source": [
    "print X_train_p.shape, X_test_p.shape, Y_train_p.size, Y_test_p.size, Y_pred_train_rf_p.size"
   ]
  },
  {
   "cell_type": "code",
   "execution_count": 399,
   "metadata": {
    "collapsed": false
   },
   "outputs": [
    {
     "data": {
      "text/plain": [
       "(96580, 3)"
      ]
     },
     "execution_count": 399,
     "metadata": {},
     "output_type": "execute_result"
    }
   ],
   "source": [
    "dropped_vars.shape"
   ]
  },
  {
   "cell_type": "code",
   "execution_count": 422,
   "metadata": {
    "collapsed": false
   },
   "outputs": [],
   "source": [
    "X_train_p_with_dropped_vars = X_train_p.merge(dropped_vars,how='left',left_index=True,right_index=True)"
   ]
  },
  {
   "cell_type": "code",
   "execution_count": 423,
   "metadata": {
    "collapsed": false
   },
   "outputs": [
    {
     "data": {
      "text/plain": [
       "(64708, 109)"
      ]
     },
     "execution_count": 423,
     "metadata": {},
     "output_type": "execute_result"
    }
   ],
   "source": [
    "X_train_p_with_dropped_vars.shape"
   ]
  },
  {
   "cell_type": "code",
   "execution_count": 424,
   "metadata": {
    "collapsed": true
   },
   "outputs": [],
   "source": [
    "X_train_p_with_dropped_vars = pd.concat([X_train_p_with_dropped_vars,Y_train_p.rename(\"Y_actual\")],axis=1)"
   ]
  },
  {
   "cell_type": "code",
   "execution_count": 425,
   "metadata": {
    "collapsed": false
   },
   "outputs": [
    {
     "data": {
      "text/plain": [
       "(64708, 110)"
      ]
     },
     "execution_count": 425,
     "metadata": {},
     "output_type": "execute_result"
    }
   ],
   "source": [
    "X_train_p_with_dropped_vars.shape"
   ]
  },
  {
   "cell_type": "code",
   "execution_count": 427,
   "metadata": {
    "collapsed": false
   },
   "outputs": [
    {
     "data": {
      "text/plain": [
       "(64708,)"
      ]
     },
     "execution_count": 427,
     "metadata": {},
     "output_type": "execute_result"
    }
   ],
   "source": [
    "Y_pred_train_rf_p_series = pd.Series(Y_pred_train_rf_p,index=Y_train_p.index)\n",
    "Y_pred_train_rf_p_series.shape"
   ]
  },
  {
   "cell_type": "code",
   "execution_count": 428,
   "metadata": {
    "collapsed": true
   },
   "outputs": [],
   "source": [
    "X_train_p_with_dropped_vars = pd.concat([X_train_p_with_dropped_vars,Y_pred_train_rf_p_series.rename(\"Y_predicted\")],axis=1)"
   ]
  },
  {
   "cell_type": "code",
   "execution_count": 429,
   "metadata": {
    "collapsed": false
   },
   "outputs": [
    {
     "data": {
      "text/plain": [
       "(64708, 111)"
      ]
     },
     "execution_count": 429,
     "metadata": {},
     "output_type": "execute_result"
    }
   ],
   "source": [
    "X_train_p_with_dropped_vars.shape"
   ]
  },
  {
   "cell_type": "code",
   "execution_count": 430,
   "metadata": {
    "collapsed": false
   },
   "outputs": [
    {
     "data": {
      "text/html": [
       "<div>\n",
       "<table border=\"1\" class=\"dataframe\">\n",
       "  <thead>\n",
       "    <tr style=\"text-align: right;\">\n",
       "      <th></th>\n",
       "      <th>Y_actual</th>\n",
       "      <th>Y_predicted</th>\n",
       "      <th>rank_num_1</th>\n",
       "      <th>rank_num_2</th>\n",
       "      <th>hotel_1_better</th>\n",
       "    </tr>\n",
       "  </thead>\n",
       "  <tbody>\n",
       "    <tr>\n",
       "      <th>87220</th>\n",
       "      <td>0</td>\n",
       "      <td>0</td>\n",
       "      <td>125.0</td>\n",
       "      <td>29.0</td>\n",
       "      <td>0</td>\n",
       "    </tr>\n",
       "    <tr>\n",
       "      <th>15504</th>\n",
       "      <td>1</td>\n",
       "      <td>1</td>\n",
       "      <td>52.0</td>\n",
       "      <td>163.0</td>\n",
       "      <td>1</td>\n",
       "    </tr>\n",
       "    <tr>\n",
       "      <th>59684</th>\n",
       "      <td>0</td>\n",
       "      <td>0</td>\n",
       "      <td>379.0</td>\n",
       "      <td>140.0</td>\n",
       "      <td>0</td>\n",
       "    </tr>\n",
       "    <tr>\n",
       "      <th>77996</th>\n",
       "      <td>0</td>\n",
       "      <td>0</td>\n",
       "      <td>197.0</td>\n",
       "      <td>14.0</td>\n",
       "      <td>0</td>\n",
       "    </tr>\n",
       "    <tr>\n",
       "      <th>10907</th>\n",
       "      <td>1</td>\n",
       "      <td>1</td>\n",
       "      <td>229.0</td>\n",
       "      <td>395.0</td>\n",
       "      <td>1</td>\n",
       "    </tr>\n",
       "  </tbody>\n",
       "</table>\n",
       "</div>"
      ],
      "text/plain": [
       "       Y_actual  Y_predicted  rank_num_1  rank_num_2  hotel_1_better\n",
       "87220         0            0       125.0        29.0               0\n",
       "15504         1            1        52.0       163.0               1\n",
       "59684         0            0       379.0       140.0               0\n",
       "77996         0            0       197.0        14.0               0\n",
       "10907         1            1       229.0       395.0               1"
      ]
     },
     "execution_count": 430,
     "metadata": {},
     "output_type": "execute_result"
    }
   ],
   "source": [
    "X_train_p_with_dropped_vars[['Y_actual','Y_predicted','rank_num_1','rank_num_2','hotel_1_better']].head()"
   ]
  },
  {
   "cell_type": "code",
   "execution_count": 431,
   "metadata": {
    "collapsed": false
   },
   "outputs": [
    {
     "data": {
      "text/html": [
       "<div>\n",
       "<table border=\"1\" class=\"dataframe\">\n",
       "  <thead>\n",
       "    <tr style=\"text-align: right;\">\n",
       "      <th>Y_predicted</th>\n",
       "      <th>0</th>\n",
       "      <th>1</th>\n",
       "    </tr>\n",
       "    <tr>\n",
       "      <th>Y_actual</th>\n",
       "      <th></th>\n",
       "      <th></th>\n",
       "    </tr>\n",
       "  </thead>\n",
       "  <tbody>\n",
       "    <tr>\n",
       "      <th>0</th>\n",
       "      <td>32162</td>\n",
       "      <td>851</td>\n",
       "    </tr>\n",
       "    <tr>\n",
       "      <th>1</th>\n",
       "      <td>879</td>\n",
       "      <td>30816</td>\n",
       "    </tr>\n",
       "  </tbody>\n",
       "</table>\n",
       "</div>"
      ],
      "text/plain": [
       "Y_predicted      0      1\n",
       "Y_actual                 \n",
       "0            32162    851\n",
       "1              879  30816"
      ]
     },
     "execution_count": 431,
     "metadata": {},
     "output_type": "execute_result"
    }
   ],
   "source": [
    "pd.crosstab(X_train_p_with_dropped_vars.Y_actual,X_train_p_with_dropped_vars.Y_predicted)"
   ]
  },
  {
   "cell_type": "code",
   "execution_count": 433,
   "metadata": {
    "collapsed": false
   },
   "outputs": [
    {
     "data": {
      "text/html": [
       "<div>\n",
       "<table border=\"1\" class=\"dataframe\">\n",
       "  <thead>\n",
       "    <tr style=\"text-align: right;\">\n",
       "      <th>hotel_1_better</th>\n",
       "      <th>0</th>\n",
       "      <th>1</th>\n",
       "    </tr>\n",
       "    <tr>\n",
       "      <th>Y_actual</th>\n",
       "      <th></th>\n",
       "      <th></th>\n",
       "    </tr>\n",
       "  </thead>\n",
       "  <tbody>\n",
       "    <tr>\n",
       "      <th>0</th>\n",
       "      <td>33013</td>\n",
       "      <td>0</td>\n",
       "    </tr>\n",
       "    <tr>\n",
       "      <th>1</th>\n",
       "      <td>0</td>\n",
       "      <td>31695</td>\n",
       "    </tr>\n",
       "  </tbody>\n",
       "</table>\n",
       "</div>"
      ],
      "text/plain": [
       "hotel_1_better      0      1\n",
       "Y_actual                    \n",
       "0               33013      0\n",
       "1                   0  31695"
      ]
     },
     "execution_count": 433,
     "metadata": {},
     "output_type": "execute_result"
    }
   ],
   "source": [
    "pd.crosstab(X_train_p_with_dropped_vars.Y_actual,X_train_p_with_dropped_vars.hotel_1_better)"
   ]
  },
  {
   "cell_type": "code",
   "execution_count": 474,
   "metadata": {
    "collapsed": false
   },
   "outputs": [],
   "source": [
    "#for each actual rank, count number of times that hotel was predicted to be ranked higher than another hotel\n",
    "#(when that hotel was in rank_num_1 column)\n",
    "rank_col_1_cts = X_train_p_with_dropped_vars.groupby('rank_num_1')['Y_predicted'].sum()"
   ]
  },
  {
   "cell_type": "code",
   "execution_count": 475,
   "metadata": {
    "collapsed": false
   },
   "outputs": [],
   "source": [
    "#for each actual rank, count number of times that hotel was predicted to be ranked higher than another hotel\n",
    "#(when that hotel was in rank_num_2 column)\n",
    "rank_col_2_cts = X_train_p_with_dropped_vars[X_train_p_with_dropped_vars.Y_predicted == 0].groupby('rank_num_2')['Y_predicted'].size()"
   ]
  },
  {
   "cell_type": "code",
   "execution_count": 476,
   "metadata": {
    "collapsed": false
   },
   "outputs": [
    {
     "data": {
      "text/plain": [
       "(438,)"
      ]
     },
     "execution_count": 476,
     "metadata": {},
     "output_type": "execute_result"
    }
   ],
   "source": [
    "rank_col_1_cts.shape"
   ]
  },
  {
   "cell_type": "code",
   "execution_count": 477,
   "metadata": {
    "collapsed": false
   },
   "outputs": [
    {
     "data": {
      "text/plain": [
       "(425,)"
      ]
     },
     "execution_count": 477,
     "metadata": {},
     "output_type": "execute_result"
    }
   ],
   "source": [
    "rank_col_2_cts.shape"
   ]
  },
  {
   "cell_type": "code",
   "execution_count": 478,
   "metadata": {
    "collapsed": false
   },
   "outputs": [
    {
     "data": {
      "text/html": [
       "<div>\n",
       "<table border=\"1\" class=\"dataframe\">\n",
       "  <thead>\n",
       "    <tr style=\"text-align: right;\">\n",
       "      <th></th>\n",
       "      <th>rank_num_1</th>\n",
       "      <th>Col_1</th>\n",
       "    </tr>\n",
       "  </thead>\n",
       "  <tbody>\n",
       "    <tr>\n",
       "      <th>0</th>\n",
       "      <td>1.0</td>\n",
       "      <td>300</td>\n",
       "    </tr>\n",
       "    <tr>\n",
       "      <th>1</th>\n",
       "      <td>2.0</td>\n",
       "      <td>273</td>\n",
       "    </tr>\n",
       "    <tr>\n",
       "      <th>2</th>\n",
       "      <td>3.0</td>\n",
       "      <td>176</td>\n",
       "    </tr>\n",
       "    <tr>\n",
       "      <th>3</th>\n",
       "      <td>4.0</td>\n",
       "      <td>246</td>\n",
       "    </tr>\n",
       "    <tr>\n",
       "      <th>4</th>\n",
       "      <td>5.0</td>\n",
       "      <td>70</td>\n",
       "    </tr>\n",
       "  </tbody>\n",
       "</table>\n",
       "</div>"
      ],
      "text/plain": [
       "   rank_num_1  Col_1\n",
       "0         1.0    300\n",
       "1         2.0    273\n",
       "2         3.0    176\n",
       "3         4.0    246\n",
       "4         5.0     70"
      ]
     },
     "execution_count": 478,
     "metadata": {},
     "output_type": "execute_result"
    }
   ],
   "source": [
    "ranked_higher_df = pd.DataFrame(rank_col_1_cts)\n",
    "ranked_higher_df.reset_index(inplace=True)\n",
    "ranked_higher_df.rename(columns={'Y_predicted':'Col_1'},inplace=True)\n",
    "ranked_higher_df.head()"
   ]
  },
  {
   "cell_type": "code",
   "execution_count": 479,
   "metadata": {
    "collapsed": false
   },
   "outputs": [
    {
     "data": {
      "text/html": [
       "<div>\n",
       "<table border=\"1\" class=\"dataframe\">\n",
       "  <thead>\n",
       "    <tr style=\"text-align: right;\">\n",
       "      <th></th>\n",
       "      <th>rank_num_2</th>\n",
       "      <th>Col_2</th>\n",
       "    </tr>\n",
       "  </thead>\n",
       "  <tbody>\n",
       "    <tr>\n",
       "      <th>0</th>\n",
       "      <td>1.0</td>\n",
       "      <td>4</td>\n",
       "    </tr>\n",
       "    <tr>\n",
       "      <th>1</th>\n",
       "      <td>2.0</td>\n",
       "      <td>28</td>\n",
       "    </tr>\n",
       "    <tr>\n",
       "      <th>2</th>\n",
       "      <td>3.0</td>\n",
       "      <td>120</td>\n",
       "    </tr>\n",
       "    <tr>\n",
       "      <th>3</th>\n",
       "      <td>4.0</td>\n",
       "      <td>49</td>\n",
       "    </tr>\n",
       "    <tr>\n",
       "      <th>4</th>\n",
       "      <td>5.0</td>\n",
       "      <td>214</td>\n",
       "    </tr>\n",
       "  </tbody>\n",
       "</table>\n",
       "</div>"
      ],
      "text/plain": [
       "   rank_num_2  Col_2\n",
       "0         1.0      4\n",
       "1         2.0     28\n",
       "2         3.0    120\n",
       "3         4.0     49\n",
       "4         5.0    214"
      ]
     },
     "execution_count": 479,
     "metadata": {},
     "output_type": "execute_result"
    }
   ],
   "source": [
    "ranked_higher_df2 = pd.DataFrame(rank_col_2_cts)\n",
    "ranked_higher_df2.reset_index(inplace=True)\n",
    "ranked_higher_df2.rename(columns={0:'Col_2'},inplace=True)\n",
    "ranked_higher_df2.head()"
   ]
  },
  {
   "cell_type": "code",
   "execution_count": 480,
   "metadata": {
    "collapsed": true
   },
   "outputs": [],
   "source": [
    "ranked_higher_df = ranked_higher_df.merge(ranked_higher_df2,how='outer',left_on='rank_num_1',right_on='rank_num_2')"
   ]
  },
  {
   "cell_type": "code",
   "execution_count": 481,
   "metadata": {
    "collapsed": false
   },
   "outputs": [],
   "source": [
    "ranked_higher_df['total_higher_ct'] = ranked_higher_df[['Col_1','Col_2']].sum(axis=1)"
   ]
  },
  {
   "cell_type": "code",
   "execution_count": 482,
   "metadata": {
    "collapsed": false
   },
   "outputs": [
    {
     "data": {
      "text/plain": [
       "array([ 304.,  301.,  296.,  295.,  284.,  281.,  280.,  279.,  270.,\n",
       "        266.,  275.,  271.,  289.,  278.,  267.,  273.,  283.,  294.,\n",
       "        242.,  276.,  291.,  287.,  265.,  288.,  254.,  260.,  248.,\n",
       "        292.,  258.,  251.,  262.,  277.,  282.,  239.,  240.,  250.,\n",
       "        261.,  255.,  264.,  257.,  252.,  224.,  235.,  238.,  236.,\n",
       "        246.,  245.,  263.,  247.,  259.,  244.,  234.,  233.,  208.,\n",
       "        220.,  227.,  228.,  231.,  225.,  237.,  218.,  217.,  219.,\n",
       "        229.,  221.,  210.,  211.,  213.,  197.,  214.,  198.,  199.,\n",
       "        216.,  196.,  202.,  203.,  215.,  212.,  209.,  206.,  191.,\n",
       "        188.,  201.,  192.,  193.,  205.,  185.,  184.,  189.,  173.,\n",
       "        174.,  186.,  169.,  182.,  194.,  180.,  156.,  168.,  195.,\n",
       "        178.,  170.,  171.,  177.,  183.,  175.,  166.,  159.,  172.,\n",
       "        163.,  155.,  160.,  158.,  122.,  149.,  157.,  151.,  150.,\n",
       "        152.,  136.,  164.,  144.,  142.,  138.,  117.,  153.,  135.,\n",
       "        147.,  131.,  148.,  130.,  134.,  114.,  129.,  128.,  139.,\n",
       "        132.,  141.,  140.,  126.,  145.,  111.,  113.,   90.,  121.,\n",
       "        127.,  104.,  101.,  116.,  102.,  120.,   89.,  119.,  115.,\n",
       "        100.,   97.,  105.,   96.,  112.,   93.,  110.,  107.,   87.,\n",
       "         78.,   83.,   95.,   98.,   84.,   91.,   69.,   76.,   79.,\n",
       "         77.,   80.,   86.,   74.,   73.,   75.,   70.,   64.,   49.,\n",
       "         62.,   60.,   54.,   92.,   66.,   58.,   67.,   50.,   52.,\n",
       "         65.,   55.,   56.,   51.,   81.,   47.,   39.,   57.,   43.,\n",
       "         42.,   46.,   40.,   59.,   48.,   35.,   37.,   44.,   29.,\n",
       "         34.,   38.,   33.,   27.,   26.,   25.,   18.,   30.,   23.,\n",
       "         14.,   19.,   22.,   13.,   17.,   15.,   16.,   12.,    8.,\n",
       "          9.,    6.,    5.,   10.,    7.,    4.,    0.,    2.,    3.,  300.])"
      ]
     },
     "execution_count": 482,
     "metadata": {},
     "output_type": "execute_result"
    }
   ],
   "source": [
    "ranked_higher_df.total_higher_ct.unique()"
   ]
  },
  {
   "cell_type": "code",
   "execution_count": 483,
   "metadata": {
    "collapsed": true
   },
   "outputs": [],
   "source": [
    "ranked_higher_df['pred_rank'] = ranked_higher_df['total_higher_ct'].rank(ascending=False)"
   ]
  },
  {
   "cell_type": "code",
   "execution_count": 484,
   "metadata": {
    "collapsed": false
   },
   "outputs": [],
   "source": [
    "ranked_higher_df['orig_rank'] = ranked_higher_df.apply(lambda row: row['rank_num_1'] if row['rank_num_1'] != np.NaN else row['rank_num_2'], axis=1)"
   ]
  },
  {
   "cell_type": "code",
   "execution_count": 485,
   "metadata": {
    "collapsed": false
   },
   "outputs": [
    {
     "data": {
      "text/plain": [
       "array([   1.,    2.,    3.,    4.,    5.,    6.,    7.,    8.,    9.,\n",
       "         10.,   11.,   12.,   13.,   14.,   15.,   16.,   17.,   18.,\n",
       "         19.,   20.,   21.,   22.,   24.,   25.,   26.,   27.,   28.,\n",
       "         29.,   30.,   31.,   32.,   33.,   34.,   35.,   36.,   37.,\n",
       "         38.,   39.,   40.,   41.,   42.,   44.,   45.,   46.,   47.,\n",
       "         48.,   49.,   50.,   51.,   52.,   53.,   54.,   55.,   56.,\n",
       "         57.,   58.,   59.,   60.,   61.,   62.,   63.,   64.,   65.,\n",
       "         66.,   67.,   68.,   69.,   70.,   71.,   72.,   73.,   74.,\n",
       "         75.,   76.,   77.,   78.,   79.,   80.,   81.,   82.,   83.,\n",
       "         84.,   85.,   86.,   87.,   88.,   89.,   90.,   91.,   92.,\n",
       "         93.,   94.,   95.,   96.,   97.,   98.,   99.,  100.,  101.,\n",
       "        102.,  103.,  104.,  105.,  106.,  107.,  108.,  109.,  110.,\n",
       "        111.,  112.,  113.,  114.,  115.,  116.,  117.,  118.,  119.,\n",
       "        120.,  121.,  122.,  123.,  124.,  125.,  126.,  127.,  128.,\n",
       "        129.,  130.,  131.,  132.,  133.,  134.,  135.,  136.,  137.,\n",
       "        138.,  139.,  140.,  141.,  142.,  143.,  144.,  145.,  146.,\n",
       "        147.,  148.,  149.,  150.,  151.,  152.,  153.,  154.,  155.,\n",
       "        156.,  157.,  158.,  159.,  160.,  161.,  162.,  163.,  164.,\n",
       "        165.,  166.,  167.,  168.,  169.,  170.,  171.,  172.,  173.,\n",
       "        174.,  175.,  176.,  177.,  178.,  179.,  180.,  181.,  182.,\n",
       "        183.,  184.,  185.,  186.,  187.,  188.,  189.,  190.,  191.,\n",
       "        192.,  193.,  194.,  195.,  196.,  197.,  198.,  199.,  200.,\n",
       "        201.,  202.,  203.,  204.,  205.,  206.,  207.,  208.,  209.,\n",
       "        210.,  211.,  212.,  213.,  214.,  215.,  216.,  217.,  218.,\n",
       "        219.,  220.,  221.,  222.,  223.,  224.,  225.,  226.,  227.,\n",
       "        228.,  229.,  230.,  231.,  232.,  233.,  234.,  235.,  236.,\n",
       "        237.,  238.,  239.,  240.,  241.,  242.,  243.,  244.,  245.,\n",
       "        246.,  247.,  248.,  249.,  250.,  251.,  252.,  253.,  254.,\n",
       "        255.,  256.,  257.,  258.,  259.,  260.,  261.,  262.,  263.,\n",
       "        264.,  265.,  266.,  267.,  268.,  269.,  270.,  271.,  272.,\n",
       "        273.,  274.,  275.,  276.,  277.,  278.,  279.,  280.,  281.,\n",
       "        282.,  283.,  284.,  285.,  286.,  287.,  288.,  289.,  290.,\n",
       "        291.,  292.,  293.,  294.,  295.,  296.,  297.,  298.,  299.,\n",
       "        300.,  301.,  302.,  303.,  304.,  305.,  306.,  307.,  308.,\n",
       "        309.,  310.,  311.,  312.,  313.,  314.,  315.,  316.,  317.,\n",
       "        318.,  319.,  320.,  321.,  322.,  323.,  324.,  325.,  326.,\n",
       "        327.,  328.,  329.,  330.,  331.,  332.,  333.,  334.,  335.,\n",
       "        336.,  337.,  338.,  339.,  340.,  341.,  342.,  343.,  344.,\n",
       "        345.,  346.,  347.,  348.,  349.,  350.,  351.,  352.,  353.,\n",
       "        354.,  355.,  356.,  357.,  358.,  359.,  360.,  361.,  362.,\n",
       "        363.,  364.,  365.,  366.,  367.,  368.,  369.,  370.,  371.,\n",
       "        372.,  373.,  374.,  375.,  376.,  377.,  378.,  379.,  380.,\n",
       "        381.,  382.,  383.,  384.,  385.,  386.,  387.,  388.,  389.,\n",
       "        390.,  391.,  392.,  393.,  394.,  395.,  396.,  397.,  398.,\n",
       "        399.,  400.,  401.,  402.,  403.,  404.,  405.,  406.,  407.,\n",
       "        408.,  409.,  410.,  411.,  412.,  413.,  414.,  415.,  416.,\n",
       "        417.,  418.,  419.,  420.,  421.,  422.,  423.,  424.,  425.,\n",
       "        426.,  427.,  428.,  429.,  430.,  431.,  432.,  433.,  434.,\n",
       "        435.,  436.,  437.,  438.,  439.,  440.,   nan])"
      ]
     },
     "execution_count": 485,
     "metadata": {},
     "output_type": "execute_result"
    }
   ],
   "source": [
    "ranked_higher_df.orig_rank.unique()"
   ]
  },
  {
   "cell_type": "code",
   "execution_count": 486,
   "metadata": {
    "collapsed": false
   },
   "outputs": [
    {
     "data": {
      "text/html": [
       "<div>\n",
       "<table border=\"1\" class=\"dataframe\">\n",
       "  <thead>\n",
       "    <tr style=\"text-align: right;\">\n",
       "      <th></th>\n",
       "      <th>rank_num_1</th>\n",
       "      <th>Col_1</th>\n",
       "      <th>rank_num_2</th>\n",
       "      <th>Col_2</th>\n",
       "      <th>total_higher_ct</th>\n",
       "      <th>pred_rank</th>\n",
       "      <th>orig_rank</th>\n",
       "    </tr>\n",
       "  </thead>\n",
       "  <tbody>\n",
       "    <tr>\n",
       "      <th>0</th>\n",
       "      <td>1.0</td>\n",
       "      <td>300.0</td>\n",
       "      <td>1.0</td>\n",
       "      <td>4.0</td>\n",
       "      <td>304.0</td>\n",
       "      <td>1.0</td>\n",
       "      <td>1.0</td>\n",
       "    </tr>\n",
       "    <tr>\n",
       "      <th>1</th>\n",
       "      <td>2.0</td>\n",
       "      <td>273.0</td>\n",
       "      <td>2.0</td>\n",
       "      <td>28.0</td>\n",
       "      <td>301.0</td>\n",
       "      <td>2.0</td>\n",
       "      <td>2.0</td>\n",
       "    </tr>\n",
       "    <tr>\n",
       "      <th>2</th>\n",
       "      <td>3.0</td>\n",
       "      <td>176.0</td>\n",
       "      <td>3.0</td>\n",
       "      <td>120.0</td>\n",
       "      <td>296.0</td>\n",
       "      <td>4.5</td>\n",
       "      <td>3.0</td>\n",
       "    </tr>\n",
       "    <tr>\n",
       "      <th>3</th>\n",
       "      <td>4.0</td>\n",
       "      <td>246.0</td>\n",
       "      <td>4.0</td>\n",
       "      <td>49.0</td>\n",
       "      <td>295.0</td>\n",
       "      <td>7.0</td>\n",
       "      <td>4.0</td>\n",
       "    </tr>\n",
       "    <tr>\n",
       "      <th>4</th>\n",
       "      <td>5.0</td>\n",
       "      <td>70.0</td>\n",
       "      <td>5.0</td>\n",
       "      <td>214.0</td>\n",
       "      <td>284.0</td>\n",
       "      <td>16.0</td>\n",
       "      <td>5.0</td>\n",
       "    </tr>\n",
       "    <tr>\n",
       "      <th>5</th>\n",
       "      <td>6.0</td>\n",
       "      <td>139.0</td>\n",
       "      <td>6.0</td>\n",
       "      <td>142.0</td>\n",
       "      <td>281.0</td>\n",
       "      <td>20.0</td>\n",
       "      <td>6.0</td>\n",
       "    </tr>\n",
       "    <tr>\n",
       "      <th>6</th>\n",
       "      <td>7.0</td>\n",
       "      <td>24.0</td>\n",
       "      <td>7.0</td>\n",
       "      <td>256.0</td>\n",
       "      <td>280.0</td>\n",
       "      <td>21.0</td>\n",
       "      <td>7.0</td>\n",
       "    </tr>\n",
       "    <tr>\n",
       "      <th>7</th>\n",
       "      <td>8.0</td>\n",
       "      <td>65.0</td>\n",
       "      <td>8.0</td>\n",
       "      <td>214.0</td>\n",
       "      <td>279.0</td>\n",
       "      <td>23.0</td>\n",
       "      <td>8.0</td>\n",
       "    </tr>\n",
       "    <tr>\n",
       "      <th>8</th>\n",
       "      <td>9.0</td>\n",
       "      <td>184.0</td>\n",
       "      <td>9.0</td>\n",
       "      <td>111.0</td>\n",
       "      <td>295.0</td>\n",
       "      <td>7.0</td>\n",
       "      <td>9.0</td>\n",
       "    </tr>\n",
       "    <tr>\n",
       "      <th>9</th>\n",
       "      <td>10.0</td>\n",
       "      <td>33.0</td>\n",
       "      <td>10.0</td>\n",
       "      <td>263.0</td>\n",
       "      <td>296.0</td>\n",
       "      <td>4.5</td>\n",
       "      <td>10.0</td>\n",
       "    </tr>\n",
       "    <tr>\n",
       "      <th>10</th>\n",
       "      <td>11.0</td>\n",
       "      <td>60.0</td>\n",
       "      <td>11.0</td>\n",
       "      <td>210.0</td>\n",
       "      <td>270.0</td>\n",
       "      <td>34.0</td>\n",
       "      <td>11.0</td>\n",
       "    </tr>\n",
       "    <tr>\n",
       "      <th>11</th>\n",
       "      <td>12.0</td>\n",
       "      <td>203.0</td>\n",
       "      <td>12.0</td>\n",
       "      <td>63.0</td>\n",
       "      <td>266.0</td>\n",
       "      <td>39.0</td>\n",
       "      <td>12.0</td>\n",
       "    </tr>\n",
       "    <tr>\n",
       "      <th>12</th>\n",
       "      <td>13.0</td>\n",
       "      <td>61.0</td>\n",
       "      <td>13.0</td>\n",
       "      <td>214.0</td>\n",
       "      <td>275.0</td>\n",
       "      <td>29.5</td>\n",
       "      <td>13.0</td>\n",
       "    </tr>\n",
       "    <tr>\n",
       "      <th>13</th>\n",
       "      <td>14.0</td>\n",
       "      <td>30.0</td>\n",
       "      <td>14.0</td>\n",
       "      <td>241.0</td>\n",
       "      <td>271.0</td>\n",
       "      <td>33.0</td>\n",
       "      <td>14.0</td>\n",
       "    </tr>\n",
       "    <tr>\n",
       "      <th>14</th>\n",
       "      <td>15.0</td>\n",
       "      <td>279.0</td>\n",
       "      <td>15.0</td>\n",
       "      <td>10.0</td>\n",
       "      <td>289.0</td>\n",
       "      <td>13.0</td>\n",
       "      <td>15.0</td>\n",
       "    </tr>\n",
       "    <tr>\n",
       "      <th>15</th>\n",
       "      <td>16.0</td>\n",
       "      <td>33.0</td>\n",
       "      <td>16.0</td>\n",
       "      <td>245.0</td>\n",
       "      <td>278.0</td>\n",
       "      <td>25.0</td>\n",
       "      <td>16.0</td>\n",
       "    </tr>\n",
       "    <tr>\n",
       "      <th>16</th>\n",
       "      <td>17.0</td>\n",
       "      <td>256.0</td>\n",
       "      <td>17.0</td>\n",
       "      <td>11.0</td>\n",
       "      <td>267.0</td>\n",
       "      <td>36.5</td>\n",
       "      <td>17.0</td>\n",
       "    </tr>\n",
       "    <tr>\n",
       "      <th>17</th>\n",
       "      <td>18.0</td>\n",
       "      <td>262.0</td>\n",
       "      <td>18.0</td>\n",
       "      <td>11.0</td>\n",
       "      <td>273.0</td>\n",
       "      <td>31.5</td>\n",
       "      <td>18.0</td>\n",
       "    </tr>\n",
       "    <tr>\n",
       "      <th>18</th>\n",
       "      <td>19.0</td>\n",
       "      <td>111.0</td>\n",
       "      <td>19.0</td>\n",
       "      <td>168.0</td>\n",
       "      <td>279.0</td>\n",
       "      <td>23.0</td>\n",
       "      <td>19.0</td>\n",
       "    </tr>\n",
       "    <tr>\n",
       "      <th>19</th>\n",
       "      <td>20.0</td>\n",
       "      <td>120.0</td>\n",
       "      <td>20.0</td>\n",
       "      <td>163.0</td>\n",
       "      <td>283.0</td>\n",
       "      <td>17.5</td>\n",
       "      <td>20.0</td>\n",
       "    </tr>\n",
       "    <tr>\n",
       "      <th>20</th>\n",
       "      <td>21.0</td>\n",
       "      <td>102.0</td>\n",
       "      <td>21.0</td>\n",
       "      <td>192.0</td>\n",
       "      <td>294.0</td>\n",
       "      <td>9.0</td>\n",
       "      <td>21.0</td>\n",
       "    </tr>\n",
       "    <tr>\n",
       "      <th>21</th>\n",
       "      <td>22.0</td>\n",
       "      <td>23.0</td>\n",
       "      <td>22.0</td>\n",
       "      <td>219.0</td>\n",
       "      <td>242.0</td>\n",
       "      <td>77.5</td>\n",
       "      <td>22.0</td>\n",
       "    </tr>\n",
       "    <tr>\n",
       "      <th>22</th>\n",
       "      <td>24.0</td>\n",
       "      <td>42.0</td>\n",
       "      <td>24.0</td>\n",
       "      <td>234.0</td>\n",
       "      <td>276.0</td>\n",
       "      <td>27.5</td>\n",
       "      <td>24.0</td>\n",
       "    </tr>\n",
       "    <tr>\n",
       "      <th>23</th>\n",
       "      <td>25.0</td>\n",
       "      <td>134.0</td>\n",
       "      <td>25.0</td>\n",
       "      <td>141.0</td>\n",
       "      <td>275.0</td>\n",
       "      <td>29.5</td>\n",
       "      <td>25.0</td>\n",
       "    </tr>\n",
       "    <tr>\n",
       "      <th>24</th>\n",
       "      <td>26.0</td>\n",
       "      <td>133.0</td>\n",
       "      <td>26.0</td>\n",
       "      <td>150.0</td>\n",
       "      <td>283.0</td>\n",
       "      <td>17.5</td>\n",
       "      <td>26.0</td>\n",
       "    </tr>\n",
       "    <tr>\n",
       "      <th>25</th>\n",
       "      <td>27.0</td>\n",
       "      <td>98.0</td>\n",
       "      <td>27.0</td>\n",
       "      <td>193.0</td>\n",
       "      <td>291.0</td>\n",
       "      <td>12.0</td>\n",
       "      <td>27.0</td>\n",
       "    </tr>\n",
       "    <tr>\n",
       "      <th>26</th>\n",
       "      <td>28.0</td>\n",
       "      <td>234.0</td>\n",
       "      <td>28.0</td>\n",
       "      <td>33.0</td>\n",
       "      <td>267.0</td>\n",
       "      <td>36.5</td>\n",
       "      <td>28.0</td>\n",
       "    </tr>\n",
       "    <tr>\n",
       "      <th>27</th>\n",
       "      <td>29.0</td>\n",
       "      <td>30.0</td>\n",
       "      <td>29.0</td>\n",
       "      <td>257.0</td>\n",
       "      <td>287.0</td>\n",
       "      <td>15.0</td>\n",
       "      <td>29.0</td>\n",
       "    </tr>\n",
       "    <tr>\n",
       "      <th>28</th>\n",
       "      <td>30.0</td>\n",
       "      <td>265.0</td>\n",
       "      <td>NaN</td>\n",
       "      <td>NaN</td>\n",
       "      <td>265.0</td>\n",
       "      <td>40.0</td>\n",
       "      <td>30.0</td>\n",
       "    </tr>\n",
       "    <tr>\n",
       "      <th>29</th>\n",
       "      <td>31.0</td>\n",
       "      <td>255.0</td>\n",
       "      <td>31.0</td>\n",
       "      <td>33.0</td>\n",
       "      <td>288.0</td>\n",
       "      <td>14.0</td>\n",
       "      <td>31.0</td>\n",
       "    </tr>\n",
       "  </tbody>\n",
       "</table>\n",
       "</div>"
      ],
      "text/plain": [
       "    rank_num_1  Col_1  rank_num_2  Col_2  total_higher_ct  pred_rank  \\\n",
       "0          1.0  300.0         1.0    4.0            304.0        1.0   \n",
       "1          2.0  273.0         2.0   28.0            301.0        2.0   \n",
       "2          3.0  176.0         3.0  120.0            296.0        4.5   \n",
       "3          4.0  246.0         4.0   49.0            295.0        7.0   \n",
       "4          5.0   70.0         5.0  214.0            284.0       16.0   \n",
       "5          6.0  139.0         6.0  142.0            281.0       20.0   \n",
       "6          7.0   24.0         7.0  256.0            280.0       21.0   \n",
       "7          8.0   65.0         8.0  214.0            279.0       23.0   \n",
       "8          9.0  184.0         9.0  111.0            295.0        7.0   \n",
       "9         10.0   33.0        10.0  263.0            296.0        4.5   \n",
       "10        11.0   60.0        11.0  210.0            270.0       34.0   \n",
       "11        12.0  203.0        12.0   63.0            266.0       39.0   \n",
       "12        13.0   61.0        13.0  214.0            275.0       29.5   \n",
       "13        14.0   30.0        14.0  241.0            271.0       33.0   \n",
       "14        15.0  279.0        15.0   10.0            289.0       13.0   \n",
       "15        16.0   33.0        16.0  245.0            278.0       25.0   \n",
       "16        17.0  256.0        17.0   11.0            267.0       36.5   \n",
       "17        18.0  262.0        18.0   11.0            273.0       31.5   \n",
       "18        19.0  111.0        19.0  168.0            279.0       23.0   \n",
       "19        20.0  120.0        20.0  163.0            283.0       17.5   \n",
       "20        21.0  102.0        21.0  192.0            294.0        9.0   \n",
       "21        22.0   23.0        22.0  219.0            242.0       77.5   \n",
       "22        24.0   42.0        24.0  234.0            276.0       27.5   \n",
       "23        25.0  134.0        25.0  141.0            275.0       29.5   \n",
       "24        26.0  133.0        26.0  150.0            283.0       17.5   \n",
       "25        27.0   98.0        27.0  193.0            291.0       12.0   \n",
       "26        28.0  234.0        28.0   33.0            267.0       36.5   \n",
       "27        29.0   30.0        29.0  257.0            287.0       15.0   \n",
       "28        30.0  265.0         NaN    NaN            265.0       40.0   \n",
       "29        31.0  255.0        31.0   33.0            288.0       14.0   \n",
       "\n",
       "    orig_rank  \n",
       "0         1.0  \n",
       "1         2.0  \n",
       "2         3.0  \n",
       "3         4.0  \n",
       "4         5.0  \n",
       "5         6.0  \n",
       "6         7.0  \n",
       "7         8.0  \n",
       "8         9.0  \n",
       "9        10.0  \n",
       "10       11.0  \n",
       "11       12.0  \n",
       "12       13.0  \n",
       "13       14.0  \n",
       "14       15.0  \n",
       "15       16.0  \n",
       "16       17.0  \n",
       "17       18.0  \n",
       "18       19.0  \n",
       "19       20.0  \n",
       "20       21.0  \n",
       "21       22.0  \n",
       "22       24.0  \n",
       "23       25.0  \n",
       "24       26.0  \n",
       "25       27.0  \n",
       "26       28.0  \n",
       "27       29.0  \n",
       "28       30.0  \n",
       "29       31.0  "
      ]
     },
     "execution_count": 486,
     "metadata": {},
     "output_type": "execute_result"
    }
   ],
   "source": [
    "ranked_higher_df.head(30)"
   ]
  },
  {
   "cell_type": "code",
   "execution_count": 494,
   "metadata": {
    "collapsed": true
   },
   "outputs": [],
   "source": [
    "from scipy.stats import spearmanr"
   ]
  },
  {
   "cell_type": "code",
   "execution_count": 497,
   "metadata": {
    "collapsed": false
   },
   "outputs": [
    {
     "data": {
      "text/plain": [
       "rank_num_1          2\n",
       "Col_1               2\n",
       "rank_num_2         15\n",
       "Col_2              15\n",
       "total_higher_ct     0\n",
       "pred_rank           0\n",
       "orig_rank           2\n",
       "dtype: int64"
      ]
     },
     "execution_count": 497,
     "metadata": {},
     "output_type": "execute_result"
    }
   ],
   "source": [
    "ranked_higher_df.isnull().sum()"
   ]
  },
  {
   "cell_type": "code",
   "execution_count": 498,
   "metadata": {
    "collapsed": false
   },
   "outputs": [
    {
     "data": {
      "text/plain": [
       "SpearmanrResult(correlation=0.99187289352921371, pvalue=0.0)"
      ]
     },
     "execution_count": 498,
     "metadata": {},
     "output_type": "execute_result"
    }
   ],
   "source": [
    "spearmanr(ranked_higher_df[ranked_higher_df.orig_rank.notnull()].orig_rank,ranked_higher_df[ranked_higher_df.orig_rank.notnull()].pred_rank)"
   ]
  },
  {
   "cell_type": "code",
   "execution_count": 493,
   "metadata": {
    "collapsed": false,
    "scrolled": true
   },
   "outputs": [
    {
     "data": {
      "image/png": "[encoded data removed]",
      "text/plain": [
       "<matplotlib.figure.Figure at 0x115f08e50>"
      ]
     },
     "metadata": {},
     "output_type": "display_data"
    }
   ],
   "source": [
    "plt.figure(figsize = (12,12))\n",
    "plt.scatter(ranked_higher_df.orig_rank, ranked_higher_df.pred_rank)\n",
    "plt.title(\"Predicted Rank vs. Original Rank\", fontsize=18)\n",
    "plt.ylabel(\"Predicted Hotel Rank\", fontsize=16)\n",
    "plt.xlabel(\"Original Hotel Rank\", fontsize=16)\n",
    "plt.xticks(fontsize=14)\n",
    "plt.yticks(fontsize=14)\n",
    "#plt.xlim(0,20000)\n",
    "#plt.ylim(0,500)\n",
    "plt.show()"
   ]
  },
  {
   "cell_type": "code",
   "execution_count": 499,
   "metadata": {
    "collapsed": false
   },
   "outputs": [
    {
     "data": {
      "text/plain": [
       "pandas.core.series.Series"
      ]
     },
     "execution_count": 499,
     "metadata": {},
     "output_type": "execute_result"
    }
   ],
   "source": [
    "type(Y_test_p)"
   ]
  },
  {
   "cell_type": "code",
   "execution_count": 500,
   "metadata": {
    "collapsed": false
   },
   "outputs": [
    {
     "name": "stdout",
     "output_type": "stream",
     "text": [
      "(64708, 106) (31872, 106) 64708 31872 64708\n"
     ]
    }
   ],
   "source": [
    "print X_train_p.shape, X_test_p.shape, Y_train_p.size, Y_test_p.size, Y_pred_train_rf_p.size"
   ]
  },
  {
   "cell_type": "code",
   "execution_count": 501,
   "metadata": {
    "collapsed": false
   },
   "outputs": [
    {
     "data": {
      "text/plain": [
       "(96580, 3)"
      ]
     },
     "execution_count": 501,
     "metadata": {},
     "output_type": "execute_result"
    }
   ],
   "source": [
    "dropped_vars.shape"
   ]
  },
  {
   "cell_type": "code",
   "execution_count": 502,
   "metadata": {
    "collapsed": false
   },
   "outputs": [],
   "source": [
    "X_test_p_with_dropped_vars = X_test_p.merge(dropped_vars,how='left',left_index=True,right_index=True)"
   ]
  },
  {
   "cell_type": "code",
   "execution_count": 503,
   "metadata": {
    "collapsed": false
   },
   "outputs": [
    {
     "data": {
      "text/plain": [
       "(31872, 109)"
      ]
     },
     "execution_count": 503,
     "metadata": {},
     "output_type": "execute_result"
    }
   ],
   "source": [
    "X_test_p_with_dropped_vars.shape"
   ]
  },
  {
   "cell_type": "code",
   "execution_count": 504,
   "metadata": {
    "collapsed": true
   },
   "outputs": [],
   "source": [
    "X_test_p_with_dropped_vars = pd.concat([X_test_p_with_dropped_vars,Y_test_p.rename(\"Y_actual\")],axis=1)"
   ]
  },
  {
   "cell_type": "code",
   "execution_count": 505,
   "metadata": {
    "collapsed": false
   },
   "outputs": [
    {
     "data": {
      "text/plain": [
       "(31872, 110)"
      ]
     },
     "execution_count": 505,
     "metadata": {},
     "output_type": "execute_result"
    }
   ],
   "source": [
    "X_test_p_with_dropped_vars.shape"
   ]
  },
  {
   "cell_type": "code",
   "execution_count": 508,
   "metadata": {
    "collapsed": false
   },
   "outputs": [
    {
     "data": {
      "text/plain": [
       "(31872,)"
      ]
     },
     "execution_count": 508,
     "metadata": {},
     "output_type": "execute_result"
    }
   ],
   "source": [
    "Y_pred_test_rf_p_series = pd.Series(Y_pred_test_rf_p,index=Y_test_p.index)\n",
    "Y_pred_test_rf_p_series.shape"
   ]
  },
  {
   "cell_type": "code",
   "execution_count": 509,
   "metadata": {
    "collapsed": true
   },
   "outputs": [],
   "source": [
    "X_test_p_with_dropped_vars = pd.concat([X_test_p_with_dropped_vars,Y_pred_test_rf_p_series.rename(\"Y_predicted\")],axis=1)"
   ]
  },
  {
   "cell_type": "code",
   "execution_count": 510,
   "metadata": {
    "collapsed": false
   },
   "outputs": [
    {
     "data": {
      "text/plain": [
       "(31872, 111)"
      ]
     },
     "execution_count": 510,
     "metadata": {},
     "output_type": "execute_result"
    }
   ],
   "source": [
    "X_test_p_with_dropped_vars.shape"
   ]
  },
  {
   "cell_type": "code",
   "execution_count": 511,
   "metadata": {
    "collapsed": false
   },
   "outputs": [
    {
     "data": {
      "text/html": [
       "<div>\n",
       "<table border=\"1\" class=\"dataframe\">\n",
       "  <thead>\n",
       "    <tr style=\"text-align: right;\">\n",
       "      <th></th>\n",
       "      <th>Y_actual</th>\n",
       "      <th>Y_predicted</th>\n",
       "      <th>rank_num_1</th>\n",
       "      <th>rank_num_2</th>\n",
       "      <th>hotel_1_better</th>\n",
       "    </tr>\n",
       "  </thead>\n",
       "  <tbody>\n",
       "    <tr>\n",
       "      <th>79756</th>\n",
       "      <td>0</td>\n",
       "      <td>0</td>\n",
       "      <td>401.0</td>\n",
       "      <td>329.0</td>\n",
       "      <td>0</td>\n",
       "    </tr>\n",
       "    <tr>\n",
       "      <th>33822</th>\n",
       "      <td>0</td>\n",
       "      <td>0</td>\n",
       "      <td>386.0</td>\n",
       "      <td>231.0</td>\n",
       "      <td>0</td>\n",
       "    </tr>\n",
       "    <tr>\n",
       "      <th>75277</th>\n",
       "      <td>0</td>\n",
       "      <td>0</td>\n",
       "      <td>356.0</td>\n",
       "      <td>135.0</td>\n",
       "      <td>0</td>\n",
       "    </tr>\n",
       "    <tr>\n",
       "      <th>17331</th>\n",
       "      <td>1</td>\n",
       "      <td>1</td>\n",
       "      <td>2.0</td>\n",
       "      <td>274.0</td>\n",
       "      <td>1</td>\n",
       "    </tr>\n",
       "    <tr>\n",
       "      <th>11684</th>\n",
       "      <td>1</td>\n",
       "      <td>1</td>\n",
       "      <td>17.0</td>\n",
       "      <td>246.0</td>\n",
       "      <td>1</td>\n",
       "    </tr>\n",
       "  </tbody>\n",
       "</table>\n",
       "</div>"
      ],
      "text/plain": [
       "       Y_actual  Y_predicted  rank_num_1  rank_num_2  hotel_1_better\n",
       "79756         0            0       401.0       329.0               0\n",
       "33822         0            0       386.0       231.0               0\n",
       "75277         0            0       356.0       135.0               0\n",
       "17331         1            1         2.0       274.0               1\n",
       "11684         1            1        17.0       246.0               1"
      ]
     },
     "execution_count": 511,
     "metadata": {},
     "output_type": "execute_result"
    }
   ],
   "source": [
    "X_test_p_with_dropped_vars[['Y_actual','Y_predicted','rank_num_1','rank_num_2','hotel_1_better']].head()"
   ]
  },
  {
   "cell_type": "code",
   "execution_count": 512,
   "metadata": {
    "collapsed": false
   },
   "outputs": [
    {
     "data": {
      "text/html": [
       "<div>\n",
       "<table border=\"1\" class=\"dataframe\">\n",
       "  <thead>\n",
       "    <tr style=\"text-align: right;\">\n",
       "      <th>Y_predicted</th>\n",
       "      <th>0</th>\n",
       "      <th>1</th>\n",
       "    </tr>\n",
       "    <tr>\n",
       "      <th>Y_actual</th>\n",
       "      <th></th>\n",
       "      <th></th>\n",
       "    </tr>\n",
       "  </thead>\n",
       "  <tbody>\n",
       "    <tr>\n",
       "      <th>0</th>\n",
       "      <td>14560</td>\n",
       "      <td>1515</td>\n",
       "    </tr>\n",
       "    <tr>\n",
       "      <th>1</th>\n",
       "      <td>1631</td>\n",
       "      <td>14166</td>\n",
       "    </tr>\n",
       "  </tbody>\n",
       "</table>\n",
       "</div>"
      ],
      "text/plain": [
       "Y_predicted      0      1\n",
       "Y_actual                 \n",
       "0            14560   1515\n",
       "1             1631  14166"
      ]
     },
     "execution_count": 512,
     "metadata": {},
     "output_type": "execute_result"
    }
   ],
   "source": [
    "pd.crosstab(X_test_p_with_dropped_vars.Y_actual,X_test_p_with_dropped_vars.Y_predicted)"
   ]
  },
  {
   "cell_type": "code",
   "execution_count": 513,
   "metadata": {
    "collapsed": false
   },
   "outputs": [
    {
     "data": {
      "text/html": [
       "<div>\n",
       "<table border=\"1\" class=\"dataframe\">\n",
       "  <thead>\n",
       "    <tr style=\"text-align: right;\">\n",
       "      <th>hotel_1_better</th>\n",
       "      <th>0</th>\n",
       "      <th>1</th>\n",
       "    </tr>\n",
       "    <tr>\n",
       "      <th>Y_actual</th>\n",
       "      <th></th>\n",
       "      <th></th>\n",
       "    </tr>\n",
       "  </thead>\n",
       "  <tbody>\n",
       "    <tr>\n",
       "      <th>0</th>\n",
       "      <td>16075</td>\n",
       "      <td>0</td>\n",
       "    </tr>\n",
       "    <tr>\n",
       "      <th>1</th>\n",
       "      <td>0</td>\n",
       "      <td>15797</td>\n",
       "    </tr>\n",
       "  </tbody>\n",
       "</table>\n",
       "</div>"
      ],
      "text/plain": [
       "hotel_1_better      0      1\n",
       "Y_actual                    \n",
       "0               16075      0\n",
       "1                   0  15797"
      ]
     },
     "execution_count": 513,
     "metadata": {},
     "output_type": "execute_result"
    }
   ],
   "source": [
    "pd.crosstab(X_test_p_with_dropped_vars.Y_actual,X_test_p_with_dropped_vars.hotel_1_better)"
   ]
  },
  {
   "cell_type": "code",
   "execution_count": 514,
   "metadata": {
    "collapsed": false
   },
   "outputs": [],
   "source": [
    "#for each actual rank, count number of times that hotel was predicted to be ranked higher than another hotel\n",
    "#(when that hotel was in rank_num_1 column)\n",
    "rank_col_1_cts_test = X_test_p_with_dropped_vars.groupby('rank_num_1')['Y_predicted'].sum()"
   ]
  },
  {
   "cell_type": "code",
   "execution_count": 515,
   "metadata": {
    "collapsed": false
   },
   "outputs": [],
   "source": [
    "#for each actual rank, count number of times that hotel was predicted to be ranked higher than another hotel\n",
    "#(when that hotel was in rank_num_2 column)\n",
    "rank_col_2_cts_test = X_test_p_with_dropped_vars[X_test_p_with_dropped_vars.Y_predicted == 0].groupby('rank_num_2')['Y_predicted'].size()"
   ]
  },
  {
   "cell_type": "code",
   "execution_count": 516,
   "metadata": {
    "collapsed": false
   },
   "outputs": [
    {
     "data": {
      "text/plain": [
       "(437,)"
      ]
     },
     "execution_count": 516,
     "metadata": {},
     "output_type": "execute_result"
    }
   ],
   "source": [
    "rank_col_1_cts_test.shape"
   ]
  },
  {
   "cell_type": "code",
   "execution_count": 517,
   "metadata": {
    "collapsed": false
   },
   "outputs": [
    {
     "data": {
      "text/plain": [
       "(420,)"
      ]
     },
     "execution_count": 517,
     "metadata": {},
     "output_type": "execute_result"
    }
   ],
   "source": [
    "rank_col_2_cts_test.shape"
   ]
  },
  {
   "cell_type": "code",
   "execution_count": 518,
   "metadata": {
    "collapsed": false
   },
   "outputs": [
    {
     "data": {
      "text/html": [
       "<div>\n",
       "<table border=\"1\" class=\"dataframe\">\n",
       "  <thead>\n",
       "    <tr style=\"text-align: right;\">\n",
       "      <th></th>\n",
       "      <th>rank_num_1</th>\n",
       "      <th>Col_1</th>\n",
       "    </tr>\n",
       "  </thead>\n",
       "  <tbody>\n",
       "    <tr>\n",
       "      <th>0</th>\n",
       "      <td>1.0</td>\n",
       "      <td>135</td>\n",
       "    </tr>\n",
       "    <tr>\n",
       "      <th>1</th>\n",
       "      <td>2.0</td>\n",
       "      <td>125</td>\n",
       "    </tr>\n",
       "    <tr>\n",
       "      <th>2</th>\n",
       "      <td>3.0</td>\n",
       "      <td>83</td>\n",
       "    </tr>\n",
       "    <tr>\n",
       "      <th>3</th>\n",
       "      <td>4.0</td>\n",
       "      <td>113</td>\n",
       "    </tr>\n",
       "    <tr>\n",
       "      <th>4</th>\n",
       "      <td>5.0</td>\n",
       "      <td>41</td>\n",
       "    </tr>\n",
       "  </tbody>\n",
       "</table>\n",
       "</div>"
      ],
      "text/plain": [
       "   rank_num_1  Col_1\n",
       "0         1.0    135\n",
       "1         2.0    125\n",
       "2         3.0     83\n",
       "3         4.0    113\n",
       "4         5.0     41"
      ]
     },
     "execution_count": 518,
     "metadata": {},
     "output_type": "execute_result"
    }
   ],
   "source": [
    "ranked_higher_df_test = pd.DataFrame(rank_col_1_cts_test)\n",
    "ranked_higher_df_test.reset_index(inplace=True)\n",
    "ranked_higher_df_test.rename(columns={'Y_predicted':'Col_1'},inplace=True)\n",
    "ranked_higher_df_test.head()"
   ]
  },
  {
   "cell_type": "code",
   "execution_count": 519,
   "metadata": {
    "collapsed": false
   },
   "outputs": [
    {
     "data": {
      "text/html": [
       "<div>\n",
       "<table border=\"1\" class=\"dataframe\">\n",
       "  <thead>\n",
       "    <tr style=\"text-align: right;\">\n",
       "      <th></th>\n",
       "      <th>rank_num_2</th>\n",
       "      <th>Col_2</th>\n",
       "    </tr>\n",
       "  </thead>\n",
       "  <tbody>\n",
       "    <tr>\n",
       "      <th>0</th>\n",
       "      <td>2.0</td>\n",
       "      <td>12</td>\n",
       "    </tr>\n",
       "    <tr>\n",
       "      <th>1</th>\n",
       "      <td>3.0</td>\n",
       "      <td>54</td>\n",
       "    </tr>\n",
       "    <tr>\n",
       "      <th>2</th>\n",
       "      <td>4.0</td>\n",
       "      <td>24</td>\n",
       "    </tr>\n",
       "    <tr>\n",
       "      <th>3</th>\n",
       "      <td>5.0</td>\n",
       "      <td>95</td>\n",
       "    </tr>\n",
       "    <tr>\n",
       "      <th>4</th>\n",
       "      <td>6.0</td>\n",
       "      <td>77</td>\n",
       "    </tr>\n",
       "  </tbody>\n",
       "</table>\n",
       "</div>"
      ],
      "text/plain": [
       "   rank_num_2  Col_2\n",
       "0         2.0     12\n",
       "1         3.0     54\n",
       "2         4.0     24\n",
       "3         5.0     95\n",
       "4         6.0     77"
      ]
     },
     "execution_count": 519,
     "metadata": {},
     "output_type": "execute_result"
    }
   ],
   "source": [
    "ranked_higher_df2_test = pd.DataFrame(rank_col_2_cts_test)\n",
    "ranked_higher_df2_test.reset_index(inplace=True)\n",
    "ranked_higher_df2_test.rename(columns={0:'Col_2'},inplace=True)\n",
    "ranked_higher_df2_test.head()"
   ]
  },
  {
   "cell_type": "code",
   "execution_count": 520,
   "metadata": {
    "collapsed": true
   },
   "outputs": [],
   "source": [
    "ranked_higher_df_test = ranked_higher_df_test.merge(ranked_higher_df2_test,how='outer',left_on='rank_num_1',right_on='rank_num_2')"
   ]
  },
  {
   "cell_type": "code",
   "execution_count": 521,
   "metadata": {
    "collapsed": false
   },
   "outputs": [],
   "source": [
    "ranked_higher_df_test['total_higher_ct'] = ranked_higher_df_test[['Col_1','Col_2']].sum(axis=1)"
   ]
  },
  {
   "cell_type": "code",
   "execution_count": 522,
   "metadata": {
    "collapsed": false
   },
   "outputs": [
    {
     "data": {
      "text/plain": [
       "array([ 135.,  137.,  136.,  155.,  146.,  154.,  130.,  139.,  105.,\n",
       "        157.,  148.,  134.,  149.,  152.,  138.,  113.,  142.,  124.,\n",
       "        123.,  144.,  147.,  133.,  150.,  165.,  121.,  110.,  128.,\n",
       "        122.,  145.,  118.,  112.,  126.,  125.,  140.,  109.,  129.,\n",
       "        119.,  116.,  107.,  153.,  120.,  100.,  111.,  106.,  114.,\n",
       "        115.,  103.,   98.,   87.,  108.,  102.,   94.,   89.,  101.,\n",
       "        117.,   93.,   99.,   97.,   96.,   82.,   81.,   85.,   86.,\n",
       "        104.,   88.,   92.,   78.,   77.,   80.,   91.,   84.,   95.,\n",
       "         67.,   65.,   68.,   70.,   49.,   73.,   69.,   83.,   52.,\n",
       "         59.,   62.,   58.,   64.,   57.,   74.,   63.,   48.,   66.,\n",
       "         71.,   61.,   90.,   60.,   39.,   79.,   76.,   72.,   55.,\n",
       "         38.,   47.,   43.,   35.,   46.,   75.,   42.,   34.,   51.,\n",
       "         45.,   56.,   44.,   50.,   54.,   40.,   32.,   25.,   30.,\n",
       "         37.,   28.,   23.,   36.,   26.,   31.,   16.,   33.,   20.,\n",
       "         22.,   41.,   18.,   21.,   14.,   24.,    7.,   13.,   19.,\n",
       "         10.,   11.,    9.,    6.,    4.,    8.,    5.,    0.,    1.,\n",
       "          3.,    2.])"
      ]
     },
     "execution_count": 522,
     "metadata": {},
     "output_type": "execute_result"
    }
   ],
   "source": [
    "ranked_higher_df_test.total_higher_ct.unique()"
   ]
  },
  {
   "cell_type": "code",
   "execution_count": 523,
   "metadata": {
    "collapsed": true
   },
   "outputs": [],
   "source": [
    "ranked_higher_df_test['pred_rank'] = ranked_higher_df_test['total_higher_ct'].rank(ascending=False)"
   ]
  },
  {
   "cell_type": "code",
   "execution_count": 524,
   "metadata": {
    "collapsed": false
   },
   "outputs": [],
   "source": [
    "ranked_higher_df_test['orig_rank'] = ranked_higher_df_test.apply(lambda row: row['rank_num_1'] if row['rank_num_1'] != np.NaN else row['rank_num_2'], axis=1)"
   ]
  },
  {
   "cell_type": "code",
   "execution_count": 525,
   "metadata": {
    "collapsed": false
   },
   "outputs": [
    {
     "data": {
      "text/plain": [
       "array([   1.,    2.,    3.,    4.,    5.,    6.,    7.,    8.,    9.,\n",
       "         10.,   11.,   12.,   13.,   14.,   15.,   16.,   17.,   18.,\n",
       "         19.,   20.,   21.,   22.,   23.,   24.,   25.,   26.,   27.,\n",
       "         28.,   29.,   30.,   31.,   32.,   33.,   34.,   35.,   36.,\n",
       "         37.,   38.,   39.,   40.,   41.,   42.,   44.,   45.,   46.,\n",
       "         47.,   48.,   49.,   50.,   51.,   52.,   53.,   54.,   55.,\n",
       "         56.,   57.,   58.,   59.,   60.,   61.,   62.,   63.,   64.,\n",
       "         65.,   66.,   67.,   68.,   69.,   70.,   71.,   72.,   73.,\n",
       "         74.,   75.,   76.,   77.,   78.,   79.,   80.,   81.,   82.,\n",
       "         83.,   84.,   85.,   86.,   87.,   88.,   89.,   90.,   91.,\n",
       "         92.,   93.,   94.,   95.,   96.,   97.,   98.,   99.,  100.,\n",
       "        101.,  102.,  103.,  104.,  105.,  106.,  107.,  108.,  109.,\n",
       "        110.,  111.,  112.,  113.,  114.,  115.,  116.,  117.,  118.,\n",
       "        119.,  120.,  121.,  122.,  123.,  124.,  125.,  126.,  127.,\n",
       "        128.,  129.,  130.,  131.,  132.,  133.,  134.,  135.,  136.,\n",
       "        137.,  138.,  139.,  140.,  141.,  142.,  143.,  144.,  145.,\n",
       "        146.,  147.,  148.,  149.,  150.,  151.,  152.,  153.,  154.,\n",
       "        155.,  156.,  157.,  158.,  159.,  160.,  161.,  162.,  163.,\n",
       "        164.,  165.,  166.,  167.,  168.,  169.,  170.,  171.,  172.,\n",
       "        173.,  174.,  175.,  176.,  177.,  178.,  179.,  180.,  181.,\n",
       "        182.,  183.,  184.,  185.,  186.,  187.,  188.,  189.,  190.,\n",
       "        191.,  192.,  193.,  194.,  195.,  196.,  197.,  198.,  199.,\n",
       "        200.,  201.,  202.,  203.,  204.,  205.,  206.,  207.,  208.,\n",
       "        209.,  210.,  211.,  212.,  213.,  214.,  215.,  216.,  217.,\n",
       "        218.,  219.,  220.,  221.,  222.,  223.,  224.,  225.,  226.,\n",
       "        227.,  228.,  229.,  230.,  231.,  232.,  233.,  234.,  235.,\n",
       "        236.,  237.,  238.,  239.,  240.,  241.,  242.,  243.,  244.,\n",
       "        245.,  246.,  247.,  248.,  249.,  250.,  251.,  252.,  253.,\n",
       "        254.,  255.,  256.,  257.,  258.,  259.,  260.,  261.,  262.,\n",
       "        263.,  264.,  265.,  266.,  267.,  268.,  269.,  270.,  271.,\n",
       "        273.,  274.,  275.,  276.,  277.,  278.,  279.,  280.,  281.,\n",
       "        282.,  283.,  284.,  285.,  286.,  287.,  288.,  289.,  290.,\n",
       "        291.,  292.,  293.,  294.,  295.,  296.,  297.,  298.,  299.,\n",
       "        300.,  301.,  302.,  303.,  304.,  305.,  306.,  307.,  308.,\n",
       "        309.,  310.,  311.,  312.,  313.,  314.,  316.,  317.,  318.,\n",
       "        319.,  320.,  321.,  322.,  323.,  324.,  325.,  326.,  327.,\n",
       "        328.,  329.,  330.,  331.,  332.,  333.,  334.,  335.,  336.,\n",
       "        337.,  338.,  339.,  340.,  341.,  342.,  343.,  344.,  345.,\n",
       "        346.,  347.,  348.,  349.,  350.,  351.,  352.,  353.,  354.,\n",
       "        355.,  356.,  357.,  358.,  359.,  360.,  361.,  362.,  363.,\n",
       "        364.,  365.,  366.,  367.,  368.,  369.,  370.,  371.,  372.,\n",
       "        373.,  374.,  375.,  376.,  377.,  378.,  379.,  380.,  381.,\n",
       "        382.,  383.,  384.,  385.,  386.,  387.,  388.,  389.,  390.,\n",
       "        391.,  392.,  393.,  394.,  395.,  396.,  397.,  398.,  399.,\n",
       "        400.,  401.,  402.,  403.,  404.,  405.,  406.,  407.,  408.,\n",
       "        409.,  410.,  411.,  412.,  413.,  414.,  415.,  416.,  417.,\n",
       "        418.,  419.,  420.,  421.,  422.,  423.,  424.,  425.,  426.,\n",
       "        427.,  428.,  429.,  430.,  431.,  432.,  433.,  434.,  435.,\n",
       "        436.,  437.,  438.,  439.,  440.,   nan])"
      ]
     },
     "execution_count": 525,
     "metadata": {},
     "output_type": "execute_result"
    }
   ],
   "source": [
    "ranked_higher_df_test.orig_rank.unique()"
   ]
  },
  {
   "cell_type": "code",
   "execution_count": 526,
   "metadata": {
    "collapsed": false
   },
   "outputs": [
    {
     "data": {
      "text/html": [
       "<div>\n",
       "<table border=\"1\" class=\"dataframe\">\n",
       "  <thead>\n",
       "    <tr style=\"text-align: right;\">\n",
       "      <th></th>\n",
       "      <th>rank_num_1</th>\n",
       "      <th>Col_1</th>\n",
       "      <th>rank_num_2</th>\n",
       "      <th>Col_2</th>\n",
       "      <th>total_higher_ct</th>\n",
       "      <th>pred_rank</th>\n",
       "      <th>orig_rank</th>\n",
       "    </tr>\n",
       "  </thead>\n",
       "  <tbody>\n",
       "    <tr>\n",
       "      <th>0</th>\n",
       "      <td>1.0</td>\n",
       "      <td>135.0</td>\n",
       "      <td>NaN</td>\n",
       "      <td>NaN</td>\n",
       "      <td>135.0</td>\n",
       "      <td>33.5</td>\n",
       "      <td>1.0</td>\n",
       "    </tr>\n",
       "    <tr>\n",
       "      <th>1</th>\n",
       "      <td>2.0</td>\n",
       "      <td>125.0</td>\n",
       "      <td>2.0</td>\n",
       "      <td>12.0</td>\n",
       "      <td>137.0</td>\n",
       "      <td>25.5</td>\n",
       "      <td>2.0</td>\n",
       "    </tr>\n",
       "    <tr>\n",
       "      <th>2</th>\n",
       "      <td>3.0</td>\n",
       "      <td>83.0</td>\n",
       "      <td>3.0</td>\n",
       "      <td>54.0</td>\n",
       "      <td>137.0</td>\n",
       "      <td>25.5</td>\n",
       "      <td>3.0</td>\n",
       "    </tr>\n",
       "    <tr>\n",
       "      <th>3</th>\n",
       "      <td>4.0</td>\n",
       "      <td>113.0</td>\n",
       "      <td>4.0</td>\n",
       "      <td>24.0</td>\n",
       "      <td>137.0</td>\n",
       "      <td>25.5</td>\n",
       "      <td>4.0</td>\n",
       "    </tr>\n",
       "    <tr>\n",
       "      <th>4</th>\n",
       "      <td>5.0</td>\n",
       "      <td>41.0</td>\n",
       "      <td>5.0</td>\n",
       "      <td>95.0</td>\n",
       "      <td>136.0</td>\n",
       "      <td>30.5</td>\n",
       "      <td>5.0</td>\n",
       "    </tr>\n",
       "    <tr>\n",
       "      <th>5</th>\n",
       "      <td>6.0</td>\n",
       "      <td>78.0</td>\n",
       "      <td>6.0</td>\n",
       "      <td>77.0</td>\n",
       "      <td>155.0</td>\n",
       "      <td>3.0</td>\n",
       "      <td>6.0</td>\n",
       "    </tr>\n",
       "    <tr>\n",
       "      <th>6</th>\n",
       "      <td>7.0</td>\n",
       "      <td>13.0</td>\n",
       "      <td>7.0</td>\n",
       "      <td>133.0</td>\n",
       "      <td>146.0</td>\n",
       "      <td>12.5</td>\n",
       "      <td>7.0</td>\n",
       "    </tr>\n",
       "    <tr>\n",
       "      <th>7</th>\n",
       "      <td>8.0</td>\n",
       "      <td>44.0</td>\n",
       "      <td>8.0</td>\n",
       "      <td>110.0</td>\n",
       "      <td>154.0</td>\n",
       "      <td>4.0</td>\n",
       "      <td>8.0</td>\n",
       "    </tr>\n",
       "    <tr>\n",
       "      <th>8</th>\n",
       "      <td>9.0</td>\n",
       "      <td>75.0</td>\n",
       "      <td>9.0</td>\n",
       "      <td>61.0</td>\n",
       "      <td>136.0</td>\n",
       "      <td>30.5</td>\n",
       "      <td>9.0</td>\n",
       "    </tr>\n",
       "    <tr>\n",
       "      <th>9</th>\n",
       "      <td>10.0</td>\n",
       "      <td>9.0</td>\n",
       "      <td>10.0</td>\n",
       "      <td>121.0</td>\n",
       "      <td>130.0</td>\n",
       "      <td>43.5</td>\n",
       "      <td>10.0</td>\n",
       "    </tr>\n",
       "    <tr>\n",
       "      <th>10</th>\n",
       "      <td>11.0</td>\n",
       "      <td>36.0</td>\n",
       "      <td>11.0</td>\n",
       "      <td>103.0</td>\n",
       "      <td>139.0</td>\n",
       "      <td>20.5</td>\n",
       "      <td>11.0</td>\n",
       "    </tr>\n",
       "    <tr>\n",
       "      <th>11</th>\n",
       "      <td>12.0</td>\n",
       "      <td>84.0</td>\n",
       "      <td>12.0</td>\n",
       "      <td>21.0</td>\n",
       "      <td>105.0</td>\n",
       "      <td>117.5</td>\n",
       "      <td>12.0</td>\n",
       "    </tr>\n",
       "    <tr>\n",
       "      <th>12</th>\n",
       "      <td>13.0</td>\n",
       "      <td>38.0</td>\n",
       "      <td>13.0</td>\n",
       "      <td>119.0</td>\n",
       "      <td>157.0</td>\n",
       "      <td>2.0</td>\n",
       "      <td>13.0</td>\n",
       "    </tr>\n",
       "    <tr>\n",
       "      <th>13</th>\n",
       "      <td>14.0</td>\n",
       "      <td>20.0</td>\n",
       "      <td>14.0</td>\n",
       "      <td>128.0</td>\n",
       "      <td>148.0</td>\n",
       "      <td>9.0</td>\n",
       "      <td>14.0</td>\n",
       "    </tr>\n",
       "    <tr>\n",
       "      <th>14</th>\n",
       "      <td>15.0</td>\n",
       "      <td>130.0</td>\n",
       "      <td>15.0</td>\n",
       "      <td>6.0</td>\n",
       "      <td>136.0</td>\n",
       "      <td>30.5</td>\n",
       "      <td>15.0</td>\n",
       "    </tr>\n",
       "    <tr>\n",
       "      <th>15</th>\n",
       "      <td>16.0</td>\n",
       "      <td>14.0</td>\n",
       "      <td>16.0</td>\n",
       "      <td>120.0</td>\n",
       "      <td>134.0</td>\n",
       "      <td>36.0</td>\n",
       "      <td>16.0</td>\n",
       "    </tr>\n",
       "    <tr>\n",
       "      <th>16</th>\n",
       "      <td>17.0</td>\n",
       "      <td>138.0</td>\n",
       "      <td>17.0</td>\n",
       "      <td>11.0</td>\n",
       "      <td>149.0</td>\n",
       "      <td>8.0</td>\n",
       "      <td>17.0</td>\n",
       "    </tr>\n",
       "    <tr>\n",
       "      <th>17</th>\n",
       "      <td>18.0</td>\n",
       "      <td>148.0</td>\n",
       "      <td>18.0</td>\n",
       "      <td>4.0</td>\n",
       "      <td>152.0</td>\n",
       "      <td>6.0</td>\n",
       "      <td>18.0</td>\n",
       "    </tr>\n",
       "    <tr>\n",
       "      <th>18</th>\n",
       "      <td>19.0</td>\n",
       "      <td>58.0</td>\n",
       "      <td>19.0</td>\n",
       "      <td>88.0</td>\n",
       "      <td>146.0</td>\n",
       "      <td>12.5</td>\n",
       "      <td>19.0</td>\n",
       "    </tr>\n",
       "    <tr>\n",
       "      <th>19</th>\n",
       "      <td>20.0</td>\n",
       "      <td>56.0</td>\n",
       "      <td>20.0</td>\n",
       "      <td>82.0</td>\n",
       "      <td>138.0</td>\n",
       "      <td>22.0</td>\n",
       "      <td>20.0</td>\n",
       "    </tr>\n",
       "    <tr>\n",
       "      <th>20</th>\n",
       "      <td>21.0</td>\n",
       "      <td>46.0</td>\n",
       "      <td>21.0</td>\n",
       "      <td>67.0</td>\n",
       "      <td>113.0</td>\n",
       "      <td>88.5</td>\n",
       "      <td>21.0</td>\n",
       "    </tr>\n",
       "    <tr>\n",
       "      <th>21</th>\n",
       "      <td>22.0</td>\n",
       "      <td>10.0</td>\n",
       "      <td>22.0</td>\n",
       "      <td>132.0</td>\n",
       "      <td>142.0</td>\n",
       "      <td>17.0</td>\n",
       "      <td>22.0</td>\n",
       "    </tr>\n",
       "    <tr>\n",
       "      <th>22</th>\n",
       "      <td>23.0</td>\n",
       "      <td>1.0</td>\n",
       "      <td>23.0</td>\n",
       "      <td>123.0</td>\n",
       "      <td>124.0</td>\n",
       "      <td>54.0</td>\n",
       "      <td>23.0</td>\n",
       "    </tr>\n",
       "    <tr>\n",
       "      <th>23</th>\n",
       "      <td>24.0</td>\n",
       "      <td>22.0</td>\n",
       "      <td>24.0</td>\n",
       "      <td>117.0</td>\n",
       "      <td>139.0</td>\n",
       "      <td>20.5</td>\n",
       "      <td>24.0</td>\n",
       "    </tr>\n",
       "    <tr>\n",
       "      <th>24</th>\n",
       "      <td>25.0</td>\n",
       "      <td>72.0</td>\n",
       "      <td>25.0</td>\n",
       "      <td>70.0</td>\n",
       "      <td>142.0</td>\n",
       "      <td>17.0</td>\n",
       "      <td>25.0</td>\n",
       "    </tr>\n",
       "    <tr>\n",
       "      <th>25</th>\n",
       "      <td>26.0</td>\n",
       "      <td>67.0</td>\n",
       "      <td>26.0</td>\n",
       "      <td>56.0</td>\n",
       "      <td>123.0</td>\n",
       "      <td>57.0</td>\n",
       "      <td>26.0</td>\n",
       "    </tr>\n",
       "    <tr>\n",
       "      <th>26</th>\n",
       "      <td>27.0</td>\n",
       "      <td>54.0</td>\n",
       "      <td>27.0</td>\n",
       "      <td>70.0</td>\n",
       "      <td>124.0</td>\n",
       "      <td>54.0</td>\n",
       "      <td>27.0</td>\n",
       "    </tr>\n",
       "    <tr>\n",
       "      <th>27</th>\n",
       "      <td>28.0</td>\n",
       "      <td>123.0</td>\n",
       "      <td>28.0</td>\n",
       "      <td>21.0</td>\n",
       "      <td>144.0</td>\n",
       "      <td>15.0</td>\n",
       "      <td>28.0</td>\n",
       "    </tr>\n",
       "    <tr>\n",
       "      <th>28</th>\n",
       "      <td>29.0</td>\n",
       "      <td>11.0</td>\n",
       "      <td>29.0</td>\n",
       "      <td>125.0</td>\n",
       "      <td>136.0</td>\n",
       "      <td>30.5</td>\n",
       "      <td>29.0</td>\n",
       "    </tr>\n",
       "    <tr>\n",
       "      <th>29</th>\n",
       "      <td>30.0</td>\n",
       "      <td>147.0</td>\n",
       "      <td>NaN</td>\n",
       "      <td>NaN</td>\n",
       "      <td>147.0</td>\n",
       "      <td>10.5</td>\n",
       "      <td>30.0</td>\n",
       "    </tr>\n",
       "  </tbody>\n",
       "</table>\n",
       "</div>"
      ],
      "text/plain": [
       "    rank_num_1  Col_1  rank_num_2  Col_2  total_higher_ct  pred_rank  \\\n",
       "0          1.0  135.0         NaN    NaN            135.0       33.5   \n",
       "1          2.0  125.0         2.0   12.0            137.0       25.5   \n",
       "2          3.0   83.0         3.0   54.0            137.0       25.5   \n",
       "3          4.0  113.0         4.0   24.0            137.0       25.5   \n",
       "4          5.0   41.0         5.0   95.0            136.0       30.5   \n",
       "5          6.0   78.0         6.0   77.0            155.0        3.0   \n",
       "6          7.0   13.0         7.0  133.0            146.0       12.5   \n",
       "7          8.0   44.0         8.0  110.0            154.0        4.0   \n",
       "8          9.0   75.0         9.0   61.0            136.0       30.5   \n",
       "9         10.0    9.0        10.0  121.0            130.0       43.5   \n",
       "10        11.0   36.0        11.0  103.0            139.0       20.5   \n",
       "11        12.0   84.0        12.0   21.0            105.0      117.5   \n",
       "12        13.0   38.0        13.0  119.0            157.0        2.0   \n",
       "13        14.0   20.0        14.0  128.0            148.0        9.0   \n",
       "14        15.0  130.0        15.0    6.0            136.0       30.5   \n",
       "15        16.0   14.0        16.0  120.0            134.0       36.0   \n",
       "16        17.0  138.0        17.0   11.0            149.0        8.0   \n",
       "17        18.0  148.0        18.0    4.0            152.0        6.0   \n",
       "18        19.0   58.0        19.0   88.0            146.0       12.5   \n",
       "19        20.0   56.0        20.0   82.0            138.0       22.0   \n",
       "20        21.0   46.0        21.0   67.0            113.0       88.5   \n",
       "21        22.0   10.0        22.0  132.0            142.0       17.0   \n",
       "22        23.0    1.0        23.0  123.0            124.0       54.0   \n",
       "23        24.0   22.0        24.0  117.0            139.0       20.5   \n",
       "24        25.0   72.0        25.0   70.0            142.0       17.0   \n",
       "25        26.0   67.0        26.0   56.0            123.0       57.0   \n",
       "26        27.0   54.0        27.0   70.0            124.0       54.0   \n",
       "27        28.0  123.0        28.0   21.0            144.0       15.0   \n",
       "28        29.0   11.0        29.0  125.0            136.0       30.5   \n",
       "29        30.0  147.0         NaN    NaN            147.0       10.5   \n",
       "\n",
       "    orig_rank  \n",
       "0         1.0  \n",
       "1         2.0  \n",
       "2         3.0  \n",
       "3         4.0  \n",
       "4         5.0  \n",
       "5         6.0  \n",
       "6         7.0  \n",
       "7         8.0  \n",
       "8         9.0  \n",
       "9        10.0  \n",
       "10       11.0  \n",
       "11       12.0  \n",
       "12       13.0  \n",
       "13       14.0  \n",
       "14       15.0  \n",
       "15       16.0  \n",
       "16       17.0  \n",
       "17       18.0  \n",
       "18       19.0  \n",
       "19       20.0  \n",
       "20       21.0  \n",
       "21       22.0  \n",
       "22       23.0  \n",
       "23       24.0  \n",
       "24       25.0  \n",
       "25       26.0  \n",
       "26       27.0  \n",
       "27       28.0  \n",
       "28       29.0  \n",
       "29       30.0  "
      ]
     },
     "execution_count": 526,
     "metadata": {},
     "output_type": "execute_result"
    }
   ],
   "source": [
    "ranked_higher_df_test.head(30)"
   ]
  },
  {
   "cell_type": "code",
   "execution_count": 530,
   "metadata": {
    "collapsed": true
   },
   "outputs": [],
   "source": [
    "ranked_higher_df_test.to_csv('test_ranks.csv')"
   ]
  },
  {
   "cell_type": "code",
   "execution_count": 494,
   "metadata": {
    "collapsed": true
   },
   "outputs": [],
   "source": [
    "from scipy.stats import spearmanr"
   ]
  },
  {
   "cell_type": "code",
   "execution_count": 527,
   "metadata": {
    "collapsed": false
   },
   "outputs": [
    {
     "data": {
      "text/plain": [
       "rank_num_1          3\n",
       "Col_1               3\n",
       "rank_num_2         20\n",
       "Col_2              20\n",
       "total_higher_ct     0\n",
       "pred_rank           0\n",
       "orig_rank           3\n",
       "dtype: int64"
      ]
     },
     "execution_count": 527,
     "metadata": {},
     "output_type": "execute_result"
    }
   ],
   "source": [
    "ranked_higher_df_test.isnull().sum()"
   ]
  },
  {
   "cell_type": "code",
   "execution_count": 528,
   "metadata": {
    "collapsed": false
   },
   "outputs": [
    {
     "data": {
      "text/plain": [
       "SpearmanrResult(correlation=0.9595810207687967, pvalue=1.1969935761721159e-241)"
      ]
     },
     "execution_count": 528,
     "metadata": {},
     "output_type": "execute_result"
    }
   ],
   "source": [
    "spearmanr(ranked_higher_df_test[ranked_higher_df_test.orig_rank.notnull()].orig_rank,ranked_higher_df_test[ranked_higher_df_test.orig_rank.notnull()].pred_rank)"
   ]
  },
  {
   "cell_type": "code",
   "execution_count": 529,
   "metadata": {
    "collapsed": false,
    "scrolled": true
   },
   "outputs": [
    {
     "data": {
      "image/png": "[encoded data removed]",
      "text/plain": [
       "<matplotlib.figure.Figure at 0x1159b9d90>"
      ]
     },
     "metadata": {},
     "output_type": "display_data"
    }
   ],
   "source": [
    "plt.figure(figsize = (12,12))\n",
    "plt.scatter(ranked_higher_df_test.orig_rank, ranked_higher_df_test.pred_rank)\n",
    "plt.title(\"Predicted Rank vs. Original Rank\", fontsize=18)\n",
    "plt.ylabel(\"Predicted Hotel Rank\", fontsize=16)\n",
    "plt.xlabel(\"Original Hotel Rank\", fontsize=16)\n",
    "plt.xticks(fontsize=14)\n",
    "plt.yticks(fontsize=14)\n",
    "#plt.xlim(0,20000)\n",
    "#plt.ylim(0,500)\n",
    "plt.show()"
   ]
  },
  {
   "cell_type": "markdown",
   "metadata": {},
   "source": [
    "#### LOGISTIC REGRESSION"
   ]
  },
  {
   "cell_type": "code",
   "execution_count": 115,
   "metadata": {
    "collapsed": false
   },
   "outputs": [
    {
     "name": "stdout",
     "output_type": "stream",
     "text": [
      "Fitting 5 folds for each of 200 candidates, totalling 1000 fits\n"
     ]
    },
    {
     "name": "stderr",
     "output_type": "stream",
     "text": [
      "[Parallel(n_jobs=1)]: Done 1000 out of 1000 | elapsed: 23.1min finished\n"
     ]
    },
    {
     "data": {
      "text/plain": [
       "GridSearchCV(cv=5, error_score='raise',\n",
       "       estimator=LogisticRegression(C=1.0, class_weight=None, dual=False, fit_intercept=True,\n",
       "          intercept_scaling=1, max_iter=100, multi_class='ovr', n_jobs=1,\n",
       "          penalty='l2', random_state=None, solver='liblinear', tol=0.0001,\n",
       "          verbose=0, warm_start=False),\n",
       "       fit_params={}, iid=True, n_jobs=1,\n",
       "       param_grid={'penalty': ['l1', 'l2'], 'C': array([  1.00000e-04,   1.01011e+01, ...,   9.89899e+02,   1.00000e+03]), 'solver': ['liblinear']},\n",
       "       pre_dispatch='2*n_jobs', refit=True, return_train_score=True,\n",
       "       scoring=None, verbose=1)"
      ]
     },
     "execution_count": 115,
     "metadata": {},
     "output_type": "execute_result"
    }
   ],
   "source": [
    "#Logistic Regression with Grid Search\n",
    "lr_params = {\n",
    "    'solver':['liblinear'],\n",
    "    #'C':np.logspace(-4, -1, 150),\n",
    "    'C':np.linspace(0.0001, 1000, 100),\n",
    "    'penalty':['l1','l2']\n",
    "}\n",
    "\n",
    "lr_gs_p = GridSearchCV(LogisticRegression(), lr_params, cv=5, verbose=1)\n",
    "lr_gs_p.fit(X_train_p, Y_train_p)\n",
    "#lr_gs.fit(Xn_df, y)"
   ]
  },
  {
   "cell_type": "code",
   "execution_count": 116,
   "metadata": {
    "collapsed": false
   },
   "outputs": [
    {
     "data": {
      "text/plain": [
       "{'C': 343.43440909090907, 'penalty': 'l1', 'solver': 'liblinear'}"
      ]
     },
     "execution_count": 116,
     "metadata": {},
     "output_type": "execute_result"
    }
   ],
   "source": [
    "# best parameters\n",
    "lr_gs_p.best_params_"
   ]
  },
  {
   "cell_type": "code",
   "execution_count": 117,
   "metadata": {
    "collapsed": false
   },
   "outputs": [
    {
     "name": "stdout",
     "output_type": "stream",
     "text": [
      "0.760153304074\n",
      "0.508262580244\n"
     ]
    }
   ],
   "source": [
    "# best score in gridsearch as well as baseline score:\n",
    "print lr_gs_p.best_score_\n",
    "#print 1. - np.mean(Y_train)\n",
    "print 1. - np.mean(y_pair)"
   ]
  },
  {
   "cell_type": "code",
   "execution_count": 118,
   "metadata": {
    "collapsed": false
   },
   "outputs": [
    {
     "name": "stdout",
     "output_type": "stream",
     "text": [
      "Test set accuracy:  0.761044176707\n"
     ]
    }
   ],
   "source": [
    "#test data accuracy score\n",
    "print \"Test set accuracy: \", lr_gs_p.score(X_test_p, Y_test_p)"
   ]
  },
  {
   "cell_type": "code",
   "execution_count": 119,
   "metadata": {
    "collapsed": true
   },
   "outputs": [],
   "source": [
    "lr_best_p = lr_gs_p.best_estimator_"
   ]
  },
  {
   "cell_type": "code",
   "execution_count": 120,
   "metadata": {
    "collapsed": false
   },
   "outputs": [
    {
     "data": {
      "text/plain": [
       "LogisticRegression(C=343.43440909090907, class_weight=None, dual=False,\n",
       "          fit_intercept=True, intercept_scaling=1, max_iter=100,\n",
       "          multi_class='ovr', n_jobs=1, penalty='l1', random_state=None,\n",
       "          solver='liblinear', tol=0.0001, verbose=0, warm_start=False)"
      ]
     },
     "execution_count": 120,
     "metadata": {},
     "output_type": "execute_result"
    }
   ],
   "source": [
    "lr_best_p.fit(X_train_p,Y_train_p)"
   ]
  },
  {
   "cell_type": "code",
   "execution_count": 121,
   "metadata": {
    "collapsed": false
   },
   "outputs": [
    {
     "data": {
      "text/plain": [
       "array([[-0.22214196,  0.18608268,  0.19793482, -0.14829396,  0.19541288,\n",
       "        -0.20077052,  0.37171126, -0.42186209, -0.05493109, -0.13149956,\n",
       "        -0.02547245,  0.06638682,  0.19439344, -0.15010639,  0.1926837 ,\n",
       "        -0.23559675,  0.10001734,  0.13944893,  0.35214422, -0.26226844,\n",
       "        -0.13699377,  0.08986211,  0.21340237, -0.16728255, -0.00149849,\n",
       "         0.02340003,  0.00701354,  0.07861426, -0.09616937,  0.06147744,\n",
       "        -0.0269378 ,  0.08542713, -0.01631831,  0.01424349, -0.04363073,\n",
       "        -0.0348555 ,  0.00868396, -0.02777459,  0.00260846, -0.01179021,\n",
       "        -0.06174122, -0.08393364, -0.01538673, -0.04779571, -0.02496753,\n",
       "         0.07003197,  0.03405511, -0.02444672, -0.00220872,  0.02332818,\n",
       "         0.04852533, -0.06622887,  0.10994573, -0.00601774,  0.03081805,\n",
       "        -0.04235571, -0.12944293,  0.01977449,  0.06727219,  0.0478326 ,\n",
       "         0.06943106, -0.05765087, -0.15004986,  0.09584678,  0.05516628,\n",
       "        -0.04918364, -0.08646182,  0.12904564, -0.00111332,  0.00340648,\n",
       "        -0.03608692,  0.05499135,  0.06362659,  0.02126021, -0.10602429,\n",
       "         0.17909151,  0.13006069, -0.0378361 , -0.09746163,  0.02580346,\n",
       "        -0.15651518,  0.08811983,  0.093292  , -0.04830817, -0.10468991,\n",
       "         0.1100887 ,  0.10275448, -0.01775901, -0.09039605,  0.17115357,\n",
       "        -0.12821711,  0.19317942, -0.1902836 ,  0.30364954, -0.35974229,\n",
       "         0.26663273, -0.29187363,  0.41920571,  0.07485948,  0.01470543,\n",
       "         0.10341852,  0.02088846,  0.29047572, -0.19028682,  0.29519018,\n",
       "        -0.33302287]])"
      ]
     },
     "execution_count": 121,
     "metadata": {},
     "output_type": "execute_result"
    }
   ],
   "source": [
    "lr_best_p.coef_"
   ]
  },
  {
   "cell_type": "code",
   "execution_count": 122,
   "metadata": {
    "collapsed": true
   },
   "outputs": [],
   "source": [
    "#output confusion matrix on train data\n",
    "Y_pred_train_lrgs_p = lr_best_p.predict(X_train_p)"
   ]
  },
  {
   "cell_type": "code",
   "execution_count": 123,
   "metadata": {
    "collapsed": false
   },
   "outputs": [
    {
     "data": {
      "text/plain": [
       "array([[25601,  7412],\n",
       "       [ 7995, 23700]])"
      ]
     },
     "execution_count": 123,
     "metadata": {},
     "output_type": "execute_result"
    }
   ],
   "source": [
    "confusion_matrix(Y_train_p, Y_pred_train_lrgs_p)"
   ]
  },
  {
   "cell_type": "code",
   "execution_count": 124,
   "metadata": {
    "collapsed": false
   },
   "outputs": [],
   "source": [
    "lr_predictions_p = lr_best_p.predict(X_test_p)"
   ]
  },
  {
   "cell_type": "code",
   "execution_count": 125,
   "metadata": {
    "collapsed": false
   },
   "outputs": [
    {
     "data": {
      "text/plain": [
       "array([[12441,  3634],\n",
       "       [ 3983, 11814]])"
      ]
     },
     "execution_count": 125,
     "metadata": {},
     "output_type": "execute_result"
    }
   ],
   "source": [
    "#test data confusion matrix\n",
    "confusion_matrix(Y_test_p, lr_predictions_p)"
   ]
  },
  {
   "cell_type": "code",
   "execution_count": 126,
   "metadata": {
    "collapsed": false
   },
   "outputs": [
    {
     "name": "stdout",
     "output_type": "stream",
     "text": [
      "                 predicted_in_top  predicted_in_bottom\n",
      "in_top_group                11814                 3983\n",
      "in_bottom_group              3634                12441\n"
     ]
    }
   ],
   "source": [
    "conmat = np.array(confusion_matrix(Y_test_p, lr_predictions_p, labels=[1,0]))\n",
    "confusion = pd.DataFrame(conmat, index=['in_top_group', 'in_bottom_group'],\n",
    "                            columns=['predicted_in_top','predicted_in_bottom'])\n",
    "print(confusion)"
   ]
  },
  {
   "cell_type": "code",
   "execution_count": 127,
   "metadata": {
    "collapsed": false
   },
   "outputs": [
    {
     "data": {
      "text/plain": [
       "Index([        u'rooms_num_1',         u'rooms_num_2',        u'prange_low_1',\n",
       "              u'prange_low_2',       u'prange_high_1',       u'prange_high_2',\n",
       "               u'amen_wifi_1',         u'amen_wifi_2', u'amen_room_service_1',\n",
       "       u'amen_room_service_2',\n",
       "       ...\n",
       "          u'hclass_num_3.0_1',    u'hclass_num_3.0_2',    u'hclass_num_3.5_1',\n",
       "          u'hclass_num_3.5_2',    u'hclass_num_4.0_1',    u'hclass_num_4.0_2',\n",
       "          u'hclass_num_4.5_1',    u'hclass_num_4.5_2',    u'hclass_num_5.0_1',\n",
       "          u'hclass_num_5.0_2'],\n",
       "      dtype='object', length=106)"
      ]
     },
     "execution_count": 127,
     "metadata": {},
     "output_type": "execute_result"
    }
   ],
   "source": [
    "X_test_p.columns"
   ]
  },
  {
   "cell_type": "code",
   "execution_count": 128,
   "metadata": {
    "collapsed": true
   },
   "outputs": [],
   "source": [
    "# make the coefs dataframe\n",
    "coefs_p = pd.DataFrame({\n",
    "        'coef':lr_best_p.coef_[0],\n",
    "        'predictor':X_train_p.columns\n",
    "    })"
   ]
  },
  {
   "cell_type": "code",
   "execution_count": 129,
   "metadata": {
    "collapsed": false
   },
   "outputs": [
    {
     "data": {
      "text/html": [
       "<div>\n",
       "<table border=\"1\" class=\"dataframe\">\n",
       "  <thead>\n",
       "    <tr style=\"text-align: right;\">\n",
       "      <th></th>\n",
       "      <th>coef</th>\n",
       "      <th>predictor</th>\n",
       "    </tr>\n",
       "  </thead>\n",
       "  <tbody>\n",
       "    <tr>\n",
       "      <th>7</th>\n",
       "      <td>-0.421862</td>\n",
       "      <td>amen_wifi_2</td>\n",
       "    </tr>\n",
       "    <tr>\n",
       "      <th>97</th>\n",
       "      <td>0.419206</td>\n",
       "      <td>hclass_num_3.0_2</td>\n",
       "    </tr>\n",
       "    <tr>\n",
       "      <th>6</th>\n",
       "      <td>0.371711</td>\n",
       "      <td>amen_wifi_1</td>\n",
       "    </tr>\n",
       "    <tr>\n",
       "      <th>94</th>\n",
       "      <td>-0.359742</td>\n",
       "      <td>hclass_num_2.5_1</td>\n",
       "    </tr>\n",
       "    <tr>\n",
       "      <th>18</th>\n",
       "      <td>0.352144</td>\n",
       "      <td>amen_breakfast_1</td>\n",
       "    </tr>\n",
       "    <tr>\n",
       "      <th>105</th>\n",
       "      <td>-0.333023</td>\n",
       "      <td>hclass_num_5.0_2</td>\n",
       "    </tr>\n",
       "    <tr>\n",
       "      <th>93</th>\n",
       "      <td>0.303650</td>\n",
       "      <td>hclass_num_2.0_2</td>\n",
       "    </tr>\n",
       "    <tr>\n",
       "      <th>104</th>\n",
       "      <td>0.295190</td>\n",
       "      <td>hclass_num_5.0_1</td>\n",
       "    </tr>\n",
       "    <tr>\n",
       "      <th>96</th>\n",
       "      <td>-0.291874</td>\n",
       "      <td>hclass_num_3.0_1</td>\n",
       "    </tr>\n",
       "    <tr>\n",
       "      <th>102</th>\n",
       "      <td>0.290476</td>\n",
       "      <td>hclass_num_4.5_1</td>\n",
       "    </tr>\n",
       "    <tr>\n",
       "      <th>95</th>\n",
       "      <td>0.266633</td>\n",
       "      <td>hclass_num_2.5_2</td>\n",
       "    </tr>\n",
       "    <tr>\n",
       "      <th>19</th>\n",
       "      <td>-0.262268</td>\n",
       "      <td>amen_breakfast_2</td>\n",
       "    </tr>\n",
       "    <tr>\n",
       "      <th>15</th>\n",
       "      <td>-0.235597</td>\n",
       "      <td>amen_gym_2</td>\n",
       "    </tr>\n",
       "    <tr>\n",
       "      <th>0</th>\n",
       "      <td>-0.222142</td>\n",
       "      <td>rooms_num_1</td>\n",
       "    </tr>\n",
       "    <tr>\n",
       "      <th>22</th>\n",
       "      <td>0.213402</td>\n",
       "      <td>amen_internet_1</td>\n",
       "    </tr>\n",
       "    <tr>\n",
       "      <th>5</th>\n",
       "      <td>-0.200771</td>\n",
       "      <td>prange_high_2</td>\n",
       "    </tr>\n",
       "    <tr>\n",
       "      <th>2</th>\n",
       "      <td>0.197935</td>\n",
       "      <td>prange_low_1</td>\n",
       "    </tr>\n",
       "    <tr>\n",
       "      <th>4</th>\n",
       "      <td>0.195413</td>\n",
       "      <td>prange_high_1</td>\n",
       "    </tr>\n",
       "    <tr>\n",
       "      <th>12</th>\n",
       "      <td>0.194393</td>\n",
       "      <td>amen_bar_lounge_1</td>\n",
       "    </tr>\n",
       "    <tr>\n",
       "      <th>91</th>\n",
       "      <td>0.193179</td>\n",
       "      <td>hclass_num_1.5_2</td>\n",
       "    </tr>\n",
       "    <tr>\n",
       "      <th>14</th>\n",
       "      <td>0.192684</td>\n",
       "      <td>amen_gym_1</td>\n",
       "    </tr>\n",
       "    <tr>\n",
       "      <th>103</th>\n",
       "      <td>-0.190287</td>\n",
       "      <td>hclass_num_4.5_2</td>\n",
       "    </tr>\n",
       "    <tr>\n",
       "      <th>92</th>\n",
       "      <td>-0.190284</td>\n",
       "      <td>hclass_num_2.0_1</td>\n",
       "    </tr>\n",
       "    <tr>\n",
       "      <th>1</th>\n",
       "      <td>0.186083</td>\n",
       "      <td>rooms_num_2</td>\n",
       "    </tr>\n",
       "    <tr>\n",
       "      <th>75</th>\n",
       "      <td>0.179092</td>\n",
       "      <td>zip_5_10033_2</td>\n",
       "    </tr>\n",
       "    <tr>\n",
       "      <th>89</th>\n",
       "      <td>0.171154</td>\n",
       "      <td>hclass_num_1.0_2</td>\n",
       "    </tr>\n",
       "    <tr>\n",
       "      <th>23</th>\n",
       "      <td>-0.167283</td>\n",
       "      <td>amen_internet_2</td>\n",
       "    </tr>\n",
       "    <tr>\n",
       "      <th>80</th>\n",
       "      <td>-0.156515</td>\n",
       "      <td>zip_5_10065_1</td>\n",
       "    </tr>\n",
       "    <tr>\n",
       "      <th>13</th>\n",
       "      <td>-0.150106</td>\n",
       "      <td>amen_bar_lounge_2</td>\n",
       "    </tr>\n",
       "    <tr>\n",
       "      <th>62</th>\n",
       "      <td>-0.150050</td>\n",
       "      <td>zip_5_10023_1</td>\n",
       "    </tr>\n",
       "    <tr>\n",
       "      <th>...</th>\n",
       "      <td>...</td>\n",
       "      <td>...</td>\n",
       "    </tr>\n",
       "    <tr>\n",
       "      <th>77</th>\n",
       "      <td>-0.037836</td>\n",
       "      <td>zip_5_10036_2</td>\n",
       "    </tr>\n",
       "    <tr>\n",
       "      <th>70</th>\n",
       "      <td>-0.036087</td>\n",
       "      <td>zip_5_10028_1</td>\n",
       "    </tr>\n",
       "    <tr>\n",
       "      <th>35</th>\n",
       "      <td>-0.034855</td>\n",
       "      <td>zip_5_10005_2</td>\n",
       "    </tr>\n",
       "    <tr>\n",
       "      <th>46</th>\n",
       "      <td>0.034055</td>\n",
       "      <td>zip_5_10013_1</td>\n",
       "    </tr>\n",
       "    <tr>\n",
       "      <th>54</th>\n",
       "      <td>0.030818</td>\n",
       "      <td>zip_5_10018_1</td>\n",
       "    </tr>\n",
       "    <tr>\n",
       "      <th>37</th>\n",
       "      <td>-0.027775</td>\n",
       "      <td>zip_5_10006_2</td>\n",
       "    </tr>\n",
       "    <tr>\n",
       "      <th>30</th>\n",
       "      <td>-0.026938</td>\n",
       "      <td>zip_5_10003_1</td>\n",
       "    </tr>\n",
       "    <tr>\n",
       "      <th>79</th>\n",
       "      <td>0.025803</td>\n",
       "      <td>zip_5_10038_2</td>\n",
       "    </tr>\n",
       "    <tr>\n",
       "      <th>10</th>\n",
       "      <td>-0.025472</td>\n",
       "      <td>amen_restaurant_1</td>\n",
       "    </tr>\n",
       "    <tr>\n",
       "      <th>44</th>\n",
       "      <td>-0.024968</td>\n",
       "      <td>zip_5_10012_1</td>\n",
       "    </tr>\n",
       "    <tr>\n",
       "      <th>47</th>\n",
       "      <td>-0.024447</td>\n",
       "      <td>zip_5_10013_2</td>\n",
       "    </tr>\n",
       "    <tr>\n",
       "      <th>25</th>\n",
       "      <td>0.023400</td>\n",
       "      <td>amen_parking_2</td>\n",
       "    </tr>\n",
       "    <tr>\n",
       "      <th>49</th>\n",
       "      <td>0.023328</td>\n",
       "      <td>zip_5_10014_2</td>\n",
       "    </tr>\n",
       "    <tr>\n",
       "      <th>73</th>\n",
       "      <td>0.021260</td>\n",
       "      <td>zip_5_10032_2</td>\n",
       "    </tr>\n",
       "    <tr>\n",
       "      <th>101</th>\n",
       "      <td>0.020888</td>\n",
       "      <td>hclass_num_4.0_2</td>\n",
       "    </tr>\n",
       "    <tr>\n",
       "      <th>57</th>\n",
       "      <td>0.019774</td>\n",
       "      <td>zip_5_10019_2</td>\n",
       "    </tr>\n",
       "    <tr>\n",
       "      <th>87</th>\n",
       "      <td>-0.017759</td>\n",
       "      <td>zip_5_10282_2</td>\n",
       "    </tr>\n",
       "    <tr>\n",
       "      <th>32</th>\n",
       "      <td>-0.016318</td>\n",
       "      <td>zip_5_10004_1</td>\n",
       "    </tr>\n",
       "    <tr>\n",
       "      <th>42</th>\n",
       "      <td>-0.015387</td>\n",
       "      <td>zip_5_10011_1</td>\n",
       "    </tr>\n",
       "    <tr>\n",
       "      <th>99</th>\n",
       "      <td>0.014705</td>\n",
       "      <td>hclass_num_3.5_2</td>\n",
       "    </tr>\n",
       "    <tr>\n",
       "      <th>33</th>\n",
       "      <td>0.014243</td>\n",
       "      <td>zip_5_10004_2</td>\n",
       "    </tr>\n",
       "    <tr>\n",
       "      <th>39</th>\n",
       "      <td>-0.011790</td>\n",
       "      <td>zip_5_10007_2</td>\n",
       "    </tr>\n",
       "    <tr>\n",
       "      <th>36</th>\n",
       "      <td>0.008684</td>\n",
       "      <td>zip_5_10006_1</td>\n",
       "    </tr>\n",
       "    <tr>\n",
       "      <th>26</th>\n",
       "      <td>0.007014</td>\n",
       "      <td>zip_5_10001_1</td>\n",
       "    </tr>\n",
       "    <tr>\n",
       "      <th>53</th>\n",
       "      <td>-0.006018</td>\n",
       "      <td>zip_5_10017_2</td>\n",
       "    </tr>\n",
       "    <tr>\n",
       "      <th>69</th>\n",
       "      <td>0.003406</td>\n",
       "      <td>zip_5_10027_2</td>\n",
       "    </tr>\n",
       "    <tr>\n",
       "      <th>38</th>\n",
       "      <td>0.002608</td>\n",
       "      <td>zip_5_10007_1</td>\n",
       "    </tr>\n",
       "    <tr>\n",
       "      <th>48</th>\n",
       "      <td>-0.002209</td>\n",
       "      <td>zip_5_10014_1</td>\n",
       "    </tr>\n",
       "    <tr>\n",
       "      <th>24</th>\n",
       "      <td>-0.001498</td>\n",
       "      <td>amen_parking_1</td>\n",
       "    </tr>\n",
       "    <tr>\n",
       "      <th>68</th>\n",
       "      <td>-0.001113</td>\n",
       "      <td>zip_5_10027_1</td>\n",
       "    </tr>\n",
       "  </tbody>\n",
       "</table>\n",
       "<p>106 rows × 2 columns</p>\n",
       "</div>"
      ],
      "text/plain": [
       "         coef          predictor\n",
       "7   -0.421862        amen_wifi_2\n",
       "97   0.419206   hclass_num_3.0_2\n",
       "6    0.371711        amen_wifi_1\n",
       "94  -0.359742   hclass_num_2.5_1\n",
       "18   0.352144   amen_breakfast_1\n",
       "105 -0.333023   hclass_num_5.0_2\n",
       "93   0.303650   hclass_num_2.0_2\n",
       "104  0.295190   hclass_num_5.0_1\n",
       "96  -0.291874   hclass_num_3.0_1\n",
       "102  0.290476   hclass_num_4.5_1\n",
       "95   0.266633   hclass_num_2.5_2\n",
       "19  -0.262268   amen_breakfast_2\n",
       "15  -0.235597         amen_gym_2\n",
       "0   -0.222142        rooms_num_1\n",
       "22   0.213402    amen_internet_1\n",
       "5   -0.200771      prange_high_2\n",
       "2    0.197935       prange_low_1\n",
       "4    0.195413      prange_high_1\n",
       "12   0.194393  amen_bar_lounge_1\n",
       "91   0.193179   hclass_num_1.5_2\n",
       "14   0.192684         amen_gym_1\n",
       "103 -0.190287   hclass_num_4.5_2\n",
       "92  -0.190284   hclass_num_2.0_1\n",
       "1    0.186083        rooms_num_2\n",
       "75   0.179092      zip_5_10033_2\n",
       "89   0.171154   hclass_num_1.0_2\n",
       "23  -0.167283    amen_internet_2\n",
       "80  -0.156515      zip_5_10065_1\n",
       "13  -0.150106  amen_bar_lounge_2\n",
       "62  -0.150050      zip_5_10023_1\n",
       "..        ...                ...\n",
       "77  -0.037836      zip_5_10036_2\n",
       "70  -0.036087      zip_5_10028_1\n",
       "35  -0.034855      zip_5_10005_2\n",
       "46   0.034055      zip_5_10013_1\n",
       "54   0.030818      zip_5_10018_1\n",
       "37  -0.027775      zip_5_10006_2\n",
       "30  -0.026938      zip_5_10003_1\n",
       "79   0.025803      zip_5_10038_2\n",
       "10  -0.025472  amen_restaurant_1\n",
       "44  -0.024968      zip_5_10012_1\n",
       "47  -0.024447      zip_5_10013_2\n",
       "25   0.023400     amen_parking_2\n",
       "49   0.023328      zip_5_10014_2\n",
       "73   0.021260      zip_5_10032_2\n",
       "101  0.020888   hclass_num_4.0_2\n",
       "57   0.019774      zip_5_10019_2\n",
       "87  -0.017759      zip_5_10282_2\n",
       "32  -0.016318      zip_5_10004_1\n",
       "42  -0.015387      zip_5_10011_1\n",
       "99   0.014705   hclass_num_3.5_2\n",
       "33   0.014243      zip_5_10004_2\n",
       "39  -0.011790      zip_5_10007_2\n",
       "36   0.008684      zip_5_10006_1\n",
       "26   0.007014      zip_5_10001_1\n",
       "53  -0.006018      zip_5_10017_2\n",
       "69   0.003406      zip_5_10027_2\n",
       "38   0.002608      zip_5_10007_1\n",
       "48  -0.002209      zip_5_10014_1\n",
       "24  -0.001498     amen_parking_1\n",
       "68  -0.001113      zip_5_10027_1\n",
       "\n",
       "[106 rows x 2 columns]"
      ]
     },
     "execution_count": 129,
     "metadata": {},
     "output_type": "execute_result"
    }
   ],
   "source": [
    "# print out the coefs sorted by largest absolute value first\n",
    "coefs_p['abscoef'] = np.abs(coefs_p.coef)\n",
    "coefs_p.sort_values('abscoef', ascending=False, inplace=True)\n",
    "coefs_p.drop('abscoef', inplace=True, axis=1)\n",
    "coefs_p[coefs_p.coef != 0]\n",
    "#coefs"
   ]
  },
  {
   "cell_type": "code",
   "execution_count": null,
   "metadata": {
    "collapsed": true
   },
   "outputs": [],
   "source": []
  },
  {
   "cell_type": "code",
   "execution_count": null,
   "metadata": {
    "collapsed": true
   },
   "outputs": [],
   "source": []
  },
  {
   "cell_type": "code",
   "execution_count": null,
   "metadata": {
    "collapsed": true
   },
   "outputs": [],
   "source": []
  },
  {
   "cell_type": "code",
   "execution_count": 100,
   "metadata": {
    "collapsed": true
   },
   "outputs": [],
   "source": [
    "lr_preds_series = pd.Series(data=lr_predictions).rename(\"Pred_Val\")"
   ]
  },
  {
   "cell_type": "code",
   "execution_count": 101,
   "metadata": {
    "collapsed": false
   },
   "outputs": [],
   "source": [
    "Y_test_w_preds = pd.concat([Y_test.reset_index(),lr_preds_series],axis=1).set_index('index')"
   ]
  },
  {
   "cell_type": "code",
   "execution_count": 103,
   "metadata": {
    "collapsed": false
   },
   "outputs": [
    {
     "data": {
      "text/html": [
       "<div>\n",
       "<table border=\"1\" class=\"dataframe\">\n",
       "  <thead>\n",
       "    <tr style=\"text-align: right;\">\n",
       "      <th>Pred_Val</th>\n",
       "      <th>0</th>\n",
       "    </tr>\n",
       "    <tr>\n",
       "      <th>top30</th>\n",
       "      <th></th>\n",
       "    </tr>\n",
       "  </thead>\n",
       "  <tbody>\n",
       "    <tr>\n",
       "      <th>0</th>\n",
       "      <td>82</td>\n",
       "    </tr>\n",
       "    <tr>\n",
       "      <th>1</th>\n",
       "      <td>6</td>\n",
       "    </tr>\n",
       "  </tbody>\n",
       "</table>\n",
       "</div>"
      ],
      "text/plain": [
       "Pred_Val   0\n",
       "top30       \n",
       "0         82\n",
       "1          6"
      ]
     },
     "execution_count": 103,
     "metadata": {},
     "output_type": "execute_result"
    }
   ],
   "source": [
    "pd.crosstab(Y_test_w_preds.top30, Y_test_w_preds.Pred_Val)"
   ]
  },
  {
   "cell_type": "code",
   "execution_count": 106,
   "metadata": {
    "collapsed": false
   },
   "outputs": [],
   "source": [
    "lr_fns = Y_test_w_preds.merge(XY_df.drop('top30',axis=1),how='inner',left_index=True,right_index=True)"
   ]
  },
  {
   "cell_type": "code",
   "execution_count": 107,
   "metadata": {
    "collapsed": false
   },
   "outputs": [
    {
     "data": {
      "text/plain": [
       "(88, 57)"
      ]
     },
     "execution_count": 107,
     "metadata": {},
     "output_type": "execute_result"
    }
   ],
   "source": [
    "lr_fns.shape"
   ]
  },
  {
   "cell_type": "code",
   "execution_count": 108,
   "metadata": {
    "collapsed": false,
    "scrolled": false
   },
   "outputs": [
    {
     "data": {
      "text/html": [
       "<div>\n",
       "<table border=\"1\" class=\"dataframe\">\n",
       "  <thead>\n",
       "    <tr style=\"text-align: right;\">\n",
       "      <th></th>\n",
       "      <th>top30</th>\n",
       "      <th>Pred_Val</th>\n",
       "      <th>hotel_name</th>\n",
       "      <th>rank_num</th>\n",
       "      <th>rooms_num</th>\n",
       "      <th>prange_low</th>\n",
       "      <th>prange_high</th>\n",
       "      <th>amen_wifi</th>\n",
       "      <th>amen_room_service</th>\n",
       "      <th>amen_restaurant</th>\n",
       "      <th>...</th>\n",
       "      <th>zip_5_10282</th>\n",
       "      <th>hclass_num_1.0</th>\n",
       "      <th>hclass_num_1.5</th>\n",
       "      <th>hclass_num_2.0</th>\n",
       "      <th>hclass_num_2.5</th>\n",
       "      <th>hclass_num_3.0</th>\n",
       "      <th>hclass_num_3.5</th>\n",
       "      <th>hclass_num_4.0</th>\n",
       "      <th>hclass_num_4.5</th>\n",
       "      <th>hclass_num_5.0</th>\n",
       "    </tr>\n",
       "  </thead>\n",
       "  <tbody>\n",
       "    <tr>\n",
       "      <th>0</th>\n",
       "      <td>1</td>\n",
       "      <td>0</td>\n",
       "      <td>1 Hotel Central Park</td>\n",
       "      <td>30.0</td>\n",
       "      <td>229.0</td>\n",
       "      <td>383.0</td>\n",
       "      <td>749.0</td>\n",
       "      <td>1.0</td>\n",
       "      <td>1.0</td>\n",
       "      <td>1.0</td>\n",
       "      <td>...</td>\n",
       "      <td>0</td>\n",
       "      <td>0</td>\n",
       "      <td>0</td>\n",
       "      <td>0</td>\n",
       "      <td>0</td>\n",
       "      <td>0</td>\n",
       "      <td>0</td>\n",
       "      <td>0</td>\n",
       "      <td>0</td>\n",
       "      <td>1</td>\n",
       "    </tr>\n",
       "    <tr>\n",
       "      <th>27</th>\n",
       "      <td>1</td>\n",
       "      <td>0</td>\n",
       "      <td>Baccarat Hotel &amp; Residences New York</td>\n",
       "      <td>17.0</td>\n",
       "      <td>114.0</td>\n",
       "      <td>763.0</td>\n",
       "      <td>1378.0</td>\n",
       "      <td>1.0</td>\n",
       "      <td>1.0</td>\n",
       "      <td>1.0</td>\n",
       "      <td>...</td>\n",
       "      <td>0</td>\n",
       "      <td>0</td>\n",
       "      <td>0</td>\n",
       "      <td>0</td>\n",
       "      <td>0</td>\n",
       "      <td>0</td>\n",
       "      <td>0</td>\n",
       "      <td>0</td>\n",
       "      <td>0</td>\n",
       "      <td>1</td>\n",
       "    </tr>\n",
       "    <tr>\n",
       "      <th>92</th>\n",
       "      <td>1</td>\n",
       "      <td>0</td>\n",
       "      <td>EVEN Hotel Times Square South</td>\n",
       "      <td>12.0</td>\n",
       "      <td>150.0</td>\n",
       "      <td>245.0</td>\n",
       "      <td>458.0</td>\n",
       "      <td>1.0</td>\n",
       "      <td>0.0</td>\n",
       "      <td>1.0</td>\n",
       "      <td>...</td>\n",
       "      <td>0</td>\n",
       "      <td>0</td>\n",
       "      <td>0</td>\n",
       "      <td>0</td>\n",
       "      <td>0</td>\n",
       "      <td>0</td>\n",
       "      <td>0</td>\n",
       "      <td>1</td>\n",
       "      <td>0</td>\n",
       "      <td>0</td>\n",
       "    </tr>\n",
       "    <tr>\n",
       "      <th>265</th>\n",
       "      <td>1</td>\n",
       "      <td>0</td>\n",
       "      <td>Park Hyatt New York</td>\n",
       "      <td>19.0</td>\n",
       "      <td>210.0</td>\n",
       "      <td>733.0</td>\n",
       "      <td>1433.0</td>\n",
       "      <td>1.0</td>\n",
       "      <td>0.0</td>\n",
       "      <td>0.0</td>\n",
       "      <td>...</td>\n",
       "      <td>0</td>\n",
       "      <td>0</td>\n",
       "      <td>0</td>\n",
       "      <td>0</td>\n",
       "      <td>0</td>\n",
       "      <td>0</td>\n",
       "      <td>0</td>\n",
       "      <td>0</td>\n",
       "      <td>0</td>\n",
       "      <td>1</td>\n",
       "    </tr>\n",
       "    <tr>\n",
       "      <th>323</th>\n",
       "      <td>1</td>\n",
       "      <td>0</td>\n",
       "      <td>The Beekman A Thompson Hotel</td>\n",
       "      <td>5.0</td>\n",
       "      <td>287.0</td>\n",
       "      <td>339.0</td>\n",
       "      <td>611.0</td>\n",
       "      <td>1.0</td>\n",
       "      <td>1.0</td>\n",
       "      <td>1.0</td>\n",
       "      <td>...</td>\n",
       "      <td>0</td>\n",
       "      <td>0</td>\n",
       "      <td>0</td>\n",
       "      <td>0</td>\n",
       "      <td>0</td>\n",
       "      <td>0</td>\n",
       "      <td>0</td>\n",
       "      <td>0</td>\n",
       "      <td>0</td>\n",
       "      <td>1</td>\n",
       "    </tr>\n",
       "    <tr>\n",
       "      <th>384</th>\n",
       "      <td>1</td>\n",
       "      <td>0</td>\n",
       "      <td>The Pierre A Taj Hotel New York</td>\n",
       "      <td>14.0</td>\n",
       "      <td>189.0</td>\n",
       "      <td>475.0</td>\n",
       "      <td>887.0</td>\n",
       "      <td>1.0</td>\n",
       "      <td>1.0</td>\n",
       "      <td>1.0</td>\n",
       "      <td>...</td>\n",
       "      <td>0</td>\n",
       "      <td>0</td>\n",
       "      <td>0</td>\n",
       "      <td>0</td>\n",
       "      <td>0</td>\n",
       "      <td>0</td>\n",
       "      <td>0</td>\n",
       "      <td>0</td>\n",
       "      <td>0</td>\n",
       "      <td>1</td>\n",
       "    </tr>\n",
       "  </tbody>\n",
       "</table>\n",
       "<p>6 rows × 57 columns</p>\n",
       "</div>"
      ],
      "text/plain": [
       "     top30  Pred_Val                            hotel_name  rank_num  \\\n",
       "0        1         0                  1 Hotel Central Park      30.0   \n",
       "27       1         0  Baccarat Hotel & Residences New York      17.0   \n",
       "92       1         0         EVEN Hotel Times Square South      12.0   \n",
       "265      1         0                   Park Hyatt New York      19.0   \n",
       "323      1         0          The Beekman A Thompson Hotel       5.0   \n",
       "384      1         0       The Pierre A Taj Hotel New York      14.0   \n",
       "\n",
       "     rooms_num  prange_low  prange_high  amen_wifi  amen_room_service  \\\n",
       "0        229.0       383.0        749.0        1.0                1.0   \n",
       "27       114.0       763.0       1378.0        1.0                1.0   \n",
       "92       150.0       245.0        458.0        1.0                0.0   \n",
       "265      210.0       733.0       1433.0        1.0                0.0   \n",
       "323      287.0       339.0        611.0        1.0                1.0   \n",
       "384      189.0       475.0        887.0        1.0                1.0   \n",
       "\n",
       "     amen_restaurant       ...        zip_5_10282  hclass_num_1.0  \\\n",
       "0                1.0       ...                  0               0   \n",
       "27               1.0       ...                  0               0   \n",
       "92               1.0       ...                  0               0   \n",
       "265              0.0       ...                  0               0   \n",
       "323              1.0       ...                  0               0   \n",
       "384              1.0       ...                  0               0   \n",
       "\n",
       "     hclass_num_1.5  hclass_num_2.0  hclass_num_2.5  hclass_num_3.0  \\\n",
       "0                 0               0               0               0   \n",
       "27                0               0               0               0   \n",
       "92                0               0               0               0   \n",
       "265               0               0               0               0   \n",
       "323               0               0               0               0   \n",
       "384               0               0               0               0   \n",
       "\n",
       "     hclass_num_3.5  hclass_num_4.0  hclass_num_4.5  hclass_num_5.0  \n",
       "0                 0               0               0               1  \n",
       "27                0               0               0               1  \n",
       "92                0               1               0               0  \n",
       "265               0               0               0               1  \n",
       "323               0               0               0               1  \n",
       "384               0               0               0               1  \n",
       "\n",
       "[6 rows x 57 columns]"
      ]
     },
     "execution_count": 108,
     "metadata": {},
     "output_type": "execute_result"
    }
   ],
   "source": [
    "lr_fns[(lr_fns.top30 == 1) & (lr_fns.Pred_Val == 0)]"
   ]
  },
  {
   "cell_type": "code",
   "execution_count": null,
   "metadata": {
    "collapsed": true
   },
   "outputs": [],
   "source": []
  }
 ],
 "metadata": {
  "kernelspec": {
   "display_name": "Python [conda env:dsi]",
   "language": "python",
   "name": "conda-env-dsi-py"
  },
  "language_info": {
   "codemirror_mode": {
    "name": "ipython",
    "version": 2
   },
   "file_extension": ".py",
   "mimetype": "text/x-python",
   "name": "python",
   "nbconvert_exporter": "python",
   "pygments_lexer": "ipython2",
   "version": "2.7.12"
  }
 },
 "nbformat": 4,
 "nbformat_minor": 1
}
